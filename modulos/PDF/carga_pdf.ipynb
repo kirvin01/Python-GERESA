{
 "cells": [
  {
   "cell_type": "code",
   "execution_count": 4,
   "id": "7af4f6d4",
   "metadata": {},
   "outputs": [
    {
     "name": "stdout",
     "output_type": "stream",
     "text": [
      "✅ Conexión exitosa a SQL Server DBCGESTION\n"
     ]
    }
   ],
   "source": [
    "from decouple import config\n",
    "import pandas as pd\n",
    "import sys\n",
    "import os\n",
    "sys.path.insert(0, config('PROYECTO_DIR'))\n",
    "from clases.bd.conexion import  SQLServerConnector\n",
    "conn = SQLServerConnector()"
   ]
  },
  {
   "cell_type": "code",
   "execution_count": 10,
   "id": "6ef12bf1",
   "metadata": {},
   "outputs": [
    {
     "name": "stderr",
     "output_type": "stream",
     "text": [
      "Got stderr: jul 25, 2025 2:28:00 PM org.apache.pdfbox.rendering.PDFRenderer suggestKCMS\n",
      "INFORMACIÓN: Your current java version is: 1.8.0_111\n",
      "jul 25, 2025 2:28:00 PM org.apache.pdfbox.rendering.PDFRenderer suggestKCMS\n",
      "INFORMACIÓN: To get higher rendering speed on old java 1.8 or 9 versions,\n",
      "jul 25, 2025 2:28:00 PM org.apache.pdfbox.rendering.PDFRenderer suggestKCMS\n",
      "INFORMACIÓN:   update to the latest 1.8 or 9 version (>= 1.8.0_191 or >= 9.0.4),\n",
      "jul 25, 2025 2:28:00 PM org.apache.pdfbox.rendering.PDFRenderer suggestKCMS\n",
      "INFORMACIÓN:   or\n",
      "jul 25, 2025 2:28:00 PM org.apache.pdfbox.rendering.PDFRenderer suggestKCMS\n",
      "INFORMACIÓN:   use the option -Dsun.java2d.cmm=sun.java2d.cmm.kcms.KcmsServiceProvider\n",
      "jul 25, 2025 2:28:00 PM org.apache.pdfbox.rendering.PDFRenderer suggestKCMS\n",
      "INFORMACIÓN:   or call System.setProperty(\"sun.java2d.cmm\", \"sun.java2d.cmm.kcms.KcmsServiceProvider\")\n",
      "\n"
     ]
    },
    {
     "name": "stdout",
     "output_type": "stream",
     "text": [
      "Tabla 1\n",
      "    N°  CO_CODUPS                                                UPS\n",
      "0  1.0   150000.0            PATOLOGÍA CLÍNICA (LABORATORIO CLÍNICO)\n",
      "1  2.0   150100.0  PATOLOGÍA CLÍNICA (LABORATORIO CLÍNICO)-BIOQUÍ...\n",
      "2  NaN        NaN  OTROS PROCED. DIAGNÓSTICOS Y TERAPÉUTICOS-OFTA...\n",
      "3  3.0   160500.0                                                NaN\n",
      "4  NaN        NaN                              FONDO DE OJO  OTROS)-\n",
      "Tabla 2\n",
      "   Unnamed: 0        37  Unnamed: 1  \\\n",
      "0         NaN      38.0         NaN   \n",
      "1         NaN      39.0         NaN   \n",
      "2         NaN      40.0         NaN   \n",
      "3         NaN      41.0         NaN   \n",
      "4        42.0  160805.0         NaN   \n",
      "\n",
      "                                          Unnamed: 2  \\\n",
      "0                                                NaN   \n",
      "1                                             030300   \n",
      "2                                             080100   \n",
      "3                                             080500   \n",
      "4  TROS PROCED. DIAGNÓSTICOS Y TERAPÉUTICOS-REHAB...   \n",
      "\n",
      "       IAGNÓSTICO POR IMÁGENES -RESONANCIA MAGNÉTICA  \\\n",
      "0  NATOMO PATOLOGÍA / PATOLOGÍA-BIOPSIAS (Anatomo...   \n",
      "1                                                NaN   \n",
      "2                                                NaN   \n",
      "3                                                NaN   \n",
      "4                                                NaN   \n",
      "\n",
      "                                          Unnamed: 3  Unnamed: 4  \n",
      "0                                                NaN         NaN  \n",
      "1            NATOMO PATOLOGÍA / PATOLOGÍA-CITOLOGÍA-         NaN  \n",
      "2       IAGNÓSTICO POR IMÁGENES -DENSITOMETRÍA ÓSEA-         NaN  \n",
      "3  IAGNÓSTICO POR IMÁGENES -RADIOLOGÍA INTERVENCI...         NaN  \n",
      "4                                                NaN         NaN  \n",
      "Tabla 3\n",
      "   42\n",
      "0  42\n",
      "Tabla 4\n",
      "   43\n",
      "0  43\n"
     ]
    },
    {
     "data": {
      "text/html": [
       "<div>\n",
       "<style scoped>\n",
       "    .dataframe tbody tr th:only-of-type {\n",
       "        vertical-align: middle;\n",
       "    }\n",
       "\n",
       "    .dataframe tbody tr th {\n",
       "        vertical-align: top;\n",
       "    }\n",
       "\n",
       "    .dataframe thead th {\n",
       "        text-align: right;\n",
       "    }\n",
       "</style>\n",
       "<table border=\"1\" class=\"dataframe\">\n",
       "  <thead>\n",
       "    <tr style=\"text-align: right;\">\n",
       "      <th></th>\n",
       "      <th>N°</th>\n",
       "      <th>CO_CODUPS</th>\n",
       "      <th>UPS</th>\n",
       "    </tr>\n",
       "  </thead>\n",
       "  <tbody>\n",
       "    <tr>\n",
       "      <th>0</th>\n",
       "      <td>1.0</td>\n",
       "      <td>150000.0</td>\n",
       "      <td>PATOLOGÍA CLÍNICA (LABORATORIO CLÍNICO)</td>\n",
       "    </tr>\n",
       "    <tr>\n",
       "      <th>1</th>\n",
       "      <td>2.0</td>\n",
       "      <td>150100.0</td>\n",
       "      <td>PATOLOGÍA CLÍNICA (LABORATORIO CLÍNICO)-BIOQUÍ...</td>\n",
       "    </tr>\n",
       "    <tr>\n",
       "      <th>2</th>\n",
       "      <td>NaN</td>\n",
       "      <td>NaN</td>\n",
       "      <td>OTROS PROCED. DIAGNÓSTICOS Y TERAPÉUTICOS-OFTA...</td>\n",
       "    </tr>\n",
       "    <tr>\n",
       "      <th>3</th>\n",
       "      <td>3.0</td>\n",
       "      <td>160500.0</td>\n",
       "      <td>NaN</td>\n",
       "    </tr>\n",
       "    <tr>\n",
       "      <th>4</th>\n",
       "      <td>NaN</td>\n",
       "      <td>NaN</td>\n",
       "      <td>FONDO DE OJO  OTROS)-</td>\n",
       "    </tr>\n",
       "  </tbody>\n",
       "</table>\n",
       "</div>"
      ],
      "text/plain": [
       "    N°  CO_CODUPS                                                UPS\n",
       "0  1.0   150000.0            PATOLOGÍA CLÍNICA (LABORATORIO CLÍNICO)\n",
       "1  2.0   150100.0  PATOLOGÍA CLÍNICA (LABORATORIO CLÍNICO)-BIOQUÍ...\n",
       "2  NaN        NaN  OTROS PROCED. DIAGNÓSTICOS Y TERAPÉUTICOS-OFTA...\n",
       "3  3.0   160500.0                                                NaN\n",
       "4  NaN        NaN                              FONDO DE OJO  OTROS)-"
      ]
     },
     "execution_count": 10,
     "metadata": {},
     "output_type": "execute_result"
    }
   ],
   "source": [
    "import tabula\n",
    "import pandas as pd\n",
    "\n",
    "# Abre el archivo PDF\n",
    "archivo = config('PROYECTO_DATA') +\"/otros/ups.pdf\"\n",
    "\n",
    "\n",
    "# Ruta del archivo PDF\n",
    "file_path = archivo\n",
    "\n",
    "# Extrae las tablas del PDF\n",
    "tablas = tabula.read_pdf(file_path, pages='all', multiple_tables=True)\n",
    "\n",
    "# Si el PDF contiene varias tablas, tabula devuelve una lista de DataFrames\n",
    "for idx, tabla in enumerate(tablas):\n",
    "    print(f\"Tabla {idx + 1}\")\n",
    "    print(tabla.head())  # Muestra las primeras filas de cada tabla\n",
    "\n",
    "# Si sabes cuál es la tabla que necesitas, puedes seleccionar la tabla por índice\n",
    "df = tablas[0]  # Elige la primera tabla (índice 0)\n",
    "df.head(5)\n"
   ]
  }
 ],
 "metadata": {
  "kernelspec": {
   "display_name": "venv",
   "language": "python",
   "name": "python3"
  },
  "language_info": {
   "codemirror_mode": {
    "name": "ipython",
    "version": 3
   },
   "file_extension": ".py",
   "mimetype": "text/x-python",
   "name": "python",
   "nbconvert_exporter": "python",
   "pygments_lexer": "ipython3",
   "version": "3.12.2"
  }
 },
 "nbformat": 4,
 "nbformat_minor": 5
}
