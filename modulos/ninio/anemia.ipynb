{
 "cells": [
  {
   "cell_type": "code",
   "execution_count": 5,
   "metadata": {},
   "outputs": [
    {
     "name": "stdout",
     "output_type": "stream",
     "text": [
      "Conexion exitosa con la Base de datos:irvin_hisminsa\n"
     ]
    }
   ],
   "source": [
    "from decouple import config\n",
    "import pandas as pd\n",
    "import numpy as np\n",
    "import os\n",
    "import glob as gb\n",
    "import sys\n",
    "import datetime\n",
    "from decimal import Decimal\n",
    "sys.path.insert(0, config('PROYECTO_DIR'))\n",
    "from clases.bd.conexion2 import MyDatabase2\n",
    "conn = MyDatabase2()\n",
    "\n",
    "anio=config('SYS_ANIO')\n",
    "\n",
    "#funciones \n"
   ]
  },
  {
   "cell_type": "code",
   "execution_count": 6,
   "metadata": {},
   "outputs": [],
   "source": [
    "def consulta_sql(conn,st):\n",
    "    q=''\n",
    "    if st==1:\n",
    "        q='AND nt.hemoglobina IS NOT NULL' #tiene hemoglobina\n",
    "    else :\n",
    "        q='' #no tiene hemoglobina \n",
    "\n",
    "    menores = conn.df(f\"\"\" SELECT * FROM (   \n",
    "    SELECT  nt.id_paciente ,\n",
    "nt.anio ,\n",
    "nt.mes ,\n",
    "nt.id_establecimiento,\n",
    "mhe.nombre_eess  ,\n",
    "nt.anio_actual_paciente as edad_anio,\n",
    "ROUND((nt.fecha_atencion - mp.fecha_nacimiento)/30.44,1) AS edad_mes,\n",
    "(nt.fecha_atencion - mp.fecha_nacimiento) AS edad_dia,\n",
    "nt.fecha_atencion,\n",
    "nt.lote,\n",
    "nt.num_pag,\n",
    "nt.hemoglobina,\n",
    "nt.fecha_resultado_hb,\n",
    "nt.id_centro_poblado ,\n",
    "mhcp.descripcion_centro_poblado,\n",
    "mhcp.altitud_centro_poblado  ,\n",
    "nt.codigo_item,\n",
    "mhtd.abrev_tipo_doc,\n",
    "mp.numero_documento,\n",
    "mp.fecha_nacimiento,\n",
    "mp.genero,\n",
    "mhe.cod_red  ,\n",
    "mhe.red ,\n",
    "mhe.cod_mred ,\n",
    "mhe.microred,\n",
    "mhe.provincia,\n",
    "mhe.distrito,\n",
    "mhe.cod_eess,\n",
    "nt.id_pais,\n",
    "concat(mp2.numero_documento,' - ', mp2.nombres_personal,' ', mp2.apellido_paterno_personal,' ', mp2.apellido_materno_personal ) AS personal  ,\n",
    "concat(mr.numero_documento,' - ',mr.nombres_registrador,' ',mr.apellido_paterno_registrador,' ',mr.apellido_materno_registrador) AS registrador,\n",
    "ROW_NUMBER() OVER (PARTITION BY mhtd.abrev_tipo_doc, mp.numero_documento ORDER BY nt.fecha_atencion DESC) AS rn\n",
    "FROM maestros.nominal_trama nt \n",
    "INNER JOIN maestros.maestro_paciente mp ON mp.id_paciente =nt.id_paciente \n",
    "LEFT JOIN maestros.eess_geresa_cusco mhe ON mhe.id_eess =nt.id_establecimiento \n",
    "LEFT JOIN maestros.maestro_his_tipo_doc mhtd ON mhtd.id_tipo_documento =mp.id_tipo_documento \n",
    "LEFT JOIN maestros.maestro_personal mp2 ON mp2.id_personal=nt.id_personal  \n",
    "LEFT JOIN maestros.maestro_registrador mr ON mr.id_registrador =nt.id_registrador \n",
    "LEFT JOIN maestros.maestro_his_centro_poblado mhcp ON nt.id_centro_poblado = mhcp.id_centro_poblado \n",
    "WHERE nt.anio_actual_paciente<5 AND nt.codigo_item IN('85018','85018.01') \n",
    "--AND nt.mes in(1) \n",
    " and nt.anio ={anio}\n",
    " AND mp.fecha_nacimiento IS  NOT NULL  %s\n",
    "AND mhe.cat NOT IN('III-1')\n",
    " )AS t   WHERE t.rn=1;\"\"\"% q)\n",
    "    return menores\n",
    "# menores.head(2)\n"
   ]
  },
  {
   "cell_type": "code",
   "execution_count": 7,
   "metadata": {},
   "outputs": [],
   "source": [
    "#consulta a la base de datos altitud de establecimiento \n",
    "def consulta_altitud_eess(conn):\n",
    "    altitud=conn.df(\"SELECT cod_unico,altitud as altitud_eess FROM renaes_altitud_eess\")\n",
    "    altitud = altitud.rename(columns={'cod_unico': 'cod_eess'})\n",
    "    return altitud\n",
    "#consulta a la base de datos nombre y apellido de los menores \n",
    "def consulta_covid(cpaciente):\n",
    "    nombres=cpaciente.df(\"SELECT * FROM paciente()\")\n",
    "    nombres = nombres.rename(columns={'num_doc': 'numero_documento'})\n",
    "    return nombres\n",
    "#consulta a la base de datos sobre las observaciones\n",
    "def consulta_observaciones(conn):\n",
    "    obs=conn.df(\"SELECT * FROM observaciones_his oh\")   \n",
    "    obs = obs.rename(columns={'id': 'id_obs','descricion': 'diagnostico'})\n",
    "    return   obs"
   ]
  },
  {
   "attachments": {},
   "cell_type": "markdown",
   "metadata": {},
   "source": [
    "<center><h2>Estructura del Reporte </h2></center>"
   ]
  },
  {
   "cell_type": "code",
   "execution_count": 8,
   "metadata": {},
   "outputs": [],
   "source": [
    "def estructura2_df(menores, altitud):\n",
    "    menores['fecha_atencion'] = pd.to_datetime(\n",
    "        menores['fecha_atencion'], format='%Y-%m-%d')\n",
    "    # menor = menores[['id_paciente','anio','mes','id_establecimiento','nombre_establecimiento','anio_actual_paciente','mes_actual_paciente','dia_actual_paciente','fecha_atencion','abrev_tipo_doc','numero_documento','fecha_nacimiento','genero','codigo_red','red','codigo_microred','microred','personal','registrador','codigo_unico','provincia','distrito','id_pais']]\n",
    "    menor = menores\n",
    "    menor = menor.drop(['rn'], axis=1)\n",
    "    # menor=menor[menor.id_paciente.isin(['100012242536','100001212420'])]\n",
    "    # ordenar de ac\n",
    "    menor = menor.sort_values(by=['fecha_atencion'], inplace=False)\n",
    "    menor = menor[(menor['edad_mes'] >= 6)&(menor['edad_mes'] < 60)]\n",
    "    # convertir a numero\n",
    "    #menor['codigo_unico'] = menor['codigo_unico'].astype(int)\n",
    "\n",
    "    menor = menor.merge(altitud, how='inner', on=['cod_eess'])\n",
    "# Reemplazar por = 0 los registros enblanco\n",
    "    menor['hemoglobina'] = menor['hemoglobina'].fillna(0)\n",
    "    menor['altitud_centro_poblado'] = menor['altitud_centro_poblado'].fillna(0)\n",
    "\n",
    "    # INDEXAR\n",
    "    menor = menor.set_index('id_paciente')\n",
    "    # extraer el valosr maximo\n",
    "    menor = menor.groupby(menor.index).tail(1)\n",
    "    menor=menor.reset_index() \n",
    "    return menor\n"
   ]
  },
  {
   "cell_type": "code",
   "execution_count": null,
   "metadata": {},
   "outputs": [],
   "source": []
  },
  {
   "attachments": {},
   "cell_type": "markdown",
   "metadata": {},
   "source": [
    "<center><h2>Funciones Para el Calculo</h2></center>"
   ]
  },
  {
   "cell_type": "code",
   "execution_count": 9,
   "metadata": {},
   "outputs": [],
   "source": [
    "def fun_registros_obs(row):\n",
    "    obs = 0\n",
    "    HemObs = row['hemoglobina']\n",
    "    altitud = row['altitud_centro_poblado']\n",
    "\n",
    "    if altitud == 0:\n",
    "        obs = 6\n",
    "    if HemObs < 4.0 or HemObs > 18.5:\n",
    "        obs = 2\n",
    "    if HemObs == 0:\n",
    "        obs = 1\n",
    "    return obs\n",
    "\n",
    "\n",
    "def fun_Hemoglobina(row):\n",
    "    HemObs = row['hemoglobina']\n",
    "    altitud = row['altitud_eess']\n",
    "\n",
    "    Hemoglobina = HemObs-(altitud*3.3/1000)*(-0.032+(0.022*altitud*3.3/1000))\n",
    "    return round(Hemoglobina, 2)\n",
    "\n",
    "\n",
    "def fun_diagnostico(row, obs):\n",
    "    dx = ''\n",
    "    Hem_Ajustada = row['hemo_ajustada']\n",
    "    meses = row['edad_mes']\n",
    "    id_obs = row['id_obs']\n",
    "    if id_obs == 0 or id_obs == 6:\n",
    "        if meses < 2:\n",
    "            if Hem_Ajustada < 13.5:\n",
    "                dx = 'Anemia'\n",
    "            if Hem_Ajustada >= 13.5 and Hem_Ajustada <= 18.5:\n",
    "                dx = 'Normal'\n",
    "        if meses >= 2 and meses < 6:\n",
    "            if Hem_Ajustada < 9.5:\n",
    "                dx = 'Anemia'\n",
    "            if Hem_Ajustada >= 9.5 and Hem_Ajustada <= 13.5:\n",
    "                dx = 'Normal'\n",
    "        if meses >= 6 and meses < 60:\n",
    "            if Hem_Ajustada < 7:\n",
    "                dx = 'Anemia Severa'\n",
    "            if Hem_Ajustada >= 7 and Hem_Ajustada < 10:\n",
    "                dx = 'Anemia Moderada'\n",
    "            if Hem_Ajustada >= 10 and Hem_Ajustada < 11:\n",
    "                dx = 'Anemia Leve'\n",
    "            if Hem_Ajustada >= 11:\n",
    "                dx = 'Normal'\n",
    "    # else:\n",
    "        # dx = obs.loc[obs['id_obs'] == id_obs, 'diagnostico'].values[0]\n",
    "    return dx\n",
    "\n",
    "def actualizado_nombres(menor, covid):\n",
    "    menor = menor.reset_index()\n",
    "   # menor.head(1)\n",
    "\n",
    "    menor = menor.merge(covid, how='left', on=[\n",
    "                        'abrev_tipo_doc', 'numero_documento'])\n",
    "    return menor\n"
   ]
  },
  {
   "cell_type": "code",
   "execution_count": 10,
   "metadata": {},
   "outputs": [
    {
     "name": "stderr",
     "output_type": "stream",
     "text": [
      "D:\\Irvin/Irvin/Python/Python-GERESA\\clases\\bd\\conexion2.py:47: UserWarning: pandas only supports SQLAlchemy connectable (engine/connection) or database string URI or sqlite3 DBAPI2 connection. Other DBAPI2 objects are not tested. Please consider using SQLAlchemy.\n",
      "  s = pd.read_sql(sql, con=self.conn)\n"
     ]
    }
   ],
   "source": [
    "menores = consulta_sql(conn, 0) #0= observaciones ! 1= rpt de hemoglobina \n",
    "\n",
    "obs = consulta_observaciones(conn)\n",
    "#pacientes_covid = consulta_covid(cpaciente)\n",
    "altitud = consulta_altitud_eess(conn)\n",
    "Estructura = estructura2_df(menores, altitud)\n",
    "\n",
    "\n",
    "# crear las columnas\n",
    "Estructura['hemo_ajustada'] = Estructura.apply(fun_Hemoglobina, axis=1)\n",
    "Estructura['id_obs'] = Estructura.apply(fun_registros_obs, axis=1)\n",
    "Estructura['diagnostico'] = Estructura.apply(\n",
    "    lambda row: fun_diagnostico(row, obs), axis=1)\n",
    "#Estructura.to_excel(f\"anemia-ojo.xlsx\", index=False)\n",
    "#Estructura.head(2)\n"
   ]
  },
  {
   "cell_type": "code",
   "execution_count": 11,
   "metadata": {},
   "outputs": [],
   "source": [
    "def fun_df_observados(Estructura):\n",
    "  df_observados=Estructura[Estructura['id_obs']>0]\n",
    "  df_observados = df_observados.drop(['diagnostico'], axis=1)\n",
    " # df_observados.loc[df_observados['id_obs'] == 6, 'diagnostico'] = 'ERROR: CENTRO POBLADO EN BLANCO'  \n",
    "  df_observados=df_observados.merge(obs, how='inner', on=['id_obs'])\n",
    "  #df_observados.to_excel('obserbados.xlsx', index=False)\n",
    "  return df_observados\n",
    "\n",
    "def fun_df_anemia(Estructura):\n",
    "  anemia=Estructura[(Estructura['id_obs']==0)|(Estructura['id_obs']==6)]\n",
    "  anemia['edad_mes']=anemia['edad_mes'].astype(int) \n",
    "  #anemia.to_excel('anemia_22.xlsx', index=False)\n",
    "  return anemia\n"
   ]
  },
  {
   "cell_type": "code",
   "execution_count": 12,
   "metadata": {},
   "outputs": [
    {
     "name": "stderr",
     "output_type": "stream",
     "text": [
      "C:\\Users\\IRVIN\\AppData\\Local\\Temp\\ipykernel_13180\\2863042007.py:11: SettingWithCopyWarning: \n",
      "A value is trying to be set on a copy of a slice from a DataFrame.\n",
      "Try using .loc[row_indexer,col_indexer] = value instead\n",
      "\n",
      "See the caveats in the documentation: https://pandas.pydata.org/pandas-docs/stable/user_guide/indexing.html#returning-a-view-versus-a-copy\n",
      "  anemia['edad_mes']=anemia['edad_mes'].astype(int)\n"
     ]
    }
   ],
   "source": [
    "observados=fun_df_observados(Estructura)\n",
    "anemia=fun_df_anemia(Estructura)"
   ]
  },
  {
   "cell_type": "code",
   "execution_count": 13,
   "metadata": {},
   "outputs": [
    {
     "name": "stderr",
     "output_type": "stream",
     "text": [
      "C:\\Users\\IRVIN\\AppData\\Local\\Temp\\ipykernel_13180\\2863042007.py:11: SettingWithCopyWarning: \n",
      "A value is trying to be set on a copy of a slice from a DataFrame.\n",
      "Try using .loc[row_indexer,col_indexer] = value instead\n",
      "\n",
      "See the caveats in the documentation: https://pandas.pydata.org/pandas-docs/stable/user_guide/indexing.html#returning-a-view-versus-a-copy\n",
      "  anemia['edad_mes']=anemia['edad_mes'].astype(int)\n"
     ]
    }
   ],
   "source": [
    "observados=fun_df_observados(Estructura)\n",
    "#conn = MyDatabase2()\n",
    "conn.sql('delete from public.excluidos_5_his;')\n",
    "d=conn.sqli(observados,'excluidos_5_his')\n",
    "#conn.close()\n",
    "\n",
    "\n",
    "anemia=fun_df_anemia(Estructura)\n",
    "#conn = MyDatabase2()\n",
    "#conn.sql('delete from public.anemia_nenores_5;')\n",
    "#d=conn.sqli(anemia,'anemia_nenores_5')\n",
    "#conn.close()\n",
    "#print(d)"
   ]
  },
  {
   "cell_type": "code",
   "execution_count": 14,
   "metadata": {},
   "outputs": [],
   "source": [
    "\n",
    "\n",
    "# Obtener la fecha actual\n",
    "fecha_actual = datetime.datetime.now()\n",
    "nombre_mes = {\n",
    "    1: \"Ene\", 2: \"Feb\", 3: \"Mar\", 4: \"Abr\",\n",
    "    5: \"May\", 6: \"Jun\", 7: \"Jul\", 8: \"Ago\",\n",
    "    9: \"Sep\", 10: \"Oct\", 11: \"Nov\", 12: \"Dic\"\n",
    "}\n",
    "\n",
    "# Obtener el nombre abreviado del mes en español\n",
    "nombre_mes_abreviado = nombre_mes[fecha_actual.month]\n",
    "\n",
    "# Formatear la fecha con el nombre abreviado del mes en español\n",
    "fecha_formateada = fecha_actual.strftime(f\"{nombre_mes_abreviado}-%d-%Y\")\n",
    "\n",
    "anemia.to_excel(f\"excel/Anemia-menor-5_{fecha_formateada}.xlsx\", index=False)\n",
    "\n",
    "conn.close()\n"
   ]
  }
 ],
 "metadata": {
  "kernelspec": {
   "display_name": "venv",
   "language": "python",
   "name": "python3"
  },
  "language_info": {
   "codemirror_mode": {
    "name": "ipython",
    "version": 3
   },
   "file_extension": ".py",
   "mimetype": "text/x-python",
   "name": "python",
   "nbconvert_exporter": "python",
   "pygments_lexer": "ipython3",
   "version": "3.12.0"
  },
  "orig_nbformat": 4,
  "vscode": {
   "interpreter": {
    "hash": "7978a6bf83b9a04de563d5f73c554531a0986f07c75bb2bd50c734bc9a158091"
   }
  }
 },
 "nbformat": 4,
 "nbformat_minor": 2
}
