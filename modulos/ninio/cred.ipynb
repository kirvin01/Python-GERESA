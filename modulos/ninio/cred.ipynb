{
 "cells": [
  {
   "cell_type": "code",
   "execution_count": 1,
   "metadata": {},
   "outputs": [
    {
     "name": "stdout",
     "output_type": "stream",
     "text": [
      "Conexion exitosa con la Base de datos:irvin_hisminsa\n"
     ]
    }
   ],
   "source": [
    "import pandas as pd\n",
    "import numpy as np\n",
    "import os\n",
    "import glob as gb\n",
    "import sys\n",
    "import datetime\n",
    "sys.path.insert(0, \"../../\")\n",
    "from clases.bd.conexion2 import MyDatabase2\n",
    "conn = MyDatabase2()\n"
   ]
  },
  {
   "cell_type": "code",
   "execution_count": 2,
   "metadata": {},
   "outputs": [
    {
     "name": "stderr",
     "output_type": "stream",
     "text": [
      "d:\\Irvin\\Irvin\\Python\\pandas\\modulos\\ninio\\../..\\clases\\bd\\conexion2.py:37: UserWarning: pandas only supports SQLAlchemy connectable (engine/connection) or database string URI or sqlite3 DBAPI2 connection. Other DBAPI2 objects are not tested. Please consider using SQLAlchemy.\n",
      "  s = pd.read_sql(sql, con=self.conn)\n"
     ]
    }
   ],
   "source": [
    "def consulta_sql(conn):\n",
    "   \n",
    "\n",
    "    sql = conn.df(\"\"\" select\n",
    "\tmhtd.abrev_tipo_doc ,\n",
    "\tnt.numero_documento,\n",
    "\tmp.fecha_nacimiento ,\n",
    "\tmp.genero ,\n",
    "\tnt.anio_actual_paciente ,\n",
    "\tnt.mes_actual_paciente ,\n",
    "\tnt.dia_actual_paciente ,\n",
    "\tnt.fecha_atencion ,\n",
    "\tnt.codigo_item,\n",
    "\tnt.lab1 ,\n",
    "\trow_number() over (partition by nt.id_tipo_documento ,\n",
    "\tnt.numero_documento\n",
    "order by\n",
    "\t\tnt.fecha_atencion asc) as rn\n",
    "from\n",
    "\tmaestros.nominal_trama2 nt\n",
    "inner join maestros.maestro_paciente mp on\n",
    "\tmp.id_paciente = nt.id_paciente\n",
    "inner join maestros.maestro_his_tipo_doc mhtd on\n",
    "\tmhtd.id_tipo_documento = nt.id_tipo_documento\n",
    "where\n",
    "\t\tnt.anio_actual_paciente<3\n",
    "\tand nt.codigo_item like '9938%'\"\"\")\n",
    "    return sql\n",
    "df2=consulta_sql(conn)"
   ]
  },
  {
   "cell_type": "code",
   "execution_count": 37,
   "metadata": {},
   "outputs": [],
   "source": [
    "df=df2\n",
    "df['fecha_atencion'] = pd.to_datetime(df['fecha_atencion'])\n",
    "#df['visita_count']  = df.groupby(['abrev_tipo_doc', 'numero_documento']).cumcount()\n",
    "pivot_df = df.pivot(index=['abrev_tipo_doc', 'numero_documento'], columns='rn', values='fecha_atencion')\n",
    "\n",
    "for i in range(2, len(pivot_df.columns) + 1):\n",
    "    pivot_df[f'diff_{i}'] = (pivot_df[i] - pivot_df[1]).dt.days\n",
    "    pivot_df[f'diff_{i}'].fillna(0, inplace=True)\n",
    "\n",
    "#pivot_df.head()\n",
    "pivot_df.to_excel(\"demo.xlsx\", index=True)\n",
    "#print(df_pivot[2])"
   ]
  }
 ],
 "metadata": {
  "kernelspec": {
   "display_name": "venv",
   "language": "python",
   "name": "python3"
  },
  "language_info": {
   "codemirror_mode": {
    "name": "ipython",
    "version": 3
   },
   "file_extension": ".py",
   "mimetype": "text/x-python",
   "name": "python",
   "nbconvert_exporter": "python",
   "pygments_lexer": "ipython3",
   "version": "3.12.0"
  }
 },
 "nbformat": 4,
 "nbformat_minor": 2
}
