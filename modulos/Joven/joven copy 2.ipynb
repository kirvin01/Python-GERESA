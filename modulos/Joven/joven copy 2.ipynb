{
 "cells": [
  {
   "cell_type": "code",
   "execution_count": null,
   "metadata": {
    "collapsed": false,
    "pycharm": {
     "name": "#%%\n"
    }
   },
   "outputs": [],
   "source": [
    "import pandas as pd\n",
    "import numpy as np\n",
    "import os\n",
    "import glob as gb\n",
    "pd.options.display.max_columns = None\n",
    "pd.set_option('display.max_rows',200)"
   ]
  },
  {
   "cell_type": "code",
   "execution_count": null,
   "metadata": {
    "collapsed": false,
    "pycharm": {
     "name": "#%%\n"
    }
   },
   "outputs": [],
   "source": [
    "# ruta carpeta datos\n",
    "ruta_datos = os.path.abspath(\"./../data/\")\n",
    "print(ruta_datos)\n",
    "df_datos = pd.read_csv(ruta_datos+'/Hisminsa_2022/consolidados/df_consolidado_29122022.csv', encoding='UTF-8')\n",
    "df_datos"
   ]
  },
  {
   "cell_type": "code",
   "execution_count": null,
   "metadata": {},
   "outputs": [],
   "source": [
    "def curso_vida_joven(df_datos,**kwargs):\n",
    "    act = kwargs['actividad']\n",
    "    dx_empiesa_con = kwargs['dx_empiesa_con']\n",
    "    dx2_empiesa_con = kwargs['dx2_empiesa_con']\n",
    "    dx = kwargs['dx']\n",
    "    lab = kwargs['lab']\n",
    "    lab2 = kwargs['lab2']\n",
    "    dx2 = kwargs['dx2']\n",
    "    dx3 = kwargs['dx3']\n",
    "    dx4 = kwargs['dx4']\n",
    "    td = kwargs['td']\n",
    "    td2 = kwargs['td2']\n",
    "    td3 = kwargs['td3']\n",
    "    enclab = kwargs['enclab']\n",
    "    enclab2 = kwargs['enclab2']\n",
    "    enclab_dif_de = kwargs['enclab_dif_de']\n",
    "    cualquier_dx2 = kwargs['cualquier_dx2']\n",
    "    gestantes = kwargs['gestantes']\n",
    "    lab_isnull = kwargs['lab_isnull']\n",
    "    inician = kwargs['inician']\n",
    "    caso_tratado = kwargs['caso_tratado']\n",
    "    \n",
    "    df_joven = df_datos[df_datos['Anio_Actual_Paciente'].between(18,29)]\n",
    "\n",
    "    # df_18_28 = df_datos[df_datos['Anio_Actual_Paciente'].between(18,28)]\n",
    "    # df_29 = df_datos[(df_datos.Anio_Actual_Paciente == 29) & (df_datos.Mes_Actual_Paciente == 0) & (df_datos.Dia_Actual_Paciente == 0)]\n",
    "    # df_joven = pd.concat([df_18_28,df_29], ignore_index=True)\n",
    "    \n",
    "    if not td:\n",
    "        if dx and lab:\n",
    "            df = df_joven[(df_joven.Codigo_Item.isin(dx)) & (df_joven.Valor_Lab.isin(lab))]\n",
    "    elif (not enclab_dif_de) and (not enclab):\n",
    "        if dx and lab:\n",
    "            df = df_joven[(df_joven.Tipo_Diagnostico.isin(td)) & (df_joven.Codigo_Item.isin(dx)) & (df_joven.Valor_Lab.isin(lab))]\n",
    "    else: # existe td, existe enclab, existe enclab_dif_de\n",
    "        if not gestantes:\n",
    "            if inician:\n",
    "                if lab:\n",
    "                    df_NoGestantes = df_joven[(~(df_joven.Valor_Lab.isin(enclab_dif_de))) & ((df_joven.Id_Condicion_Servicio.isin(['N','R'])))]\n",
    "                    df = df_NoGestantes[(df_NoGestantes.Tipo_Diagnostico.isin(td)) & (df_NoGestantes.Codigo_Item.isin(dx)) & (df_NoGestantes.Valor_Lab.isin(lab))]\n",
    "                    df = df.drop_duplicates(subset=['Id_Cita'])\n",
    "                # else:\n",
    "                #     #df_NoGestantes1 = df_joven[(df_joven.Tipo_Diagnostico.isin(td)) & (df_joven.Codigo_Item.isin(dx))]\n",
    "                #     df_NoGestantes = df_joven[(~(df_joven.Valor_Lab.isin(enclab_dif_de))) & ((df_joven.Id_Condicion_Establecimiento.isin(['C']))) & ((df_joven.Id_Condicion_Servicio.isin(['C'])))]\n",
    "                #     df = df_NoGestantes[(df_NoGestantes.Tipo_Diagnostico.isin(td)) & (df_NoGestantes.Codigo_Item.isin(dx))]\n",
    "                #     #df = pd.merge(df_NoGestantes1,df_NoGestantes2, on=['Id_Cita','Id_Paciente','Anio','Mes','Genero','Codigo_Item','Valor_Lab','Id_Correlativo','Id_Correlativo_Lab'], how='inner')\n",
    "                #     df = df.drop_duplicates(subset=['Id_Cita'])\n",
    "                #     print('(ABO) no gestantes')\n",
    "            # else:\n",
    "            #     if lab:\n",
    "            #         df_NoGestantes = df_joven[(~(df_joven.Valor_Lab.isin(enclab_dif_de))) & ((df_joven.Id_Condicion_Establecimiento.isin(['N','C','R']))) & ((df_joven.Id_Condicion_Servicio.isin(['N','R','C'])))]\n",
    "            #         df = df_NoGestantes[(df_NoGestantes.Tipo_Diagnostico.isin(td)) & (df_NoGestantes.Codigo_Item.isin(dx)) & (df_NoGestantes.Valor_Lab.isin(lab))]\n",
    "            #         df = df.drop_duplicates(subset=['Id_Cita'])\n",
    "            #         print('(ABO) no gestantes')\n",
    "\n",
    "            if caso_tratado:\n",
    "                if lab:\n",
    "                    df_NoGestantes = df_joven[(~(df_joven.Valor_Lab.isin(enclab_dif_de))) & ((df_joven.Id_Condicion_Servicio.isin(['C'])))]\n",
    "                    df = df_NoGestantes[(df_NoGestantes.Tipo_Diagnostico.isin(td)) & (df_NoGestantes.Codigo_Item.isin(dx)) & (df_NoGestantes.Valor_Lab.isin(lab))]\n",
    "                    df = df.drop_duplicates(subset=['Id_Cita'])\n",
    "                    print('calculamos')\n",
    "        else: #Gestantes\n",
    "            if inician:\n",
    "                if lab and enclab:\n",
    "                    jovenes_gestantes = df_joven[(df_joven.Genero=='F')&((df_joven.Id_Otra_Condicion==1))&((df_joven.Valor_Lab.isin(enclab))|(df_joven.Valor_Lab.isnull())|(df_joven.Valor_Lab.isin(lab)))]\n",
    "                    jovenes_labG = df_joven[(df_joven.Genero=='F')&(df_joven.Valor_Lab.isin(enclab))&(df_joven.Id_Otra_Condicion.isnull())]\n",
    "                    jovenes_Gestantes_ini = pd.concat([jovenes_gestantes,jovenes_labG])\n",
    "                    df = jovenes_Gestantes_ini[jovenes_Gestantes_ini.Tipo_Diagnostico.isin(td)&(jovenes_Gestantes_ini.Codigo_Item.isin(dx))&((jovenes_Gestantes_ini.Valor_Lab.isin(lab))|(jovenes_Gestantes_ini.Valor_Lab.isin(enclab)))]\n",
    "                    \n",
    "                    # df_Gestantes = df_joven[((df_joven.Genero.isin(['F']))) & ((df_joven.Valor_Lab.isin(enclab))) & ((df_joven.Id_Condicion_Servicio.isin(['N','R'])))]\n",
    "                    # df = df_Gestantes[(df_Gestantes.Tipo_Diagnostico.isin(td)) & (df_Gestantes.Codigo_Item.isin(dx)) & (df_Gestantes.Valor_Lab.isin(lab))]\n",
    "                    df = df.drop_duplicates(subset=['Id_Cita'])\n",
    "                    print('gestantes inician')\n",
    "                # else:\n",
    "                #     df_Gestantes = df_joven[((df_joven.Genero.isin(['F']))) & ((df_joven.Valor_Lab.isin(enclab)))]\n",
    "                #     df = df_Gestantes[(df_Gestantes.Tipo_Diagnostico.isin(td)) & (df_Gestantes.Codigo_Item.isin(dx))]\n",
    "                #     df = df.drop_duplicates(subset=['Id_Cita'])\n",
    "                #     print('(ABO) gestantes')\n",
    "            # else:\n",
    "            #     if lab:\n",
    "            #         df_Gestantes = df_joven[((df_joven.Genero.isin(['F']))) & ((df_joven.Valor_Lab.isin(enclab)))]\n",
    "            #         df = df_Gestantes[(df_Gestantes.Tipo_Diagnostico.isin(td)) & (df_Gestantes.Codigo_Item.isin(dx))]\n",
    "            #         df = df.drop_duplicates(subset=['Id_Cita'])\n",
    "            #         print('(ABO) gestantes----')\n",
    "            if caso_tratado:\n",
    "                df_Gestantes = df_joven[((df_joven.Genero.isin(['F']))) & ((df_joven.Valor_Lab.isin(enclab))) & ((df_joven.Id_Condicion_Establecimiento.isin(['C']))) & ((df_joven.Id_Condicion_Servicio.isin(['C'])))]\n",
    "                df = df_Gestantes[(df_Gestantes.Tipo_Diagnostico.isin(td)) & (df_Gestantes.Codigo_Item.isin(dx)) & (df_Gestantes.Valor_Lab.isin(lab))]\n",
    "                df = df.drop_duplicates(subset=['Id_Cita'])\n",
    "        \n",
    "        #df = pd.merge(df1,df, on=['Id_Cita','Id_Paciente','Anio','Mes','Genero','Codigo_Item','Valor_Lab','Id_Correlativo','Id_Correlativo_Lab'])\n",
    "            #df = df[~(df.Valor_Lab.isin(dx_empiesa_con))]\n",
    "    #df = df.groupby(['Anio','Mes']).size().reset_index(name='Nro')\n",
    "    #df = df.pivot_table(index=['Anio'], columns='Mes', values='Nro', aggfunc=np.sum, fill_value=0).reset_index()\n",
    "\n",
    "    #df = df[df.Mes==10]\n",
    "\n",
    "    df = df.groupby(['Anio','Mes'])['Id_Cita'].agg(['count']).reset_index()\n",
    "    #df = df.rename({'count':'Activ','sum':'Insumo'}, axis=1)\n",
    "\n",
    "    return df\n"
   ]
  },
  {
   "cell_type": "code",
   "execution_count": null,
   "metadata": {},
   "outputs": [],
   "source": [
    "df_joven = df_datos[df_datos['Anio_Actual_Paciente'].between(18,29)]\n",
    "df_joven"
   ]
  },
  {
   "cell_type": "code",
   "execution_count": null,
   "metadata": {},
   "outputs": [],
   "source": [
    "#df_joven[df_joven.Id_Otra_Condicion==1]"
   ]
  },
  {
   "cell_type": "code",
   "execution_count": null,
   "metadata": {},
   "outputs": [],
   "source": [
    "# df_18_28 = df_datos[df_datos['Anio_Actual_Paciente'].between(18,28)]\n",
    "# df_18_28"
   ]
  },
  {
   "cell_type": "code",
   "execution_count": null,
   "metadata": {},
   "outputs": [],
   "source": [
    "# df_joven.info()"
   ]
  },
  {
   "cell_type": "code",
   "execution_count": null,
   "metadata": {},
   "outputs": [],
   "source": [
    "# df_29 = df_datos[(df_datos.Anio_Actual_Paciente == 29) & (df_datos.Mes_Actual_Paciente == 0) & (df_datos.Dia_Actual_Paciente == 0)]\n",
    "# df_29\n"
   ]
  },
  {
   "cell_type": "code",
   "execution_count": null,
   "metadata": {},
   "outputs": [],
   "source": [
    "# df_joven = pd.concat([df_18_28,df_29], ignore_index=True)\n",
    "# df_joven"
   ]
  },
  {
   "cell_type": "code",
   "execution_count": null,
   "metadata": {},
   "outputs": [],
   "source": [
    "# df_joven.info()"
   ]
  },
  {
   "attachments": {},
   "cell_type": "markdown",
   "metadata": {},
   "source": [
    "#probando"
   ]
  },
  {
   "cell_type": "code",
   "execution_count": null,
   "metadata": {},
   "outputs": [],
   "source": [
    "# jovenes_gestantes_regla = df_joven[~(df_joven.Fecha_Ultima_Regla.isnull())]\n",
    "# jovenes_gestantes_regla"
   ]
  },
  {
   "cell_type": "code",
   "execution_count": null,
   "metadata": {},
   "outputs": [],
   "source": [
    "# obtener gestantes\n",
    "jovenes_gestantes = df_joven[(df_joven.Genero=='F') & ((df_joven.Valor_Lab=='G') | (df_joven.Valor_Lab=='2'))]\n",
    "jovenes_gestantes"
   ]
  },
  {
   "cell_type": "code",
   "execution_count": null,
   "metadata": {},
   "outputs": [],
   "source": [
    "jovenes_gestantes[jovenes_gestantes.Id_Cita==794404012]"
   ]
  },
  {
   "cell_type": "code",
   "execution_count": null,
   "metadata": {},
   "outputs": [],
   "source": [
    "# jovenes_labG = df_joven[(df_joven.Genero=='F')&(df_joven.Valor_Lab=='G') & (df_joven.Id_Otra_Condicion.isnull())]\n",
    "# jovenes_labG = jovenes_labG[['Id_Cita','Codigo_Item','Valor_Lab','Id_Otra_Condicion']]\n",
    "# jovenes_labG = jovenes_labG.rename({'Codigo_Item':'DXG','Valor_Lab':'LabG','Id_Otra_Condicion':'Gestante'}, axis=1)\n",
    "# jovenes_labG\n",
    "# jovenes_Gestantes_ini = pd.concat([jovenes_gestantes,jovenes_labG])\n",
    "# jovenes_Gestantes_ini"
   ]
  },
  {
   "cell_type": "code",
   "execution_count": null,
   "metadata": {},
   "outputs": [],
   "source": [
    "# jovenes_Gestantes_ini[jovenes_Gestantes_ini.Genero=='M']"
   ]
  },
  {
   "cell_type": "code",
   "execution_count": null,
   "metadata": {},
   "outputs": [],
   "source": [
    "# df = pd.merge(jovenes_gestantes,jovenes_labG, on=['Id_Cita'], how='inner')\n",
    "# df"
   ]
  },
  {
   "cell_type": "code",
   "execution_count": null,
   "metadata": {},
   "outputs": [],
   "source": [
    "jovenes_inician = jovenes_gestantes[jovenes_gestantes.Tipo_Diagnostico.isin(['D'])&(jovenes_gestantes.Codigo_Item.isin(['D1310','D1330','D0120']))]\n",
    "jovenes_inician.head(50)"
   ]
  },
  {
   "cell_type": "code",
   "execution_count": null,
   "metadata": {},
   "outputs": [],
   "source": [
    "jovenes_inician[jovenes_inician.Id_Cita==764807442]\n"
   ]
  },
  {
   "cell_type": "code",
   "execution_count": null,
   "metadata": {},
   "outputs": [],
   "source": [
    "# transponemos genero\n",
    "df_dx1 = jovenes_inician.pivot(index=['Id_Cita', 'Anio', 'Mes', 'Dia', 'Fecha_Atencion', 'Id_Ups',\n",
    "       'Id_Establecimiento', 'Id_Paciente', 'Id_Condicion_Establecimiento',\n",
    "       'Id_Condicion_Servicio', 'Id_Personal', 'Id_Financiador',\n",
    "       'Anio_Actual_Paciente', 'Mes_Actual_Paciente', 'Dia_Actual_Paciente',\n",
    "       'Codigo_Item', 'Tipo_Diagnostico', 'Id_Correlativo',\n",
    "        'Id_Pais', 'Id_Tipo_Documento','Numero_Documento',\n",
    "        'Fecha_Nacimiento', 'Genero', 'Id_Etnia',\n",
    "       'Id_Pais_Paciente'], columns=['Id_Correlativo_Lab'], values=['Valor_Lab']).reset_index()\n",
    "df_dx1"
   ]
  },
  {
   "cell_type": "code",
   "execution_count": null,
   "metadata": {},
   "outputs": [],
   "source": [
    "# transponemos genero\n",
    "p = df_dx1.pivot(index=['Id_Cita', 'Anio', 'Mes', 'Dia', 'Fecha_Atencion', 'Id_Ups',\n",
    "       'Id_Establecimiento', 'Id_Paciente', 'Id_Condicion_Establecimiento',\n",
    "       'Id_Condicion_Servicio', 'Id_Personal', 'Id_Financiador',\n",
    "       'Anio_Actual_Paciente', 'Mes_Actual_Paciente', 'Dia_Actual_Paciente',\n",
    "       'Tipo_Diagnostico',\n",
    "        'Id_Pais', 'Id_Tipo_Documento',\n",
    "       'Numero_Documento', 'Fecha_Nacimiento', 'Genero', 'Id_Etnia',\n",
    "       'Id_Pais_Paciente',('Valor_Lab',1),('Valor_Lab',2),('Valor_Lab',3)], columns=['Id_Correlativo'], values=['Codigo_Item']).reset_index()\n",
    "p.head(50)"
   ]
  },
  {
   "cell_type": "code",
   "execution_count": null,
   "metadata": {},
   "outputs": [],
   "source": [
    "p[p.Id_Cita==623658522]"
   ]
  },
  {
   "cell_type": "code",
   "execution_count": null,
   "metadata": {},
   "outputs": [],
   "source": [
    "g=p.groupby(['Id_Cita', 'Anio', 'Mes', 'Dia', 'Fecha_Atencion', 'Id_Ups',\n",
    "       'Id_Establecimiento', 'Id_Paciente', 'Id_Condicion_Establecimiento',\n",
    "       'Id_Condicion_Servicio', 'Id_Personal', 'Id_Financiador',\n",
    "       'Anio_Actual_Paciente', 'Mes_Actual_Paciente', 'Dia_Actual_Paciente',\n",
    "       'Tipo_Diagnostico',\n",
    "        'Id_Pais', 'Id_Tipo_Documento',\n",
    "       'Numero_Documento', 'Fecha_Nacimiento', 'Genero', 'Id_Etnia',\n",
    "       'Id_Pais_Paciente'])\n",
    "g.first()"
   ]
  },
  {
   "cell_type": "code",
   "execution_count": null,
   "metadata": {},
   "outputs": [],
   "source": [
    "df_dx1[df_dx1.Id_Cita==621562403]"
   ]
  },
  {
   "cell_type": "code",
   "execution_count": null,
   "metadata": {},
   "outputs": [],
   "source": [
    "df1 = p[((p.Valor_Lab[1].isin(['G'])) | (p.Valor_Lab[2].isin(['G'])) | (p.Valor_Lab[3].isin(['G'])))]\n",
    "df1"
   ]
  },
  {
   "cell_type": "code",
   "execution_count": null,
   "metadata": {},
   "outputs": [],
   "source": [
    "df2 = p[((p.Valor_Lab[1].isin(['2'])) | (p.Valor_Lab[2].isin(['2'])) | (p.Valor_Lab[3].isin(['2'])))]\n",
    "df2"
   ]
  },
  {
   "cell_type": "code",
   "execution_count": null,
   "metadata": {},
   "outputs": [],
   "source": [
    "df = pd.merge(df1,df2, on=['Id_Cita', 'Anio', 'Mes', 'Dia', 'Fecha_Atencion', 'Id_Ups',\n",
    "       'Id_Establecimiento', 'Id_Paciente', 'Id_Condicion_Establecimiento',\n",
    "       'Id_Condicion_Servicio', 'Id_Personal', 'Id_Financiador',\n",
    "       'Anio_Actual_Paciente', 'Mes_Actual_Paciente', 'Dia_Actual_Paciente',\n",
    "       'Tipo_Diagnostico',\n",
    "        'Id_Pais', 'Id_Tipo_Documento',\n",
    "       'Numero_Documento', 'Fecha_Nacimiento', 'Genero', 'Id_Etnia',\n",
    "       'Id_Pais_Paciente'], how='inner')\n",
    "df"
   ]
  },
  {
   "cell_type": "code",
   "execution_count": null,
   "metadata": {},
   "outputs": [],
   "source": [
    "df = df.drop_duplicates()"
   ]
  },
  {
   "cell_type": "code",
   "execution_count": null,
   "metadata": {},
   "outputs": [],
   "source": [
    "df[df.Id_Cita==623658522]"
   ]
  },
  {
   "cell_type": "code",
   "execution_count": null,
   "metadata": {},
   "outputs": [],
   "source": [
    "df2 = df.groupby(['Anio','Mes'])['Id_Cita'].agg(['count']).reset_index()\n",
    "df2"
   ]
  },
  {
   "cell_type": "code",
   "execution_count": null,
   "metadata": {},
   "outputs": [],
   "source": [
    "# jovenes_Lab1 = df_joven[df_joven.Valor_Lab=='1']\n",
    "# jovenes_Lab1.info()"
   ]
  },
  {
   "cell_type": "code",
   "execution_count": null,
   "metadata": {},
   "outputs": [],
   "source": [
    "# df = pd.merge(jovenes_dx,jovenes_Lab1, on=['Id_Cita'], how='inner')\n",
    "# df.info()"
   ]
  },
  {
   "cell_type": "code",
   "execution_count": null,
   "metadata": {},
   "outputs": [],
   "source": [
    "# dfX = pd.merge(df,jovenes_gestantes, on=['Id_Cita'], how='inner')\n",
    "# dfX"
   ]
  },
  {
   "attachments": {},
   "cell_type": "markdown",
   "metadata": {},
   "source": [
    "# antes"
   ]
  },
  {
   "cell_type": "code",
   "execution_count": null,
   "metadata": {},
   "outputs": [],
   "source": [
    "df_joven_g = df_joven[(df_joven.Genero.isin(['F'])) & (df_joven.Id_Otra_Condicion==1) & df_joven.Tipo_Diagnostico.isin(['D']) & (df_joven.Codigo_Item.isin(['Z012','D0150','D0120'])) & ((df_joven.Valor_Lab.isin(['G','1']))) ]\n",
    "df_joven_g.head(100)"
   ]
  },
  {
   "cell_type": "code",
   "execution_count": null,
   "metadata": {},
   "outputs": [],
   "source": [
    "df_joven_dx = df_joven[(df_joven.Genero.isin(['F'])) & df_joven.Tipo_Diagnostico.isin(['D']) & (df_joven.Codigo_Item.isin(['Z012','D0150','D0120'])) & ((df_joven.Valor_Lab.isin(['G','1'])))]\n",
    "df_joven_dx.head(200)"
   ]
  },
  {
   "cell_type": "code",
   "execution_count": null,
   "metadata": {},
   "outputs": [],
   "source": [
    "df = pd.merge(df_joven_g,df_joven_dx, on=['Id_Cita','Id_Paciente','Anio','Mes','Dia','Fecha_Atencion'], how='inner')\n",
    "df.head(100)"
   ]
  },
  {
   "cell_type": "code",
   "execution_count": null,
   "metadata": {},
   "outputs": [],
   "source": [
    "df.info()"
   ]
  },
  {
   "cell_type": "code",
   "execution_count": null,
   "metadata": {},
   "outputs": [],
   "source": [
    "gestantesDX = pd.concat([df_joven_g,df_joven_dx])\n",
    "gestantesDX.head(200)"
   ]
  },
  {
   "cell_type": "code",
   "execution_count": null,
   "metadata": {},
   "outputs": [],
   "source": [
    "gestantesDX[gestantesDX.Id_Otra_Condicion.isnull()]"
   ]
  },
  {
   "cell_type": "code",
   "execution_count": null,
   "metadata": {},
   "outputs": [],
   "source": []
  },
  {
   "cell_type": "code",
   "execution_count": null,
   "metadata": {},
   "outputs": [],
   "source": [
    "df_joven_dxy =  gestantesDX[~((gestantesDX.Valor_Lab.isin(['1'])) & (gestantesDX.Id_Otra_Condicion.isnull()))]\n",
    "df_joven_dxy"
   ]
  },
  {
   "cell_type": "code",
   "execution_count": null,
   "metadata": {},
   "outputs": [],
   "source": [
    "# df = pd.merge(df_d_x,df_d_y, on=['Id_Cita','Id_Paciente','Anio','Mes','Dia','Fecha_Atencion','Id_Establecimiento','Id_Ups','Id_Condicion_Establecimiento','Id_Condicion_Servicio','Id_Personal','Id_Financiador',\n",
    "#                                 'Anio_Actual_Paciente','Mes_Actual_Paciente','Dia_Actual_Paciente','Tipo_Diagnostico','Id_Pais',\n",
    "#                                 'Id_Tipo_Documento','Numero_Documento','Fecha_Nacimiento','Genero','Id_Etnia','Id_Pais_Paciente'], how='inner')\n",
    "# df.head(50)"
   ]
  },
  {
   "cell_type": "code",
   "execution_count": null,
   "metadata": {},
   "outputs": [],
   "source": [
    "df_joven_dxy.info()"
   ]
  },
  {
   "cell_type": "code",
   "execution_count": null,
   "metadata": {},
   "outputs": [],
   "source": [
    "df_joven_dxy.columns"
   ]
  },
  {
   "cell_type": "code",
   "execution_count": null,
   "metadata": {},
   "outputs": [],
   "source": [
    "df_joven_dxy = df_joven_dxy.drop_duplicates(subset=['Id_Cita'])\n",
    "df_joven_dxy"
   ]
  },
  {
   "cell_type": "code",
   "execution_count": null,
   "metadata": {},
   "outputs": [],
   "source": [
    "# transponemos genero\n",
    "df_dx1 = df_joven_dxy.pivot(index=['Id_Cita', 'Anio', 'Mes', 'Dia', 'Fecha_Atencion', 'Id_Ups',\n",
    "       'Id_Establecimiento', 'Id_Paciente', 'Id_Condicion_Establecimiento',\n",
    "       'Id_Condicion_Servicio', 'Id_Personal', 'Id_Financiador',\n",
    "       'Anio_Actual_Paciente', 'Mes_Actual_Paciente', 'Dia_Actual_Paciente',\n",
    "       'Codigo_Item', 'Tipo_Diagnostico', 'Id_Correlativo', 'Id_Otra_Condicion', 'Id_Centro_Poblado',\n",
    "        'Fecha_Ultima_Regla','Id_Pais', 'Id_Tipo_Documento',\n",
    "       'Numero_Documento', 'Fecha_Nacimiento', 'Genero', 'Id_Etnia',\n",
    "       'Id_Pais_Paciente'], columns=['Id_Correlativo_Lab'], values=['Valor_Lab']).reset_index()\n",
    "df_dx1"
   ]
  },
  {
   "cell_type": "code",
   "execution_count": null,
   "metadata": {},
   "outputs": [],
   "source": [
    "# # transponemos genero\n",
    "# df_dx2 = df_dx1.pivot(index=['Id_Cita', 'Anio', 'Mes', 'Dia', 'Fecha_Atencion', 'Id_Ups',\n",
    "#        'Id_Establecimiento', 'Id_Paciente', 'Id_Condicion_Establecimiento',\n",
    "#        'Id_Condicion_Servicio', 'Id_Personal', 'Id_Financiador',\n",
    "#        'Anio_Actual_Paciente', 'Mes_Actual_Paciente', 'Dia_Actual_Paciente',\n",
    "#        'Tipo_Diagnostico',\n",
    "#         'Id_Pais', 'Id_Tipo_Documento',\n",
    "#        'Numero_Documento', 'Fecha_Nacimiento', 'Genero', 'Id_Etnia',\n",
    "#        'Id_Pais_Paciente',('Valor_Lab',1),('Valor_Lab',2),('Valor_Lab',3)], columns=['Id_Correlativo'], values=['Codigo_Item']).reset_index()\n",
    "# df_dx2.head(50)"
   ]
  },
  {
   "cell_type": "code",
   "execution_count": null,
   "metadata": {},
   "outputs": [],
   "source": [
    "df_dx1[df_dx1.Id_Cita.isin([638015512])]"
   ]
  },
  {
   "cell_type": "code",
   "execution_count": null,
   "metadata": {},
   "outputs": [],
   "source": [
    "df_dx1.info()"
   ]
  },
  {
   "cell_type": "code",
   "execution_count": null,
   "metadata": {},
   "outputs": [],
   "source": [
    "df_dx1.columns"
   ]
  },
  {
   "cell_type": "code",
   "execution_count": null,
   "metadata": {},
   "outputs": [],
   "source": [
    "# df_dx1_na = df_dx1.dropna(how='all')\n",
    "# df_dx1_na"
   ]
  },
  {
   "cell_type": "code",
   "execution_count": null,
   "metadata": {},
   "outputs": [],
   "source": [
    "df1 = df_dx1[((df_dx1.Valor_Lab[1].isin(['G'])) | (df_dx1.Valor_Lab[2].isin(['G'])) | (df_dx1.Valor_Lab[3].isin(['G'])))]\n",
    "df1"
   ]
  },
  {
   "cell_type": "code",
   "execution_count": null,
   "metadata": {},
   "outputs": [],
   "source": [
    "df1[df1.Id_Cita.isin([638015512])]"
   ]
  },
  {
   "cell_type": "code",
   "execution_count": null,
   "metadata": {},
   "outputs": [],
   "source": [
    "df2 = df_dx1[((df_dx1.Valor_Lab[1].isin(['1'])) | (df_dx1.Valor_Lab[2].isin(['1'])) | (df_dx1.Valor_Lab[3].isin(['1'])))]\n",
    "df2"
   ]
  },
  {
   "cell_type": "code",
   "execution_count": null,
   "metadata": {},
   "outputs": [],
   "source": [
    "df2[df2.Id_Cita.isin([638015512])]"
   ]
  },
  {
   "cell_type": "code",
   "execution_count": null,
   "metadata": {},
   "outputs": [],
   "source": [
    "df = pd.merge(df1,df2, on=['Id_Paciente'], how='inner')\n",
    "df"
   ]
  },
  {
   "cell_type": "code",
   "execution_count": null,
   "metadata": {},
   "outputs": [],
   "source": [
    "#df[df.Id_Cita.isin([638015512])]\n",
    "df[df.Id_Ups.isin([303201])]"
   ]
  },
  {
   "cell_type": "code",
   "execution_count": null,
   "metadata": {},
   "outputs": [],
   "source": [
    "# df_dy= df[(df.Valor_Lab_y[1]=='1') | (df.Valor_Lab_y[2]=='1') | (df.Valor_Lab_y[2]=='1')]\n",
    "# df_dy.head(200)"
   ]
  },
  {
   "cell_type": "code",
   "execution_count": null,
   "metadata": {},
   "outputs": [],
   "source": [
    "df.info()"
   ]
  },
  {
   "cell_type": "code",
   "execution_count": null,
   "metadata": {},
   "outputs": [],
   "source": [
    "# df_dy[df_dy.Id_Cita.isin([638015512])]"
   ]
  },
  {
   "cell_type": "code",
   "execution_count": null,
   "metadata": {},
   "outputs": [],
   "source": [
    "# transponemos genero\n",
    "df_dxx = df.pivot(index=['Id_Cita', 'Anio', 'Mes', 'Dia', 'Fecha_Atencion', 'Id_Ups',\n",
    "       'Id_Establecimiento', 'Id_Paciente', 'Id_Condicion_Establecimiento',\n",
    "       'Id_Condicion_Servicio', 'Id_Personal', 'Id_Financiador',\n",
    "       'Anio_Actual_Paciente', 'Mes_Actual_Paciente', 'Dia_Actual_Paciente',\n",
    "        'Tipo_Diagnostico', \n",
    "        'Id_Pais', 'Id_Tipo_Documento',\n",
    "       'Numero_Documento', 'Fecha_Nacimiento', 'Genero', 'Id_Etnia',\n",
    "       'Id_Pais_Paciente',('Valor_Lab_x',1),('Valor_Lab_x',2),('Valor_Lab_x',3),('Valor_Lab_y',1),('Valor_Lab_y',2),('Valor_Lab_y',3)], columns=['Id_Correlativo_x','Id_Correlativo_y'], values=['Codigo_Item_x','Codigo_Item_y']).reset_index()\n",
    "df_dxx"
   ]
  },
  {
   "cell_type": "code",
   "execution_count": null,
   "metadata": {},
   "outputs": [],
   "source": [
    "df_dxx[df_dxx.Id_Cita.isin([638015512])]"
   ]
  },
  {
   "cell_type": "code",
   "execution_count": null,
   "metadata": {},
   "outputs": [],
   "source": [
    "df_dxxx = df_dxx[((df_dxx.Valor_Lab_y[1]=='1') | (df_dxx.Valor_Lab_y[2]=='1') | (df_dxx.Valor_Lab_y[3]=='1')) & ((df_dxx.Valor_Lab_x[1]=='G') | (df_dxx.Valor_Lab_x[2]=='G') | (df_dxx.Valor_Lab_x[3]=='G'))]\n",
    "df_dxxx"
   ]
  },
  {
   "cell_type": "code",
   "execution_count": null,
   "metadata": {},
   "outputs": [],
   "source": [
    "# df_dxx_na = df_dxx.dropna(how=\"all\")\n",
    "# df_dxx_na\n",
    "df_dxxx.info()"
   ]
  },
  {
   "cell_type": "code",
   "execution_count": null,
   "metadata": {},
   "outputs": [],
   "source": [
    "df_dxxx[df_dxxx.Id_Cita.isin([638015512])]"
   ]
  },
  {
   "cell_type": "code",
   "execution_count": null,
   "metadata": {},
   "outputs": [],
   "source": [
    "# df = df_dx1.drop_duplicates(subset=[('Id_Cita','')])\n",
    "# df"
   ]
  },
  {
   "cell_type": "code",
   "execution_count": null,
   "metadata": {},
   "outputs": [],
   "source": [
    "# df_dx =  df_d[df_d.Tipo_Diagnostico.isin(['D']) &((df_d.Genero.isin(['F']))) & (df_d.Codigo_Item.isin(['Z012','D0150','D0120'])) & ((df_joven.Id_Condicion_Establecimiento.isin(['N']))) & ((df_joven.Id_Condicion_Servicio.isin(['N'])))]\n",
    "# df_dx"
   ]
  },
  {
   "cell_type": "code",
   "execution_count": null,
   "metadata": {},
   "outputs": [],
   "source": [
    "# df_dx.info()"
   ]
  },
  {
   "cell_type": "code",
   "execution_count": null,
   "metadata": {},
   "outputs": [],
   "source": [
    "# agrupamos y contamos por genero\n",
    "ji = jovenes_inician.groupby([\"Id_Cita\",'Id_Establecimiento','Id_Ups','Id_Personal','Id_Financiador','Anio','Mes','Dia','Numero_Documento','Anio_Actual_Paciente','Genero']).size().reset_index(name='Nro')\n",
    "ji"
   ]
  },
  {
   "cell_type": "code",
   "execution_count": null,
   "metadata": {},
   "outputs": [],
   "source": [
    "# transponemos genero\n",
    "df_PAMS = ji.pivot_table(index=['Anio','Mes'], columns='Genero', values='Nro', aggfunc=np.sum, fill_value=0).reset_index()\n",
    "df_PAMS"
   ]
  },
  {
   "cell_type": "code",
   "execution_count": null,
   "metadata": {},
   "outputs": [],
   "source": [
    "# # transponemos genero\n",
    "# df_dx1 = ji.pivot(index=['Id_Cita',\t'Anio',\t'Mes',\t'Dia',\t'Fecha_Atencion',\t'Id_Ups',\t'Id_Establecimiento',\t'Id_Paciente',\t'Id_Condicion_Establecimiento',\t'Id_Condicion_Servicio'\t,'Id_Personal'\t,'Id_Financiador'\t,'Anio_Actual_Paciente'\t,'Mes_Actual_Paciente',\t'Dia_Actual_Paciente'\t,'Tipo_Diagnostico','Id_Pais',\t'Id_Tipo_Documento'\t,'Numero_Documento',\t'Fecha_Nacimiento',\t'Genero'\t,'Id_Etnia'\t,'Id_Pais_Paciente'], columns=['Id_Correlativo'\t,'Id_Correlativo_Lab'],values=['Valor_Lab','Codigo_Item']).reset_index()\n",
    "# df_dx1.head(200)df_joven"
   ]
  },
  {
   "cell_type": "code",
   "execution_count": null,
   "metadata": {},
   "outputs": [],
   "source": [
    "# df_dx1[df_dx1.Id_Cita==742085598]"
   ]
  },
  {
   "cell_type": "code",
   "execution_count": null,
   "metadata": {},
   "outputs": [],
   "source": [
    "# df = pd.merge(df_dx,df_d, on=['Id_Cita','Id_Paciente','Anio','Mes','Genero'], how='left')\n",
    "# df"
   ]
  },
  {
   "cell_type": "code",
   "execution_count": null,
   "metadata": {},
   "outputs": [],
   "source": [
    "# df = df.drop_duplicates(subset=['Id_Cita'])"
   ]
  },
  {
   "cell_type": "code",
   "execution_count": null,
   "metadata": {},
   "outputs": [],
   "source": [
    "# df[df.Valor_Lab_x=='G']"
   ]
  },
  {
   "cell_type": "code",
   "execution_count": null,
   "metadata": {},
   "outputs": [],
   "source": [
    "# df = df12[df12.Tipo_Diagnostico.isin(['D']) & (df12.Codigo_Item.isin(['Z012','D0150','D0120'])) & (df12.Valor_Lab.isin(['1']))]\n",
    "# df"
   ]
  },
  {
   "cell_type": "code",
   "execution_count": null,
   "metadata": {},
   "outputs": [],
   "source": [
    "\n",
    "#df = pd.merge(df12,df123, on=['Id_Cita','Anio','Mes','Dia','Id_Personal','Tipo_Diagnostico','Valor_Lab','Id_Correlativo_Lab','Genero'])\n",
    "#df"
   ]
  },
  {
   "cell_type": "code",
   "execution_count": null,
   "metadata": {},
   "outputs": [],
   "source": [
    "#df = df.drop_duplicates(subset=['Id_Cita','Anio','Mes','Dia','Id_Personal','Tipo_Diagnostico','Valor_Lab','Id_Correlativo_Lab','Genero'])\n",
    "#df"
   ]
  },
  {
   "cell_type": "code",
   "execution_count": null,
   "metadata": {},
   "outputs": [],
   "source": [
    "# df = df_dx1.drop_duplicates(subset=['Id_Cita'])\n",
    "# df"
   ]
  },
  {
   "cell_type": "code",
   "execution_count": null,
   "metadata": {},
   "outputs": [],
   "source": [
    "#df.isna().sum()"
   ]
  },
  {
   "cell_type": "code",
   "execution_count": null,
   "metadata": {},
   "outputs": [],
   "source": [
    "df2 = jovenes_inician.groupby(['Anio','Mes'])['Id_Cita'].agg(['count']).reset_index()\n",
    "df2"
   ]
  },
  {
   "cell_type": "code",
   "execution_count": null,
   "metadata": {},
   "outputs": [],
   "source": [
    "df12 = df123[df123.Id_Correlativo_Lab.isin([1,2,3]) & ((df123.Genero =='F'))]\n",
    "df12"
   ]
  },
  {
   "cell_type": "code",
   "execution_count": null,
   "metadata": {},
   "outputs": [],
   "source": [
    "dff = pd.merge(df123,df12, on=['Id_Cita'])\n",
    "dff"
   ]
  },
  {
   "cell_type": "code",
   "execution_count": null,
   "metadata": {},
   "outputs": [],
   "source": [
    "df = df_joven[(df_joven.Codigo_Item.isin(['99401'])) & (df_joven.Valor_Lab.isin(['TA']))]\n",
    "df"
   ]
  },
  {
   "cell_type": "code",
   "execution_count": null,
   "metadata": {
    "collapsed": false,
    "pycharm": {
     "name": "#%%\n"
    }
   },
   "outputs": [],
   "source": [
    "a = curso_vida_joven(df_datos, actividad ='Plan de Atención Integral Elaborado', td=[], dx_empiesa_con=[], dx=['U169','C8002'], cualquier_dx=[], lab=['1'], enclab=[],  td2=[], dx2_empiesa_con=[], dx2=[], cualquier_dx2=[], lab2=[], enclab2=[], td3=[], dx3=[], dx4=[], enclab_dif_de=[], gestantes=False, lab_isnull=False,inician=False,tratado=False)\n",
    "a\n",
    "\n",
    "a = curso_vida_joven(df_datos, actividad ='Plan de Atención Integral Ejecutado', td=[], dx_empiesa_con=[], dx=['U169','C8002'], cualquier_dx=[], lab=['TA'], enclab=[],  td2=[], dx2_empiesa_con=[], dx2=[], cualquier_dx2=[], lab2=[], enclab2=[], td3=[], dx3=[], dx4=[], enclab_dif_de=[], gestantes=False, lab_isnull=False,inician=False,tratado=False)\n",
    "a\n",
    "\n",
    "b = curso_vida_joven(df_datos, actividad ='Consejería Integral Finalizada', td=['D'], dx_empiesa_con=[], dx=['99401'], cualquier_dx=[], lab=['TA'], enclab=[],  td2=[], dx2_empiesa_con=[], dx2=[], cualquier_dx2=[], lab2=[], enclab2=[], td3=[], dx3=[], dx4=[], enclab_dif_de=[], gestantes=False, lab_isnull=False,inician=False,tratado=False)\n",
    "b\n",
    "b = curso_vida_joven(df_datos, actividad ='Indice de Masa Corporal Obesidad', td=['D'], dx_empiesa_con=[], dx=['E669'], cualquier_dx=[], lab=['IMC'], enclab=[],  td2=[], dx2_empiesa_con=[], dx2=[], cualquier_dx2=[], lab2=[], enclab2=[], td3=[], dx3=[], dx4=[], enclab_dif_de=[], gestantes=False, lab_isnull=False,inician=False,tratado=False)\n",
    "b\n",
    "b = curso_vida_joven(df_datos, actividad ='Indice de Masa Corporal sobrepeso', td=['D'], dx_empiesa_con=[], dx=['E660'], cualquier_dx=[], lab=['IMC'], enclab=[],  td2=[], dx2_empiesa_con=[], dx2=[], cualquier_dx2=[], lab2=[], enclab2=[], td3=[], dx3=[], dx4=[], enclab_dif_de=[], gestantes=False, lab_isnull=False,inician=False,tratado=False)\n",
    "b\n",
    "b = curso_vida_joven(df_datos, actividad ='Indice de Masa Corporal Normal', td=['D'], dx_empiesa_con=[], dx=['Z006'], cualquier_dx=[], lab=['IMC'], enclab=[],  td2=[], dx2_empiesa_con=[], dx2=[], cualquier_dx2=[], lab2=[], enclab2=[], td3=[], dx3=[], dx4=[], enclab_dif_de=[], gestantes=False, lab_isnull=False,inician=False,tratado=False)\n",
    "b\n",
    "b = curso_vida_joven(df_datos, actividad ='Indice de Masa Corporal Delgadez', td=['D'], dx_empiesa_con=[], dx=['E440'], cualquier_dx=[], lab=['IMC'], enclab=[],  td2=[], dx2_empiesa_con=[], dx2=[], cualquier_dx2=[], lab2=[], enclab2=[], td3=[], dx3=[], dx4=[], enclab_dif_de=[], gestantes=False, lab_isnull=False,inician=False,tratado=False)\n",
    "b\n",
    "b = curso_vida_joven(df_datos, actividad ='Indice de Masa Corporal Delgadez Severa', td=['D'], dx_empiesa_con=[], dx=['E43X'], cualquier_dx=[], lab=['IMC'], enclab=[],  td2=[], dx2_empiesa_con=[], dx2=[], cualquier_dx2=[], lab2=[], enclab2=[], td3=[], dx3=[], dx4=[], enclab_dif_de=[], gestantes=False, lab_isnull=False,inician=False,tratado=False)\n",
    "b\n",
    "b = curso_vida_joven(df_datos, actividad ='Talla/Edad Talla Alta', td=['D'], dx_empiesa_con=[], dx=['E344'], cualquier_dx=[], lab=['TE'], enclab=[],  td2=[], dx2_empiesa_con=[], dx2=[], cualquier_dx2=[], lab2=[], enclab2=[], td3=[], dx3=[], dx4=[], enclab_dif_de=[], gestantes=False, lab_isnull=False,inician=False,tratado=False)\n",
    "b\n",
    "b = curso_vida_joven(df_datos, actividad ='Talla/Edad Talla Normal', td=['D'], dx_empiesa_con=[], dx=['Z006'], cualquier_dx=[], lab=['TE'], enclab=[],  td2=[], dx2_empiesa_con=[], dx2=[], cualquier_dx2=[], lab2=[], enclab2=[], td3=[], dx3=[], dx4=[], enclab_dif_de=[], gestantes=False, lab_isnull=False,inician=False,tratado=False)\n",
    "b\n",
    "b = curso_vida_joven(df_datos, actividad ='Talla/Edad Talla Baja', td=['D'], dx_empiesa_con=[], dx=['E45X'], cualquier_dx=[], lab=['TE'], enclab=[],  td2=[], dx2_empiesa_con=[], dx2=[], cualquier_dx2=[], lab2=[], enclab2=[], td3=[], dx3=[], dx4=[], enclab_dif_de=[], gestantes=False, lab_isnull=False,inician=False,tratado=False)\n",
    "b\n",
    "b = curso_vida_joven(df_datos, actividad ='Examen Odontológico no gestantes inician', td=['D'], dx_empiesa_con=[], dx=['Z012','D0150','D0120'], cualquier_dx=[], lab=['1'], enclab=[],  td2=[], dx2_empiesa_con=[], dx2=[], cualquier_dx2=[], lab2=[], enclab2=[], td3=[], dx3=[], dx4=[], enclab_dif_de=['G'], gestantes=False, lab_isnull=False, inician=True,caso_tratado=False)\n",
    "b\n",
    "b = curso_vida_joven(df_datos, actividad ='Examen Odontológico no gestantes caso tratado', td=['D'], dx_empiesa_con=[], dx=['Z012','D0150','D0120'], cualquier_dx=[], lab=['2'], enclab=[],  td2=[], dx2_empiesa_con=[], dx2=[], cualquier_dx2=[], lab2=[], enclab2=[], td3=[], dx3=[], dx4=[], enclab_dif_de=['G'], gestantes=False, lab_isnull=False,inician=False,caso_tratado=True)\n",
    "b\n",
    "\n",
    "\n",
    "b = curso_vida_joven(df_datos, actividad ='Instrucción de Higiene Oral Inician', td=['D'], dx_empiesa_con=[], dx=['D1330','U540'], cualquier_dx=[], lab=['1'], enclab=[],  td2=[], dx2_empiesa_con=[], dx2=[], cualquier_dx2=[], lab2=[], enclab2=[], td3=[], dx3=[], dx4=[], enclab_dif_de=[], gestantes=False, lab_isnull=False,inician=True,tratado=False)\n",
    "b\n",
    "b = curso_vida_joven(df_datos, actividad ='Instrucción de Higiene Oral Caso Tratado', td=['D'], dx_empiesa_con=[], dx=['D1330','U540'], cualquier_dx=[], lab=['2'], enclab=[],  td2=[], dx2_empiesa_con=[], dx2=[], cualquier_dx2=[], lab2=[], enclab2=[], td3=[], dx3=[], dx4=[], enclab_dif_de=[], gestantes=False, lab_isnull=False, inician=False,tratado=True)\n",
    "b\n",
    "b = curso_vida_joven(df_datos, actividad ='Asesoria nutricional para el control de enfermedades dentales inician', td=['D'], dx_empiesa_con=[], dx=['D1310'], cualquier_dx=[], lab=['1'], enclab=[],  td2=[], dx2_empiesa_con=[], dx2=[], cualquier_dx2=[], lab2=[], enclab2=[], td3=[], dx3=[], dx4=[], enclab_dif_de=[], gestantes=False, lab_isnull=False,inician=True,tratado=False)\n",
    "b\n",
    "b = curso_vida_joven(df_datos, actividad ='Asesoria nutricional para el control de enfermedades dentales caso tratado', td=['D'], dx_empiesa_con=[], dx=['D1310'], cualquier_dx=[], lab=['2'], enclab=[],  td2=[], dx2_empiesa_con=[], dx2=[], cualquier_dx2=[], lab2=[], enclab2=[], td3=[], dx3=[], dx4=[], enclab_dif_de=[], gestantes=False, lab_isnull=False, inician=False,tratado=True)\n",
    "b\n",
    "b = curso_vida_joven(df_datos, actividad ='Alta baśica odontológica (ABO) no gestantes', td=['D'], dx_empiesa_con=[], dx=['U510'], cualquier_dx=[], lab=['ABO'], enclab=[],  td2=[], dx2_empiesa_con=[], dx2=[], cualquier_dx2=[], lab2=[], enclab2=[], td3=[], dx3=[], dx4=[], enclab_dif_de=['G'], gestantes=False, lab_isnull=False, inician=False, tratado=False)\n",
    "b\n",
    "b = curso_vida_joven(df_datos, actividad ='Alta baśica odontológica (ABO) gestantes', td=['D'], dx_empiesa_con=[], dx=['U510'], cualquier_dx=[], lab=['ABO'], enclab=['G'],  td2=[], dx2_empiesa_con=[], dx2=[], cualquier_dx2=[], lab2=[], enclab2=[], td3=[], dx3=[], dx4=[], enclab_dif_de=[], gestantes=True, lab_isnull=False, inician=False, tratado=False)"
   ]
  },
  {
   "cell_type": "code",
   "execution_count": null,
   "metadata": {
    "collapsed": false,
    "pycharm": {
     "name": "#%%\n"
    }
   },
   "outputs": [],
   "source": [
    "b = curso_vida_joven(df_datos, actividad ='Examen Odontológico gestantes inician', td=['D'], dx_empiesa_con=[], dx=['Z012','D0150','D0120'], cualquier_dx=[], lab=['1'], enclab=['G'],  td2=[], dx2_empiesa_con=[], dx2=[], cualquier_dx2=[], lab2=[], enclab2=[], td3=[], dx3=[], dx4=[], enclab_dif_de=[], gestantes=True, lab_isnull=False, inician=True,caso_tratado=False)\n",
    "b\n"
   ]
  },
  {
   "cell_type": "code",
   "execution_count": null,
   "metadata": {
    "collapsed": false,
    "pycharm": {
     "name": "#%%\n"
    }
   },
   "outputs": [],
   "source": [
    "b = curso_vida_joven(df_datos, actividad ='Examen Odontológico no gestantes caso tratado', td=['D'], dx_empiesa_con=[], dx=['Z012','D0150','D0120'], cualquier_dx=[], lab=['2'], enclab=[],  td2=[], dx2_empiesa_con=[], dx2=[], cualquier_dx2=[], lab2=[], enclab2=[], td3=[], dx3=[], dx4=[], enclab_dif_de=['G'], gestantes=False, lab_isnull=False,inician=False,caso_tratado=True)\n",
    "b\n"
   ]
  },
  {
   "cell_type": "code",
   "execution_count": null,
   "metadata": {
    "collapsed": false,
    "pycharm": {
     "name": "#%%\n"
    }
   },
   "outputs": [],
   "source": [
    "b = curso_vida_joven(df_datos, actividad ='Instrucción de Higiene Oral Inician', td=['D'], dx_empiesa_con=[], dx=['D1330','U540'], cualquier_dx=[], lab=['1'], enclab=[],  td2=[], dx2_empiesa_con=[], dx2=[], cualquier_dx2=[], lab2=[], enclab2=[], td3=[], dx3=[], dx4=[], enclab_dif_de=[], gestantes=False, lab_isnull=False,inician=True,tratado=False)\n",
    "b\n"
   ]
  },
  {
   "cell_type": "code",
   "execution_count": null,
   "metadata": {
    "collapsed": false,
    "pycharm": {
     "name": "#%%\n"
    }
   },
   "outputs": [],
   "source": [
    "b = curso_vida_joven(df_datos, actividad ='Instrucción de Higiene Oral Caso Tratado', td=['D'], dx_empiesa_con=[], dx=['D1330','U540'], cualquier_dx=[], lab=['2'], enclab=[],  td2=[], dx2_empiesa_con=[], dx2=[], cualquier_dx2=[], lab2=[], enclab2=[], td3=[], dx3=[], dx4=[], enclab_dif_de=[], gestantes=False, lab_isnull=False, inician=False,tratado=True)\n",
    "b\n",
    "b = curso_vida_joven(df_datos, actividad ='Asesoria nutricional para el control de enfermedades dentales inician', td=['D'], dx_empiesa_con=[], dx=['D1310'], cualquier_dx=[], lab=['1'], enclab=[],  td2=[], dx2_empiesa_con=[], dx2=[], cualquier_dx2=[], lab2=[], enclab2=[], td3=[], dx3=[], dx4=[], enclab_dif_de=[], gestantes=False, lab_isnull=False,inician=True,tratado=False)\n",
    "b\n",
    "b = curso_vida_joven(df_datos, actividad ='Asesoria nutricional para el control de enfermedades dentales caso tratado', td=['D'], dx_empiesa_con=[], dx=['D1310'], cualquier_dx=[], lab=['2'], enclab=[],  td2=[], dx2_empiesa_con=[], dx2=[], cualquier_dx2=[], lab2=[], enclab2=[], td3=[], dx3=[], dx4=[], enclab_dif_de=[], gestantes=False, lab_isnull=False, inician=False,tratado=True)\n",
    "b"
   ]
  },
  {
   "cell_type": "code",
   "execution_count": null,
   "metadata": {
    "collapsed": false,
    "pycharm": {
     "name": "#%%\n"
    }
   },
   "outputs": [],
   "source": [
    "b = curso_vida_joven(df_datos, actividad ='Consejería Integral Finalizada', td=['D'], dx_empiesa_con=[], dx=['99401'], cualquier_dx=[], lab=['TA'], enclab=[],  td2=[], dx2_empiesa_con=[], dx2=[], cualquier_dx2=[], lab2=[], enclab2=[], td3=[], dx3=[], dx4=[], enclab_menos_en=[], gestantes=False, lab_isnull=False)\n",
    "b"
   ]
  },
  {
   "cell_type": "code",
   "execution_count": null,
   "metadata": {
    "collapsed": false,
    "pycharm": {
     "name": "#%%\n"
    }
   },
   "outputs": [],
   "source": [
    "b = curso_vida_joven(df_datos, actividad ='Consejería Integral Finalizada', td=['D'], dx_empiesa_con=[], dx=['99401'], cualquier_dx=[], lab=['TA'], enclab=[],  td2=[], dx2_empiesa_con=[], dx2=[], cualquier_dx2=[], lab2=[], enclab2=[], td3=[], dx3=[], dx4=[], enclab_menos_en=[], gestantes=False, lab_isnull=False)\n",
    "b"
   ]
  },
  {
   "cell_type": "code",
   "execution_count": null,
   "metadata": {
    "collapsed": false,
    "pycharm": {
     "name": "#%%\n"
    }
   },
   "outputs": [],
   "source": [
    "b = curso_vida_joven(df_datos, actividad ='Consejería Integral Finalizada', td=['D'], dx_empiesa_con=[], dx=['99401'], cualquier_dx=[], lab=['TA'], enclab=[],  td2=[], dx2_empiesa_con=[], dx2=[], cualquier_dx2=[], lab2=[], enclab2=[], td3=[], dx3=[], dx4=[], enclab_menos_en=[], gestantes=False, lab_isnull=False)\n",
    "b"
   ]
  },
  {
   "cell_type": "code",
   "execution_count": null,
   "metadata": {
    "collapsed": false,
    "pycharm": {
     "name": "#%%\n"
    }
   },
   "outputs": [],
   "source": [
    "b = curso_vida_joven(df_datos, actividad ='Consejería Integral Finalizada', td=['D'], dx_empiesa_con=[], dx=['99401'], cualquier_dx=[], lab=['TA'], enclab=[],  td2=[], dx2_empiesa_con=[], dx2=[], cualquier_dx2=[], lab2=[], enclab2=[], td3=[], dx3=[], dx4=[], enclab_menos_en=[], gestantes=False, lab_isnull=False)\n",
    "b"
   ]
  },
  {
   "cell_type": "code",
   "execution_count": null,
   "metadata": {
    "collapsed": false,
    "pycharm": {
     "name": "#%%\n"
    }
   },
   "outputs": [],
   "source": [
    "b = curso_vida_joven(df_datos, actividad ='Consejería Integral Finalizada', td=['D'], dx_empiesa_con=[], dx=['99401'], cualquier_dx=[], lab=['TA'], enclab=[],  td2=[], dx2_empiesa_con=[], dx2=[], cualquier_dx2=[], lab2=[], enclab2=[], td3=[], dx3=[], dx4=[], enclab_menos_en=[], gestantes=False, lab_isnull=False)\n",
    "b"
   ]
  },
  {
   "cell_type": "code",
   "execution_count": null,
   "metadata": {
    "collapsed": false,
    "pycharm": {
     "name": "#%%\n"
    }
   },
   "outputs": [],
   "source": [
    "b = curso_vida_joven(df_datos, actividad ='Consejería Integral Finalizada', td=['D'], dx_empiesa_con=[], dx=['99401'], cualquier_dx=[], lab=['TA'], enclab=[],  td2=[], dx2_empiesa_con=[], dx2=[], cualquier_dx2=[], lab2=[], enclab2=[], td3=[], dx3=[], dx4=[], enclab_menos_en=[], gestantes=False, lab_isnull=False)\n",
    "b"
   ]
  },
  {
   "cell_type": "code",
   "execution_count": null,
   "metadata": {
    "collapsed": false,
    "pycharm": {
     "name": "#%%\n"
    }
   },
   "outputs": [],
   "source": [
    "b = curso_vida_joven(df_datos, actividad ='Consejería Integral Finalizada', td=['D'], dx_empiesa_con=[], dx=['99401'], cualquier_dx=[], lab=['TA'], enclab=[],  td2=[], dx2_empiesa_con=[], dx2=[], cualquier_dx2=[], lab2=[], enclab2=[], td3=[], dx3=[], dx4=[], enclab_menos_en=[], gestantes=False, lab_isnull=False)\n",
    "b"
   ]
  },
  {
   "cell_type": "code",
   "execution_count": null,
   "metadata": {
    "collapsed": false,
    "pycharm": {
     "name": "#%%\n"
    }
   },
   "outputs": [],
   "source": [
    "b = curso_vida_joven(df_datos, actividad ='Consejería Integral Finalizada', td=['D'], dx_empiesa_con=[], dx=['99401'], cualquier_dx=[], lab=['TA'], enclab=[],  td2=[], dx2_empiesa_con=[], dx2=[], cualquier_dx2=[], lab2=[], enclab2=[], td3=[], dx3=[], dx4=[], enclab_menos_en=[], gestantes=False, lab_isnull=False)\n",
    "b"
   ]
  },
  {
   "cell_type": "code",
   "execution_count": null,
   "metadata": {
    "collapsed": false,
    "pycharm": {
     "name": "#%%\n"
    }
   },
   "outputs": [],
   "source": [
    "b = curso_vida_joven(df_datos, actividad ='Consejería Integral Finalizada', td=['D'], dx_empiesa_con=[], dx=['99401'], cualquier_dx=[], lab=['TA'], enclab=[],  td2=[], dx2_empiesa_con=[], dx2=[], cualquier_dx2=[], lab2=[], enclab2=[], td3=[], dx3=[], dx4=[], enclab_menos_en=[], gestantes=False, lab_isnull=False)\n",
    "b"
   ]
  },
  {
   "cell_type": "code",
   "execution_count": null,
   "metadata": {
    "collapsed": false,
    "pycharm": {
     "name": "#%%\n"
    }
   },
   "outputs": [],
   "source": [
    "b = curso_vida_joven(df_datos, actividad ='Consejería Integral Finalizada', td=['D'], dx_empiesa_con=[], dx=['99401'], cualquier_dx=[], lab=['TA'], enclab=[],  td2=[], dx2_empiesa_con=[], dx2=[], cualquier_dx2=[], lab2=[], enclab2=[], td3=[], dx3=[], dx4=[], enclab_menos_en=[], gestantes=False, lab_isnull=False)\n",
    "b"
   ]
  },
  {
   "cell_type": "code",
   "execution_count": null,
   "metadata": {
    "collapsed": false,
    "pycharm": {
     "name": "#%%\n"
    }
   },
   "outputs": [],
   "source": [
    "b = curso_vida_joven(df_datos, actividad ='Consejería Integral Finalizada', td=['D'], dx_empiesa_con=[], dx=['99401'], cualquier_dx=[], lab=['TA'], enclab=[],  td2=[], dx2_empiesa_con=[], dx2=[], cualquier_dx2=[], lab2=[], enclab2=[], td3=[], dx3=[], dx4=[], enclab_menos_en=[], gestantes=False, lab_isnull=False)\n",
    "b"
   ]
  },
  {
   "cell_type": "code",
   "execution_count": null,
   "metadata": {
    "collapsed": false,
    "pycharm": {
     "name": "#%%\n"
    }
   },
   "outputs": [],
   "source": [
    "b = curso_vida_joven(df_datos, actividad ='Consejería Integral Finalizada', td=['D'], dx_empiesa_con=[], dx=['99401'], cualquier_dx=[], lab=['TA'], enclab=[],  td2=[], dx2_empiesa_con=[], dx2=[], cualquier_dx2=[], lab2=[], enclab2=[], td3=[], dx3=[], dx4=[], enclab_menos_en=[], gestantes=False, lab_isnull=False)\n",
    "b"
   ]
  },
  {
   "cell_type": "code",
   "execution_count": null,
   "metadata": {
    "collapsed": false,
    "pycharm": {
     "name": "#%%\n"
    }
   },
   "outputs": [],
   "source": [
    "b = curso_vida_joven(df_datos, actividad ='Consejería Integral Finalizada', td=['D'], dx_empiesa_con=[], dx=['99401'], cualquier_dx=[], lab=['TA'], enclab=[],  td2=[], dx2_empiesa_con=[], dx2=[], cualquier_dx2=[], lab2=[], enclab2=[], td3=[], dx3=[], dx4=[], enclab_menos_en=[], gestantes=False, lab_isnull=False)\n",
    "b"
   ]
  },
  {
   "cell_type": "code",
   "execution_count": null,
   "metadata": {
    "collapsed": false,
    "pycharm": {
     "name": "#%%\n"
    }
   },
   "outputs": [],
   "source": [
    "b = curso_vida_joven(df_datos, actividad ='Consejería Integral Finalizada', td=['D'], dx_empiesa_con=[], dx=['99401'], cualquier_dx=[], lab=['TA'], enclab=[],  td2=[], dx2_empiesa_con=[], dx2=[], cualquier_dx2=[], lab2=[], enclab2=[], td3=[], dx3=[], dx4=[], enclab_menos_en=[], gestantes=False, lab_isnull=False)\n",
    "b"
   ]
  },
  {
   "cell_type": "code",
   "execution_count": null,
   "metadata": {
    "pycharm": {
     "name": "#%%\n"
    }
   },
   "outputs": [],
   "source": [
    "b = curso_vida_joven(df_datos, actividad ='Consejería Integral Finalizada', td=['D'], dx_empiesa_con=[], dx=['99401'], cualquier_dx=[], lab=['TA'], enclab=[],  td2=[], dx2_empiesa_con=[], dx2=[], cualquier_dx2=[], lab2=[], enclab2=[], td3=[], dx3=[], dx4=[], enclab_menos_en=[], gestantes=False, lab_isnull=False)\n",
    "b"
   ]
  },
  {
   "cell_type": "code",
   "execution_count": null,
   "metadata": {
    "pycharm": {
     "name": "#%%\n"
    }
   },
   "outputs": [],
   "source": [
    "b = curso_vida_joven(df_datos, actividad ='Consejería Integral Finalizada', td=['D'], dx_empiesa_con=[], dx=['99401'], cualquier_dx=[], lab=['TA'], enclab=[],  td2=[], dx2_empiesa_con=[], dx2=[], cualquier_dx2=[], lab2=[], enclab2=[], td3=[], dx3=[], dx4=[], enclab_menos_en=[], gestantes=False, lab_isnull=False)\n",
    "b"
   ]
  },
  {
   "cell_type": "code",
   "execution_count": null,
   "metadata": {
    "pycharm": {
     "name": "#%%\n"
    }
   },
   "outputs": [],
   "source": [
    "b = curso_vida_joven(df_datos, actividad ='Consejería Integral Finalizada', td=['D'], dx_empiesa_con=[], dx=['99401'], cualquier_dx=[], lab=['TA'], enclab=[],  td2=[], dx2_empiesa_con=[], dx2=[], cualquier_dx2=[], lab2=[], enclab2=[], td3=[], dx3=[], dx4=[], enclab_menos_en=[], gestantes=False, lab_isnull=False)\n",
    "b"
   ]
  },
  {
   "cell_type": "code",
   "execution_count": null,
   "metadata": {
    "collapsed": false,
    "pycharm": {
     "name": "#%%\n"
    }
   },
   "outputs": [],
   "source": [
    "b = curso_vida_joven(df_datos, actividad ='Consejería Integral Finalizada', td=['D'], dx_empiesa_con=[], dx=['99401'], cualquier_dx=[], lab=['TA'], enclab=[],  td2=[], dx2_empiesa_con=[], dx2=[], cualquier_dx2=[], lab2=[], enclab2=[], td3=[], dx3=[], dx4=[], enclab_menos_en=[], gestantes=False, lab_isnull=False)\n",
    "b"
   ]
  },
  {
   "cell_type": "code",
   "execution_count": null,
   "metadata": {
    "pycharm": {
     "name": "#%%\n"
    }
   },
   "outputs": [],
   "source": [
    "b = curso_vida_joven(df_datos, actividad ='Consejería Integral Finalizada', td=['D'], dx_empiesa_con=[], dx=['99401'], cualquier_dx=[], lab=['TA'], enclab=[],  td2=[], dx2_empiesa_con=[], dx2=[], cualquier_dx2=[], lab2=[], enclab2=[], td3=[], dx3=[], dx4=[], enclab_menos_en=[], gestantes=False, lab_isnull=False)\n",
    "b"
   ]
  },
  {
   "cell_type": "code",
   "execution_count": null,
   "metadata": {
    "collapsed": false,
    "pycharm": {
     "is_executing": true,
     "name": "#%%\n"
    }
   },
   "outputs": [],
   "source": [
    "b = curso_vida_joven(df_datos, actividad ='Consejería Integral Finalizada', td=['D'], dx_empiesa_con=[], dx=['99401'], cualquier_dx=[], lab=['TA'], enclab=[],  td2=[], dx2_empiesa_con=[], dx2=[], cualquier_dx2=[], lab2=[], enclab2=[], td3=[], dx3=[], dx4=[], enclab_menos_en=[], gestantes=False, lab_isnull=False)\n",
    "b"
   ]
  },
  {
   "cell_type": "code",
   "execution_count": null,
   "metadata": {
    "pycharm": {
     "name": "#%%\n"
    }
   },
   "outputs": [],
   "source": [
    "b = curso_vida_joven(df_datos, actividad ='Consejería Integral Finalizada', td=['D'], dx_empiesa_con=[], dx=['99401'], cualquier_dx=[], lab=['TA'], enclab=[],  td2=[], dx2_empiesa_con=[], dx2=[], cualquier_dx2=[], lab2=[], enclab2=[], td3=[], dx3=[], dx4=[], enclab_menos_en=[], gestantes=False, lab_isnull=False)\n",
    "b"
   ]
  },
  {
   "cell_type": "code",
   "execution_count": null,
   "metadata": {
    "pycharm": {
     "name": "#%%\n"
    }
   },
   "outputs": [],
   "source": [
    "b = curso_vida_joven(df_datos, actividad ='Consejería Integral Finalizada', td=['D'], dx_empiesa_con=[], dx=['99401'], cualquier_dx=[], lab=['TA'], enclab=[],  td2=[], dx2_empiesa_con=[], dx2=[], cualquier_dx2=[], lab2=[], enclab2=[], td3=[], dx3=[], dx4=[], enclab_menos_en=[], gestantes=False, lab_isnull=False)\n",
    "b"
   ]
  },
  {
   "cell_type": "code",
   "execution_count": null,
   "metadata": {
    "pycharm": {
     "name": "#%%\n"
    }
   },
   "outputs": [],
   "source": [
    "b = curso_vida_joven(df_datos, actividad ='Consejería Integral Finalizada', td=['D'], dx_empiesa_con=[], dx=['99401'], cualquier_dx=[], lab=['TA'], enclab=[],  td2=[], dx2_empiesa_con=[], dx2=[], cualquier_dx2=[], lab2=[], enclab2=[], td3=[], dx3=[], dx4=[], enclab_menos_en=[], gestantes=False, lab_isnull=False)\n",
    "b"
   ]
  },
  {
   "cell_type": "code",
   "execution_count": null,
   "metadata": {
    "pycharm": {
     "name": "#%%\n"
    }
   },
   "outputs": [],
   "source": [
    "b = curso_vida_joven(df_datos, actividad ='Consejería Integral Finalizada', td=['D'], dx_empiesa_con=[], dx=['99401'], cualquier_dx=[], lab=['TA'], enclab=[],  td2=[], dx2_empiesa_con=[], dx2=[], cualquier_dx2=[], lab2=[], enclab2=[], td3=[], dx3=[], dx4=[], enclab_menos_en=[], gestantes=False, lab_isnull=False)\n",
    "b"
   ]
  },
  {
   "cell_type": "code",
   "execution_count": null,
   "metadata": {
    "pycharm": {
     "name": "#%%\n"
    }
   },
   "outputs": [],
   "source": [
    "b = curso_vida_joven(df_datos, actividad ='Consejería Integral Finalizada', td=['D'], dx_empiesa_con=[], dx=['99401'], cualquier_dx=[], lab=['TA'], enclab=[],  td2=[], dx2_empiesa_con=[], dx2=[], cualquier_dx2=[], lab2=[], enclab2=[], td3=[], dx3=[], dx4=[], enclab_menos_en=[], gestantes=False, lab_isnull=False)\n",
    "b"
   ]
  },
  {
   "cell_type": "code",
   "execution_count": null,
   "metadata": {
    "pycharm": {
     "name": "#%%\n"
    }
   },
   "outputs": [],
   "source": [
    "b = curso_vida_joven(df_datos, actividad ='Consejería Integral Finalizada', td=['D'], dx_empiesa_con=[], dx=['99401'], cualquier_dx=[], lab=['TA'], enclab=[],  td2=[], dx2_empiesa_con=[], dx2=[], cualquier_dx2=[], lab2=[], enclab2=[], td3=[], dx3=[], dx4=[], enclab_menos_en=[], gestantes=False, lab_isnull=False)\n",
    "b"
   ]
  },
  {
   "cell_type": "code",
   "execution_count": null,
   "metadata": {
    "collapsed": false,
    "pycharm": {
     "name": "#%%\n"
    }
   },
   "outputs": [],
   "source": [
    "b = curso_vida_joven(df_datos, actividad ='Consejería Integral Finalizada', td=['D'], dx_empiesa_con=[], dx=['99401'], cualquier_dx=[], lab=['TA'], enclab=[],  td2=[], dx2_empiesa_con=[], dx2=[], cualquier_dx2=[], lab2=[], enclab2=[], td3=[], dx3=[], dx4=[], enclab_menos_en=[], gestantes=False, lab_isnull=False)\n",
    "b"
   ]
  },
  {
   "cell_type": "code",
   "execution_count": null,
   "metadata": {
    "collapsed": false,
    "pycharm": {
     "name": "#%%\n"
    }
   },
   "outputs": [],
   "source": [
    "b = curso_vida_joven(df_datos, actividad ='Consejería Integral Finalizada', td=['D'], dx_empiesa_con=[], dx=['99401'], cualquier_dx=[], lab=['TA'], enclab=[],  td2=[], dx2_empiesa_con=[], dx2=[], cualquier_dx2=[], lab2=[], enclab2=[], td3=[], dx3=[], dx4=[], enclab_menos_en=[], gestantes=False, lab_isnull=False)\n",
    "b"
   ]
  },
  {
   "cell_type": "code",
   "execution_count": null,
   "metadata": {
    "pycharm": {
     "name": "#%%\n"
    }
   },
   "outputs": [],
   "source": [
    "b = curso_vida_joven(df_datos, actividad ='Consejería Integral Finalizada', td=['D'], dx_empiesa_con=[], dx=['99401'], cualquier_dx=[], lab=['TA'], enclab=[],  td2=[], dx2_empiesa_con=[], dx2=[], cualquier_dx2=[], lab2=[], enclab2=[], td3=[], dx3=[], dx4=[], enclab_menos_en=[], gestantes=False, lab_isnull=False)\n",
    "b"
   ]
  },
  {
   "cell_type": "code",
   "execution_count": null,
   "metadata": {
    "pycharm": {
     "name": "#%%\n"
    }
   },
   "outputs": [],
   "source": [
    "b = curso_vida_joven(df_datos, actividad ='Consejería Integral Finalizada', td=['D'], dx_empiesa_con=[], dx=['99401'], cualquier_dx=[], lab=['TA'], enclab=[],  td2=[], dx2_empiesa_con=[], dx2=[], cualquier_dx2=[], lab2=[], enclab2=[], td3=[], dx3=[], dx4=[], enclab_menos_en=[], gestantes=False, lab_isnull=False)\n",
    "b"
   ]
  },
  {
   "cell_type": "code",
   "execution_count": null,
   "metadata": {
    "pycharm": {
     "name": "#%%\n"
    }
   },
   "outputs": [],
   "source": [
    "b = curso_vida_joven(df_datos, actividad ='Consejería Integral Finalizada', td=['D'], dx_empiesa_con=[], dx=['99401'], cualquier_dx=[], lab=['TA'], enclab=[],  td2=[], dx2_empiesa_con=[], dx2=[], cualquier_dx2=[], lab2=[], enclab2=[], td3=[], dx3=[], dx4=[], enclab_menos_en=[], gestantes=False, lab_isnull=False)\n",
    "b"
   ]
  },
  {
   "cell_type": "code",
   "execution_count": null,
   "metadata": {
    "pycharm": {
     "name": "#%%\n"
    }
   },
   "outputs": [],
   "source": [
    "b = curso_vida_joven(df_datos, actividad ='Consejería Integral Finalizada', td=['D'], dx_empiesa_con=[], dx=['99401'], cualquier_dx=[], lab=['TA'], enclab=[],  td2=[], dx2_empiesa_con=[], dx2=[], cualquier_dx2=[], lab2=[], enclab2=[], td3=[], dx3=[], dx4=[], enclab_menos_en=[], gestantes=False, lab_isnull=False)\n",
    "b"
   ]
  },
  {
   "cell_type": "code",
   "execution_count": null,
   "metadata": {
    "pycharm": {
     "name": "#%%\n"
    }
   },
   "outputs": [],
   "source": [
    "b = curso_vida_joven(df_datos, actividad ='Consejería Integral Finalizada', td=['D'], dx_empiesa_con=[], dx=['99401'], cualquier_dx=[], lab=['TA'], enclab=[],  td2=[], dx2_empiesa_con=[], dx2=[], cualquier_dx2=[], lab2=[], enclab2=[], td3=[], dx3=[], dx4=[], enclab_menos_en=[], gestantes=False, lab_isnull=False)\n",
    "b"
   ]
  },
  {
   "cell_type": "code",
   "execution_count": null,
   "metadata": {
    "pycharm": {
     "name": "#%%\n"
    }
   },
   "outputs": [],
   "source": [
    "b = curso_vida_joven(df_datos, actividad ='Consejería Integral Finalizada', td=['D'], dx_empiesa_con=[], dx=['99401'], cualquier_dx=[], lab=['TA'], enclab=[],  td2=[], dx2_empiesa_con=[], dx2=[], cualquier_dx2=[], lab2=[], enclab2=[], td3=[], dx3=[], dx4=[], enclab_menos_en=[], gestantes=False, lab_isnull=False)\n",
    "b"
   ]
  },
  {
   "cell_type": "code",
   "execution_count": null,
   "metadata": {
    "pycharm": {
     "name": "#%%\n"
    }
   },
   "outputs": [],
   "source": [
    "b = curso_vida_joven(df_datos, actividad ='Consejería Integral Finalizada', td=['D'], dx_empiesa_con=[], dx=['99401'], cualquier_dx=[], lab=['TA'], enclab=[],  td2=[], dx2_empiesa_con=[], dx2=[], cualquier_dx2=[], lab2=[], enclab2=[], td3=[], dx3=[], dx4=[], enclab_menos_en=[], gestantes=False, lab_isnull=False)\n",
    "b"
   ]
  },
  {
   "cell_type": "code",
   "execution_count": null,
   "metadata": {
    "pycharm": {
     "name": "#%%\n"
    }
   },
   "outputs": [],
   "source": [
    "b = curso_vida_joven(df_datos, actividad ='Consejería Integral Finalizada', td=['D'], dx_empiesa_con=[], dx=['99401'], cualquier_dx=[], lab=['TA'], enclab=[],  td2=[], dx2_empiesa_con=[], dx2=[], cualquier_dx2=[], lab2=[], enclab2=[], td3=[], dx3=[], dx4=[], enclab_menos_en=[], gestantes=False, lab_isnull=False)\n",
    "b"
   ]
  },
  {
   "cell_type": "code",
   "execution_count": null,
   "metadata": {
    "pycharm": {
     "name": "#%%\n"
    }
   },
   "outputs": [],
   "source": [
    "b = curso_vida_joven(df_datos, actividad ='Consejería Integral Finalizada', td=['D'], dx_empiesa_con=[], dx=['99401'], cualquier_dx=[], lab=['TA'], enclab=[],  td2=[], dx2_empiesa_con=[], dx2=[], cualquier_dx2=[], lab2=[], enclab2=[], td3=[], dx3=[], dx4=[], enclab_menos_en=[], gestantes=False, lab_isnull=False)\n",
    "b"
   ]
  },
  {
   "cell_type": "code",
   "execution_count": null,
   "metadata": {
    "pycharm": {
     "name": "#%%\n"
    }
   },
   "outputs": [],
   "source": [
    "b = curso_vida_joven(df_datos, actividad ='Consejería Integral Finalizada', td=['D'], dx_empiesa_con=[], dx=['99401'], cualquier_dx=[], lab=['TA'], enclab=[],  td2=[], dx2_empiesa_con=[], dx2=[], cualquier_dx2=[], lab2=[], enclab2=[], td3=[], dx3=[], dx4=[], enclab_menos_en=[], gestantes=False, lab_isnull=False)\n",
    "b"
   ]
  },
  {
   "cell_type": "code",
   "execution_count": null,
   "metadata": {
    "pycharm": {
     "name": "#%%\n"
    }
   },
   "outputs": [],
   "source": [
    "b = curso_vida_joven(df_datos, actividad ='Consejería Integral Finalizada', td=['D'], dx_empiesa_con=[], dx=['99401'], cualquier_dx=[], lab=['TA'], enclab=[],  td2=[], dx2_empiesa_con=[], dx2=[], cualquier_dx2=[], lab2=[], enclab2=[], td3=[], dx3=[], dx4=[], enclab_menos_en=[], gestantes=False, lab_isnull=False)\n",
    "b"
   ]
  },
  {
   "cell_type": "code",
   "execution_count": null,
   "metadata": {
    "pycharm": {
     "name": "#%%\n"
    }
   },
   "outputs": [],
   "source": [
    "b = curso_vida_joven(df_datos, actividad ='Consejería Integral Finalizada', td=['D'], dx_empiesa_con=[], dx=['99401'], cualquier_dx=[], lab=['TA'], enclab=[],  td2=[], dx2_empiesa_con=[], dx2=[], cualquier_dx2=[], lab2=[], enclab2=[], td3=[], dx3=[], dx4=[], enclab_menos_en=[], gestantes=False, lab_isnull=False)\n",
    "b"
   ]
  },
  {
   "cell_type": "code",
   "execution_count": null,
   "metadata": {
    "pycharm": {
     "name": "#%%\n"
    }
   },
   "outputs": [],
   "source": [
    "b = curso_vida_joven(df_datos, actividad ='Consejería Integral Finalizada', td=['D'], dx_empiesa_con=[], dx=['99401'], cualquier_dx=[], lab=['TA'], enclab=[],  td2=[], dx2_empiesa_con=[], dx2=[], cualquier_dx2=[], lab2=[], enclab2=[], td3=[], dx3=[], dx4=[], enclab_menos_en=[], gestantes=False, lab_isnull=False)\n",
    "b"
   ]
  }
 ],
 "metadata": {
  "kernelspec": {
   "display_name": "etapas-de-vida-OnEVIltH",
   "language": "python",
   "name": "python3"
  },
  "language_info": {
   "codemirror_mode": {
    "name": "ipython",
    "version": 3
   },
   "file_extension": ".py",
   "mimetype": "text/x-python",
   "name": "python",
   "nbconvert_exporter": "python",
   "pygments_lexer": "ipython3",
   "version": "3.10.9 (main, Dec 19 2022, 17:35:49) [GCC 12.2.0]"
  },
  "vscode": {
   "interpreter": {
    "hash": "77b70e7e61fc45d6e07bc998c6c00fbbe944a6aa9c2d4a44f3cf865a2481bcdd"
   }
  }
 },
 "nbformat": 4,
 "nbformat_minor": 0
}
