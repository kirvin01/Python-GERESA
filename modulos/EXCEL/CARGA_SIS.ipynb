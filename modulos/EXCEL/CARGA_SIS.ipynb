{
 "cells": [
  {
   "cell_type": "code",
   "execution_count": 1,
   "id": "d6d2073f",
   "metadata": {},
   "outputs": [
    {
     "name": "stdout",
     "output_type": "stream",
     "text": [
      "✅ Conexión exitosa a SQL Server DBCGESTION\n"
     ]
    }
   ],
   "source": [
    "from decouple import config\n",
    "import pandas as pd\n",
    "import sys\n",
    "import os\n",
    "sys.path.insert(0, config('PROYECTO_DIR'))\n",
    "from clases.bd.conexion import  SQLServerConnector\n",
    "conn = SQLServerConnector()\n"
   ]
  },
  {
   "cell_type": "code",
   "execution_count": 3,
   "id": "cf432077",
   "metadata": {},
   "outputs": [
    {
     "name": "stdout",
     "output_type": "stream",
     "text": [
      "✅ DataFrame insertado correctamente en 'SIS_Asegurados_30A_49A_2024' en lotes de 100000 registros.\n"
     ]
    }
   ],
   "source": [
    "import unicodedata\n",
    "archivo = config('PROYECTO_DATA') +\"/otros/ASEGURADOS_SIS_202412.xlsx\"\n",
    "\n",
    "nombre_hoja = 'sheet1'  # <-- Cambia esto por el nombre real\n",
    "# Leer el archivo\n",
    "df = pd.read_excel(archivo)#, sheet_name=nombre_hoja)\n",
    "\n",
    "\n",
    "def limpiar_columna(texto):\n",
    "    # Quitar tildes\n",
    "    texto_sin_tildes = ''.join(\n",
    "        c for c in unicodedata.normalize('NFKD', texto)\n",
    "        if not unicodedata.combining(c)\n",
    "    )\n",
    "    # Reemplazar espacios por guiones bajos\n",
    "    return texto_sin_tildes.replace(' ', '_')\n",
    "\n",
    "\n",
    "\n",
    "# Aplicar limpieza a los nombres de columnas\n",
    "\n",
    "df.columns = [limpiar_columna(col) for col in df.columns]\n",
    "df.head(5)\n",
    "conn.insertar_dataframe(df, 'SIS_Asegurados_30A_49A_2024', if_exists='replace')"
   ]
  }
 ],
 "metadata": {
  "kernelspec": {
   "display_name": "venv",
   "language": "python",
   "name": "python3"
  },
  "language_info": {
   "codemirror_mode": {
    "name": "ipython",
    "version": 3
   },
   "file_extension": ".py",
   "mimetype": "text/x-python",
   "name": "python",
   "nbconvert_exporter": "python",
   "pygments_lexer": "ipython3",
   "version": "3.12.2"
  }
 },
 "nbformat": 4,
 "nbformat_minor": 5
}
