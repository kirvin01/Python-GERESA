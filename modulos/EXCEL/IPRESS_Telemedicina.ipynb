{
 "cells": [
  {
   "cell_type": "code",
   "execution_count": 1,
   "id": "3f9d1624",
   "metadata": {},
   "outputs": [
    {
     "name": "stdout",
     "output_type": "stream",
     "text": [
      "✅ Conexión exitosa a la base de datos 'DBGERESA'\n"
     ]
    }
   ],
   "source": [
    "from decouple import config\n",
    "import pandas as pd\n",
    "import sys\n",
    "import os\n",
    "sys.path.insert(0, config('PROYECTO_DIR'))\n",
    "from clases.bd.conexion import  SQLServerConnector\n",
    "conn = SQLServerConnector('DBGERESA')\n",
    "pd.set_option('display.max_columns', None)"
   ]
  },
  {
   "cell_type": "code",
   "execution_count": 4,
   "id": "914ea9a1",
   "metadata": {},
   "outputs": [
    {
     "name": "stdout",
     "output_type": "stream",
     "text": [
      "✅ DataFrame insertado correctamente en 'IPRESS_Telemedicina' en lotes de 100000 registros.\n"
     ]
    }
   ],
   "source": [
    "\n",
    "import unicodedata\n",
    "\n",
    "# Ruta del archivo\n",
    "archivo = config('PROYECTO_DATA') + \"/otros/IPRESS_Telemedicina.xlsx\"\n",
    "\n",
    "# Leer el archivo Excel\n",
    "df = pd.read_excel(archivo)\n",
    "\n",
    "# Función para quitar tildes y reemplazar espacios por guiones bajos\n",
    "def limpiar_columna(texto):\n",
    "    texto_sin_tildes = ''.join(\n",
    "        c for c in unicodedata.normalize('NFKD', texto) if not unicodedata.combining(c)\n",
    "    )\n",
    "    return texto_sin_tildes.replace(' ', '_')\n",
    "\n",
    "# Aplicar la limpieza a los nombres de columnas\n",
    "df.columns = [limpiar_columna(col) for col in df.columns]\n",
    "\n",
    "# Mostrar las primeras 5 filas\n",
    "df.head(5)\n",
    "\n",
    "conn.insertar_dataframe(df, 'IPRESS_Telemedicina', if_exists='replace')"
   ]
  }
 ],
 "metadata": {
  "kernelspec": {
   "display_name": "venv",
   "language": "python",
   "name": "python3"
  },
  "language_info": {
   "codemirror_mode": {
    "name": "ipython",
    "version": 3
   },
   "file_extension": ".py",
   "mimetype": "text/x-python",
   "name": "python",
   "nbconvert_exporter": "python",
   "pygments_lexer": "ipython3",
   "version": "3.12.2"
  }
 },
 "nbformat": 4,
 "nbformat_minor": 5
}
