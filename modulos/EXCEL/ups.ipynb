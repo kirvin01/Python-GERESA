{
 "cells": [
  {
   "cell_type": "code",
   "execution_count": 1,
   "id": "e7888151",
   "metadata": {},
   "outputs": [
    {
     "name": "stdout",
     "output_type": "stream",
     "text": [
      "✅ Conexión exitosa a SQL Server DBCGESTION\n"
     ]
    }
   ],
   "source": [
    "from decouple import config\n",
    "import pandas as pd\n",
    "import unicodedata\n",
    "import sys\n",
    "sys.path.insert(0, config('PROYECTO_DIR'))\n",
    "from clases.bd.conexion import  SQLServerConnector\n",
    "conn = SQLServerConnector()\n"
   ]
  },
  {
   "cell_type": "code",
   "execution_count": 4,
   "id": "0b74b020",
   "metadata": {},
   "outputs": [
    {
     "name": "stdout",
     "output_type": "stream",
     "text": [
      "✅ DataFrame insertado correctamente en 'Listado_UPS_id26' en lotes de 100000 registros.\n"
     ]
    }
   ],
   "source": [
    "\n",
    "archivo = config('PROYECTO_DATA') +\"/otros/ups.xlsx\"\n",
    "\n",
    "nombre_hoja = 'sheet1'  # <-- Cambia esto por el nombre real\n",
    "# Leer el archivo\n",
    "df = pd.read_excel(archivo)#, sheet_name=nombre_hoja)\n",
    "\n",
    "\n",
    "def limpiar_columna(texto):\n",
    "    # Quitar tildes\n",
    "    texto_sin_tildes = ''.join(\n",
    "        c for c in unicodedata.normalize('NFKD', texto)\n",
    "        if not unicodedata.combining(c)\n",
    "    )\n",
    "    # Reemplazar espacios por guiones bajos\n",
    "    return texto_sin_tildes.replace(' ', '_')\n",
    "\n",
    "\n",
    "\n",
    "# Aplicar limpieza a los nombres de columnas\n",
    "\n",
    "df.columns = [limpiar_columna(col) for col in df.columns]\n",
    "df.head(5)\n",
    "conn.insertar_dataframe(df, 'Listado_UPS_id26', if_exists='replace')"
   ]
  },
  {
   "cell_type": "code",
   "execution_count": null,
   "id": "a18981b8",
   "metadata": {},
   "outputs": [],
   "source": []
  }
 ],
 "metadata": {
  "kernelspec": {
   "display_name": "venv",
   "language": "python",
   "name": "python3"
  },
  "language_info": {
   "codemirror_mode": {
    "name": "ipython",
    "version": 3
   },
   "file_extension": ".py",
   "mimetype": "text/x-python",
   "name": "python",
   "nbconvert_exporter": "python",
   "pygments_lexer": "ipython3",
   "version": "3.12.2"
  }
 },
 "nbformat": 4,
 "nbformat_minor": 5
}
