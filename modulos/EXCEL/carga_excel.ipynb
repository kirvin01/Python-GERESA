{
 "cells": [
  {
   "cell_type": "code",
   "execution_count": 8,
   "id": "241040ba",
   "metadata": {},
   "outputs": [
    {
     "name": "stdout",
     "output_type": "stream",
     "text": [
      "✅ Conexión exitosa a la base de datos 'DBGERESA'\n"
     ]
    }
   ],
   "source": [
    "from decouple import config\n",
    "import pandas as pd\n",
    "import sys\n",
    "import unicodedata\n",
    "sys.path.insert(0, config('PROYECTO_DIR'))\n",
    "from clases.bd.conexion import  SQLServerConnector\n",
    "conn = SQLServerConnector('DBGERESA')\n",
    "pd.set_option('display.max_columns', None)"
   ]
  },
  {
   "cell_type": "markdown",
   "id": "ed862c1d",
   "metadata": {},
   "source": [
    "<h1>RENIPRESS</h1>"
   ]
  },
  {
   "cell_type": "code",
   "execution_count": 2,
   "id": "a3016181",
   "metadata": {},
   "outputs": [
    {
     "ename": "NameError",
     "evalue": "name 'config' is not defined",
     "output_type": "error",
     "traceback": [
      "\u001b[31m---------------------------------------------------------------------------\u001b[39m",
      "\u001b[31mNameError\u001b[39m                                 Traceback (most recent call last)",
      "\u001b[36mCell\u001b[39m\u001b[36m \u001b[39m\u001b[32mIn[2]\u001b[39m\u001b[32m, line 2\u001b[39m\n\u001b[32m      1\u001b[39m \u001b[38;5;66;03m# Ruta del archivo Excel (puede ser relativa o absoluta)\u001b[39;00m\n\u001b[32m----> \u001b[39m\u001b[32m2\u001b[39m archivo = \u001b[43mconfig\u001b[49m(\u001b[33m'\u001b[39m\u001b[33mPROYECTO_DATA\u001b[39m\u001b[33m'\u001b[39m) +\u001b[33m\"\u001b[39m\u001b[33m/data/Otros/RENIPRESS.xls\u001b[39m\u001b[33m\"\u001b[39m\n\u001b[32m      4\u001b[39m \u001b[38;5;66;03m# Leer el archivo\u001b[39;00m\n\u001b[32m      5\u001b[39m \u001b[38;5;66;03m#df = pd.read_excel(archivo)\u001b[39;00m\n\u001b[32m      6\u001b[39m \n\u001b[32m      7\u001b[39m \u001b[38;5;66;03m# Si es un archivo .xls\u001b[39;00m\n\u001b[32m      8\u001b[39m df = pd.read_excel(archivo, engine=\u001b[33m'\u001b[39m\u001b[33mxlrd\u001b[39m\u001b[33m'\u001b[39m)\n",
      "\u001b[31mNameError\u001b[39m: name 'config' is not defined"
     ]
    }
   ],
   "source": [
    "# Ruta del archivo Excel (puede ser relativa o absoluta)\n",
    "archivo = config('PROYECTO_DATA') +\"/data/Otros/RENIPRESS.xls\"\n",
    "\n",
    "# Leer el archivo\n",
    "#df = pd.read_excel(archivo)\n",
    "\n",
    "# Si es un archivo .xls\n",
    "df = pd.read_excel(archivo, engine='xlrd')\n",
    "\n",
    "# Si es un archivo .xlsx\n",
    "#df = pd.read_excel(\"archivo.xlsx\", engine='openpyxl')\n",
    "def limpiar_columna(texto):\n",
    "    # Quitar tildes\n",
    "    texto_sin_tildes = ''.join(\n",
    "        c for c in unicodedata.normalize('NFKD', texto)\n",
    "        if not unicodedata.combining(c)\n",
    "    )\n",
    "    # Reemplazar espacios por guiones bajos\n",
    "    return texto_sin_tildes.replace(' ', '_')"
   ]
  },
  {
   "cell_type": "code",
   "execution_count": 16,
   "id": "b7ccd95d",
   "metadata": {},
   "outputs": [
    {
     "name": "stdout",
     "output_type": "stream",
     "text": [
      "✅ DataFrame insertado correctamente en 'RENIPRESS_WEB'\n"
     ]
    }
   ],
   "source": [
    "# Aplicar limpieza a los nombres de columnas\n",
    "df.columns = [limpiar_columna(col) for col in df.columns]\n",
    "conn.insertar_dataframe(df, 'RENIPRESS_WEB', if_exists='replace')"
   ]
  },
  {
   "cell_type": "markdown",
   "id": "4620e6e7",
   "metadata": {},
   "source": [
    "<h1>CARGA EXCEL</h1>"
   ]
  },
  {
   "cell_type": "code",
   "execution_count": 18,
   "id": "c3e93eec",
   "metadata": {},
   "outputs": [
    {
     "data": {
      "text/html": [
       "<div>\n",
       "<style scoped>\n",
       "    .dataframe tbody tr th:only-of-type {\n",
       "        vertical-align: middle;\n",
       "    }\n",
       "\n",
       "    .dataframe tbody tr th {\n",
       "        vertical-align: top;\n",
       "    }\n",
       "\n",
       "    .dataframe thead th {\n",
       "        text-align: right;\n",
       "    }\n",
       "</style>\n",
       "<table border=\"1\" class=\"dataframe\">\n",
       "  <thead>\n",
       "    <tr style=\"text-align: right;\">\n",
       "      <th></th>\n",
       "      <th>N°</th>\n",
       "      <th>PROVINCIA</th>\n",
       "      <th>HOSPITAL</th>\n",
       "      <th>COD._IPRESS</th>\n",
       "      <th>CATEGORIA</th>\n",
       "      <th>N°_CAMAS</th>\n",
       "    </tr>\n",
       "  </thead>\n",
       "  <tbody>\n",
       "    <tr>\n",
       "      <th>0</th>\n",
       "      <td>1</td>\n",
       "      <td>CHACHAPOYAS</td>\n",
       "      <td>HOSPITAL REGIONAL VIRGEN DE FATIMA</td>\n",
       "      <td>4838</td>\n",
       "      <td>II-2</td>\n",
       "      <td>10</td>\n",
       "    </tr>\n",
       "    <tr>\n",
       "      <th>1</th>\n",
       "      <td>2</td>\n",
       "      <td>SANTA</td>\n",
       "      <td>HOSPITAL ELEAZAR GUZMAN BARRON</td>\n",
       "      <td>1703</td>\n",
       "      <td>II-2</td>\n",
       "      <td>10</td>\n",
       "    </tr>\n",
       "    <tr>\n",
       "      <th>2</th>\n",
       "      <td>3</td>\n",
       "      <td>HUARAZ</td>\n",
       "      <td>HOSPITAL VICTOR RAMOS GUARDIA</td>\n",
       "      <td>1543</td>\n",
       "      <td>II-2</td>\n",
       "      <td>4</td>\n",
       "    </tr>\n",
       "    <tr>\n",
       "      <th>3</th>\n",
       "      <td>4</td>\n",
       "      <td>SANTA</td>\n",
       "      <td>HOSPITAL LA CALETA</td>\n",
       "      <td>1652</td>\n",
       "      <td>II-2</td>\n",
       "      <td>10</td>\n",
       "    </tr>\n",
       "    <tr>\n",
       "      <th>4</th>\n",
       "      <td>5</td>\n",
       "      <td>ANDAHUAYLAS</td>\n",
       "      <td>HOSPITAL SUBREGIONAL DE ANDAHUAYLAS</td>\n",
       "      <td>4131</td>\n",
       "      <td>II-2</td>\n",
       "      <td>15</td>\n",
       "    </tr>\n",
       "  </tbody>\n",
       "</table>\n",
       "</div>"
      ],
      "text/plain": [
       "   N°    PROVINCIA                             HOSPITAL  COD._IPRESS  \\\n",
       "0   1  CHACHAPOYAS   HOSPITAL REGIONAL VIRGEN DE FATIMA         4838   \n",
       "1   2        SANTA       HOSPITAL ELEAZAR GUZMAN BARRON         1703   \n",
       "2   3       HUARAZ        HOSPITAL VICTOR RAMOS GUARDIA         1543   \n",
       "3   4        SANTA                   HOSPITAL LA CALETA         1652   \n",
       "4   5  ANDAHUAYLAS  HOSPITAL SUBREGIONAL DE ANDAHUAYLAS         4131   \n",
       "\n",
       "  CATEGORIA  N°_CAMAS  \n",
       "0      II-2        10  \n",
       "1      II-2        10  \n",
       "2      II-2         4  \n",
       "3      II-2        10  \n",
       "4      II-2        15  "
      ]
     },
     "execution_count": 18,
     "metadata": {},
     "output_type": "execute_result"
    }
   ],
   "source": [
    "\n",
    "archivo = config('PROYECTO_DATA') +\"/OTROS/CG18_DIRECTORIO DE HOSPITALES GENERALES.xlsx\"\n",
    "\n",
    "\n",
    "\n",
    "# Leer el archivo\n",
    "df = pd.read_excel(archivo)#, sheet_name=nombre_hoja)\n",
    "\n",
    "# Si es un archivo .xls\n",
    "#df = pd.read_excel(archivo, engine='xlrd')\n",
    "\n",
    "# Si es un archivo .xlsx\n",
    "#df = pd.read_excel(\"archivo.xlsx\", engine='openpyxl')\n",
    "def limpiar_columna(texto):\n",
    "    # Quitar tildes\n",
    "    texto_sin_tildes = ''.join(\n",
    "        c for c in unicodedata.normalize('NFKD', texto)\n",
    "        if not unicodedata.combining(c)\n",
    "    )\n",
    "    # Reemplazar espacios por guiones bajos\n",
    "    return texto_sin_tildes.replace(' ', '_')\n",
    "\n",
    "\n",
    "\n",
    "# Aplicar limpieza a los nombres de columnas\n",
    "\n",
    "df.columns = [limpiar_columna(col) for col in df.columns]\n",
    "df.head(5)\n",
    "#conn.insertar_dataframe(df, 'CG18_CamasSaludMental', if_exists='replace')"
   ]
  },
  {
   "cell_type": "code",
   "execution_count": 21,
   "id": "2ef68d1f",
   "metadata": {},
   "outputs": [
    {
     "name": "stdout",
     "output_type": "stream",
     "text": [
      "✅ Conexión exitosa a la base de datos 'DBGERESA'\n"
     ]
    },
    {
     "ename": "AttributeError",
     "evalue": "module 'visions.typesets' has no attribute 'TypeSet'",
     "output_type": "error",
     "traceback": [
      "\u001b[31m---------------------------------------------------------------------------\u001b[39m",
      "\u001b[31mAttributeError\u001b[39m                            Traceback (most recent call last)",
      "\u001b[36mCell\u001b[39m\u001b[36m \u001b[39m\u001b[32mIn[21]\u001b[39m\u001b[32m, line 27\u001b[39m\n\u001b[32m     24\u001b[39m df.columns = [limpiar_columna(col) \u001b[38;5;28;01mfor\u001b[39;00m col \u001b[38;5;129;01min\u001b[39;00m df.columns]\n\u001b[32m     26\u001b[39m \u001b[38;5;66;03m# 🔍 Crear un TypeSet personalizado solo con tipos básicos\u001b[39;00m\n\u001b[32m---> \u001b[39m\u001b[32m27\u001b[39m type_set = \u001b[43mv\u001b[49m\u001b[43m.\u001b[49m\u001b[43mtypesets\u001b[49m\u001b[43m.\u001b[49m\u001b[43mTypeSet\u001b[49m(\n\u001b[32m     28\u001b[39m     types=[\n\u001b[32m     29\u001b[39m         v.Integer(),\n\u001b[32m     30\u001b[39m         v.Float(),\n\u001b[32m     31\u001b[39m         v.Boolean(),\n\u001b[32m     32\u001b[39m         v.DateTime(),\n\u001b[32m     33\u001b[39m         v.String()\n\u001b[32m     34\u001b[39m     ]\n\u001b[32m     35\u001b[39m )\n\u001b[32m     37\u001b[39m \u001b[38;5;66;03m# 🔄 Detectar y convertir tipos usando el TypeSet\u001b[39;00m\n\u001b[32m     38\u001b[39m \u001b[38;5;28;01mfor\u001b[39;00m col \u001b[38;5;129;01min\u001b[39;00m df.columns:\n",
      "\u001b[31mAttributeError\u001b[39m: module 'visions.typesets' has no attribute 'TypeSet'"
     ]
    }
   ],
   "source": [
    "from decouple import config\n",
    "import pandas as pd\n",
    "import sys\n",
    "import unicodedata\n",
    "sys.path.insert(0, config('PROYECTO_DIR'))\n",
    "from clases.bd.conexion import  SQLServerConnector\n",
    "conn = SQLServerConnector('DBGERESA')\n",
    "pd.set_option('display.max_columns', None)\n",
    "\n",
    "# 📂 Ruta del archivo Excel\n",
    "archivo = config('PROYECTO_DATA') + \"/OTROS/CG18_DIRECTORIO DE HOSPITALES GENERALES.xlsx\"\n",
    "\n",
    "# 📄 Leer archivo\n",
    "df = pd.read_excel(archivo)\n",
    "\n",
    "# 🧹 Limpiar nombres de columnas\n",
    "def limpiar_columna(texto):\n",
    "    texto_sin_tildes = ''.join(\n",
    "        c for c in unicodedata.normalize('NFKD', texto)\n",
    "        if not unicodedata.combining(c)\n",
    "    )\n",
    "    return texto_sin_tildes.replace(' ', '_')\n",
    "\n",
    "df.columns = [limpiar_columna(col) for col in df.columns]\n",
    "\n",
    "# 🔍 Crear un TypeSet personalizado solo con tipos básicos\n",
    "type_set = v.typesets.TypeSet(\n",
    "    types=[\n",
    "        v.Integer(),\n",
    "        v.Float(),\n",
    "        v.Boolean(),\n",
    "        v.DateTime(),\n",
    "        v.String()\n",
    "    ]\n",
    ")\n",
    "\n",
    "# 🔄 Detectar y convertir tipos usando el TypeSet\n",
    "for col in df.columns:\n",
    "    detected_type = type_set.detect_type(df[col])\n",
    "    df[col] = type_set.convert(df[col], detected_type)\n",
    "\n",
    "print(df.dtypes)  # Verificación\n",
    "\n",
    "# 🗄 Mapeo Pandas → SQLAlchemy\n",
    "from sqlalchemy import Integer, Float, Date, Boolean, String\n",
    "\n",
    "sql_type_map = {\n",
    "    'int64': Integer(),\n",
    "    'float64': Float(),\n",
    "    'datetime64[ns]': Date(),\n",
    "    'bool': Boolean(),\n",
    "    'object': String()\n",
    "}\n",
    "\n",
    "dtype_mapping = {\n",
    "    col: sql_type_map.get(str(df[col].dtype), String())\n",
    "    for col in df.columns\n",
    "}\n",
    "\n",
    "# 💾 Insertar en SQL Server\n",
    "conn.insertar_dataframe(\n",
    "    df,\n",
    "    'CG18_CamasSaludMental',\n",
    "    if_exists='replace',\n",
    "    dtype=dtype_mapping\n",
    ")\n",
    "\n",
    "print(\"✅ DataFrame insertado con tipos correctos en SQL Server\")\n"
   ]
  }
 ],
 "metadata": {
  "kernelspec": {
   "display_name": "venv",
   "language": "python",
   "name": "python3"
  },
  "language_info": {
   "codemirror_mode": {
    "name": "ipython",
    "version": 3
   },
   "file_extension": ".py",
   "mimetype": "text/x-python",
   "name": "python",
   "nbconvert_exporter": "python",
   "pygments_lexer": "ipython3",
   "version": "3.12.2"
  }
 },
 "nbformat": 4,
 "nbformat_minor": 5
}
