{
 "cells": [
  {
   "cell_type": "code",
   "execution_count": 1,
   "metadata": {},
   "outputs": [
    {
     "name": "stdout",
     "output_type": "stream",
     "text": [
      "✅ Conexión exitosa a SQL Server DBGERESA\n"
     ]
    }
   ],
   "source": [
    "from decouple import config\n",
    "import rarfile\n",
    "rarfile.UNRAR_TOOL = r\"D:/Irvin/Python/Python-GERESA/ext/UnRAR.exe\"\n",
    "import os\n",
    "import glob as gb\n",
    "import pandas as pd\n",
    "import sys\n",
    "sys.path.insert(0, config('PROYECTO_DIR'))\n",
    "from clases.bd.conexion import  SQLServerConnector\n",
    "conn = SQLServerConnector()\n",
    "from sqlalchemy.types import (\n",
    "    BigInteger, Integer, SmallInteger, String, Date, DateTime, Numeric, CHAR,VARCHAR,DATE,DATETIME,NVARCHAR\n",
    ")\n",
    "\n",
    "\n"
   ]
  },
  {
   "cell_type": "markdown",
   "metadata": {},
   "source": [
    "<H2>EXTRAER TRAMAS .RAR</H2>"
   ]
  },
  {
   "cell_type": "code",
   "execution_count": 4,
   "metadata": {},
   "outputs": [
    {
     "name": "stdout",
     "output_type": "stream",
     "text": [
      "Proceso completado.\n"
     ]
    }
   ],
   "source": [
    "# Ruta de la carpeta que contiene archivos .rar\n",
    "carpeta_rar = \"../../../data/2025/\"\n",
    "\n",
    "# Lista todos los archivos en la carpeta\n",
    "archivos_rar = gb.glob(os.path.join(carpeta_rar, \"*.rar\"))\n",
    "\n",
    "# Carpeta de destino para los archivos extraídos\n",
    "carpeta_destino = config('PROYECTO_DATA') +\"/data/2025/csv\"\n",
    "\n",
    "# Lista para almacenar los DataFrames\n",
    "dataframes = []\n",
    "\n",
    "# Crear la carpeta de destino si no existe\n",
    "if not os.path.exists(carpeta_destino):\n",
    "    os.makedirs(carpeta_destino)\n",
    "\n",
    "# Itera sobre los archivos .rar y los extrae\n",
    "for archivo_rar in archivos_rar:\n",
    "    try:\n",
    "        # Abre el archivo RAR\n",
    "        with rarfile.RarFile(archivo_rar, 'r') as rar:\n",
    "            # Extrae los archivos al directorio de destino\n",
    "            rar.extractall(carpeta_destino)\n",
    "            print(f\"Archivos extraídos de {archivo_rar} a {carpeta_destino}\")\n",
    "\n",
    "\n",
    "    except rarfile.Error as e:\n",
    "        print(f\"Error al extraer {archivo_rar}: {e}\")\n",
    "\n",
    "print(\"Proceso completado.\")\n",
    "\n"
   ]
  },
  {
   "cell_type": "markdown",
   "metadata": {},
   "source": [
    "<h2>Cargar Tramas - csv</h2>"
   ]
  },
  {
   "cell_type": "code",
   "execution_count": null,
   "metadata": {},
   "outputs": [
    {
     "name": "stdout",
     "output_type": "stream",
     "text": [
      "['D:\\\\Irvin\\\\Python/data/2025/csv\\\\11_CUSCO_01.csv', 'D:\\\\Irvin\\\\Python/data/2025/csv\\\\11_CUSCO_02.csv', 'D:\\\\Irvin\\\\Python/data/2025/csv\\\\11_CUSCO_03.csv', 'D:\\\\Irvin\\\\Python/data/2025/csv\\\\11_CUSCO_04.csv', 'D:\\\\Irvin\\\\Python/data/2025/csv\\\\11_CUSCO_05.csv']\n",
      "📄 Procesando: D:\\Irvin\\Python/data/2025/csv\\11_CUSCO_01.csv\n"
     ]
    },
    {
     "name": "stderr",
     "output_type": "stream",
     "text": [
      "C:\\Users\\Irvin\\AppData\\Local\\Temp\\ipykernel_16492\\133920492.py:62: DtypeWarning: Columns (47) have mixed types. Specify dtype option on import or set low_memory=False.\n",
      "  for chunk in pd.read_csv(archivo, encoding=\"ISO-8859-1\", skiprows=1, chunksize=500_000):\n"
     ]
    },
    {
     "name": "stdout",
     "output_type": "stream",
     "text": [
      "✅ DataFrame insertado correctamente en 'NOMINAL_TRAMA'\n"
     ]
    },
    {
     "name": "stderr",
     "output_type": "stream",
     "text": [
      "C:\\Users\\Irvin\\AppData\\Local\\Temp\\ipykernel_16492\\133920492.py:62: DtypeWarning: Columns (47) have mixed types. Specify dtype option on import or set low_memory=False.\n",
      "  for chunk in pd.read_csv(archivo, encoding=\"ISO-8859-1\", skiprows=1, chunksize=500_000):\n"
     ]
    },
    {
     "name": "stdout",
     "output_type": "stream",
     "text": [
      "✅ DataFrame insertado correctamente en 'NOMINAL_TRAMA'\n"
     ]
    },
    {
     "name": "stderr",
     "output_type": "stream",
     "text": [
      "C:\\Users\\Irvin\\AppData\\Local\\Temp\\ipykernel_16492\\133920492.py:62: DtypeWarning: Columns (47) have mixed types. Specify dtype option on import or set low_memory=False.\n",
      "  for chunk in pd.read_csv(archivo, encoding=\"ISO-8859-1\", skiprows=1, chunksize=500_000):\n"
     ]
    },
    {
     "name": "stdout",
     "output_type": "stream",
     "text": [
      "✅ DataFrame insertado correctamente en 'NOMINAL_TRAMA'\n",
      "📄 Procesando: D:\\Irvin\\Python/data/2025/csv\\11_CUSCO_02.csv\n"
     ]
    },
    {
     "name": "stderr",
     "output_type": "stream",
     "text": [
      "C:\\Users\\Irvin\\AppData\\Local\\Temp\\ipykernel_16492\\133920492.py:62: DtypeWarning: Columns (47) have mixed types. Specify dtype option on import or set low_memory=False.\n",
      "  for chunk in pd.read_csv(archivo, encoding=\"ISO-8859-1\", skiprows=1, chunksize=500_000):\n"
     ]
    },
    {
     "name": "stdout",
     "output_type": "stream",
     "text": [
      "✅ DataFrame insertado correctamente en 'NOMINAL_TRAMA'\n"
     ]
    },
    {
     "name": "stderr",
     "output_type": "stream",
     "text": [
      "C:\\Users\\Irvin\\AppData\\Local\\Temp\\ipykernel_16492\\133920492.py:62: DtypeWarning: Columns (47) have mixed types. Specify dtype option on import or set low_memory=False.\n",
      "  for chunk in pd.read_csv(archivo, encoding=\"ISO-8859-1\", skiprows=1, chunksize=500_000):\n"
     ]
    },
    {
     "name": "stdout",
     "output_type": "stream",
     "text": [
      "✅ DataFrame insertado correctamente en 'NOMINAL_TRAMA'\n"
     ]
    },
    {
     "name": "stderr",
     "output_type": "stream",
     "text": [
      "C:\\Users\\Irvin\\AppData\\Local\\Temp\\ipykernel_16492\\133920492.py:62: DtypeWarning: Columns (47) have mixed types. Specify dtype option on import or set low_memory=False.\n",
      "  for chunk in pd.read_csv(archivo, encoding=\"ISO-8859-1\", skiprows=1, chunksize=500_000):\n"
     ]
    },
    {
     "name": "stdout",
     "output_type": "stream",
     "text": [
      "✅ DataFrame insertado correctamente en 'NOMINAL_TRAMA'\n"
     ]
    },
    {
     "name": "stderr",
     "output_type": "stream",
     "text": [
      "C:\\Users\\Irvin\\AppData\\Local\\Temp\\ipykernel_16492\\133920492.py:62: DtypeWarning: Columns (47) have mixed types. Specify dtype option on import or set low_memory=False.\n",
      "  for chunk in pd.read_csv(archivo, encoding=\"ISO-8859-1\", skiprows=1, chunksize=500_000):\n"
     ]
    },
    {
     "name": "stdout",
     "output_type": "stream",
     "text": [
      "✅ DataFrame insertado correctamente en 'NOMINAL_TRAMA'\n",
      "📄 Procesando: D:\\Irvin\\Python/data/2025/csv\\11_CUSCO_03.csv\n"
     ]
    },
    {
     "name": "stderr",
     "output_type": "stream",
     "text": [
      "C:\\Users\\Irvin\\AppData\\Local\\Temp\\ipykernel_16492\\133920492.py:62: DtypeWarning: Columns (47) have mixed types. Specify dtype option on import or set low_memory=False.\n",
      "  for chunk in pd.read_csv(archivo, encoding=\"ISO-8859-1\", skiprows=1, chunksize=500_000):\n"
     ]
    },
    {
     "name": "stdout",
     "output_type": "stream",
     "text": [
      "✅ DataFrame insertado correctamente en 'NOMINAL_TRAMA'\n"
     ]
    },
    {
     "name": "stderr",
     "output_type": "stream",
     "text": [
      "C:\\Users\\Irvin\\AppData\\Local\\Temp\\ipykernel_16492\\133920492.py:62: DtypeWarning: Columns (47) have mixed types. Specify dtype option on import or set low_memory=False.\n",
      "  for chunk in pd.read_csv(archivo, encoding=\"ISO-8859-1\", skiprows=1, chunksize=500_000):\n"
     ]
    },
    {
     "name": "stdout",
     "output_type": "stream",
     "text": [
      "✅ DataFrame insertado correctamente en 'NOMINAL_TRAMA'\n"
     ]
    },
    {
     "name": "stderr",
     "output_type": "stream",
     "text": [
      "C:\\Users\\Irvin\\AppData\\Local\\Temp\\ipykernel_16492\\133920492.py:62: DtypeWarning: Columns (47) have mixed types. Specify dtype option on import or set low_memory=False.\n",
      "  for chunk in pd.read_csv(archivo, encoding=\"ISO-8859-1\", skiprows=1, chunksize=500_000):\n"
     ]
    },
    {
     "name": "stdout",
     "output_type": "stream",
     "text": [
      "✅ DataFrame insertado correctamente en 'NOMINAL_TRAMA'\n"
     ]
    },
    {
     "name": "stderr",
     "output_type": "stream",
     "text": [
      "C:\\Users\\Irvin\\AppData\\Local\\Temp\\ipykernel_16492\\133920492.py:62: DtypeWarning: Columns (35,36,47) have mixed types. Specify dtype option on import or set low_memory=False.\n",
      "  for chunk in pd.read_csv(archivo, encoding=\"ISO-8859-1\", skiprows=1, chunksize=500_000):\n"
     ]
    },
    {
     "name": "stdout",
     "output_type": "stream",
     "text": [
      "✅ DataFrame insertado correctamente en 'NOMINAL_TRAMA'\n",
      "📄 Procesando: D:\\Irvin\\Python/data/2025/csv\\11_CUSCO_04.csv\n"
     ]
    },
    {
     "name": "stderr",
     "output_type": "stream",
     "text": [
      "C:\\Users\\Irvin\\AppData\\Local\\Temp\\ipykernel_16492\\133920492.py:62: DtypeWarning: Columns (47) have mixed types. Specify dtype option on import or set low_memory=False.\n",
      "  for chunk in pd.read_csv(archivo, encoding=\"ISO-8859-1\", skiprows=1, chunksize=500_000):\n"
     ]
    },
    {
     "name": "stdout",
     "output_type": "stream",
     "text": [
      "✅ DataFrame insertado correctamente en 'NOMINAL_TRAMA'\n"
     ]
    },
    {
     "name": "stderr",
     "output_type": "stream",
     "text": [
      "C:\\Users\\Irvin\\AppData\\Local\\Temp\\ipykernel_16492\\133920492.py:62: DtypeWarning: Columns (47) have mixed types. Specify dtype option on import or set low_memory=False.\n",
      "  for chunk in pd.read_csv(archivo, encoding=\"ISO-8859-1\", skiprows=1, chunksize=500_000):\n"
     ]
    },
    {
     "name": "stdout",
     "output_type": "stream",
     "text": [
      "✅ DataFrame insertado correctamente en 'NOMINAL_TRAMA'\n"
     ]
    },
    {
     "name": "stderr",
     "output_type": "stream",
     "text": [
      "C:\\Users\\Irvin\\AppData\\Local\\Temp\\ipykernel_16492\\133920492.py:62: DtypeWarning: Columns (47) have mixed types. Specify dtype option on import or set low_memory=False.\n",
      "  for chunk in pd.read_csv(archivo, encoding=\"ISO-8859-1\", skiprows=1, chunksize=500_000):\n"
     ]
    },
    {
     "name": "stdout",
     "output_type": "stream",
     "text": [
      "✅ DataFrame insertado correctamente en 'NOMINAL_TRAMA'\n"
     ]
    },
    {
     "name": "stderr",
     "output_type": "stream",
     "text": [
      "C:\\Users\\Irvin\\AppData\\Local\\Temp\\ipykernel_16492\\133920492.py:62: DtypeWarning: Columns (47) have mixed types. Specify dtype option on import or set low_memory=False.\n",
      "  for chunk in pd.read_csv(archivo, encoding=\"ISO-8859-1\", skiprows=1, chunksize=500_000):\n"
     ]
    },
    {
     "name": "stdout",
     "output_type": "stream",
     "text": [
      "✅ DataFrame insertado correctamente en 'NOMINAL_TRAMA'\n",
      "📄 Procesando: D:\\Irvin\\Python/data/2025/csv\\11_CUSCO_05.csv\n",
      "✅ DataFrame insertado correctamente en 'NOMINAL_TRAMA'\n"
     ]
    }
   ],
   "source": [
    "columnas = {\n",
    "    'Id_Cita': Integer(),\n",
    "    'Anio': Integer(),\n",
    "    'Mes': Integer(),\n",
    "    'Dia': Integer(),\n",
    "    'Fecha_Atencion': DATE(),\n",
    "    'Lote': VARCHAR(10),\n",
    "    'Num_Pag': Integer(),\n",
    "    'Num_Reg': Integer(),\n",
    "    'Id_Ups': Integer(),\n",
    "    'Id_Establecimiento': Integer(),\n",
    "    'Id_Paciente': VARCHAR(15),\n",
    "    'Id_Personal': BigInteger(),\n",
    "    'Id_Registrador': Integer(),\n",
    "    'Id_Financiador': Integer(),\n",
    "    'Id_Condicion_Establecimiento': CHAR(1),\n",
    "    'Id_Condicion_Servicio': CHAR(1),\n",
    "    'Edad_Reg': Integer(),\n",
    "    'Tipo_Edad': CHAR(1),\n",
    "    'Anio_Actual_Paciente':  Integer(),\n",
    "    'Mes_Actual_Paciente':  Integer(),\n",
    "    'Dia_Actual_Paciente':  Integer(),\n",
    "    'Id_Turno': CHAR(1),\n",
    "    'Codigo_Item': VARCHAR(20),\n",
    "    'Tipo_Diagnostico': CHAR(1),\n",
    "    'Valor_Lab': String(50),\n",
    "    'Id_Correlativo': Integer(),\n",
    "    'Id_Correlativo_Lab': Integer(),\n",
    "    'Peso': Numeric(10, 2),\n",
    "    'Talla': Numeric(10, 2),\n",
    "    'Hemoglobina': Numeric(10, 2),\n",
    "    'Perimetro_Abdominal': Numeric(10, 2),\n",
    "    'Perimetro_Cefalico': Numeric(10, 2),\n",
    "    'Id_Otra_Condicion': Integer(),\n",
    "    'Id_Centro_Poblado': BigInteger(),\n",
    "    'Fecha_Ultima_Regla': DATE,\n",
    "    'Fecha_Solicitud_Hb': DATE,\n",
    "    'Fecha_Resultado_Hb': DATE,\n",
    "    'Fecha_Registro': DATETIME,\n",
    "    'Fecha_Modificacion': DATETIME,\n",
    "    'Id_Pais': VARCHAR(3),\n",
    "    'gruporiesgo_desc': NVARCHAR(100),\n",
    "    'condicion_gestante': NVARCHAR(50),\n",
    "    'peso_pregestacional': Numeric(10, 2),\n",
    "    'id_dosis': Integer(),\n",
    "    'renipress': Integer,\n",
    "    'Id_Institucion_Edu': Integer,\n",
    "    'Id_AplicacionOrigen': Integer,\n",
    "    'Alerta': VARCHAR(300)\n",
    "}\n",
    "dx = gb.glob(os.path.join(config('PROYECTO_DATA') + \"/data/2025/csv\", \"*.csv\"))\n",
    "print(dx)\n",
    "# \n",
    "# lista de df\n",
    "list_df = []\n",
    "first = True  # Indicador para la primera iteración\n",
    "\n",
    "for archivo in dx:\n",
    "    print(f\"📄 Procesando: {archivo}\")\n",
    "    try:\n",
    "        # Leer el archivo en chunks\n",
    "        for chunk in pd.read_csv(archivo, encoding=\"utf-8-sig\", skiprows=1, chunksize=500_000):\n",
    "            chunk.columns = [col.strip() for col in chunk.columns]\n",
    "\n",
    "            # Asegura que los nombres de columnas coincidan\n",
    "            if len(chunk.columns) == len(columnas):\n",
    "                chunk.columns = list(columnas.keys())\n",
    "\n",
    "            # Reemplaza solo la primera vez\n",
    "            modo = 'replace' if first else 'append'\n",
    "            conn.insertar_dataframe(chunk, 'NOMINAL_TRAMA_NUEVO', if_exists=modo, dtype=columnas)\n",
    "            first = False\n",
    "    except Exception as e:\n",
    "        print(f\"❌ Error al procesar {archivo}: {e}\")"
   ]
  },
  {
   "cell_type": "code",
   "execution_count": 6,
   "metadata": {},
   "outputs": [
    {
     "data": {
      "text/html": [
       "<div>\n",
       "<style scoped>\n",
       "    .dataframe tbody tr th:only-of-type {\n",
       "        vertical-align: middle;\n",
       "    }\n",
       "\n",
       "    .dataframe tbody tr th {\n",
       "        vertical-align: top;\n",
       "    }\n",
       "\n",
       "    .dataframe thead th {\n",
       "        text-align: right;\n",
       "    }\n",
       "</style>\n",
       "<table border=\"1\" class=\"dataframe\">\n",
       "  <thead>\n",
       "    <tr style=\"text-align: right;\">\n",
       "      <th></th>\n",
       "      <th>N°</th>\n",
       "      <th>TipDoc</th>\n",
       "      <th>COD_CNV</th>\n",
       "      <th>CNV</th>\n",
       "      <th>CUI</th>\n",
       "      <th>DNI</th>\n",
       "      <th>Estado_Tram_DNI</th>\n",
       "      <th>Fecha_Tramite_DNI</th>\n",
       "      <th>APELLIDO_PATERNO</th>\n",
       "      <th>APELLIDO_MATERNO</th>\n",
       "      <th>...</th>\n",
       "      <th>APELLIDO_PATERNO_JEFE_FAMILIA</th>\n",
       "      <th>APELLIDO_MATERNO_JEFE_FAMILIA</th>\n",
       "      <th>NOMBRES_JEFE_FAMILIA</th>\n",
       "      <th>ESTADO_REGISTRO</th>\n",
       "      <th>FECHA_REGISTRO</th>\n",
       "      <th>USUARIO</th>\n",
       "      <th>FECHA_MODIFICACION</th>\n",
       "      <th>USUARIO_MODIFICA</th>\n",
       "      <th>ENTIDAD</th>\n",
       "      <th>TIPO_REGISTRO</th>\n",
       "    </tr>\n",
       "  </thead>\n",
       "  <tbody>\n",
       "    <tr>\n",
       "      <th>0</th>\n",
       "      <td>1.0</td>\n",
       "      <td>3,4</td>\n",
       "      <td>15183873</td>\n",
       "      <td>94016394</td>\n",
       "      <td>None</td>\n",
       "      <td>None</td>\n",
       "      <td>NO INICIO TRAMITE</td>\n",
       "      <td>None</td>\n",
       "      <td>RAMIREZ</td>\n",
       "      <td>VALDERRAMA</td>\n",
       "      <td>...</td>\n",
       "      <td>None</td>\n",
       "      <td>None</td>\n",
       "      <td>None</td>\n",
       "      <td>1</td>\n",
       "      <td>21/10/2024</td>\n",
       "      <td>24995071</td>\n",
       "      <td>None</td>\n",
       "      <td>None</td>\n",
       "      <td>MUNICIPIO</td>\n",
       "      <td>REGISTRO MANUAL|</td>\n",
       "    </tr>\n",
       "    <tr>\n",
       "      <th>1</th>\n",
       "      <td>2.0</td>\n",
       "      <td>1,2,3,4</td>\n",
       "      <td>15182892</td>\n",
       "      <td>94015770</td>\n",
       "      <td>94015770</td>\n",
       "      <td>94015770</td>\n",
       "      <td>NO INICIO TRAMITE</td>\n",
       "      <td>None</td>\n",
       "      <td>HUANCA</td>\n",
       "      <td>QUISPE</td>\n",
       "      <td>...</td>\n",
       "      <td>HUANCA</td>\n",
       "      <td>LEON</td>\n",
       "      <td>ENRIQUE</td>\n",
       "      <td>1</td>\n",
       "      <td>21/10/2024</td>\n",
       "      <td>SERVICIO CNV</td>\n",
       "      <td>22/10/2024</td>\n",
       "      <td>SERVICIO ACTA</td>\n",
       "      <td>RENIEC</td>\n",
       "      <td>PROCESOS RENIEC|</td>\n",
       "    </tr>\n",
       "    <tr>\n",
       "      <th>2</th>\n",
       "      <td>3.0</td>\n",
       "      <td>2,4</td>\n",
       "      <td>15184407</td>\n",
       "      <td>None</td>\n",
       "      <td>94016128</td>\n",
       "      <td>None</td>\n",
       "      <td>NO INICIO TRAMITE</td>\n",
       "      <td>None</td>\n",
       "      <td>PEDRAZA</td>\n",
       "      <td>VIDAL</td>\n",
       "      <td>...</td>\n",
       "      <td>PEDRAZA</td>\n",
       "      <td>SIERRA</td>\n",
       "      <td>HENRY</td>\n",
       "      <td>1</td>\n",
       "      <td>22/10/2024</td>\n",
       "      <td>SERVICIO ACTA</td>\n",
       "      <td>None</td>\n",
       "      <td>None</td>\n",
       "      <td>RENIEC</td>\n",
       "      <td>WEB SERVICE|</td>\n",
       "    </tr>\n",
       "    <tr>\n",
       "      <th>3</th>\n",
       "      <td>4.0</td>\n",
       "      <td>2,3,4</td>\n",
       "      <td>15183040</td>\n",
       "      <td>94015921</td>\n",
       "      <td>94015921</td>\n",
       "      <td>None</td>\n",
       "      <td>NO INICIO TRAMITE</td>\n",
       "      <td>None</td>\n",
       "      <td>CHAHUA</td>\n",
       "      <td>TORRES</td>\n",
       "      <td>...</td>\n",
       "      <td>CHAHUA</td>\n",
       "      <td>HUILLCA</td>\n",
       "      <td>REYNALDO</td>\n",
       "      <td>1</td>\n",
       "      <td>21/10/2024</td>\n",
       "      <td>SERVICIO CNV</td>\n",
       "      <td>21/10/2024</td>\n",
       "      <td>SERVICIO ACTA</td>\n",
       "      <td>RENIEC</td>\n",
       "      <td>WEB SERVICE|</td>\n",
       "    </tr>\n",
       "    <tr>\n",
       "      <th>4</th>\n",
       "      <td>5.0</td>\n",
       "      <td>2,3,4</td>\n",
       "      <td>15183978</td>\n",
       "      <td>94016889</td>\n",
       "      <td>94016889</td>\n",
       "      <td>None</td>\n",
       "      <td>NO INICIO TRAMITE</td>\n",
       "      <td>None</td>\n",
       "      <td>VALERIANO</td>\n",
       "      <td>QUISPE</td>\n",
       "      <td>...</td>\n",
       "      <td>VALERIANO</td>\n",
       "      <td>VILLALOBOS</td>\n",
       "      <td>YASMANI LUIS</td>\n",
       "      <td>1</td>\n",
       "      <td>21/10/2024</td>\n",
       "      <td>SERVICIO CNV</td>\n",
       "      <td>22/10/2024</td>\n",
       "      <td>SERVICIO ACTA</td>\n",
       "      <td>RENIEC</td>\n",
       "      <td>WEB SERVICE|</td>\n",
       "    </tr>\n",
       "  </tbody>\n",
       "</table>\n",
       "<p>5 rows × 63 columns</p>\n",
       "</div>"
      ],
      "text/plain": [
       "    N°   TipDoc   COD_CNV       CNV       CUI       DNI    Estado_Tram_DNI  \\\n",
       "0  1.0      3,4  15183873  94016394      None      None  NO INICIO TRAMITE   \n",
       "1  2.0  1,2,3,4  15182892  94015770  94015770  94015770  NO INICIO TRAMITE   \n",
       "2  3.0      2,4  15184407      None  94016128      None  NO INICIO TRAMITE   \n",
       "3  4.0    2,3,4  15183040  94015921  94015921      None  NO INICIO TRAMITE   \n",
       "4  5.0    2,3,4  15183978  94016889  94016889      None  NO INICIO TRAMITE   \n",
       "\n",
       "  Fecha_Tramite_DNI APELLIDO_PATERNO APELLIDO_MATERNO  ...  \\\n",
       "0              None          RAMIREZ       VALDERRAMA  ...   \n",
       "1              None           HUANCA           QUISPE  ...   \n",
       "2              None          PEDRAZA            VIDAL  ...   \n",
       "3              None           CHAHUA           TORRES  ...   \n",
       "4              None        VALERIANO           QUISPE  ...   \n",
       "\n",
       "  APELLIDO_PATERNO_JEFE_FAMILIA APELLIDO_MATERNO_JEFE_FAMILIA  \\\n",
       "0                          None                          None   \n",
       "1                        HUANCA                          LEON   \n",
       "2                       PEDRAZA                        SIERRA   \n",
       "3                        CHAHUA                       HUILLCA   \n",
       "4                     VALERIANO                    VILLALOBOS   \n",
       "\n",
       "  NOMBRES_JEFE_FAMILIA ESTADO_REGISTRO FECHA_REGISTRO        USUARIO  \\\n",
       "0                 None               1     21/10/2024       24995071   \n",
       "1              ENRIQUE               1     21/10/2024   SERVICIO CNV   \n",
       "2                HENRY               1     22/10/2024  SERVICIO ACTA   \n",
       "3             REYNALDO               1     21/10/2024   SERVICIO CNV   \n",
       "4         YASMANI LUIS               1     21/10/2024   SERVICIO CNV   \n",
       "\n",
       "  FECHA_MODIFICACION USUARIO_MODIFICA    ENTIDAD     TIPO_REGISTRO  \n",
       "0               None             None  MUNICIPIO  REGISTRO MANUAL|  \n",
       "1         22/10/2024    SERVICIO ACTA     RENIEC  PROCESOS RENIEC|  \n",
       "2               None             None     RENIEC      WEB SERVICE|  \n",
       "3         21/10/2024    SERVICIO ACTA     RENIEC      WEB SERVICE|  \n",
       "4         22/10/2024    SERVICIO ACTA     RENIEC      WEB SERVICE|  \n",
       "\n",
       "[5 rows x 63 columns]"
      ]
     },
     "execution_count": 6,
     "metadata": {},
     "output_type": "execute_result"
    }
   ],
   "source": [
    "his=conn.ejecutar_sql('select * from TABLA_PADRON_NOMINAL',retornar_datos=True)\n",
    "\n",
    "if his is not None:\n",
    "    dfh = pd.DataFrame(his)\n",
    "dfh.head(5)"
   ]
  }
 ],
 "metadata": {
  "kernelspec": {
   "display_name": "venv",
   "language": "python",
   "name": "python3"
  },
  "language_info": {
   "codemirror_mode": {
    "name": "ipython",
    "version": 3
   },
   "file_extension": ".py",
   "mimetype": "text/x-python",
   "name": "python",
   "nbconvert_exporter": "python",
   "pygments_lexer": "ipython3",
   "version": "3.12.2"
  }
 },
 "nbformat": 4,
 "nbformat_minor": 2
}
