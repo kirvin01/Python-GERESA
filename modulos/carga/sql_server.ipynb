{
 "cells": [
  {
   "cell_type": "code",
   "execution_count": 5,
   "metadata": {},
   "outputs": [
    {
     "name": "stdout",
     "output_type": "stream",
     "text": [
      "✅ Conexión exitosa a SQL Server\n"
     ]
    }
   ],
   "source": [
    "from decouple import config\n",
    "import rarfile\n",
    "rarfile.UNRAR_TOOL = r\"D:/Irvin/Python/Python-GERESA/ext/UnRAR.exe\"\n",
    "import os\n",
    "import glob as gb\n",
    "import pandas as pd\n",
    "import sys\n",
    "sys.path.insert(0, config('PROYECTO_DIR'))\n",
    "from clases.bd.conexion import  SQLServerConnector\n",
    "conn = SQLServerConnector()\n",
    "from sqlalchemy.types import (\n",
    "    BigInteger, Integer, SmallInteger, String, Date, DateTime, Numeric, CHAR,VARCHAR,DATE,DATETIME,NVARCHAR\n",
    ")\n",
    "\n",
    "\n"
   ]
  },
  {
   "cell_type": "markdown",
   "metadata": {},
   "source": [
    "<H2>EXTRAER TRAMAS .RAR</H2>"
   ]
  },
  {
   "cell_type": "code",
   "execution_count": 4,
   "metadata": {},
   "outputs": [
    {
     "name": "stdout",
     "output_type": "stream",
     "text": [
      "Proceso completado.\n"
     ]
    }
   ],
   "source": [
    "# Ruta de la carpeta que contiene archivos .rar\n",
    "carpeta_rar = \"../../../data/2025/\"\n",
    "\n",
    "# Lista todos los archivos en la carpeta\n",
    "archivos_rar = gb.glob(os.path.join(carpeta_rar, \"*.rar\"))\n",
    "\n",
    "# Carpeta de destino para los archivos extraídos\n",
    "carpeta_destino = config('PROYECTO_DATA') +\"/data/2025/csv\"\n",
    "\n",
    "# Lista para almacenar los DataFrames\n",
    "dataframes = []\n",
    "\n",
    "# Crear la carpeta de destino si no existe\n",
    "if not os.path.exists(carpeta_destino):\n",
    "    os.makedirs(carpeta_destino)\n",
    "\n",
    "# Itera sobre los archivos .rar y los extrae\n",
    "for archivo_rar in archivos_rar:\n",
    "    try:\n",
    "        # Abre el archivo RAR\n",
    "        with rarfile.RarFile(archivo_rar, 'r') as rar:\n",
    "            # Extrae los archivos al directorio de destino\n",
    "            rar.extractall(carpeta_destino)\n",
    "            print(f\"Archivos extraídos de {archivo_rar} a {carpeta_destino}\")\n",
    "\n",
    "\n",
    "    except rarfile.Error as e:\n",
    "        print(f\"Error al extraer {archivo_rar}: {e}\")\n",
    "\n",
    "print(\"Proceso completado.\")\n",
    "\n"
   ]
  },
  {
   "cell_type": "markdown",
   "metadata": {},
   "source": [
    "<h2>Cargar Tramas - csv</h2>"
   ]
  },
  {
   "cell_type": "code",
   "execution_count": null,
   "metadata": {},
   "outputs": [
    {
     "name": "stdout",
     "output_type": "stream",
     "text": [
      "['D:\\\\Irvin\\\\Python/data/2025/csv\\\\11_CUSCO_01.csv', 'D:\\\\Irvin\\\\Python/data/2025/csv\\\\11_CUSCO_02.csv', 'D:\\\\Irvin\\\\Python/data/2025/csv\\\\11_CUSCO_03.csv', 'D:\\\\Irvin\\\\Python/data/2025/csv\\\\11_CUSCO_04.csv', 'D:\\\\Irvin\\\\Python/data/2025/csv\\\\11_CUSCO_05.csv']\n",
      "📄 Procesando: D:\\Irvin\\Python/data/2025/csv\\11_CUSCO_01.csv\n"
     ]
    },
    {
     "name": "stderr",
     "output_type": "stream",
     "text": [
      "C:\\Users\\Irvin\\AppData\\Local\\Temp\\ipykernel_16492\\133920492.py:62: DtypeWarning: Columns (47) have mixed types. Specify dtype option on import or set low_memory=False.\n",
      "  for chunk in pd.read_csv(archivo, encoding=\"ISO-8859-1\", skiprows=1, chunksize=500_000):\n"
     ]
    },
    {
     "name": "stdout",
     "output_type": "stream",
     "text": [
      "✅ DataFrame insertado correctamente en 'NOMINAL_TRAMA'\n"
     ]
    },
    {
     "name": "stderr",
     "output_type": "stream",
     "text": [
      "C:\\Users\\Irvin\\AppData\\Local\\Temp\\ipykernel_16492\\133920492.py:62: DtypeWarning: Columns (47) have mixed types. Specify dtype option on import or set low_memory=False.\n",
      "  for chunk in pd.read_csv(archivo, encoding=\"ISO-8859-1\", skiprows=1, chunksize=500_000):\n"
     ]
    },
    {
     "name": "stdout",
     "output_type": "stream",
     "text": [
      "✅ DataFrame insertado correctamente en 'NOMINAL_TRAMA'\n"
     ]
    },
    {
     "name": "stderr",
     "output_type": "stream",
     "text": [
      "C:\\Users\\Irvin\\AppData\\Local\\Temp\\ipykernel_16492\\133920492.py:62: DtypeWarning: Columns (47) have mixed types. Specify dtype option on import or set low_memory=False.\n",
      "  for chunk in pd.read_csv(archivo, encoding=\"ISO-8859-1\", skiprows=1, chunksize=500_000):\n"
     ]
    },
    {
     "name": "stdout",
     "output_type": "stream",
     "text": [
      "✅ DataFrame insertado correctamente en 'NOMINAL_TRAMA'\n",
      "📄 Procesando: D:\\Irvin\\Python/data/2025/csv\\11_CUSCO_02.csv\n"
     ]
    },
    {
     "name": "stderr",
     "output_type": "stream",
     "text": [
      "C:\\Users\\Irvin\\AppData\\Local\\Temp\\ipykernel_16492\\133920492.py:62: DtypeWarning: Columns (47) have mixed types. Specify dtype option on import or set low_memory=False.\n",
      "  for chunk in pd.read_csv(archivo, encoding=\"ISO-8859-1\", skiprows=1, chunksize=500_000):\n"
     ]
    },
    {
     "name": "stdout",
     "output_type": "stream",
     "text": [
      "✅ DataFrame insertado correctamente en 'NOMINAL_TRAMA'\n"
     ]
    },
    {
     "name": "stderr",
     "output_type": "stream",
     "text": [
      "C:\\Users\\Irvin\\AppData\\Local\\Temp\\ipykernel_16492\\133920492.py:62: DtypeWarning: Columns (47) have mixed types. Specify dtype option on import or set low_memory=False.\n",
      "  for chunk in pd.read_csv(archivo, encoding=\"ISO-8859-1\", skiprows=1, chunksize=500_000):\n"
     ]
    },
    {
     "name": "stdout",
     "output_type": "stream",
     "text": [
      "✅ DataFrame insertado correctamente en 'NOMINAL_TRAMA'\n"
     ]
    },
    {
     "name": "stderr",
     "output_type": "stream",
     "text": [
      "C:\\Users\\Irvin\\AppData\\Local\\Temp\\ipykernel_16492\\133920492.py:62: DtypeWarning: Columns (47) have mixed types. Specify dtype option on import or set low_memory=False.\n",
      "  for chunk in pd.read_csv(archivo, encoding=\"ISO-8859-1\", skiprows=1, chunksize=500_000):\n"
     ]
    },
    {
     "name": "stdout",
     "output_type": "stream",
     "text": [
      "✅ DataFrame insertado correctamente en 'NOMINAL_TRAMA'\n"
     ]
    },
    {
     "name": "stderr",
     "output_type": "stream",
     "text": [
      "C:\\Users\\Irvin\\AppData\\Local\\Temp\\ipykernel_16492\\133920492.py:62: DtypeWarning: Columns (47) have mixed types. Specify dtype option on import or set low_memory=False.\n",
      "  for chunk in pd.read_csv(archivo, encoding=\"ISO-8859-1\", skiprows=1, chunksize=500_000):\n"
     ]
    },
    {
     "name": "stdout",
     "output_type": "stream",
     "text": [
      "✅ DataFrame insertado correctamente en 'NOMINAL_TRAMA'\n",
      "📄 Procesando: D:\\Irvin\\Python/data/2025/csv\\11_CUSCO_03.csv\n"
     ]
    },
    {
     "name": "stderr",
     "output_type": "stream",
     "text": [
      "C:\\Users\\Irvin\\AppData\\Local\\Temp\\ipykernel_16492\\133920492.py:62: DtypeWarning: Columns (47) have mixed types. Specify dtype option on import or set low_memory=False.\n",
      "  for chunk in pd.read_csv(archivo, encoding=\"ISO-8859-1\", skiprows=1, chunksize=500_000):\n"
     ]
    },
    {
     "name": "stdout",
     "output_type": "stream",
     "text": [
      "✅ DataFrame insertado correctamente en 'NOMINAL_TRAMA'\n"
     ]
    },
    {
     "name": "stderr",
     "output_type": "stream",
     "text": [
      "C:\\Users\\Irvin\\AppData\\Local\\Temp\\ipykernel_16492\\133920492.py:62: DtypeWarning: Columns (47) have mixed types. Specify dtype option on import or set low_memory=False.\n",
      "  for chunk in pd.read_csv(archivo, encoding=\"ISO-8859-1\", skiprows=1, chunksize=500_000):\n"
     ]
    },
    {
     "name": "stdout",
     "output_type": "stream",
     "text": [
      "✅ DataFrame insertado correctamente en 'NOMINAL_TRAMA'\n"
     ]
    },
    {
     "name": "stderr",
     "output_type": "stream",
     "text": [
      "C:\\Users\\Irvin\\AppData\\Local\\Temp\\ipykernel_16492\\133920492.py:62: DtypeWarning: Columns (47) have mixed types. Specify dtype option on import or set low_memory=False.\n",
      "  for chunk in pd.read_csv(archivo, encoding=\"ISO-8859-1\", skiprows=1, chunksize=500_000):\n"
     ]
    },
    {
     "name": "stdout",
     "output_type": "stream",
     "text": [
      "✅ DataFrame insertado correctamente en 'NOMINAL_TRAMA'\n"
     ]
    },
    {
     "name": "stderr",
     "output_type": "stream",
     "text": [
      "C:\\Users\\Irvin\\AppData\\Local\\Temp\\ipykernel_16492\\133920492.py:62: DtypeWarning: Columns (35,36,47) have mixed types. Specify dtype option on import or set low_memory=False.\n",
      "  for chunk in pd.read_csv(archivo, encoding=\"ISO-8859-1\", skiprows=1, chunksize=500_000):\n"
     ]
    },
    {
     "name": "stdout",
     "output_type": "stream",
     "text": [
      "✅ DataFrame insertado correctamente en 'NOMINAL_TRAMA'\n",
      "📄 Procesando: D:\\Irvin\\Python/data/2025/csv\\11_CUSCO_04.csv\n"
     ]
    },
    {
     "name": "stderr",
     "output_type": "stream",
     "text": [
      "C:\\Users\\Irvin\\AppData\\Local\\Temp\\ipykernel_16492\\133920492.py:62: DtypeWarning: Columns (47) have mixed types. Specify dtype option on import or set low_memory=False.\n",
      "  for chunk in pd.read_csv(archivo, encoding=\"ISO-8859-1\", skiprows=1, chunksize=500_000):\n"
     ]
    },
    {
     "name": "stdout",
     "output_type": "stream",
     "text": [
      "✅ DataFrame insertado correctamente en 'NOMINAL_TRAMA'\n"
     ]
    },
    {
     "name": "stderr",
     "output_type": "stream",
     "text": [
      "C:\\Users\\Irvin\\AppData\\Local\\Temp\\ipykernel_16492\\133920492.py:62: DtypeWarning: Columns (47) have mixed types. Specify dtype option on import or set low_memory=False.\n",
      "  for chunk in pd.read_csv(archivo, encoding=\"ISO-8859-1\", skiprows=1, chunksize=500_000):\n"
     ]
    },
    {
     "name": "stdout",
     "output_type": "stream",
     "text": [
      "✅ DataFrame insertado correctamente en 'NOMINAL_TRAMA'\n"
     ]
    },
    {
     "name": "stderr",
     "output_type": "stream",
     "text": [
      "C:\\Users\\Irvin\\AppData\\Local\\Temp\\ipykernel_16492\\133920492.py:62: DtypeWarning: Columns (47) have mixed types. Specify dtype option on import or set low_memory=False.\n",
      "  for chunk in pd.read_csv(archivo, encoding=\"ISO-8859-1\", skiprows=1, chunksize=500_000):\n"
     ]
    },
    {
     "name": "stdout",
     "output_type": "stream",
     "text": [
      "✅ DataFrame insertado correctamente en 'NOMINAL_TRAMA'\n"
     ]
    },
    {
     "name": "stderr",
     "output_type": "stream",
     "text": [
      "C:\\Users\\Irvin\\AppData\\Local\\Temp\\ipykernel_16492\\133920492.py:62: DtypeWarning: Columns (47) have mixed types. Specify dtype option on import or set low_memory=False.\n",
      "  for chunk in pd.read_csv(archivo, encoding=\"ISO-8859-1\", skiprows=1, chunksize=500_000):\n"
     ]
    },
    {
     "name": "stdout",
     "output_type": "stream",
     "text": [
      "✅ DataFrame insertado correctamente en 'NOMINAL_TRAMA'\n",
      "📄 Procesando: D:\\Irvin\\Python/data/2025/csv\\11_CUSCO_05.csv\n",
      "✅ DataFrame insertado correctamente en 'NOMINAL_TRAMA'\n"
     ]
    }
   ],
   "source": [
    "columnas = {\n",
    "    'Id_Cita': Integer(),\n",
    "    'Anio': Integer(),\n",
    "    'Mes': Integer(),\n",
    "    'Dia': Integer(),\n",
    "    'Fecha_Atencion': DATE(),\n",
    "    'Lote': VARCHAR(10),\n",
    "    'Num_Pag': Integer(),\n",
    "    'Num_Reg': Integer(),\n",
    "    'Id_Ups': Integer(),\n",
    "    'Id_Establecimiento': Integer(),\n",
    "    'Id_Paciente': VARCHAR(15),\n",
    "    'Id_Personal': BigInteger(),\n",
    "    'Id_Registrador': Integer(),\n",
    "    'Id_Financiador': Integer(),\n",
    "    'Id_Condicion_Establecimiento': CHAR(1),\n",
    "    'Id_Condicion_Servicio': CHAR(1),\n",
    "    'Edad_Reg': Integer(),\n",
    "    'Tipo_Edad': CHAR(1),\n",
    "    'Anio_Actual_Paciente':  Integer(),\n",
    "    'Mes_Actual_Paciente':  Integer(),\n",
    "    'Dia_Actual_Paciente':  Integer(),\n",
    "    'Id_Turno': CHAR(1),\n",
    "    'Codigo_Item': VARCHAR(20),\n",
    "    'Tipo_Diagnostico': CHAR(1),\n",
    "    'Valor_Lab': String(50),\n",
    "    'Id_Correlativo': Integer(),\n",
    "    'Id_Correlativo_Lab': Integer(),\n",
    "    'Peso': Numeric(10, 2),\n",
    "    'Talla': Numeric(10, 2),\n",
    "    'Hemoglobina': Numeric(10, 2),\n",
    "    'Perimetro_Abdominal': Numeric(10, 2),\n",
    "    'Perimetro_Cefalico': Numeric(10, 2),\n",
    "    'Id_Otra_Condicion': Integer(),\n",
    "    'Id_Centro_Poblado': BigInteger(),\n",
    "    'Fecha_Ultima_Regla': DATE,\n",
    "    'Fecha_Solicitud_Hb': DATE,\n",
    "    'Fecha_Resultado_Hb': DATE,\n",
    "    'Fecha_Registro': DATETIME,\n",
    "    'Fecha_Modificacion': DATETIME,\n",
    "    'Id_Pais': VARCHAR(3),\n",
    "    'gruporiesgo_desc': NVARCHAR(100),\n",
    "    'condicion_gestante': NVARCHAR(50),\n",
    "    'peso_pregestacional': Numeric(10, 2),\n",
    "    'id_dosis': Integer(),\n",
    "    'renipress': Integer,\n",
    "    'Id_Institucion_Edu': Integer,\n",
    "    'Id_AplicacionOrigen': Integer,\n",
    "    'Alerta': VARCHAR(300)\n",
    "}\n",
    "dx = gb.glob(os.path.join(config('PROYECTO_DATA') + \"/data/2025/csv\", \"*.csv\"))\n",
    "print(dx)\n",
    "# \n",
    "# lista de df\n",
    "list_df = []\n",
    "first = True  # Indicador para la primera iteración\n",
    "\n",
    "for archivo in dx:\n",
    "    print(f\"📄 Procesando: {archivo}\")\n",
    "    try:\n",
    "        # Leer el archivo en chunks\n",
    "        for chunk in pd.read_csv(archivo, encoding=\"ISO-8859-1\", skiprows=1, chunksize=500_000):\n",
    "            chunk.columns = [col.strip() for col in chunk.columns]\n",
    "\n",
    "            # Asegura que los nombres de columnas coincidan\n",
    "            if len(chunk.columns) == len(columnas):\n",
    "                chunk.columns = list(columnas.keys())\n",
    "\n",
    "            # Reemplaza solo la primera vez\n",
    "            modo = 'replace' if first else 'append'\n",
    "            conn.insertar_dataframe(chunk, 'NOMINAL_TRAMA', if_exists=modo, dtype=columnas)\n",
    "            first = False\n",
    "    except Exception as e:\n",
    "        print(f\"❌ Error al procesar {archivo}: {e}\")"
   ]
  },
  {
   "cell_type": "code",
   "execution_count": 6,
   "metadata": {},
   "outputs": [
    {
     "name": "stdout",
     "output_type": "stream",
     "text": [
      "❌ Error al ejecutar la consulta: (pyodbc.ProgrammingError) ('42S02', \"[42S02] [Microsoft][ODBC Driver 17 for SQL Server][SQL Server]El nombre de objeto 'NOMINAL_TRAMA' no es válido. (208) (SQLExecDirectW)\")\n",
      "[SQL: select * from NOMINAL_TRAMA]\n",
      "(Background on this error at: https://sqlalche.me/e/20/f405)\n"
     ]
    }
   ],
   "source": [
    "conn.ejecutar_sql('select * from NOMINAL_TRAMA')"
   ]
  },
  {
   "cell_type": "code",
   "execution_count": null,
   "metadata": {},
   "outputs": [],
   "source": []
  }
 ],
 "metadata": {
  "kernelspec": {
   "display_name": "venv",
   "language": "python",
   "name": "python3"
  },
  "language_info": {
   "codemirror_mode": {
    "name": "ipython",
    "version": 3
   },
   "file_extension": ".py",
   "mimetype": "text/x-python",
   "name": "python",
   "nbconvert_exporter": "python",
   "pygments_lexer": "ipython3",
   "version": "3.13.3"
  }
 },
 "nbformat": 4,
 "nbformat_minor": 2
}
