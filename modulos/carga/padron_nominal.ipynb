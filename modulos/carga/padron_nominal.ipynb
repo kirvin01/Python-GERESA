{
 "cells": [
  {
   "cell_type": "code",
   "execution_count": 14,
   "metadata": {},
   "outputs": [
    {
     "name": "stdout",
     "output_type": "stream",
     "text": [
      "✅ Conexión exitosa a SQL Server DBGERESA\n"
     ]
    }
   ],
   "source": [
    "\n",
    "from decouple import config\n",
    "import pandas as pd\n",
    "import numpy as np\n",
    "import sys\n",
    "sys.path.insert(0, config('PROYECTO_DIR'))\n",
    "from clases.bd.conexion import  SQLServerConnector\n",
    "conn = SQLServerConnector()\n",
    "from sqlalchemy.types import (\n",
    "    BigInteger, Integer, SmallInteger, String, Date, DateTime, Numeric, CHAR,VARCHAR,DATE,DATETIME,NVARCHAR\n",
    ")"
   ]
  },
  {
   "cell_type": "code",
   "execution_count": 15,
   "metadata": {},
   "outputs": [
    {
     "data": {
      "text/plain": [
       "118284"
      ]
     },
     "execution_count": 15,
     "metadata": {},
     "output_type": "execute_result"
    }
   ],
   "source": [
    "# Ruta del archivo Excel (puede ser relativa o absoluta)\n",
    "archivo = config('PROYECTO_DATA') +\"/data/Padron_N/PN_cusco.xlsx\"\n",
    "\n",
    "# Leer el archivo\n",
    "df = pd.read_excel(archivo)\n",
    "\n",
    "columnas = [\n",
    "    \"N°\", \"TipDoc\", \"COD_CNV\", \"CNV\", \"CUI\", \"DNI\", \"Estado_Tram_DNI\", \"Fecha_Tramite_DNI\",\n",
    "    \"APELLIDO_PATERNO\", \"APELLIDO_MATERNO\", \"NOMBRES\", \"COD_SEXO\", \"FECHA_NACIMIENTO\", \"Edad_Niño\",\n",
    "    \"EJE_VIAL\", \"DESCRIPCION\", \"REFERENCIA_DIRECCION\",\"LATITUD\",\"LONGITUD\", \"UBIGEO\", \"DEPARTAMENTO\", \"PROVINCIA\", \"DISTRITO\",\n",
    "    \"CodCentroPoblado\", \"Nombre_CP\", \"AreaCP\", \"MENOR_VISITADO\", \"MENOR_ENCONTRADO\", \"FECHA _VISITA\",\n",
    "    \"FUENTE_DATOS\", \"FECHA_FUENTE\", \"CODIGO_EESS_NACIMIENTO\", \"NOMBRE_EESS_NACIMIENTO\", \"CODIGO_EESS\",\n",
    "    \"NOMBRE_EESS\", \"FRECUENCIA_ATENCION\", \"CODIGO_ADSCRIPCION\", \"NOMBRE_ADSCRIPCION\", \"TIP_SEGURO\",\n",
    "    \"PROGRAMAS_SOCIALES\", \"COD_IIEE\", \"NOMBRE_IIEE\", \"TIPO_FAMILIAR\", \"Tip_Doc_Madre\", \"DNI_MADRE\",\n",
    "    \"APELLIDO_PATERNO_MADRE\", \"APELLIDO_MATERNO_MADRE\", \"NOMBRES_MADRE_EDAD\", \"Nro_Celuar\",\n",
    "    \"CORREO_ELECTRONICO\", \"GRADO_INSTRUCCION_MADRE\", \"LENGUA_HABITUAL_MADRE\", \"TIP_FAMILIAR\",\n",
    "    \"Tip_Doc_Familiar\", \"DNI_JEFE_FAMILIA\", \"APELLIDO_PATERNO_JEFE_FAMILIA\", \"APELLIDO_MATERNO_JEFE_FAMILIA\",\n",
    "    \"NOMBRES_JEFE_FAMILIA\", \"ESTADO_REGISTRO\", \"FECHA_REGISTRO\", \"USUARIO\", \"FECHA_MODIFICACION\",\n",
    "    \"USUARIO_MODIFICA\", \"ENTIDAD\", \"TIPO_REGISTRO\"\n",
    "]\n",
    "df.columns = columnas\n",
    "df.head(5)\n",
    "len(df)"
   ]
  },
  {
   "cell_type": "code",
   "execution_count": null,
   "metadata": {},
   "outputs": [],
   "source": [
    "# Limpiar espacios en los nombres de columna\n",
    "df.columns = df.columns.str.strip()\n",
    "\n",
    "# Convertir columnas numéricas\n",
    "numerical_columns = ['N°', 'COD_CNV', 'CNV', 'CUI', 'DNI', 'COD_SEXO', 'LATITUD', 'LONGITUD', 'UBIGEO',\n",
    "                     'CodCentroPoblado', 'CODIGO_EESS', 'CODIGO_ADSCRIPCION', 'COD_IIEE', 'TIPO_FAMILIAR',\n",
    "                     'TIP_FAMILIAR', 'ESTADO_REGISTRO']\n",
    "for col in numerical_columns:\n",
    "    df[col] = pd.to_numeric(df[col], errors='coerce')\n",
    "\n",
    "# Convertir columnas de fecha\n",
    "\n",
    "\n",
    "# Convertir columnas categóricas\n",
    "categorical_columns = ['TipDoc', 'Estado_Tram_DNI', 'APELLIDO_PATERNO', 'APELLIDO_MATERNO', 'NOMBRES',\n",
    "                       'Edad_Niño', 'EJE_VIAL', 'DESCRIPCION', 'REFERENCIA_DIRECCION', 'DEPARTAMENTO',\n",
    "                       'PROVINCIA', 'DISTRITO', 'Nombre_CP', 'AreaCP', 'MENOR_VISITADO', 'MENOR_ENCONTRADO',\n",
    "                       'FUENTE_DATOS', 'CODIGO_EESS_NACIMIENTO', 'NOMBRE_EESS_NACIMIENTO', 'NOMBRE_EESS',\n",
    "                       'FRECUENCIA_ATENCION', 'NOMBRE_ADSCRIPCION', 'TIP_SEGURO', 'PROGRAMAS_SOCIALES',\n",
    "                       'NOMBRE_IIEE', 'Tip_Doc_Madre', 'DNI_MADRE', 'APELLIDO_PATERNO_MADRE',\n",
    "                       'APELLIDO_MATERNO_MADRE', 'NOMBRES_MADRE_EDAD', 'Nro_Celuar', 'CORREO_ELECTRONICO',\n",
    "                       'GRADO_INSTRUCCION_MADRE', 'LENGUA_HABITUAL_MADRE', 'Tip_Doc_Familiar',\n",
    "                       'DNI_JEFE_FAMILIA', 'APELLIDO_PATERNO_JEFE_FAMILIA', 'APELLIDO_MATERNO_JEFE_FAMILIA',\n",
    "                       'NOMBRES_JEFE_FAMILIA', 'USUARIO', 'USUARIO_MODIFICA', 'ENTIDAD', 'TIPO_REGISTRO']\n",
    "for col in categorical_columns:\n",
    "    df[col] = df[col].astype('category')\n"
   ]
  },
  {
   "cell_type": "code",
   "execution_count": 16,
   "metadata": {},
   "outputs": [
    {
     "name": "stdout",
     "output_type": "stream",
     "text": [
      "✅ DataFrame insertado correctamente en 'TABLA_PADRON_NOMINAL'\n"
     ]
    }
   ],
   "source": [
    "conn.insertar_dataframe(df, 'TABLA_PADRON_NOMINAL', if_exists='replace')"
   ]
  },
  {
   "cell_type": "code",
   "execution_count": null,
   "metadata": {},
   "outputs": [
    {
     "data": {
      "text/html": [
       "<div>\n",
       "<style scoped>\n",
       "    .dataframe tbody tr th:only-of-type {\n",
       "        vertical-align: middle;\n",
       "    }\n",
       "\n",
       "    .dataframe tbody tr th {\n",
       "        vertical-align: top;\n",
       "    }\n",
       "\n",
       "    .dataframe thead th {\n",
       "        text-align: right;\n",
       "    }\n",
       "</style>\n",
       "<table border=\"1\" class=\"dataframe\">\n",
       "  <thead>\n",
       "    <tr style=\"text-align: right;\">\n",
       "      <th></th>\n",
       "    </tr>\n",
       "  </thead>\n",
       "  <tbody>\n",
       "  </tbody>\n",
       "</table>\n",
       "</div>"
      ],
      "text/plain": [
       "Empty DataFrame\n",
       "Columns: []\n",
       "Index: []"
      ]
     },
     "execution_count": 8,
     "metadata": {},
     "output_type": "execute_result"
    }
   ],
   "source": [
    "his=conn.ejecutar_sql('select * from DBGERESA.dbo.TABLA_PADRON_NOMINAL',retornar_datos=True)\n",
    "if his is not None:\n",
    "    dfh = pd.DataFrame(his)\n",
    "dfh.head(5)"
   ]
  }
 ],
 "metadata": {
  "kernelspec": {
   "display_name": "venv",
   "language": "python",
   "name": "python3"
  },
  "language_info": {
   "codemirror_mode": {
    "name": "ipython",
    "version": 3
   },
   "file_extension": ".py",
   "mimetype": "text/x-python",
   "name": "python",
   "nbconvert_exporter": "python",
   "pygments_lexer": "ipython3",
   "version": "3.12.2"
  }
 },
 "nbformat": 4,
 "nbformat_minor": 2
}
