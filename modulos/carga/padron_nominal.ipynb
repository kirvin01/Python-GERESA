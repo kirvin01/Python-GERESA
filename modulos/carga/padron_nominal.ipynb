{
 "cells": [
  {
   "cell_type": "code",
   "execution_count": 1,
   "metadata": {},
   "outputs": [
    {
     "name": "stdout",
     "output_type": "stream",
     "text": [
      "✅ Conexión exitosa a SQL Server DBGERESA\n"
     ]
    }
   ],
   "source": [
    "\n",
    "from decouple import config\n",
    "import pandas as pd\n",
    "import numpy as np\n",
    "import sys\n",
    "sys.path.insert(0, config('PROYECTO_DIR'))\n",
    "from clases.bd.conexion import  SQLServerConnector\n",
    "conn = SQLServerConnector()\n",
    "from sqlalchemy.types import (\n",
    "    BigInteger, Integer, SmallInteger, String, Date, DateTime, Numeric, CHAR,VARCHAR,DATE,DATETIME,NVARCHAR\n",
    ")"
   ]
  },
  {
   "cell_type": "code",
   "execution_count": 2,
   "metadata": {},
   "outputs": [
    {
     "ename": "FileNotFoundError",
     "evalue": "[Errno 2] No such file or directory: 'D:\\\\Irvin\\\\Python/data/Padron_N/PN_cusco.xlsx'",
     "output_type": "error",
     "traceback": [
      "\u001b[31m---------------------------------------------------------------------------\u001b[39m",
      "\u001b[31mFileNotFoundError\u001b[39m                         Traceback (most recent call last)",
      "\u001b[36mCell\u001b[39m\u001b[36m \u001b[39m\u001b[32mIn[2]\u001b[39m\u001b[32m, line 5\u001b[39m\n\u001b[32m      2\u001b[39m archivo = config(\u001b[33m'\u001b[39m\u001b[33mPROYECTO_DATA\u001b[39m\u001b[33m'\u001b[39m) +\u001b[33m\"\u001b[39m\u001b[33m/data/Padron_N/PN_cusco.xlsx\u001b[39m\u001b[33m\"\u001b[39m\n\u001b[32m      4\u001b[39m \u001b[38;5;66;03m# Leer el archivo\u001b[39;00m\n\u001b[32m----> \u001b[39m\u001b[32m5\u001b[39m df = \u001b[43mpd\u001b[49m\u001b[43m.\u001b[49m\u001b[43mread_excel\u001b[49m\u001b[43m(\u001b[49m\u001b[43marchivo\u001b[49m\u001b[43m)\u001b[49m\n\u001b[32m      7\u001b[39m columnas = [\n\u001b[32m      8\u001b[39m     \u001b[33m\"\u001b[39m\u001b[33mN°\u001b[39m\u001b[33m\"\u001b[39m, \u001b[33m\"\u001b[39m\u001b[33mTipDoc\u001b[39m\u001b[33m\"\u001b[39m, \u001b[33m\"\u001b[39m\u001b[33mCOD_CNV\u001b[39m\u001b[33m\"\u001b[39m, \u001b[33m\"\u001b[39m\u001b[33mCNV\u001b[39m\u001b[33m\"\u001b[39m, \u001b[33m\"\u001b[39m\u001b[33mCUI\u001b[39m\u001b[33m\"\u001b[39m, \u001b[33m\"\u001b[39m\u001b[33mDNI\u001b[39m\u001b[33m\"\u001b[39m, \u001b[33m\"\u001b[39m\u001b[33mEstado_Tram_DNI\u001b[39m\u001b[33m\"\u001b[39m, \u001b[33m\"\u001b[39m\u001b[33mFecha_Tramite_DNI\u001b[39m\u001b[33m\"\u001b[39m,\n\u001b[32m      9\u001b[39m     \u001b[33m\"\u001b[39m\u001b[33mAPELLIDO_PATERNO\u001b[39m\u001b[33m\"\u001b[39m, \u001b[33m\"\u001b[39m\u001b[33mAPELLIDO_MATERNO\u001b[39m\u001b[33m\"\u001b[39m, \u001b[33m\"\u001b[39m\u001b[33mNOMBRES\u001b[39m\u001b[33m\"\u001b[39m, \u001b[33m\"\u001b[39m\u001b[33mCOD_SEXO\u001b[39m\u001b[33m\"\u001b[39m, \u001b[33m\"\u001b[39m\u001b[33mFECHA_NACIMIENTO\u001b[39m\u001b[33m\"\u001b[39m, \u001b[33m\"\u001b[39m\u001b[33mEdad_Niño\u001b[39m\u001b[33m\"\u001b[39m,\n\u001b[32m   (...)\u001b[39m\u001b[32m     19\u001b[39m     \u001b[33m\"\u001b[39m\u001b[33mUSUARIO_MODIFICA\u001b[39m\u001b[33m\"\u001b[39m, \u001b[33m\"\u001b[39m\u001b[33mENTIDAD\u001b[39m\u001b[33m\"\u001b[39m, \u001b[33m\"\u001b[39m\u001b[33mTIPO_REGISTRO\u001b[39m\u001b[33m\"\u001b[39m\n\u001b[32m     20\u001b[39m ]\n\u001b[32m     21\u001b[39m df.columns = columnas\n",
      "\u001b[36mFile \u001b[39m\u001b[32md:\\IRVIN\\Python\\Python-GERESA\\venv\\Lib\\site-packages\\pandas\\io\\excel\\_base.py:495\u001b[39m, in \u001b[36mread_excel\u001b[39m\u001b[34m(io, sheet_name, header, names, index_col, usecols, dtype, engine, converters, true_values, false_values, skiprows, nrows, na_values, keep_default_na, na_filter, verbose, parse_dates, date_parser, date_format, thousands, decimal, comment, skipfooter, storage_options, dtype_backend, engine_kwargs)\u001b[39m\n\u001b[32m    493\u001b[39m \u001b[38;5;28;01mif\u001b[39;00m \u001b[38;5;129;01mnot\u001b[39;00m \u001b[38;5;28misinstance\u001b[39m(io, ExcelFile):\n\u001b[32m    494\u001b[39m     should_close = \u001b[38;5;28;01mTrue\u001b[39;00m\n\u001b[32m--> \u001b[39m\u001b[32m495\u001b[39m     io = \u001b[43mExcelFile\u001b[49m\u001b[43m(\u001b[49m\n\u001b[32m    496\u001b[39m \u001b[43m        \u001b[49m\u001b[43mio\u001b[49m\u001b[43m,\u001b[49m\n\u001b[32m    497\u001b[39m \u001b[43m        \u001b[49m\u001b[43mstorage_options\u001b[49m\u001b[43m=\u001b[49m\u001b[43mstorage_options\u001b[49m\u001b[43m,\u001b[49m\n\u001b[32m    498\u001b[39m \u001b[43m        \u001b[49m\u001b[43mengine\u001b[49m\u001b[43m=\u001b[49m\u001b[43mengine\u001b[49m\u001b[43m,\u001b[49m\n\u001b[32m    499\u001b[39m \u001b[43m        \u001b[49m\u001b[43mengine_kwargs\u001b[49m\u001b[43m=\u001b[49m\u001b[43mengine_kwargs\u001b[49m\u001b[43m,\u001b[49m\n\u001b[32m    500\u001b[39m \u001b[43m    \u001b[49m\u001b[43m)\u001b[49m\n\u001b[32m    501\u001b[39m \u001b[38;5;28;01melif\u001b[39;00m engine \u001b[38;5;129;01mand\u001b[39;00m engine != io.engine:\n\u001b[32m    502\u001b[39m     \u001b[38;5;28;01mraise\u001b[39;00m \u001b[38;5;167;01mValueError\u001b[39;00m(\n\u001b[32m    503\u001b[39m         \u001b[33m\"\u001b[39m\u001b[33mEngine should not be specified when passing \u001b[39m\u001b[33m\"\u001b[39m\n\u001b[32m    504\u001b[39m         \u001b[33m\"\u001b[39m\u001b[33man ExcelFile - ExcelFile already has the engine set\u001b[39m\u001b[33m\"\u001b[39m\n\u001b[32m    505\u001b[39m     )\n",
      "\u001b[36mFile \u001b[39m\u001b[32md:\\IRVIN\\Python\\Python-GERESA\\venv\\Lib\\site-packages\\pandas\\io\\excel\\_base.py:1550\u001b[39m, in \u001b[36mExcelFile.__init__\u001b[39m\u001b[34m(self, path_or_buffer, engine, storage_options, engine_kwargs)\u001b[39m\n\u001b[32m   1548\u001b[39m     ext = \u001b[33m\"\u001b[39m\u001b[33mxls\u001b[39m\u001b[33m\"\u001b[39m\n\u001b[32m   1549\u001b[39m \u001b[38;5;28;01melse\u001b[39;00m:\n\u001b[32m-> \u001b[39m\u001b[32m1550\u001b[39m     ext = \u001b[43minspect_excel_format\u001b[49m\u001b[43m(\u001b[49m\n\u001b[32m   1551\u001b[39m \u001b[43m        \u001b[49m\u001b[43mcontent_or_path\u001b[49m\u001b[43m=\u001b[49m\u001b[43mpath_or_buffer\u001b[49m\u001b[43m,\u001b[49m\u001b[43m \u001b[49m\u001b[43mstorage_options\u001b[49m\u001b[43m=\u001b[49m\u001b[43mstorage_options\u001b[49m\n\u001b[32m   1552\u001b[39m \u001b[43m    \u001b[49m\u001b[43m)\u001b[49m\n\u001b[32m   1553\u001b[39m     \u001b[38;5;28;01mif\u001b[39;00m ext \u001b[38;5;129;01mis\u001b[39;00m \u001b[38;5;28;01mNone\u001b[39;00m:\n\u001b[32m   1554\u001b[39m         \u001b[38;5;28;01mraise\u001b[39;00m \u001b[38;5;167;01mValueError\u001b[39;00m(\n\u001b[32m   1555\u001b[39m             \u001b[33m\"\u001b[39m\u001b[33mExcel file format cannot be determined, you must specify \u001b[39m\u001b[33m\"\u001b[39m\n\u001b[32m   1556\u001b[39m             \u001b[33m\"\u001b[39m\u001b[33man engine manually.\u001b[39m\u001b[33m\"\u001b[39m\n\u001b[32m   1557\u001b[39m         )\n",
      "\u001b[36mFile \u001b[39m\u001b[32md:\\IRVIN\\Python\\Python-GERESA\\venv\\Lib\\site-packages\\pandas\\io\\excel\\_base.py:1402\u001b[39m, in \u001b[36minspect_excel_format\u001b[39m\u001b[34m(content_or_path, storage_options)\u001b[39m\n\u001b[32m   1399\u001b[39m \u001b[38;5;28;01mif\u001b[39;00m \u001b[38;5;28misinstance\u001b[39m(content_or_path, \u001b[38;5;28mbytes\u001b[39m):\n\u001b[32m   1400\u001b[39m     content_or_path = BytesIO(content_or_path)\n\u001b[32m-> \u001b[39m\u001b[32m1402\u001b[39m \u001b[38;5;28;01mwith\u001b[39;00m \u001b[43mget_handle\u001b[49m\u001b[43m(\u001b[49m\n\u001b[32m   1403\u001b[39m \u001b[43m    \u001b[49m\u001b[43mcontent_or_path\u001b[49m\u001b[43m,\u001b[49m\u001b[43m \u001b[49m\u001b[33;43m\"\u001b[39;49m\u001b[33;43mrb\u001b[39;49m\u001b[33;43m\"\u001b[39;49m\u001b[43m,\u001b[49m\u001b[43m \u001b[49m\u001b[43mstorage_options\u001b[49m\u001b[43m=\u001b[49m\u001b[43mstorage_options\u001b[49m\u001b[43m,\u001b[49m\u001b[43m \u001b[49m\u001b[43mis_text\u001b[49m\u001b[43m=\u001b[49m\u001b[38;5;28;43;01mFalse\u001b[39;49;00m\n\u001b[32m   1404\u001b[39m \u001b[43m\u001b[49m\u001b[43m)\u001b[49m \u001b[38;5;28;01mas\u001b[39;00m handle:\n\u001b[32m   1405\u001b[39m     stream = handle.handle\n\u001b[32m   1406\u001b[39m     stream.seek(\u001b[32m0\u001b[39m)\n",
      "\u001b[36mFile \u001b[39m\u001b[32md:\\IRVIN\\Python\\Python-GERESA\\venv\\Lib\\site-packages\\pandas\\io\\common.py:882\u001b[39m, in \u001b[36mget_handle\u001b[39m\u001b[34m(path_or_buf, mode, encoding, compression, memory_map, is_text, errors, storage_options)\u001b[39m\n\u001b[32m    873\u001b[39m         handle = \u001b[38;5;28mopen\u001b[39m(\n\u001b[32m    874\u001b[39m             handle,\n\u001b[32m    875\u001b[39m             ioargs.mode,\n\u001b[32m   (...)\u001b[39m\u001b[32m    878\u001b[39m             newline=\u001b[33m\"\u001b[39m\u001b[33m\"\u001b[39m,\n\u001b[32m    879\u001b[39m         )\n\u001b[32m    880\u001b[39m     \u001b[38;5;28;01melse\u001b[39;00m:\n\u001b[32m    881\u001b[39m         \u001b[38;5;66;03m# Binary mode\u001b[39;00m\n\u001b[32m--> \u001b[39m\u001b[32m882\u001b[39m         handle = \u001b[38;5;28;43mopen\u001b[39;49m\u001b[43m(\u001b[49m\u001b[43mhandle\u001b[49m\u001b[43m,\u001b[49m\u001b[43m \u001b[49m\u001b[43mioargs\u001b[49m\u001b[43m.\u001b[49m\u001b[43mmode\u001b[49m\u001b[43m)\u001b[49m\n\u001b[32m    883\u001b[39m     handles.append(handle)\n\u001b[32m    885\u001b[39m \u001b[38;5;66;03m# Convert BytesIO or file objects passed with an encoding\u001b[39;00m\n",
      "\u001b[31mFileNotFoundError\u001b[39m: [Errno 2] No such file or directory: 'D:\\\\Irvin\\\\Python/data/Padron_N/PN_cusco.xlsx'"
     ]
    }
   ],
   "source": [
    "# Ruta del archivo Excel (puede ser relativa o absoluta)\n",
    "archivo = config('PROYECTO_DATA') +\"/data/Padron_N/PN_cusco.xlsx\"\n",
    "\n",
    "# Leer el archivo\n",
    "df = pd.read_excel(archivo)\n",
    "\n",
    "columnas = [\n",
    "    \"N°\", \"TipDoc\", \"COD_CNV\", \"CNV\", \"CUI\", \"DNI\", \"Estado_Tram_DNI\", \"Fecha_Tramite_DNI\",\n",
    "    \"APELLIDO_PATERNO\", \"APELLIDO_MATERNO\", \"NOMBRES\", \"COD_SEXO\", \"FECHA_NACIMIENTO\", \"Edad_Niño\",\n",
    "    \"EJE_VIAL\", \"DESCRIPCION\", \"REFERENCIA_DIRECCION\",\"LATITUD\",\"LONGITUD\", \"UBIGEO\", \"DEPARTAMENTO\", \"PROVINCIA\", \"DISTRITO\",\n",
    "    \"CodCentroPoblado\", \"Nombre_CP\", \"AreaCP\", \"MENOR_VISITADO\", \"MENOR_ENCONTRADO\", \"FECHA _VISITA\",\n",
    "    \"FUENTE_DATOS\", \"FECHA_FUENTE\", \"CODIGO_EESS_NACIMIENTO\", \"NOMBRE_EESS_NACIMIENTO\", \"CODIGO_EESS\",\n",
    "    \"NOMBRE_EESS\", \"FRECUENCIA_ATENCION\", \"CODIGO_ADSCRIPCION\", \"NOMBRE_ADSCRIPCION\", \"TIP_SEGURO\",\n",
    "    \"PROGRAMAS_SOCIALES\", \"COD_IIEE\", \"NOMBRE_IIEE\", \"TIPO_FAMILIAR\", \"Tip_Doc_Madre\", \"DNI_MADRE\",\n",
    "    \"APELLIDO_PATERNO_MADRE\", \"APELLIDO_MATERNO_MADRE\", \"NOMBRES_MADRE_EDAD\", \"Nro_Celuar\",\n",
    "    \"CORREO_ELECTRONICO\", \"GRADO_INSTRUCCION_MADRE\", \"LENGUA_HABITUAL_MADRE\", \"TIP_FAMILIAR\",\n",
    "    \"Tip_Doc_Familiar\", \"DNI_JEFE_FAMILIA\", \"APELLIDO_PATERNO_JEFE_FAMILIA\", \"APELLIDO_MATERNO_JEFE_FAMILIA\",\n",
    "    \"NOMBRES_JEFE_FAMILIA\", \"ESTADO_REGISTRO\", \"FECHA_REGISTRO\", \"USUARIO\", \"FECHA_MODIFICACION\",\n",
    "    \"USUARIO_MODIFICA\", \"ENTIDAD\", \"TIPO_REGISTRO\"\n",
    "]\n",
    "df.columns = columnas\n",
    "df.head(5)\n",
    "len(df)"
   ]
  },
  {
   "cell_type": "code",
   "execution_count": null,
   "metadata": {},
   "outputs": [],
   "source": [
    "# Limpiar espacios en los nombres de columna\n",
    "df.columns = df.columns.str.strip()\n",
    "\n",
    "# Convertir columnas numéricas\n",
    "numerical_columns = ['N°', 'COD_CNV', 'CNV', 'CUI', 'DNI', 'COD_SEXO', 'LATITUD', 'LONGITUD', 'UBIGEO',\n",
    "                     'CodCentroPoblado', 'CODIGO_EESS', 'CODIGO_ADSCRIPCION', 'COD_IIEE', 'TIPO_FAMILIAR',\n",
    "                     'TIP_FAMILIAR', 'ESTADO_REGISTRO']\n",
    "for col in numerical_columns:\n",
    "    df[col] = pd.to_numeric(df[col], errors='coerce')\n",
    "\n",
    "# Convertir columnas de fecha\n",
    "\n",
    "\n",
    "# Convertir columnas categóricas\n",
    "categorical_columns = ['TipDoc', 'Estado_Tram_DNI', 'APELLIDO_PATERNO', 'APELLIDO_MATERNO', 'NOMBRES',\n",
    "                       'Edad_Niño', 'EJE_VIAL', 'DESCRIPCION', 'REFERENCIA_DIRECCION', 'DEPARTAMENTO',\n",
    "                       'PROVINCIA', 'DISTRITO', 'Nombre_CP', 'AreaCP', 'MENOR_VISITADO', 'MENOR_ENCONTRADO',\n",
    "                       'FUENTE_DATOS', 'CODIGO_EESS_NACIMIENTO', 'NOMBRE_EESS_NACIMIENTO', 'NOMBRE_EESS',\n",
    "                       'FRECUENCIA_ATENCION', 'NOMBRE_ADSCRIPCION', 'TIP_SEGURO', 'PROGRAMAS_SOCIALES',\n",
    "                       'NOMBRE_IIEE', 'Tip_Doc_Madre', 'DNI_MADRE', 'APELLIDO_PATERNO_MADRE',\n",
    "                       'APELLIDO_MATERNO_MADRE', 'NOMBRES_MADRE_EDAD', 'Nro_Celuar', 'CORREO_ELECTRONICO',\n",
    "                       'GRADO_INSTRUCCION_MADRE', 'LENGUA_HABITUAL_MADRE', 'Tip_Doc_Familiar',\n",
    "                       'DNI_JEFE_FAMILIA', 'APELLIDO_PATERNO_JEFE_FAMILIA', 'APELLIDO_MATERNO_JEFE_FAMILIA',\n",
    "                       'NOMBRES_JEFE_FAMILIA', 'USUARIO', 'USUARIO_MODIFICA', 'ENTIDAD', 'TIPO_REGISTRO']\n",
    "for col in categorical_columns:\n",
    "    df[col] = df[col].astype('category')\n"
   ]
  },
  {
   "cell_type": "code",
   "execution_count": 16,
   "metadata": {},
   "outputs": [
    {
     "name": "stdout",
     "output_type": "stream",
     "text": [
      "✅ DataFrame insertado correctamente en 'TABLA_PADRON_NOMINAL'\n"
     ]
    }
   ],
   "source": [
    "conn.insertar_dataframe(df, 'TABLA_PADRON_NOMINAL', if_exists='replace')"
   ]
  },
  {
   "cell_type": "code",
   "execution_count": null,
   "metadata": {},
   "outputs": [
    {
     "data": {
      "text/html": [
       "<div>\n",
       "<style scoped>\n",
       "    .dataframe tbody tr th:only-of-type {\n",
       "        vertical-align: middle;\n",
       "    }\n",
       "\n",
       "    .dataframe tbody tr th {\n",
       "        vertical-align: top;\n",
       "    }\n",
       "\n",
       "    .dataframe thead th {\n",
       "        text-align: right;\n",
       "    }\n",
       "</style>\n",
       "<table border=\"1\" class=\"dataframe\">\n",
       "  <thead>\n",
       "    <tr style=\"text-align: right;\">\n",
       "      <th></th>\n",
       "    </tr>\n",
       "  </thead>\n",
       "  <tbody>\n",
       "  </tbody>\n",
       "</table>\n",
       "</div>"
      ],
      "text/plain": [
       "Empty DataFrame\n",
       "Columns: []\n",
       "Index: []"
      ]
     },
     "execution_count": 8,
     "metadata": {},
     "output_type": "execute_result"
    }
   ],
   "source": [
    "his=conn.ejecutar_sql('select * from DBGERESA.dbo.TABLA_PADRON_NOMINAL',retornar_datos=True)\n",
    "if his is not None:\n",
    "    dfh = pd.DataFrame(his)\n",
    "dfh.head(5)"
   ]
  }
 ],
 "metadata": {
  "kernelspec": {
   "display_name": "venv",
   "language": "python",
   "name": "python3"
  },
  "language_info": {
   "codemirror_mode": {
    "name": "ipython",
    "version": 3
   },
   "file_extension": ".py",
   "mimetype": "text/x-python",
   "name": "python",
   "nbconvert_exporter": "python",
   "pygments_lexer": "ipython3",
   "version": "3.12.2"
  }
 },
 "nbformat": 4,
 "nbformat_minor": 2
}
