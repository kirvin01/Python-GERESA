{
 "cells": [
  {
   "cell_type": "code",
   "execution_count": 6,
   "metadata": {},
   "outputs": [
    {
     "name": "stdout",
     "output_type": "stream",
     "text": [
      "✅ Conexión exitosa a SQL Server\n"
     ]
    }
   ],
   "source": [
    "\n",
    "from decouple import config\n",
    "import pandas as pd\n",
    "import numpy as np\n",
    "import sys\n",
    "import glob\n",
    "import os\n",
    "sys.path.insert(0, config('PROYECTO_DIR'))\n",
    "from clases.bd.conexion import  SQLServerConnector\n",
    "conn = SQLServerConnector()\n",
    "from sqlalchemy.types import (\n",
    "    BigInteger, Integer, SmallInteger, String, Date, DateTime, Numeric, CHAR,VARCHAR,DATE,DATETIME,NVARCHAR\n",
    ")"
   ]
  },
  {
   "cell_type": "code",
   "execution_count": 22,
   "metadata": {},
   "outputs": [
    {
     "name": "stderr",
     "output_type": "stream",
     "text": [
      "C:\\Users\\Irvin\\AppData\\Local\\Temp\\ipykernel_9068\\1094252495.py:10: DtypeWarning: Columns (15,24,25,26,33,46,52,53) have mixed types. Specify dtype option on import or set low_memory=False.\n",
      "  df = pd.read_csv(archivo, sep=\",\", encoding=\"utf-8-sig\", header=0)  # header=0 usa la primera fila como encabezado\n",
      "C:\\Users\\Irvin\\AppData\\Local\\Temp\\ipykernel_9068\\1094252495.py:10: DtypeWarning: Columns (15,24,25,26,46,52,53) have mixed types. Specify dtype option on import or set low_memory=False.\n",
      "  df = pd.read_csv(archivo, sep=\",\", encoding=\"utf-8-sig\", header=0)  # header=0 usa la primera fila como encabezado\n"
     ]
    },
    {
     "data": {
      "text/plain": [
       "486450"
      ]
     },
     "execution_count": 22,
     "metadata": {},
     "output_type": "execute_result"
    }
   ],
   "source": [
    "\n",
    "# Ruta base\n",
    "ruta_base = config('PROYECTO_DATA') + \"/data/CNV/\"\n",
    "\n",
    "# Buscar todos los archivos CSV dentro de la carpeta\n",
    "archivos_csv = glob.glob(os.path.join(ruta_base, \"*.csv\"))\n",
    "\n",
    "# Leer y concatenar todos los archivos\n",
    "dataframes = []\n",
    "for archivo in archivos_csv:\n",
    "    df = pd.read_csv(archivo, sep=\",\", encoding=\"utf-8-sig\", header=0)  # header=0 usa la primera fila como encabezado\n",
    "    dataframes.append(df)\n",
    "\n",
    "    # Unir todos los DataFrames en uno solo\n",
    "df_cnv = pd.concat(dataframes, ignore_index=True)\n",
    "#convertir a numeros \n",
    "#df['NU_CNV'] = pd.to_numeric(df['NU_CNV'], errors='coerce')\n",
    "# Mostrar las primeras filas del DataFrame combinado\n",
    "len(df_cnv)"
   ]
  },
  {
   "cell_type": "code",
   "execution_count": 23,
   "metadata": {},
   "outputs": [
    {
     "name": "stdout",
     "output_type": "stream",
     "text": [
      "✅ DataFrame insertado correctamente en 'TABLA_CNV'\n"
     ]
    }
   ],
   "source": [
    "conn.insertar_dataframe(df_cnv, 'TABLA_CNV', if_exists='replace')\n"
   ]
  },
  {
   "cell_type": "code",
   "execution_count": null,
   "metadata": {},
   "outputs": [],
   "source": []
  }
 ],
 "metadata": {
  "kernelspec": {
   "display_name": "venv",
   "language": "python",
   "name": "python3"
  },
  "language_info": {
   "codemirror_mode": {
    "name": "ipython",
    "version": 3
   },
   "file_extension": ".py",
   "mimetype": "text/x-python",
   "name": "python",
   "nbconvert_exporter": "python",
   "pygments_lexer": "ipython3",
   "version": "3.12.2"
  },
  "orig_nbformat": 4
 },
 "nbformat": 4,
 "nbformat_minor": 2
}
