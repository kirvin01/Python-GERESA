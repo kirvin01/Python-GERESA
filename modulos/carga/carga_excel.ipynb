{
 "cells": [
  {
   "cell_type": "code",
   "execution_count": 2,
   "id": "241040ba",
   "metadata": {},
   "outputs": [
    {
     "name": "stdout",
     "output_type": "stream",
     "text": [
      "✅ Conexión exitosa a SQL Server DBCGESTION\n"
     ]
    }
   ],
   "source": [
    "\n",
    "from decouple import config\n",
    "import pandas as pd\n",
    "import numpy as np\n",
    "import sys\n",
    "import unicodedata\n",
    "sys.path.insert(0, config('PROYECTO_DIR'))\n",
    "from clases.bd.conexion import  SQLServerConnector\n",
    "conn = SQLServerConnector()\n",
    "from sqlalchemy.types import (\n",
    "    BigInteger, Integer, SmallInteger, String, Date, DateTime, Numeric, CHAR,VARCHAR,DATE,DATETIME,NVARCHAR\n",
    ")"
   ]
  },
  {
   "cell_type": "markdown",
   "id": "ed862c1d",
   "metadata": {},
   "source": [
    "<h1>RENIPRESS</h1>"
   ]
  },
  {
   "cell_type": "code",
   "execution_count": 5,
   "id": "a3016181",
   "metadata": {},
   "outputs": [],
   "source": [
    "# Ruta del archivo Excel (puede ser relativa o absoluta)\n",
    "archivo = config('PROYECTO_DATA') +\"/data/Otros/RENIPRESS.xls\"\n",
    "\n",
    "# Leer el archivo\n",
    "#df = pd.read_excel(archivo)\n",
    "\n",
    "# Si es un archivo .xls\n",
    "df = pd.read_excel(archivo, engine='xlrd')\n",
    "\n",
    "# Si es un archivo .xlsx\n",
    "#df = pd.read_excel(\"archivo.xlsx\", engine='openpyxl')\n",
    "def limpiar_columna(texto):\n",
    "    # Quitar tildes\n",
    "    texto_sin_tildes = ''.join(\n",
    "        c for c in unicodedata.normalize('NFKD', texto)\n",
    "        if not unicodedata.combining(c)\n",
    "    )\n",
    "    # Reemplazar espacios por guiones bajos\n",
    "    return texto_sin_tildes.replace(' ', '_')"
   ]
  },
  {
   "cell_type": "code",
   "execution_count": 16,
   "id": "b7ccd95d",
   "metadata": {},
   "outputs": [
    {
     "name": "stdout",
     "output_type": "stream",
     "text": [
      "✅ DataFrame insertado correctamente en 'RENIPRESS_WEB'\n"
     ]
    }
   ],
   "source": [
    "# Aplicar limpieza a los nombres de columnas\n",
    "df.columns = [limpiar_columna(col) for col in df.columns]\n",
    "conn.insertar_dataframe(df, 'RENIPRESS_WEB', if_exists='replace')"
   ]
  },
  {
   "cell_type": "markdown",
   "id": "4620e6e7",
   "metadata": {},
   "source": [
    "<h1>CARGA EXCEL</h1>"
   ]
  },
  {
   "cell_type": "code",
   "execution_count": 3,
   "id": "c3e93eec",
   "metadata": {},
   "outputs": [
    {
     "name": "stdout",
     "output_type": "stream",
     "text": [
      "✅ DataFrame insertado correctamente en 'DATA_SIGTB_2'\n"
     ]
    }
   ],
   "source": [
    "# Ruta del archivo Excel (puede ser relativa o absoluta)\n",
    "archivo = config('PROYECTO_DATA') +\"/data/sigtb/rptContactosMenor5terminoTPT.xlsx\"\n",
    "#archivo = config('D:\\Irvin\\CGESTION\\Maestros/DIMFECHA_MIDIS.xlsx')\n",
    "\n",
    "nombre_hoja = 'sheet1'  # <-- Cambia esto por el nombre real\n",
    "# Leer el archivo\n",
    "df = pd.read_excel(archivo)#, sheet_name=nombre_hoja)\n",
    "\n",
    "# Si es un archivo .xls\n",
    "#df = pd.read_excel(archivo, engine='xlrd')\n",
    "\n",
    "# Si es un archivo .xlsx\n",
    "#df = pd.read_excel(\"archivo.xlsx\", engine='openpyxl')\n",
    "def limpiar_columna(texto):\n",
    "    # Quitar tildes\n",
    "    texto_sin_tildes = ''.join(\n",
    "        c for c in unicodedata.normalize('NFKD', texto)\n",
    "        if not unicodedata.combining(c)\n",
    "    )\n",
    "    # Reemplazar espacios por guiones bajos\n",
    "    return texto_sin_tildes.replace(' ', '_')\n",
    "\n",
    "\n",
    "\n",
    "# Aplicar limpieza a los nombres de columnas\n",
    "\n",
    "df.columns = [limpiar_columna(col) for col in df.columns]\n",
    "df.head(5)\n",
    "conn.insertar_dataframe(df, 'DATA_SIGTB_2', if_exists='replace')"
   ]
  },
  {
   "cell_type": "code",
   "execution_count": 4,
   "id": "4f3ca936",
   "metadata": {},
   "outputs": [
    {
     "name": "stdout",
     "output_type": "stream",
     "text": [
      "✅ DataFrame insertado correctamente en 'DATA_SIGTB'\n"
     ]
    }
   ],
   "source": [
    "# Ruta del archivo Excel (puede ser relativa o absoluta)\n",
    "archivo = config('PROYECTO_DATA') + \"/data/sigtb/MorbilidadTB_2024.xlsx\"\n",
    "archivo2 = config('PROYECTO_DATA') + \"/data/sigtb/MorbilidadTB_2025.xlsx\"\n",
    "\n",
    "# Leer ambos archivos Excel\n",
    "df_2024 = pd.read_excel(archivo)\n",
    "df_2025 = pd.read_excel(archivo2)\n",
    "# Concatenar ambos DataFrames verticalmente (uno debajo del otro)\n",
    "df = pd.concat([df_2024, df_2025], ignore_index=True)\n",
    "\n",
    "def limpiar_columna(texto):\n",
    "    # Quitar tildes\n",
    "    texto_sin_tildes = ''.join(\n",
    "        c for c in unicodedata.normalize('NFKD', texto)\n",
    "        if not unicodedata.combining(c)\n",
    "    )\n",
    "    # Reemplazar espacios por guiones bajos\n",
    "    return texto_sin_tildes.replace(' ', '_')\n",
    "\n",
    "\n",
    "\n",
    "# Aplicar limpieza a los nombres de columnas\n",
    "\n",
    "df.columns = [limpiar_columna(col) for col in df.columns]\n",
    "df.head(5)\n",
    "conn.insertar_dataframe(df, 'DATA_SIGTB', if_exists='replace')"
   ]
  }
 ],
 "metadata": {
  "kernelspec": {
   "display_name": "venv",
   "language": "python",
   "name": "python3"
  },
  "language_info": {
   "codemirror_mode": {
    "name": "ipython",
    "version": 3
   },
   "file_extension": ".py",
   "mimetype": "text/x-python",
   "name": "python",
   "nbconvert_exporter": "python",
   "pygments_lexer": "ipython3",
   "version": "3.12.2"
  }
 },
 "nbformat": 4,
 "nbformat_minor": 5
}
