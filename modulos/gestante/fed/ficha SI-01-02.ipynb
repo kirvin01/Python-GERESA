{
 "cells": [
  {
   "cell_type": "code",
   "execution_count": 31,
   "metadata": {},
   "outputs": [
    {
     "name": "stdout",
     "output_type": "stream",
     "text": [
      "Conexion exitosa con la Base de datos:irvin_hisminsa\n"
     ]
    }
   ],
   "source": [
    "import sys\n",
    "sys.path.insert(0, \"../../../\")\n",
    "from clases.utils import setup_environment, connect_database, sys_anio, sys_mes_ini, sys_mes_fin\n",
    "\n",
    "setup_environment()\n",
    "conn = connect_database()\n",
    "anio=sys_anio()\n",
    "mes_ini=sys_mes_ini()\n",
    "mes_fin=sys_mes_fin()\n"
   ]
  },
  {
   "cell_type": "code",
   "execution_count": 32,
   "metadata": {},
   "outputs": [],
   "source": [
    "def gestante_anemia(conn,anio,mes_ini,mes_fin):\n",
    "    gestante_anemia=conn.df(f\"\"\"\n",
    " DROP TABLE IF EXISTS his_minsa;  \n",
    "  \n",
    "SELECT nt.id_cita\n",
    ",provincia\n",
    "    ,    distrito\n",
    "    ,      red\n",
    "    ,    microred\n",
    "    ,    nombre_eess\n",
    "    ,    anio\n",
    "    ,    mes\n",
    "    ,    codigo_item\n",
    "    ,    numero_documento\n",
    "    ,    cod_eess\n",
    "    ,    fecha_atencion\n",
    "    ,nt.tipo_diagnostico\n",
    " FROM \n",
    "    maestros.nominal_trama nt\n",
    "INNER JOIN maestros.maestro_paciente mp ON\n",
    "    nt.id_paciente = mp.id_paciente\n",
    "INNER JOIN maestros.eess_geresa_cusco egc ON\n",
    "    nt.id_establecimiento = egc.id_eess\n",
    "WHERE \n",
    "    nt.codigo_item IN (\n",
    "                    'Z3491', 'Z3591', 'Z3492', 'Z3592', 'Z3493', 'Z3593',    -- Atencion PreNatal.\n",
    "                    '85018', '85018.01',    -- Dosaje de Hb \n",
    "                    'O990',    -- Dx Anemia.\n",
    "                    '99199.26', '59401.04'    -- Tratamiento Dx Anemia.\n",
    "                )\n",
    "    AND genero = 'F'\n",
    "    AND anio IN (2024)\n",
    "    AND mes BETWEEN 1 AND 2\n",
    "    AND id_tipo_documento = '1'\n",
    "    AND cat IN ('I-1', 'I-2', 'I-3', 'I-4')\n",
    "    AND egc.cod_ue != 0    --ESSALUD\n",
    " \"\"\")\n",
    "    return gestante_anemia"
   ]
  },
  {
   "cell_type": "code",
   "execution_count": 33,
   "metadata": {},
   "outputs": [
    {
     "name": "stderr",
     "output_type": "stream",
     "text": [
      "d:\\www\\Python-GERESA\\modulos\\gestante\\fed\\../../..\\clases\\bd\\conexion2.py:47: UserWarning: pandas only supports SQLAlchemy connectable (engine/connection) or database string URI or sqlite3 DBAPI2 connection. Other DBAPI2 objects are not tested. Please consider using SQLAlchemy.\n",
      "  s = pd.read_sql(sql, con=self.conn)\n"
     ]
    }
   ],
   "source": [
    "his_minsa=gestante_anemia(conn,anio,mes_ini,mes_fin)"
   ]
  },
  {
   "cell_type": "code",
   "execution_count": 34,
   "metadata": {},
   "outputs": [],
   "source": [
    "# 1. Mujeres gestantes con atención prenatal en cualquier momento de la gestación\n",
    "den_apn = his_minsa.loc[his_minsa['codigo_item'].isin(['Z3491', 'Z3591', 'Z3492', 'Z3592', 'Z3493', 'Z3593']) & \n",
    "                        (his_minsa['anio'] == 2024), \n",
    "                        ['numero_documento', 'cod_eess']]\n",
    "\n"
   ]
  },
  {
   "cell_type": "code",
   "execution_count": 35,
   "metadata": {},
   "outputs": [],
   "source": [
    "# 2. Mujeres gestantes con Dosaje de HB o Perfil Obstétrico\n",
    "den_hb = den_apn.merge(\n",
    "                  his_minsa.loc[(his_minsa['codigo_item'].isin(['85018', '85018.01'])) & \n",
    "                                (his_minsa['tipo_diagnostico'] == 'D') & \n",
    "                                (his_minsa['anio'] == 2024), \n",
    "                                ['mes', 'cod_eess', 'numero_documento', 'fecha_atencion', 'id_cita']], \n",
    "                  on=['numero_documento', 'cod_eess'], \n",
    "                  how='inner')\n",
    "den_hb =den_hb.drop_duplicates()\n",
    "den_hb['año'] = 2024\n",
    "den_hb['den_hb'] = 1\n",
    "\n"
   ]
  },
  {
   "cell_type": "code",
   "execution_count": 36,
   "metadata": {},
   "outputs": [
    {
     "name": "stdout",
     "output_type": "stream",
     "text": [
      "    numero_documento  cod_eess  mes fecha_atencion_x    id_cita   año  den_hb fecha_atencion_y  den\n",
      "0           76685854      2366    2       2024-02-01  988196102  2024       1       2024-02-01    1\n",
      "1           71794720     12932    1       2024-01-01  979429028  2024       1       2024-01-01    1\n",
      "2           47482022      2315    1       2024-01-16  980085626  2024       1       2024-01-16    1\n",
      "3           75673580      2303    1       2024-01-09  977264162  2024       1       2024-01-09    1\n",
      "4           77244175      2300    1       2024-01-02  975730833  2024       1       2024-01-02    1\n",
      "..               ...       ...  ...              ...        ...   ...     ...              ...  ...\n",
      "477         43666654      2300    2       2024-02-21  994083821  2024       1       2024-02-21    1\n",
      "478         71789090      2300    2       2024-02-21  994401978  2024       1       2024-02-21    1\n",
      "479         71854581      2315    2       2024-02-23  994876889  2024       1       2024-02-23    1\n",
      "480         72882629      2380    2       2024-02-24  995065568  2024       1       2024-02-24    1\n",
      "481         48417551      2535    2       2024-02-21  994254466  2024       1       2024-02-21    1\n",
      "\n",
      "[482 rows x 9 columns]\n"
     ]
    }
   ],
   "source": [
    "# 3. Mujeres gestantes con Dx de Anemia\n",
    "den = den_hb.merge( \n",
    "               his_minsa.loc[(his_minsa['codigo_item'] == 'O990') & \n",
    "                             (his_minsa['tipo_diagnostico'] == 'D'), \n",
    "                             ['fecha_atencion', 'cod_eess', 'numero_documento', 'id_cita']], \n",
    "               on=['numero_documento', 'cod_eess', 'id_cita'], \n",
    "               how='inner')\n",
    "den =den.drop_duplicates()\n",
    "den['año'] = 2024\n",
    "den['den'] = 1\n",
    "\n",
    "print(den)"
   ]
  },
  {
   "cell_type": "code",
   "execution_count": null,
   "metadata": {},
   "outputs": [],
   "source": [
    "\"\"\"      \n",
    "  -- 1.Mujeres gestantes con atencion prenatal en cualquier momento de la gestacion.\n",
    "CREATE TEMP TABLE den_apn AS\n",
    "SELECT DISTINCT numero_documento, cod_eess\n",
    "FROM his_minsa a\n",
    "WHERE codigo_item IN ('Z3491', 'Z3591', 'Z3492', 'Z3592', 'Z3493', 'Z3593')\n",
    "      --AND EXTRACT(MONTH FROM fecha_atencion) = 1\n",
    "      AND EXTRACT(YEAR FROM fecha_atencion) = 2024;\n",
    "  \n",
    "  -- 2. Mujeres gestantes (1.) con Dosaje de HB o Perfil Obstetrico.\n",
    "  CREATE TEMP TABLE den_hb AS\n",
    "SELECT DISTINCT\n",
    "       2024 AS año,\n",
    "       b.mes,\n",
    "       a.cod_eess,\n",
    "       a.numero_documento,\n",
    "       b.fecha_atencion AS fecha_hb,\n",
    "       b.id_cita AS id_cita_hb,\n",
    "       1 AS den_hb\n",
    "FROM den_apn a\n",
    "INNER JOIN his_minsa b ON a.numero_documento = b.numero_documento AND a.cod_eess = b.cod_eess\n",
    "WHERE b.codigo_item IN ('85018', '85018.01') AND b.tipo_diagnostico = 'D'\n",
    "      --AND EXTRACT(MONTH FROM b.fecha_atencion) = @mes_inicio\n",
    "      AND EXTRACT(YEAR FROM b.fecha_atencion) = 2024;\n",
    "  \n",
    "  \n",
    "-- 3. Mujeres gestantes (2.) con Dx de Anemia.\n",
    "CREATE TEMP TABLE den AS\n",
    "SELECT DISTINCT\n",
    "       a.año,\n",
    "       a.mes,\n",
    "       a.cod_eess,\n",
    "       a.numero_documento,\n",
    "       b.fecha_atencion AS fecha_dx,\n",
    "       1 AS den\n",
    "FROM den_hb a\n",
    "INNER JOIN his_minsa b ON a.numero_documento = b.numero_documento AND a.cod_eess = b.cod_eess AND a.id_cita_hb = b.id_cita\n",
    "WHERE b.codigo_item = 'O990' AND b.tipo_diagnostico = 'D';\"\"\""
   ]
  }
 ],
 "metadata": {
  "kernelspec": {
   "display_name": "venv",
   "language": "python",
   "name": "python3"
  },
  "language_info": {
   "codemirror_mode": {
    "name": "ipython",
    "version": 3
   },
   "file_extension": ".py",
   "mimetype": "text/x-python",
   "name": "python",
   "nbconvert_exporter": "python",
   "pygments_lexer": "ipython3",
   "version": "3.12.2"
  }
 },
 "nbformat": 4,
 "nbformat_minor": 2
}
