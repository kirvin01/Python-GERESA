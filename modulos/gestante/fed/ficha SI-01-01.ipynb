{
 "cells": [
  {
   "cell_type": "code",
   "execution_count": 264,
   "metadata": {},
   "outputs": [
    {
     "name": "stdout",
     "output_type": "stream",
     "text": [
      "Conexion exitosa con la Base de datos:irvin_hisminsa\n"
     ]
    }
   ],
   "source": [
    "import sys\n",
    "sys.path.insert(0, \"../../../\")\n",
    "from clases.utils import setup_environment, connect_database, sys_anio, sys_mes_ini, sys_mes_fin\n",
    "\n",
    "setup_environment()\n",
    "conn = connect_database()\n",
    "anio=sys_anio()\n",
    "mes_ini=sys_mes_ini()\n",
    "mes_fin=sys_mes_fin()\n",
    "\n"
   ]
  },
  {
   "cell_type": "code",
   "execution_count": 265,
   "metadata": {},
   "outputs": [],
   "source": [
    "def gestante_captadas(conn,anio,mes_ini,mes_fin):\n",
    "    gestante_captadas=conn.df(f\"\"\"\n",
    "  SELECT \n",
    "    provincia,\n",
    "    distrito,\n",
    "    --desc_ue,\n",
    "    red,\n",
    "    microred,\n",
    "    nombre_eess,\n",
    "    anio,\n",
    "    mes,\n",
    "    codigo_item,\n",
    "    numero_documento ,\n",
    "    cod_eess,\n",
    "    fecha_atencion AS \"fechacaptada\",\n",
    "   nt.valor_lab ,\n",
    "   row_number() over (partition by mp.numero_documento,nt.id_establecimiento order by nt.anio,nt.fecha_atencion) as gestantes\n",
    "FROM \n",
    "    maestros.nominal_trama nt  \n",
    "    INNER JOIN maestros.maestro_paciente mp  ON nt.id_paciente = mp.id_paciente\n",
    "    INNER JOIN maestros.eess_geresa_cusco egc ON nt.id_establecimiento = egc.id_eess\n",
    "WHERE \n",
    "    nt.codigo_item LIKE ANY (ARRAY['Z349_', 'Z359_'])\n",
    "    AND genero = 'F' \n",
    "    AND anio in ({anio}) \n",
    "    AND mes BETWEEN {mes_ini} AND {mes_fin} \n",
    "    AND id_tipo_documento = '1' \n",
    "    AND cat IN ('I-1', 'I-2', 'I-3', 'I-4')\n",
    "    AND nt.valor_lab ='1' \n",
    "    AND egc.cod_ue !=0 --ESSALUD\n",
    " \"\"\")\n",
    "    return gestante_captadas\n",
    "\n",
    "def gestante_primer_trimestre(conn,anio,mes_ini,mes_fin):\n",
    "    gestante_primer_trimestre=conn.df(f\"\"\"\n",
    "SELECT DISTINCT \n",
    "    cod_eess,\n",
    "    numero_documento,\n",
    "    fecha_atencion,\n",
    "    1 AS \"gestantes_tri\"\n",
    "FROM \n",
    "    maestros.nominal_trama nt  \n",
    "    INNER JOIN maestros.maestro_paciente mp  ON nt.id_paciente = mp.id_paciente\n",
    "    INNER JOIN maestros.eess_geresa_cusco egc ON nt.id_establecimiento = egc.id_eess\n",
    "WHERE \n",
    "    codigo_item IN ('Z3491', 'Z3591') \n",
    "    AND valor_lab = '1' \n",
    "    AND genero = 'F' \n",
    "    AND anio = {anio} \n",
    "    AND mes BETWEEN {mes_ini} AND {mes_fin} \n",
    "    AND id_tipo_documento = '1' \n",
    "    AND cat IN ('I-1', 'I-2', 'I-3', 'I-4')\n",
    "    AND egc.cod_ue !=0 --ESSALUD\n",
    "\"\"\")\n",
    "    return gestante_primer_trimestre\n",
    "def asignar_observaciones(st):\n",
    "    if st >= 2:\n",
    "        return 'REGISTRO OBSERVADO: Lab no coresponde'\n",
    "    else:\n",
    "        return ''"
   ]
  },
  {
   "cell_type": "code",
   "execution_count": 266,
   "metadata": {},
   "outputs": [
    {
     "name": "stderr",
     "output_type": "stream",
     "text": [
      "d:\\www\\Python-GERESA\\modulos\\gestante\\fed\\../../..\\clases\\bd\\conexion2.py:47: UserWarning: pandas only supports SQLAlchemy connectable (engine/connection) or database string URI or sqlite3 DBAPI2 connection. Other DBAPI2 objects are not tested. Please consider using SQLAlchemy.\n",
      "  s = pd.read_sql(sql, con=self.conn)\n"
     ]
    }
   ],
   "source": [
    "gestante_captadas=gestante_captadas(conn,anio,mes_ini,mes_fin)\n",
    "gestante_primer_trimestre=gestante_primer_trimestre(conn,anio,mes_ini,mes_fin)"
   ]
  },
  {
   "cell_type": "code",
   "execution_count": null,
   "metadata": {},
   "outputs": [],
   "source": []
  },
  {
   "cell_type": "code",
   "execution_count": 267,
   "metadata": {},
   "outputs": [],
   "source": [
    "gestante_captadas\n",
    "\n",
    "# Agregar unir \n",
    "fed = gestante_captadas.merge( gestante_primer_trimestre, on=['numero_documento', 'cod_eess'], how='left')\n",
    "\n",
    "trimestre_map = {\n",
    "    'Z3491': 'I',\n",
    "    'Z3591': 'I',\n",
    "    'Z3492': 'II',\n",
    "    'Z3592': 'II'\n",
    "}\n",
    "\n",
    "# Agregar una nueva columna \"trimestre\" basada en el mapeo\n",
    "fed['trimestre'] = fed['codigo_item'].map(trimestre_map).fillna('III')\n",
    "\n"
   ]
  },
  {
   "cell_type": "code",
   "execution_count": 268,
   "metadata": {},
   "outputs": [],
   "source": [
    "\n",
    "\n",
    "\n",
    "\n",
    "#fed.head()"
   ]
  },
  {
   "cell_type": "code",
   "execution_count": 269,
   "metadata": {},
   "outputs": [
    {
     "name": "stderr",
     "output_type": "stream",
     "text": [
      "C:\\Users\\saga0\\AppData\\Local\\Temp\\ipykernel_25480\\2997313663.py:2: FutureWarning: A value is trying to be set on a copy of a DataFrame or Series through chained assignment using an inplace method.\n",
      "The behavior will change in pandas 3.0. This inplace method will never work because the intermediate object on which we are setting values always behaves as a copy.\n",
      "\n",
      "For example, when doing 'df[col].method(value, inplace=True)', try using 'df.method({col: value}, inplace=True)' or df[col] = df[col].method(value) instead, to perform the operation inplace on the original object.\n",
      "\n",
      "\n",
      "  fed['gestantes_tri'].fillna(0, inplace=True)\n"
     ]
    },
    {
     "data": {
      "text/html": [
       "<div>\n",
       "<style scoped>\n",
       "    .dataframe tbody tr th:only-of-type {\n",
       "        vertical-align: middle;\n",
       "    }\n",
       "\n",
       "    .dataframe tbody tr th {\n",
       "        vertical-align: top;\n",
       "    }\n",
       "\n",
       "    .dataframe thead th {\n",
       "        text-align: right;\n",
       "    }\n",
       "</style>\n",
       "<table border=\"1\" class=\"dataframe\">\n",
       "  <thead>\n",
       "    <tr style=\"text-align: right;\">\n",
       "      <th></th>\n",
       "      <th>provincia</th>\n",
       "      <th>distrito</th>\n",
       "      <th>red</th>\n",
       "      <th>microred</th>\n",
       "      <th>nombre_eess</th>\n",
       "      <th>anio</th>\n",
       "      <th>mes</th>\n",
       "      <th>dni</th>\n",
       "      <th>fechacaptada</th>\n",
       "      <th>fecha_atencion</th>\n",
       "      <th>num</th>\n",
       "      <th>trimestre</th>\n",
       "      <th>den</th>\n",
       "      <th>obs</th>\n",
       "    </tr>\n",
       "  </thead>\n",
       "  <tbody>\n",
       "    <tr>\n",
       "      <th>0</th>\n",
       "      <td>ANTA</td>\n",
       "      <td>HUAROCONDO</td>\n",
       "      <td>CUSCO NORTE</td>\n",
       "      <td>ANTA</td>\n",
       "      <td>HUAROCONDO</td>\n",
       "      <td>2024</td>\n",
       "      <td>2</td>\n",
       "      <td>40033225</td>\n",
       "      <td>2024-02-04</td>\n",
       "      <td>NaN</td>\n",
       "      <td>0.0</td>\n",
       "      <td>II</td>\n",
       "      <td>1</td>\n",
       "      <td></td>\n",
       "    </tr>\n",
       "    <tr>\n",
       "      <th>1</th>\n",
       "      <td>CANCHIS</td>\n",
       "      <td>COMBAPATA</td>\n",
       "      <td>CANAS-CANCHIS-ESPINAR</td>\n",
       "      <td>COMBAPATA</td>\n",
       "      <td>COMBAPATA CANCHIS</td>\n",
       "      <td>2024</td>\n",
       "      <td>1</td>\n",
       "      <td>40199624</td>\n",
       "      <td>2024-01-20</td>\n",
       "      <td>2024-01-20</td>\n",
       "      <td>1.0</td>\n",
       "      <td>I</td>\n",
       "      <td>1</td>\n",
       "      <td></td>\n",
       "    </tr>\n",
       "    <tr>\n",
       "      <th>2</th>\n",
       "      <td>CANAS</td>\n",
       "      <td>LANGUI</td>\n",
       "      <td>CANAS-CANCHIS-ESPINAR</td>\n",
       "      <td>TECHO OBRERO</td>\n",
       "      <td>LANGUI</td>\n",
       "      <td>2024</td>\n",
       "      <td>1</td>\n",
       "      <td>40477407</td>\n",
       "      <td>2024-01-25</td>\n",
       "      <td>2024-01-25</td>\n",
       "      <td>1.0</td>\n",
       "      <td>I</td>\n",
       "      <td>1</td>\n",
       "      <td></td>\n",
       "    </tr>\n",
       "    <tr>\n",
       "      <th>3</th>\n",
       "      <td>ANTA</td>\n",
       "      <td>ANTA</td>\n",
       "      <td>CUSCO NORTE</td>\n",
       "      <td>ANTA</td>\n",
       "      <td>ANTA</td>\n",
       "      <td>2024</td>\n",
       "      <td>1</td>\n",
       "      <td>40493377</td>\n",
       "      <td>2024-01-10</td>\n",
       "      <td>2024-01-10</td>\n",
       "      <td>1.0</td>\n",
       "      <td>I</td>\n",
       "      <td>1</td>\n",
       "      <td></td>\n",
       "    </tr>\n",
       "    <tr>\n",
       "      <th>4</th>\n",
       "      <td>CUSCO</td>\n",
       "      <td>SAN SEBASTIAN</td>\n",
       "      <td>CUSCO SUR</td>\n",
       "      <td>CUSCO</td>\n",
       "      <td>SAN SEBASTIAN</td>\n",
       "      <td>2024</td>\n",
       "      <td>1</td>\n",
       "      <td>40591689</td>\n",
       "      <td>2024-01-08</td>\n",
       "      <td>2024-01-08</td>\n",
       "      <td>1.0</td>\n",
       "      <td>I</td>\n",
       "      <td>1</td>\n",
       "      <td></td>\n",
       "    </tr>\n",
       "  </tbody>\n",
       "</table>\n",
       "</div>"
      ],
      "text/plain": [
       "  provincia       distrito                    red      microred        nombre_eess  anio  mes       dni fechacaptada fecha_atencion  num trimestre  den obs\n",
       "0      ANTA     HUAROCONDO            CUSCO NORTE          ANTA         HUAROCONDO  2024    2  40033225   2024-02-04            NaN  0.0        II    1    \n",
       "1   CANCHIS      COMBAPATA  CANAS-CANCHIS-ESPINAR     COMBAPATA  COMBAPATA CANCHIS  2024    1  40199624   2024-01-20     2024-01-20  1.0         I    1    \n",
       "2     CANAS         LANGUI  CANAS-CANCHIS-ESPINAR  TECHO OBRERO             LANGUI  2024    1  40477407   2024-01-25     2024-01-25  1.0         I    1    \n",
       "3      ANTA           ANTA            CUSCO NORTE          ANTA               ANTA  2024    1  40493377   2024-01-10     2024-01-10  1.0         I    1    \n",
       "4     CUSCO  SAN SEBASTIAN              CUSCO SUR         CUSCO      SAN SEBASTIAN  2024    1  40591689   2024-01-08     2024-01-08  1.0         I    1    "
      ]
     },
     "execution_count": 269,
     "metadata": {},
     "output_type": "execute_result"
    }
   ],
   "source": [
    "#fed['gestantes_tri'] = (fed['gestantes'] == 1).astype(int)\n",
    "fed['gestantes_tri'].fillna(0, inplace=True)\n",
    "fed.loc[fed['gestantes'] > 1, 'gestantes_tri'] = 0  # quitar gestates observadas de numerador\n",
    "fed['den'] = (fed['gestantes'] == 1).astype(int) # quitar gestates observadas de denominador\n",
    "fed['obs'] = fed['gestantes'].apply(asignar_observaciones)  # observaciones \n",
    "\n",
    "fed = fed.drop(columns=['valor_lab', 'gestantes','codigo_item','cod_eess']) # eliminar columnas \n",
    "fed = fed.rename(columns={'gestantes_tri': 'num', 'numero_documento': 'dni'})\n",
    "\n",
    "fed.head()"
   ]
  },
  {
   "cell_type": "code",
   "execution_count": 270,
   "metadata": {},
   "outputs": [
    {
     "name": "stdout",
     "output_type": "stream",
     "text": [
      "DataFrame insertado en la tabla fed_si_01_01\n"
     ]
    }
   ],
   "source": [
    "\n",
    "conn.insert_df(fed,'fed_si_01_01','materno')\n"
   ]
  }
 ],
 "metadata": {
  "kernelspec": {
   "display_name": "venv",
   "language": "python",
   "name": "python3"
  },
  "language_info": {
   "codemirror_mode": {
    "name": "ipython",
    "version": 3
   },
   "file_extension": ".py",
   "mimetype": "text/x-python",
   "name": "python",
   "nbconvert_exporter": "python",
   "pygments_lexer": "ipython3",
   "version": "3.12.2"
  }
 },
 "nbformat": 4,
 "nbformat_minor": 2
}
