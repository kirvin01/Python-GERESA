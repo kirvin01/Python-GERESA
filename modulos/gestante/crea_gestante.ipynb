{
 "cells": [
  {
   "cell_type": "code",
   "execution_count": null,
   "metadata": {},
   "outputs": [],
   "source": []
  },
  {
   "cell_type": "code",
   "execution_count": 47,
   "metadata": {},
   "outputs": [
    {
     "name": "stdout",
     "output_type": "stream",
     "text": [
      "Conexion exitosa con la Base de datos:irvin_hisminsa\n",
      "\n",
      "    SELECT a.id_tipo_documento, a.numero_documento, a.semana, a.id_establecimiento\n",
      "    FROM (\n",
      "        SELECT DISTINCT\n",
      "            mp.id_tipo_documento,\n",
      "            mp.numero_documento,\n",
      "            ROUND((current_date - nt.fecha_ultima_regla) / 7) AS semana,\n",
      "            nt.id_establecimiento,\n",
      "            ROW_NUMBER() OVER (PARTITION BY mp.id_tipo_documento, mp.numero_documento, nt.anio ORDER BY nt.fecha_atencion DESC) AS rn\n",
      "        FROM maestros.nominal_trama nt\n",
      "        LEFT JOIN maestros.maestro_paciente mp ON mp.id_paciente = nt.id_paciente \n",
      "        WHERE (nt.codigo_item LIKE ANY (ARRAY['Z349%', 'Z359%']) OR nt.id_otra_condicion = 1) AND nt.anio = 2023\n",
      "    ) AS a\n",
      "    WHERE a.rn = 1 AND a.semana < 45\n",
      "\n",
      "      id_tipo_documento numero_documento  semana  id_establecimiento  st\n",
      "0                     1         40731760    19.0                2383   0\n",
      "1                     1         40703233    27.0                2314   0\n",
      "2                     1         41396452    19.0                2320   1\n",
      "3                     1         41100351    20.0                2347   0\n",
      "4                     1         41267679    17.0                2539   0\n",
      "...                 ...              ...     ...                 ...  ..\n",
      "6113                  1         46619035    27.0                2289   0\n",
      "6114                  1         44707080    27.0                2302   0\n",
      "6115                  1         44404372    30.0                2380   0\n",
      "6116                  1         48296849    32.0                2325   0\n",
      "6117                  1         42782533    39.0                2444   0\n",
      "\n",
      "[6118 rows x 5 columns]\n"
     ]
    }
   ],
   "source": [
    "import pandas as pd\n",
    "import numpy as np\n",
    "import os\n",
    "import glob as gb\n",
    "import sys\n",
    "#from sqlalchemy import create_engine\n",
    "sys.path.insert(0, \"../../\")\n",
    "from clases.bd.conexion2 import MyDatabase2\n",
    "conn = MyDatabase2() \n",
    "anio=2024\n",
    "\n",
    "sql=\"\"\"SELECT c.nu_doc_madre FROM maestros.cnv c WHERE  EXTRACT(YEAR FROM c.fe_nacido) = %s\"\"\"% (anio)\n",
    "cnv=conn.df(sql) \n",
    "\n",
    "his=f\"\"\"\n",
    "    SELECT a.id_tipo_documento, a.numero_documento, a.semana, a.id_establecimiento\n",
    "    FROM (\n",
    "        SELECT DISTINCT\n",
    "            mp.id_tipo_documento,\n",
    "            mp.numero_documento,\n",
    "            ROUND((current_date - nt.fecha_ultima_regla) / 7) AS semana,\n",
    "            nt.id_establecimiento,\n",
    "            ROW_NUMBER() OVER (PARTITION BY mp.id_tipo_documento, mp.numero_documento, nt.anio ORDER BY nt.fecha_atencion DESC) AS rn\n",
    "        FROM maestros.nominal_trama nt\n",
    "        LEFT JOIN maestros.maestro_paciente mp ON mp.id_paciente = nt.id_paciente \n",
    "        WHERE (nt.codigo_item LIKE ANY (ARRAY['Z349%', 'Z359%']) OR nt.id_otra_condicion = 1) AND nt.anio = {anio}\n",
    "    ) AS a\n",
    "    WHERE a.rn = 1 AND a.semana < 45\n",
    "\"\"\" \n",
    "#print(his)\n",
    "his=conn.df(his)\n",
    "\n",
    "\n",
    "#df1_sin_df2 = his[~his.isin(cnv.to_dict(orient='list')).all(axis=1)]\n",
    "#df = df1_sin_df2.dropna()\n",
    "\n",
    "# Selecciona solo las columnas necesarias de los DataFrames\n",
    "#df1_sin_df2 = his[~his[\"numero_documento\"].isin(cnv[\"nu_doc_madre\"])]\n",
    "#df = df1_sin_df2.dropna()\n",
    "\n",
    "his[\"st\"] = his[\"numero_documento\"].isin(cnv[\"nu_doc_madre\"]).astype(int)\n",
    "his.fillna(0, inplace=True)\n",
    "# Imprime el DataFrame his\n",
    "print(his)"
   ]
  },
  {
   "cell_type": "code",
   "execution_count": 51,
   "metadata": {},
   "outputs": [
    {
     "name": "stdout",
     "output_type": "stream",
     "text": [
      "DataFrame insertado en la tabla gestantes\n"
     ]
    }
   ],
   "source": [
    "\n",
    "conn.insert_df(his,'gestantes','materno')\n",
    "his=conn.sql(\"CREATE INDEX gestantes_numero_documento_idx ON materno.gestantes (numero_documento,id_tipo_documento);\")\n",
    "\n",
    "#df_sin_duplicados.to_sql(table_name, engine,schema='maestros', if_exists='replace', index=False)"
   ]
  },
  {
   "cell_type": "markdown",
   "metadata": {},
   "source": [
    "buscar gestantes "
   ]
  },
  {
   "cell_type": "code",
   "execution_count": 4,
   "metadata": {},
   "outputs": [
    {
     "name": "stdout",
     "output_type": "stream",
     "text": [
      "SELECT nt.*  FROM maestros.nominal_trama2 nt INNER JOIN maestros.maestro_paciente mp ON mp.id_paciente =nt.id_paciente  WHERE mp.numero_documento IN ('41396452','41917626','42140092','41272708','23979987','41597138','41019632','40882253','40778597','41895302','40737607','41949518','41398930','41148687','25012583','41145439','41830067','25324117','40591675','41727423','41911368','40647198','41139046','40886156','45277134','77792635','60572374','62215156','46644189','74572549','76134272','45080743','46558310','45318401','61243394','43812751','44595060','73648436','75822412','48918683','71803050','48371251','73117821','43262315','75944205','77041319','76690605','73431519','70461959','78008963','71964789','43903839','75872115','74277420','77542501','44530739','76353996','76072411','73600550','76381200','76465079','74245374','72169501','71794690','77138645','70080768','73299683','73364769','48451484','47190931','45875532','75749714','77166112','78716600','48332057','47363410','48248132','74398600','81596397','77700254','45887785','71054246','60119806','76230069','74094457','60629456','75901772','63364373','48615647','78721331','47015919','60493200','73782594','60294594','76806281','72405291','76368406','75572729','73328797','71513936','76789157','72227044','71199322','73230448','71126154','76403140','62045674','45672475','42731030','47746467','43543528','45902922','76806917','70498542','73217082','73105835','74495619','76989303','48292832','75857570','73737141','61299632','48084379','74403537','71194335','48401849','74282005','75889500','60650945','42474356','74476867','71290909','45085875','45001226','73503084','90822980','47692135','45417880','75425688','75119598','73854347','60572340','77502783','47275991','74062115','44274601','48775031','48783471','44403406','74447975','75370099','76915163','73320504','47947689','73536073','46802913','70585744','77055492','44481253','76681803','76776265','46346458','44146571','76981763','76571209','75695674','74999406','76136294','45346312','71126136','61486021','47781582','71212288','77226767','43510025','74173892','73950693','44361999','48014713','60117975','73743531','45242725','77920517','75888821','77096078','46161711','48398158','63299753','70925081','48104280','70032055','75485282','76650120','74632437','73320147','46575691','45119459','48650056','73319661','46878033','46974934','71293669','42436203','47001071','74402165','44455870','1471395','72946933','48364507','60472517','76838247','47980414','77815732','78198013','72741250','48300699','73805482','60657049','72181663','47685422','76667781','72805646','46286155','48108563','74545140','47807696','70219027','60150692','73090084','46262773','76032315','74527438','77429173','47081251','42422973','75207631','77574708','70020496','42381768','46851089','46927363','46679688','77416114','48590665','61607992','47605659','77802749','45816323','63359071','76972414','48492749','47003371','42929654','48018958','48101402','61569558','70416948','45865939','71780342','75627815','45045686','48425417','47123894','71442495','76456809','44525141','47380166','74702476','77077581','75476696','62331801','70381757','44209600','78372864','48666300','74638538','74249991','48290601','71718549','45667457','44706168','61115527','44228018','47862130','75822469','80909451','75263448','63172837','42723519','47433636','62045813','47432050','42747352','73990402','74462314','43460746','76039659','74244621','74876439','77420246','77671036','74370047','43815350','74279533','73440206','47336469','75050946','46768718','43098093','73569903','71543642','44915849','76403141','45226265','43953108','72903880','75820689','61169499','47612507','76599891','72448552','74310689','47244559','47797644','48042874','71788236','45987611','76030971','45309750','77486499','47090371','74313181','76603660','70279640','76184219','47673281','73757829','47479958','76383672','73473235','44966482','78113979','71245774','75945358','43045415','46503926','46357645','71798468','77491652','47279450','48213108','73782406','48500501','45563723','61202574','75251067','73861720','44046151','75729892','77687970','70979148','60496817','73886723','73953688','47218677','72582290','46483523','70342056','81550780','77572889','74252457','60019942','48383077','72098668','49005250','44672765','80911725','73602740','75757717','42220308','45003370','71654782','60149909','73798633','71512304','60925190','45322512','48111783','73620721','44982947','73825696','77059472','71665431','70577600','71591667','74434396','43370122','74179133','46374590','43258012','45327345','47876450','47294134','76138553','76521137','43851831','70899258','77502772','48465230','75238353','60568858','42929048','74413353','77487899','73783700','61580626','44926671','60118425','75700120','42351722','76618051','75954030','74441836','48041093','47303604','74282012','76818039','61401266','71302334','48027747','72252320','75968955','76534084','47559570','72271045','48452017','74914237','71859470','71194305','46899625','78007222','76049486','74082642','46913100','63276867','77699573','44797483','61080066','71783799','47642187','77333761','70828560','75625783','75061353','74884015','46951559','47713491','77327851','46864679','61239457','74424976','72014987','45821223','60569958','70269460','48389709','62192299','74244640','49022375','71961509','62045689','46877940','76578070','47134014','44390100','60645600','48433310','61120368','47859302','46616080','47920893','47133573','70919991','70516566','70784306','72312052','75678391','78717350','70331101','71735570','71798431','71035918','42758496','74319364','60280391','76020353','74639220','76554085','46694684','47406225','74152431','48161162','74447967','45895713','45547581','44283924','71728477','43746713','47975769','75863783','46910718','46404881','60392645','71120101','71801154','48448174','76961960','44668161','71892074','48840362','44655677','74979666','60202991','78459455','47697048','76911526','73386652','48887203','76861338','62742887','73969634','74537135','46107434','44918507','70420670','70243961','42211188','47269230','73962389','46725660','75839486','47947216','71196642','60897418','76305960','72163137','44249064','48150108','60538419','47355171','74089489','74689185','71742340','71813758','47471714','75660584','76988706','60324442','72451658','78105823','48816197','45593505','45038597','76078680','73417277','47055261','47412362','45804893','43514628','62353734','75860070','60147571','73347402','70883884','43308826','60209142','76537456','71786944','46992538','74476023','75675062','44547777','60572329','45852688','74401032','77678658','73970704','61073143','43125193','76137256','43247363','76212445','60281367','73237094','74700557','60234868','45118038','45369278','74364615','48232910','77541484','48615117','44653566','44702301','60149774','81284048','43349418','71005343','49010243','46969898','76363635','44175835','76818017','47356316','76061295','70160441','46805103','74393696','60410922','75776557','74502243','72407553','81005414','45788506','62268794','42726389','75369950','77385065','48094822','77530753','73886047','42241913','47995260','48464759','47598674','76595903','74147199','76827847','71219295','74228510','74355293','73982326','72420353','45865019','76953730','46374933','77904806','76287692','46947381','48853349','72948448','45282727','73970669','47434232','46534374','46738199','48870649','71141253','45081017','70462557','47481417','76913748','70822576','47851433','47972816','76910085','47826806','47369345','45665623','74583366','48164286','71908185','44137314','46494849','48790272') and nt.anio=2023\n"
     ]
    },
    {
     "name": "stderr",
     "output_type": "stream",
     "text": [
      "d:\\Irvin\\Irvin\\Python\\Python-GERESA\\modulos\\gestante\\../..\\clases\\bd\\conexion2.py:42: UserWarning: pandas only supports SQLAlchemy connectable (engine/connection) or database string URI or sqlite3 DBAPI2 connection. Other DBAPI2 objects are not tested. Please consider using SQLAlchemy.\n",
      "  s = pd.read_sql(sql, con=self.conn)\n"
     ]
    },
    {
     "ename": "KeyboardInterrupt",
     "evalue": "",
     "output_type": "error",
     "traceback": [
      "\u001b[1;31m---------------------------------------------------------------------------\u001b[0m",
      "\u001b[1;31mKeyboardInterrupt\u001b[0m                         Traceback (most recent call last)",
      "\u001b[1;32md:\\Irvin\\Irvin\\Python\\Python-GERESA\\modulos\\gestante\\crea_gestante.ipynb Celda 4\u001b[0m line \u001b[0;36m1\n\u001b[0;32m      <a href='vscode-notebook-cell:/d%3A/Irvin/Irvin/Python/Python-GERESA/modulos/gestante/crea_gestante.ipynb#W3sZmlsZQ%3D%3D?line=7'>8</a>\u001b[0m sql \u001b[39m=\u001b[39m \u001b[39mf\u001b[39m\u001b[39m\"\u001b[39m\u001b[39mSELECT nt.*  FROM maestros.nominal_trama2 nt \u001b[39m\u001b[39m\"\u001b[39m\\\n\u001b[0;32m      <a href='vscode-notebook-cell:/d%3A/Irvin/Irvin/Python/Python-GERESA/modulos/gestante/crea_gestante.ipynb#W3sZmlsZQ%3D%3D?line=8'>9</a>\u001b[0m       \u001b[39mf\u001b[39m\u001b[39m\"\u001b[39m\u001b[39mINNER JOIN maestros.maestro_paciente mp ON mp.id_paciente =nt.id_paciente  \u001b[39m\u001b[39m\"\u001b[39m \\\n\u001b[0;32m     <a href='vscode-notebook-cell:/d%3A/Irvin/Irvin/Python/Python-GERESA/modulos/gestante/crea_gestante.ipynb#W3sZmlsZQ%3D%3D?line=9'>10</a>\u001b[0m       \u001b[39mf\u001b[39m\u001b[39m\"\u001b[39m\u001b[39mWHERE mp.numero_documento IN (\u001b[39m\u001b[39m{\u001b[39;00mnumeros_dni_str\u001b[39m}\u001b[39;00m\u001b[39m) and nt.anio=2023\u001b[39m\u001b[39m\"\u001b[39m\n\u001b[0;32m     <a href='vscode-notebook-cell:/d%3A/Irvin/Irvin/Python/Python-GERESA/modulos/gestante/crea_gestante.ipynb#W3sZmlsZQ%3D%3D?line=10'>11</a>\u001b[0m \u001b[39mprint\u001b[39m(sql)\n\u001b[1;32m---> <a href='vscode-notebook-cell:/d%3A/Irvin/Irvin/Python/Python-GERESA/modulos/gestante/crea_gestante.ipynb#W3sZmlsZQ%3D%3D?line=11'>12</a>\u001b[0m gestantes\u001b[39m=\u001b[39mconn\u001b[39m.\u001b[39;49mdf(sql)\n\u001b[0;32m     <a href='vscode-notebook-cell:/d%3A/Irvin/Irvin/Python/Python-GERESA/modulos/gestante/crea_gestante.ipynb#W3sZmlsZQ%3D%3D?line=12'>13</a>\u001b[0m \u001b[39m#print(sql)\u001b[39;00m\n",
      "File \u001b[1;32md:\\Irvin\\Irvin\\Python\\Python-GERESA\\modulos\\gestante\\../..\\clases\\bd\\conexion2.py:42\u001b[0m, in \u001b[0;36mMyDatabase2.df\u001b[1;34m(self, sql)\u001b[0m\n\u001b[0;32m     41\u001b[0m \u001b[39mdef\u001b[39;00m \u001b[39mdf\u001b[39m(\u001b[39mself\u001b[39m, sql):\n\u001b[1;32m---> 42\u001b[0m     s \u001b[39m=\u001b[39m pd\u001b[39m.\u001b[39;49mread_sql(sql, con\u001b[39m=\u001b[39;49m\u001b[39mself\u001b[39;49m\u001b[39m.\u001b[39;49mconn)\n\u001b[0;32m     43\u001b[0m     \u001b[39mreturn\u001b[39;00m s\n",
      "File \u001b[1;32md:\\Irvin\\Irvin\\Python\\Python-GERESA\\venv\\Lib\\site-packages\\pandas\\io\\sql.py:654\u001b[0m, in \u001b[0;36mread_sql\u001b[1;34m(sql, con, index_col, coerce_float, params, parse_dates, columns, chunksize, dtype_backend, dtype)\u001b[0m\n\u001b[0;32m    652\u001b[0m \u001b[39mwith\u001b[39;00m pandasSQL_builder(con) \u001b[39mas\u001b[39;00m pandas_sql:\n\u001b[0;32m    653\u001b[0m     \u001b[39mif\u001b[39;00m \u001b[39misinstance\u001b[39m(pandas_sql, SQLiteDatabase):\n\u001b[1;32m--> 654\u001b[0m         \u001b[39mreturn\u001b[39;00m pandas_sql\u001b[39m.\u001b[39;49mread_query(\n\u001b[0;32m    655\u001b[0m             sql,\n\u001b[0;32m    656\u001b[0m             index_col\u001b[39m=\u001b[39;49mindex_col,\n\u001b[0;32m    657\u001b[0m             params\u001b[39m=\u001b[39;49mparams,\n\u001b[0;32m    658\u001b[0m             coerce_float\u001b[39m=\u001b[39;49mcoerce_float,\n\u001b[0;32m    659\u001b[0m             parse_dates\u001b[39m=\u001b[39;49mparse_dates,\n\u001b[0;32m    660\u001b[0m             chunksize\u001b[39m=\u001b[39;49mchunksize,\n\u001b[0;32m    661\u001b[0m             dtype_backend\u001b[39m=\u001b[39;49mdtype_backend,\n\u001b[0;32m    662\u001b[0m             dtype\u001b[39m=\u001b[39;49mdtype,\n\u001b[0;32m    663\u001b[0m         )\n\u001b[0;32m    665\u001b[0m     \u001b[39mtry\u001b[39;00m:\n\u001b[0;32m    666\u001b[0m         _is_table_name \u001b[39m=\u001b[39m pandas_sql\u001b[39m.\u001b[39mhas_table(sql)\n",
      "File \u001b[1;32md:\\Irvin\\Irvin\\Python\\Python-GERESA\\venv\\Lib\\site-packages\\pandas\\io\\sql.py:2326\u001b[0m, in \u001b[0;36mSQLiteDatabase.read_query\u001b[1;34m(self, sql, index_col, coerce_float, parse_dates, params, chunksize, dtype, dtype_backend)\u001b[0m\n\u001b[0;32m   2315\u001b[0m \u001b[39mdef\u001b[39;00m \u001b[39mread_query\u001b[39m(\n\u001b[0;32m   2316\u001b[0m     \u001b[39mself\u001b[39m,\n\u001b[0;32m   2317\u001b[0m     sql,\n\u001b[1;32m   (...)\u001b[0m\n\u001b[0;32m   2324\u001b[0m     dtype_backend: DtypeBackend \u001b[39m|\u001b[39m Literal[\u001b[39m\"\u001b[39m\u001b[39mnumpy\u001b[39m\u001b[39m\"\u001b[39m] \u001b[39m=\u001b[39m \u001b[39m\"\u001b[39m\u001b[39mnumpy\u001b[39m\u001b[39m\"\u001b[39m,\n\u001b[0;32m   2325\u001b[0m ) \u001b[39m-\u001b[39m\u001b[39m>\u001b[39m DataFrame \u001b[39m|\u001b[39m Iterator[DataFrame]:\n\u001b[1;32m-> 2326\u001b[0m     cursor \u001b[39m=\u001b[39m \u001b[39mself\u001b[39;49m\u001b[39m.\u001b[39;49mexecute(sql, params)\n\u001b[0;32m   2327\u001b[0m     columns \u001b[39m=\u001b[39m [col_desc[\u001b[39m0\u001b[39m] \u001b[39mfor\u001b[39;00m col_desc \u001b[39min\u001b[39;00m cursor\u001b[39m.\u001b[39mdescription]\n\u001b[0;32m   2329\u001b[0m     \u001b[39mif\u001b[39;00m chunksize \u001b[39mis\u001b[39;00m \u001b[39mnot\u001b[39;00m \u001b[39mNone\u001b[39;00m:\n",
      "File \u001b[1;32md:\\Irvin\\Irvin\\Python\\Python-GERESA\\venv\\Lib\\site-packages\\pandas\\io\\sql.py:2262\u001b[0m, in \u001b[0;36mSQLiteDatabase.execute\u001b[1;34m(self, sql, params)\u001b[0m\n\u001b[0;32m   2260\u001b[0m cur \u001b[39m=\u001b[39m \u001b[39mself\u001b[39m\u001b[39m.\u001b[39mcon\u001b[39m.\u001b[39mcursor()\n\u001b[0;32m   2261\u001b[0m \u001b[39mtry\u001b[39;00m:\n\u001b[1;32m-> 2262\u001b[0m     cur\u001b[39m.\u001b[39;49mexecute(sql, \u001b[39m*\u001b[39;49margs)\n\u001b[0;32m   2263\u001b[0m     \u001b[39mreturn\u001b[39;00m cur\n\u001b[0;32m   2264\u001b[0m \u001b[39mexcept\u001b[39;00m \u001b[39mException\u001b[39;00m \u001b[39mas\u001b[39;00m exc:\n",
      "File \u001b[1;32m~\\AppData\\Local\\Programs\\Python\\Python312\\Lib\\encodings\\utf_8.py:15\u001b[0m, in \u001b[0;36mdecode\u001b[1;34m(input, errors)\u001b[0m\n\u001b[0;32m     11\u001b[0m \u001b[39m### Codec APIs\u001b[39;00m\n\u001b[0;32m     13\u001b[0m encode \u001b[39m=\u001b[39m codecs\u001b[39m.\u001b[39mutf_8_encode\n\u001b[1;32m---> 15\u001b[0m \u001b[39mdef\u001b[39;00m \u001b[39mdecode\u001b[39m(\u001b[39minput\u001b[39m, errors\u001b[39m=\u001b[39m\u001b[39m'\u001b[39m\u001b[39mstrict\u001b[39m\u001b[39m'\u001b[39m):\n\u001b[0;32m     16\u001b[0m     \u001b[39mreturn\u001b[39;00m codecs\u001b[39m.\u001b[39mutf_8_decode(\u001b[39minput\u001b[39m, errors, \u001b[39mTrue\u001b[39;00m)\n\u001b[0;32m     18\u001b[0m \u001b[39mclass\u001b[39;00m \u001b[39mIncrementalEncoder\u001b[39;00m(codecs\u001b[39m.\u001b[39mIncrementalEncoder):\n",
      "\u001b[1;31mKeyboardInterrupt\u001b[0m: "
     ]
    }
   ],
   "source": [
    "# Convierte los DNIs a una lista\n",
    "dnis = df['numero_documento'].tolist()\n",
    "# Convierte los DNIs en una cadena separada por comas para usar en la consulta SQL\n",
    "numeros_dni_str = ','.join([\"'\" + str(dni) + \"'\" for dni in dnis])\n",
    "\n",
    "# Crea la consulta SQL con una cláusula WHERE para filtrar por los DNIs\n",
    "# Consulta SQL con los números de DNI\n",
    "sql = f\"SELECT nt.*  FROM maestros.nominal_trama2 nt \"\\\n",
    "      f\"INNER JOIN maestros.maestro_paciente mp ON mp.id_paciente =nt.id_paciente  \" \\\n",
    "      f\"WHERE mp.numero_documento IN ({numeros_dni_str}) and nt.anio=2023\"\n",
    "print(sql)\n",
    "gestantes=conn.df(sql)\n",
    "#print(sql)\n"
   ]
  }
 ],
 "metadata": {
  "kernelspec": {
   "display_name": "venv",
   "language": "python",
   "name": "python3"
  },
  "language_info": {
   "codemirror_mode": {
    "name": "ipython",
    "version": 3
   },
   "file_extension": ".py",
   "mimetype": "text/x-python",
   "name": "python",
   "nbconvert_exporter": "python",
   "pygments_lexer": "ipython3",
   "version": "3.12.0"
  },
  "orig_nbformat": 4
 },
 "nbformat": 4,
 "nbformat_minor": 2
}
