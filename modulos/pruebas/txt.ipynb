{
 "cells": [
  {
   "cell_type": "code",
   "execution_count": 2,
   "id": "4b074f54",
   "metadata": {},
   "outputs": [
    {
     "name": "stdout",
     "output_type": "stream",
     "text": [
      "Archivo Excel modificado guardado en: D:/Resoluciones/archivo_modificado.xlsx\n"
     ]
    }
   ],
   "source": [
    "import os\n",
    "import pandas as pd\n",
    "import requests\n",
    "import time\n",
    "\n",
    "# Ruta al archivo Excel\n",
    "excel_file = 'f:/RESOLUCIONES GERENCIALES.xlsx'  # Reemplaza con la ruta de tu archivo Excel\n",
    "# Ruta a la carpeta donde guardarás los PDFs descargados\n",
    "download_folder = 'D:/Resoluciones'  # Reemplaza con la ruta de tu carpeta de destino\n",
    "\n",
    "# Crear la carpeta si no existe\n",
    "if not os.path.exists(download_folder):\n",
    "    os.makedirs(download_folder)\n",
    "\n",
    "# Leer el archivo Excel\n",
    "df = pd.read_excel(excel_file)\n",
    "\n",
    "# Suponiendo que los enlaces están en la columna 'Enlaces' (ajustar según el nombre real de la columna)\n",
    "enlaces_columna = 'LINK'  # Cambiar por el nombre de la columna que contiene los enlaces\n",
    "\n",
    "# Crear una nueva columna para almacenar los nombres de los archivos descargados\n",
    "df['Nuevo Nombre PDF'] = ''\n",
    "\n",
    "# Función para convertir URL de Google Drive en un enlace de descarga directa\n",
    "def convertir_url_drive(url):\n",
    "    base_url = \"https://drive.google.com/uc?export=download&id=\"\n",
    "    file_id = url.split('/d/')[1].split('/')[0]\n",
    "    return base_url + file_id\n",
    "\n",
    "# Función para descargar y renombrar los PDFs\n",
    "def descargar_pdf(url, index):\n",
    "    try:\n",
    "        # Convertir el enlace de Google Drive en una URL de descarga directa\n",
    "        url_pdf = convertir_url_drive(url)\n",
    "        \n",
    "        # Descargar el archivo PDF\n",
    "        response = requests.get(url_pdf)\n",
    "        response.raise_for_status()  # Verificar que la solicitud fue exitosa\n",
    "        \n",
    "        # Generar el nuevo nombre con prefijo\n",
    "        nuevo_nombre = f\"doc_{index:02d}.pdf\"\n",
    "        \n",
    "        # Ruta donde se guardará el archivo\n",
    "        archivo_path = os.path.join(download_folder, nuevo_nombre)\n",
    "        \n",
    "        # Guardar el archivo PDF\n",
    "        with open(archivo_path, 'wb') as f:\n",
    "            f.write(response.content)\n",
    "        \n",
    "        # Esperar 20 segundos antes de continuar\n",
    "        time.sleep(20)\n",
    "        \n",
    "        return nuevo_nombre\n",
    "    except Exception as e:\n",
    "        print(f\"Error al descargar el archivo {url}: {e}\")\n",
    "        return None\n",
    "\n",
    "# Recorrer todas las filas del DataFrame\n",
    "for idx, row in df.iterrows():\n",
    "    url_pdf = row[enlaces_columna]\n",
    "    if isinstance(url_pdf, str) and url_pdf.startswith('https://drive.google.com'):  # Verificar si es un enlace de Google Drive válido\n",
    "        nuevo_nombre_pdf = descargar_pdf(url_pdf, idx + 1)  # Los índices empiezan en 0, pero prefijo empieza en 01\n",
    "        if nuevo_nombre_pdf:\n",
    "            # Agregar el nuevo nombre al DataFrame\n",
    "            df.at[idx, 'Nuevo Nombre PDF'] = nuevo_nombre_pdf\n",
    "\n",
    "# Guardar el archivo Excel con la nueva columna\n",
    "output_excel_file = 'D:/Resoluciones/archivo_modificado.xlsx'  # Define la ruta donde guardar el archivo modificado\n",
    "df.to_excel(output_excel_file, index=False)\n",
    "\n",
    "print(f\"Archivo Excel modificado guardado en: {output_excel_file}\")\n"
   ]
  }
 ],
 "metadata": {
  "kernelspec": {
   "display_name": "venv",
   "language": "python",
   "name": "python3"
  },
  "language_info": {
   "codemirror_mode": {
    "name": "ipython",
    "version": 3
   },
   "file_extension": ".py",
   "mimetype": "text/x-python",
   "name": "python",
   "nbconvert_exporter": "python",
   "pygments_lexer": "ipython3",
   "version": "3.12.2"
  }
 },
 "nbformat": 4,
 "nbformat_minor": 5
}
