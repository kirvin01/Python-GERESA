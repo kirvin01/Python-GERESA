{
 "cells": [
  {
   "cell_type": "code",
   "execution_count": 1,
   "metadata": {},
   "outputs": [
    {
     "name": "stdout",
     "output_type": "stream",
     "text": [
      "Conexion exitosa con la Base de datos:irvin_hisminsa\n"
     ]
    }
   ],
   "source": [
    "import pandas as pd\n",
    "import numpy as np\n",
    "import os\n",
    "import glob as gb\n",
    "import sys\n",
    "sys.path.insert(0, \"../../\")\n",
    "from clases.bd.conexion2 import MyDatabase2\n",
    "conn = MyDatabase2() "
   ]
  },
  {
   "cell_type": "code",
   "execution_count": 34,
   "metadata": {},
   "outputs": [],
   "source": [
    "#consulta a la base de datos altitud de establecimiento \n",
    "def consulta_paquete(conn,grupo):\n",
    "    paquete=conn.df(\"\"\"SELECT * FROM indicadores.reglas_validacion rv where etapas_vida=%s \"\"\" % grupo)   \n",
    "    return paquete\n",
    "\n",
    "def consulta_paquete_detalle(conn,id):\n",
    "    paquete=conn.df(\"\"\"SELECT * FROM indicadores.reglas_validacion_detalles rvd WHERE rvd.id_reglas_validadcion =%s\"\"\"%id)   \n",
    "    return paquete "
   ]
  },
  {
   "cell_type": "code",
   "execution_count": null,
   "metadata": {},
   "outputs": [],
   "source": [
    "\n",
    "def consulta_hisminsa(conn):  \n",
    "    sql = conn.df(\"\"\" SELECT * FROM maestros.nominal_trama nt WHERE nt.fecha_atencion  BETWEEN '2023-07-01' AND '2023-08-20' AND id_otra_condicion =1  \"\"\")\n",
    "    return sql\n",
    "df_hisminsa=consulta_hisminsa(conn)"
   ]
  },
  {
   "cell_type": "code",
   "execution_count": null,
   "metadata": {},
   "outputs": [],
   "source": [
    "df=df_hisminsa\n",
    "# Eliminar duplicados\n",
    "df_no_duplicates = df.drop_duplicates(subset=['id_paciente', 'codigo_item','fecha_atencion','id_correlativo_lab'])\n",
    "\n",
    "# Pivoteo dinámico usando pandas\n",
    "pivoted_df = df_no_duplicates.pivot(index=['id_cita','id_paciente','fecha_atencion','codigo_item', 'tipo_diagnostico'],\n",
    "                                     columns='id_correlativo_lab',\n",
    "                                     values='valor_lab').reset_index()\n",
    "print(pivoted_df)\n",
    "#pivoted_df.to_excel('demo.xlsx', index=False)"
   ]
  },
  {
   "cell_type": "markdown",
   "metadata": {},
   "source": [
    "<h1>Materno</h1>"
   ]
  },
  {
   "cell_type": "code",
   "execution_count": 35,
   "metadata": {},
   "outputs": [
    {
     "name": "stderr",
     "output_type": "stream",
     "text": [
      "d:\\Irvin\\Irvin\\Python\\pandas\\modulos\\pruebas\\../..\\clases\\bd\\conexion2.py:37: UserWarning: pandas only supports SQLAlchemy connectable (engine/connection) or database string URI or sqlite3 DBAPI2 connection. Other DBAPI2 objects are not tested. Please consider using SQLAlchemy.\n",
      "  s = pd.read_sql(sql, con=self.conn)\n",
      "d:\\Irvin\\Irvin\\Python\\pandas\\modulos\\pruebas\\../..\\clases\\bd\\conexion2.py:37: UserWarning: pandas only supports SQLAlchemy connectable (engine/connection) or database string URI or sqlite3 DBAPI2 connection. Other DBAPI2 objects are not tested. Please consider using SQLAlchemy.\n",
      "  s = pd.read_sql(sql, con=self.conn)\n",
      "d:\\Irvin\\Irvin\\Python\\pandas\\modulos\\pruebas\\../..\\clases\\bd\\conexion2.py:37: UserWarning: pandas only supports SQLAlchemy connectable (engine/connection) or database string URI or sqlite3 DBAPI2 connection. Other DBAPI2 objects are not tested. Please consider using SQLAlchemy.\n",
      "  s = pd.read_sql(sql, con=self.conn)\n"
     ]
    },
    {
     "name": "stdout",
     "output_type": "stream",
     "text": [
      "SELECT pd.id_paciente, pd.fecha_atencion FROM indicadores.paciente_diagnostico pd WHERE pd.codigo_item = '99199.17' AND pd.lab1='SF1'   AND pd.fecha_atencion BETWEEN '2023-07-01' AND '2023-07-31' and pd.id_otra_condicion=1\n",
      "SELECT pd.id_paciente, pd.fecha_atencion FROM indicadores.paciente_diagnostico pd WHERE pd.codigo_item = '99199.17' AND pd.lab1='SF2'   AND pd.fecha_atencion BETWEEN '2023-07-01' AND '2023-07-31' and pd.id_otra_condicion=1\n"
     ]
    },
    {
     "name": "stderr",
     "output_type": "stream",
     "text": [
      "d:\\Irvin\\Irvin\\Python\\pandas\\modulos\\pruebas\\../..\\clases\\bd\\conexion2.py:37: UserWarning: pandas only supports SQLAlchemy connectable (engine/connection) or database string URI or sqlite3 DBAPI2 connection. Other DBAPI2 objects are not tested. Please consider using SQLAlchemy.\n",
      "  s = pd.read_sql(sql, con=self.conn)\n"
     ]
    },
    {
     "name": "stdout",
     "output_type": "stream",
     "text": [
      "SELECT pd.id_paciente, pd.fecha_atencion FROM indicadores.paciente_diagnostico pd WHERE pd.codigo_item = '99199.17' AND pd.lab1='SF3'   AND pd.fecha_atencion BETWEEN '2023-07-01' AND '2023-07-31' and pd.id_otra_condicion=1\n"
     ]
    },
    {
     "name": "stderr",
     "output_type": "stream",
     "text": [
      "d:\\Irvin\\Irvin\\Python\\pandas\\modulos\\pruebas\\../..\\clases\\bd\\conexion2.py:37: UserWarning: pandas only supports SQLAlchemy connectable (engine/connection) or database string URI or sqlite3 DBAPI2 connection. Other DBAPI2 objects are not tested. Please consider using SQLAlchemy.\n",
      "  s = pd.read_sql(sql, con=self.conn)\n"
     ]
    },
    {
     "ename": "KeyboardInterrupt",
     "evalue": "",
     "output_type": "error",
     "traceback": [
      "\u001b[1;31m---------------------------------------------------------------------------\u001b[0m",
      "\u001b[1;31mKeyboardInterrupt\u001b[0m                         Traceback (most recent call last)",
      "Cell \u001b[1;32mIn[35], line 22\u001b[0m\n\u001b[0;32m     20\u001b[0m sql \u001b[39m=\u001b[39m \u001b[39m\"\"\"\u001b[39m\u001b[39mSELECT pd.id_paciente, pd.fecha_atencion FROM indicadores.paciente_diagnostico pd WHERE pd.codigo_item = \u001b[39m\u001b[39m'\u001b[39m\u001b[39m%s\u001b[39;00m\u001b[39m'\u001b[39m\u001b[39m \u001b[39m\u001b[39m%s\u001b[39;00m\u001b[39m \u001b[39m\u001b[39m%s\u001b[39;00m\u001b[39m \u001b[39m\u001b[39m%s\u001b[39;00m\u001b[39m AND pd.fecha_atencion BETWEEN \u001b[39m\u001b[39m'\u001b[39m\u001b[39m2023-07-01\u001b[39m\u001b[39m'\u001b[39m\u001b[39m AND \u001b[39m\u001b[39m'\u001b[39m\u001b[39m2023-07-31\u001b[39m\u001b[39m'\u001b[39m\u001b[39m and pd.id_otra_condicion=1\u001b[39m\u001b[39m\"\"\"\u001b[39m \u001b[39m%\u001b[39m (dx, lab1, lab2, lab3)\n\u001b[0;32m     21\u001b[0m \u001b[39mprint\u001b[39m(sql)\n\u001b[1;32m---> 22\u001b[0m sql \u001b[39m=\u001b[39m conn\u001b[39m.\u001b[39;49mdf(sql)\n\u001b[0;32m     23\u001b[0m sql[\u001b[39m'\u001b[39m\u001b[39mfecha_atencion\u001b[39m\u001b[39m'\u001b[39m] \u001b[39m=\u001b[39m pd\u001b[39m.\u001b[39mto_datetime(sql[\u001b[39m'\u001b[39m\u001b[39mfecha_atencion\u001b[39m\u001b[39m'\u001b[39m], \u001b[39mformat\u001b[39m\u001b[39m=\u001b[39m\u001b[39m'\u001b[39m\u001b[39m%\u001b[39m\u001b[39mY-\u001b[39m\u001b[39m%\u001b[39m\u001b[39mm-\u001b[39m\u001b[39m%d\u001b[39;00m\u001b[39m'\u001b[39m)\n\u001b[0;32m     24\u001b[0m sql[\u001b[39m'\u001b[39m\u001b[39mfecha_atencion\u001b[39m\u001b[39m'\u001b[39m] \u001b[39m=\u001b[39m sql[\u001b[39m'\u001b[39m\u001b[39mfecha_atencion\u001b[39m\u001b[39m'\u001b[39m]\u001b[39m.\u001b[39mdt\u001b[39m.\u001b[39mdate\n",
      "File \u001b[1;32md:\\Irvin\\Irvin\\Python\\pandas\\modulos\\pruebas\\../..\\clases\\bd\\conexion2.py:37\u001b[0m, in \u001b[0;36mMyDatabase2.df\u001b[1;34m(self, sql)\u001b[0m\n\u001b[0;32m     36\u001b[0m \u001b[39mdef\u001b[39;00m \u001b[39mdf\u001b[39m(\u001b[39mself\u001b[39m, sql):\n\u001b[1;32m---> 37\u001b[0m     s \u001b[39m=\u001b[39m pd\u001b[39m.\u001b[39;49mread_sql(sql, con\u001b[39m=\u001b[39;49m\u001b[39mself\u001b[39;49m\u001b[39m.\u001b[39;49mconn)\n\u001b[0;32m     38\u001b[0m     \u001b[39mreturn\u001b[39;00m s\n",
      "File \u001b[1;32md:\\Irvin\\Irvin\\Python\\pandas\\venv\\Lib\\site-packages\\pandas\\io\\sql.py:564\u001b[0m, in \u001b[0;36mread_sql\u001b[1;34m(sql, con, index_col, coerce_float, params, parse_dates, columns, chunksize)\u001b[0m\n\u001b[0;32m    561\u001b[0m pandas_sql \u001b[39m=\u001b[39m pandasSQL_builder(con)\n\u001b[0;32m    563\u001b[0m \u001b[39mif\u001b[39;00m \u001b[39misinstance\u001b[39m(pandas_sql, SQLiteDatabase):\n\u001b[1;32m--> 564\u001b[0m     \u001b[39mreturn\u001b[39;00m pandas_sql\u001b[39m.\u001b[39;49mread_query(\n\u001b[0;32m    565\u001b[0m         sql,\n\u001b[0;32m    566\u001b[0m         index_col\u001b[39m=\u001b[39;49mindex_col,\n\u001b[0;32m    567\u001b[0m         params\u001b[39m=\u001b[39;49mparams,\n\u001b[0;32m    568\u001b[0m         coerce_float\u001b[39m=\u001b[39;49mcoerce_float,\n\u001b[0;32m    569\u001b[0m         parse_dates\u001b[39m=\u001b[39;49mparse_dates,\n\u001b[0;32m    570\u001b[0m         chunksize\u001b[39m=\u001b[39;49mchunksize,\n\u001b[0;32m    571\u001b[0m     )\n\u001b[0;32m    573\u001b[0m \u001b[39mtry\u001b[39;00m:\n\u001b[0;32m    574\u001b[0m     _is_table_name \u001b[39m=\u001b[39m pandas_sql\u001b[39m.\u001b[39mhas_table(sql)\n",
      "File \u001b[1;32md:\\Irvin\\Irvin\\Python\\pandas\\venv\\Lib\\site-packages\\pandas\\io\\sql.py:2078\u001b[0m, in \u001b[0;36mSQLiteDatabase.read_query\u001b[1;34m(self, sql, index_col, coerce_float, params, parse_dates, chunksize, dtype)\u001b[0m\n\u001b[0;32m   2066\u001b[0m \u001b[39mdef\u001b[39;00m \u001b[39mread_query\u001b[39m(\n\u001b[0;32m   2067\u001b[0m     \u001b[39mself\u001b[39m,\n\u001b[0;32m   2068\u001b[0m     sql,\n\u001b[1;32m   (...)\u001b[0m\n\u001b[0;32m   2074\u001b[0m     dtype: DtypeArg \u001b[39m|\u001b[39m \u001b[39mNone\u001b[39;00m \u001b[39m=\u001b[39m \u001b[39mNone\u001b[39;00m,\n\u001b[0;32m   2075\u001b[0m ) \u001b[39m-\u001b[39m\u001b[39m>\u001b[39m DataFrame \u001b[39m|\u001b[39m Iterator[DataFrame]:\n\u001b[0;32m   2077\u001b[0m     args \u001b[39m=\u001b[39m _convert_params(sql, params)\n\u001b[1;32m-> 2078\u001b[0m     cursor \u001b[39m=\u001b[39m \u001b[39mself\u001b[39;49m\u001b[39m.\u001b[39;49mexecute(\u001b[39m*\u001b[39;49margs)\n\u001b[0;32m   2079\u001b[0m     columns \u001b[39m=\u001b[39m [col_desc[\u001b[39m0\u001b[39m] \u001b[39mfor\u001b[39;00m col_desc \u001b[39min\u001b[39;00m cursor\u001b[39m.\u001b[39mdescription]\n\u001b[0;32m   2081\u001b[0m     \u001b[39mif\u001b[39;00m chunksize \u001b[39mis\u001b[39;00m \u001b[39mnot\u001b[39;00m \u001b[39mNone\u001b[39;00m:\n",
      "File \u001b[1;32md:\\Irvin\\Irvin\\Python\\pandas\\venv\\Lib\\site-packages\\pandas\\io\\sql.py:2018\u001b[0m, in \u001b[0;36mSQLiteDatabase.execute\u001b[1;34m(self, *args, **kwargs)\u001b[0m\n\u001b[0;32m   2016\u001b[0m cur \u001b[39m=\u001b[39m \u001b[39mself\u001b[39m\u001b[39m.\u001b[39mcon\u001b[39m.\u001b[39mcursor()\n\u001b[0;32m   2017\u001b[0m \u001b[39mtry\u001b[39;00m:\n\u001b[1;32m-> 2018\u001b[0m     cur\u001b[39m.\u001b[39;49mexecute(\u001b[39m*\u001b[39;49margs, \u001b[39m*\u001b[39;49m\u001b[39m*\u001b[39;49mkwargs)\n\u001b[0;32m   2019\u001b[0m     \u001b[39mreturn\u001b[39;00m cur\n\u001b[0;32m   2020\u001b[0m \u001b[39mexcept\u001b[39;00m \u001b[39mException\u001b[39;00m \u001b[39mas\u001b[39;00m exc:\n",
      "File \u001b[1;32m~\\AppData\\Local\\Programs\\Python\\Python311\\Lib\\encodings\\utf_8.py:15\u001b[0m, in \u001b[0;36mdecode\u001b[1;34m(input, errors)\u001b[0m\n\u001b[0;32m     11\u001b[0m \u001b[39m### Codec APIs\u001b[39;00m\n\u001b[0;32m     13\u001b[0m encode \u001b[39m=\u001b[39m codecs\u001b[39m.\u001b[39mutf_8_encode\n\u001b[1;32m---> 15\u001b[0m \u001b[39mdef\u001b[39;00m \u001b[39mdecode\u001b[39m(\u001b[39minput\u001b[39m, errors\u001b[39m=\u001b[39m\u001b[39m'\u001b[39m\u001b[39mstrict\u001b[39m\u001b[39m'\u001b[39m):\n\u001b[0;32m     16\u001b[0m     \u001b[39mreturn\u001b[39;00m codecs\u001b[39m.\u001b[39mutf_8_decode(\u001b[39minput\u001b[39m, errors, \u001b[39mTrue\u001b[39;00m)\n\u001b[0;32m     18\u001b[0m \u001b[39mclass\u001b[39;00m \u001b[39mIncrementalEncoder\u001b[39;00m(codecs\u001b[39m.\u001b[39mIncrementalEncoder):\n",
      "\u001b[1;31mKeyboardInterrupt\u001b[0m: "
     ]
    }
   ],
   "source": [
    "data = {'id_paciente': []}\n",
    "df = pd.DataFrame(data)\n",
    "df_Paquete = consulta_paquete(conn,1)\n",
    "\n",
    "for index, row1 in df_Paquete.iterrows():\n",
    "    id_p = row1['id']\n",
    "    df_DPaquete=consulta_paquete_detalle(conn,id_p)\n",
    "    for index, row in df_DPaquete.iterrows():\n",
    "        dx = row['codigo_item']\n",
    "        tdx = row['tipo_diagnostico']\n",
    "        desc = row['descripcion']\n",
    "        lab1= \"AND pd.lab1='\"+row['lab_1']+\"'\" if row['lab_1'] is not None  else ''\n",
    "        lab2=\"AND pd.lab2='\"+row['lab_2']+\"'\"  if row['lab_2'] is not None  else ''\n",
    "        lab3=\"AND pd.lab3='\"+row['lab_3']+\"'\"  if row['lab_3'] is not None  else ''   \n",
    "\n",
    "        sql = \"\"\"SELECT pd.id_paciente, pd.fecha_atencion FROM indicadores.paciente_diagnostico pd WHERE pd.codigo_item = '%s' %s %s %s AND pd.fecha_atencion BETWEEN '2023-07-01' AND '2023-07-31' and pd.id_otra_condicion=1\"\"\" % (dx, lab1, lab2, lab3)\n",
    "        print(sql)\n",
    "        sql = conn.df(sql)\n",
    "        sql['fecha_atencion'] = pd.to_datetime(sql['fecha_atencion'], format='%Y-%m-%d')\n",
    "        sql['fecha_atencion'] = sql['fecha_atencion'].dt.date\n",
    "        sql['id_paciente'] = pd.to_numeric(sql['id_paciente'], errors='coerce')\n",
    "        # INDEXAR\n",
    "        sql = sql.set_index('id_paciente')\n",
    "            # extraer el valosr maximo\n",
    "        sql = sql.groupby(sql.index).tail(1)\n",
    "        \n",
    "        lab1= \"|\"+row['lab_1'] if row['lab_1'] is not None  else ''\n",
    "       # dx2 = dx.replace('.', '_')\n",
    "        dx2 = dx\n",
    "        dx2 = \"\"\"%s.- %s \\n %s%s\"\"\"%(id_p,desc,dx2,lab1)\n",
    "        sql.rename(columns={'fecha_atencion': dx2}, inplace=True)\n",
    "        \n",
    "        df = pd.merge(df, sql, on='id_paciente', how='outer')\n",
    "        \n",
    "        #print(df)\n",
    "df = df.set_index('id_paciente')\n",
    "df=df.reset_index()\n",
    "\n",
    "\n",
    "    \n",
    "\n",
    "\n",
    "\n",
    "    "
   ]
  },
  {
   "cell_type": "code",
   "execution_count": 36,
   "metadata": {},
   "outputs": [
    {
     "name": "stderr",
     "output_type": "stream",
     "text": [
      "d:\\Irvin\\Irvin\\Python\\pandas\\modulos\\pruebas\\../..\\clases\\bd\\conexion2.py:37: UserWarning: pandas only supports SQLAlchemy connectable (engine/connection) or database string URI or sqlite3 DBAPI2 connection. Other DBAPI2 objects are not tested. Please consider using SQLAlchemy.\n",
      "  s = pd.read_sql(sql, con=self.conn)\n",
      "d:\\Irvin\\Irvin\\Python\\pandas\\modulos\\pruebas\\../..\\clases\\bd\\conexion2.py:37: UserWarning: pandas only supports SQLAlchemy connectable (engine/connection) or database string URI or sqlite3 DBAPI2 connection. Other DBAPI2 objects are not tested. Please consider using SQLAlchemy.\n",
      "  s = pd.read_sql(sql, con=self.conn)\n",
      "d:\\Irvin\\Irvin\\Python\\pandas\\modulos\\pruebas\\../..\\clases\\bd\\conexion2.py:37: UserWarning: pandas only supports SQLAlchemy connectable (engine/connection) or database string URI or sqlite3 DBAPI2 connection. Other DBAPI2 objects are not tested. Please consider using SQLAlchemy.\n",
      "  s = pd.read_sql(sql, con=self.conn)\n"
     ]
    },
    {
     "name": "stdout",
     "output_type": "stream",
     "text": [
      "SELECT pd.id_paciente, pd.fecha_atencion FROM indicadores.paciente_diagnostico pd WHERE pd.codigo_item = '99199.17' AND pd.lab1='SF1'   AND pd.fecha_atencion BETWEEN '2023-07-01' AND '2023-07-31' and pd.anio_actual_paciente<1\n",
      "SELECT pd.id_paciente, pd.fecha_atencion FROM indicadores.paciente_diagnostico pd WHERE pd.codigo_item = '99199.17' AND pd.lab1='SF2'   AND pd.fecha_atencion BETWEEN '2023-07-01' AND '2023-07-31' and pd.anio_actual_paciente<1\n"
     ]
    },
    {
     "name": "stderr",
     "output_type": "stream",
     "text": [
      "d:\\Irvin\\Irvin\\Python\\pandas\\modulos\\pruebas\\../..\\clases\\bd\\conexion2.py:37: UserWarning: pandas only supports SQLAlchemy connectable (engine/connection) or database string URI or sqlite3 DBAPI2 connection. Other DBAPI2 objects are not tested. Please consider using SQLAlchemy.\n",
      "  s = pd.read_sql(sql, con=self.conn)\n"
     ]
    },
    {
     "name": "stdout",
     "output_type": "stream",
     "text": [
      "SELECT pd.id_paciente, pd.fecha_atencion FROM indicadores.paciente_diagnostico pd WHERE pd.codigo_item = '99199.17' AND pd.lab1='SF3'   AND pd.fecha_atencion BETWEEN '2023-07-01' AND '2023-07-31' and pd.anio_actual_paciente<1\n",
      "SELECT pd.id_paciente, pd.fecha_atencion FROM indicadores.paciente_diagnostico pd WHERE pd.codigo_item = '99199.17' AND pd.lab1='TA'   AND pd.fecha_atencion BETWEEN '2023-07-01' AND '2023-07-31' and pd.anio_actual_paciente<1\n"
     ]
    },
    {
     "name": "stderr",
     "output_type": "stream",
     "text": [
      "d:\\Irvin\\Irvin\\Python\\pandas\\modulos\\pruebas\\../..\\clases\\bd\\conexion2.py:37: UserWarning: pandas only supports SQLAlchemy connectable (engine/connection) or database string URI or sqlite3 DBAPI2 connection. Other DBAPI2 objects are not tested. Please consider using SQLAlchemy.\n",
      "  s = pd.read_sql(sql, con=self.conn)\n",
      "d:\\Irvin\\Irvin\\Python\\pandas\\modulos\\pruebas\\../..\\clases\\bd\\conexion2.py:37: UserWarning: pandas only supports SQLAlchemy connectable (engine/connection) or database string URI or sqlite3 DBAPI2 connection. Other DBAPI2 objects are not tested. Please consider using SQLAlchemy.\n",
      "  s = pd.read_sql(sql, con=self.conn)\n",
      "d:\\Irvin\\Irvin\\Python\\pandas\\modulos\\pruebas\\../..\\clases\\bd\\conexion2.py:37: UserWarning: pandas only supports SQLAlchemy connectable (engine/connection) or database string URI or sqlite3 DBAPI2 connection. Other DBAPI2 objects are not tested. Please consider using SQLAlchemy.\n",
      "  s = pd.read_sql(sql, con=self.conn)\n",
      "d:\\Irvin\\Irvin\\Python\\pandas\\modulos\\pruebas\\../..\\clases\\bd\\conexion2.py:37: UserWarning: pandas only supports SQLAlchemy connectable (engine/connection) or database string URI or sqlite3 DBAPI2 connection. Other DBAPI2 objects are not tested. Please consider using SQLAlchemy.\n",
      "  s = pd.read_sql(sql, con=self.conn)\n",
      "d:\\Irvin\\Irvin\\Python\\pandas\\modulos\\pruebas\\../..\\clases\\bd\\conexion2.py:37: UserWarning: pandas only supports SQLAlchemy connectable (engine/connection) or database string URI or sqlite3 DBAPI2 connection. Other DBAPI2 objects are not tested. Please consider using SQLAlchemy.\n",
      "  s = pd.read_sql(sql, con=self.conn)\n",
      "d:\\Irvin\\Irvin\\Python\\pandas\\modulos\\pruebas\\../..\\clases\\bd\\conexion2.py:37: UserWarning: pandas only supports SQLAlchemy connectable (engine/connection) or database string URI or sqlite3 DBAPI2 connection. Other DBAPI2 objects are not tested. Please consider using SQLAlchemy.\n",
      "  s = pd.read_sql(sql, con=self.conn)\n",
      "d:\\Irvin\\Irvin\\Python\\pandas\\modulos\\pruebas\\../..\\clases\\bd\\conexion2.py:37: UserWarning: pandas only supports SQLAlchemy connectable (engine/connection) or database string URI or sqlite3 DBAPI2 connection. Other DBAPI2 objects are not tested. Please consider using SQLAlchemy.\n",
      "  s = pd.read_sql(sql, con=self.conn)\n"
     ]
    },
    {
     "name": "stdout",
     "output_type": "stream",
     "text": [
      "SELECT pd.id_paciente, pd.fecha_atencion FROM indicadores.paciente_diagnostico pd WHERE pd.codigo_item = '99199.17' AND pd.lab1='P01'   AND pd.fecha_atencion BETWEEN '2023-07-01' AND '2023-07-31' and pd.anio_actual_paciente<1\n",
      "SELECT pd.id_paciente, pd.fecha_atencion FROM indicadores.paciente_diagnostico pd WHERE pd.codigo_item = '99199.17' AND pd.lab1='P02'   AND pd.fecha_atencion BETWEEN '2023-07-01' AND '2023-07-31' and pd.anio_actual_paciente<1\n",
      "SELECT pd.id_paciente, pd.fecha_atencion FROM indicadores.paciente_diagnostico pd WHERE pd.codigo_item = '99199.19' AND pd.lab1='1'   AND pd.fecha_atencion BETWEEN '2023-07-01' AND '2023-07-31' and pd.anio_actual_paciente<1\n",
      "SELECT pd.id_paciente, pd.fecha_atencion FROM indicadores.paciente_diagnostico pd WHERE pd.codigo_item = '99199.19' AND pd.lab1='2'   AND pd.fecha_atencion BETWEEN '2023-07-01' AND '2023-07-31' and pd.anio_actual_paciente<1\n",
      "SELECT pd.id_paciente, pd.fecha_atencion FROM indicadores.paciente_diagnostico pd WHERE pd.codigo_item = '99199.19' AND pd.lab1='3'   AND pd.fecha_atencion BETWEEN '2023-07-01' AND '2023-07-31' and pd.anio_actual_paciente<1\n"
     ]
    },
    {
     "name": "stderr",
     "output_type": "stream",
     "text": [
      "d:\\Irvin\\Irvin\\Python\\pandas\\modulos\\pruebas\\../..\\clases\\bd\\conexion2.py:37: UserWarning: pandas only supports SQLAlchemy connectable (engine/connection) or database string URI or sqlite3 DBAPI2 connection. Other DBAPI2 objects are not tested. Please consider using SQLAlchemy.\n",
      "  s = pd.read_sql(sql, con=self.conn)\n",
      "d:\\Irvin\\Irvin\\Python\\pandas\\modulos\\pruebas\\../..\\clases\\bd\\conexion2.py:37: UserWarning: pandas only supports SQLAlchemy connectable (engine/connection) or database string URI or sqlite3 DBAPI2 connection. Other DBAPI2 objects are not tested. Please consider using SQLAlchemy.\n",
      "  s = pd.read_sql(sql, con=self.conn)\n"
     ]
    },
    {
     "name": "stdout",
     "output_type": "stream",
     "text": [
      "SELECT pd.id_paciente, pd.fecha_atencion FROM indicadores.paciente_diagnostico pd WHERE pd.codigo_item = '99199.19' AND pd.lab1='4'   AND pd.fecha_atencion BETWEEN '2023-07-01' AND '2023-07-31' and pd.anio_actual_paciente<1\n",
      "SELECT pd.id_paciente, pd.fecha_atencion FROM indicadores.paciente_diagnostico pd WHERE pd.codigo_item = '99199.19' AND pd.lab1='5'   AND pd.fecha_atencion BETWEEN '2023-07-01' AND '2023-07-31' and pd.anio_actual_paciente<1\n",
      "SELECT pd.id_paciente, pd.fecha_atencion FROM indicadores.paciente_diagnostico pd WHERE pd.codigo_item = '99199.19' AND pd.lab1='6'   AND pd.fecha_atencion BETWEEN '2023-07-01' AND '2023-07-31' and pd.anio_actual_paciente<1\n",
      "SELECT pd.id_paciente, pd.fecha_atencion FROM indicadores.paciente_diagnostico pd WHERE pd.codigo_item = '96150.01'    AND pd.fecha_atencion BETWEEN '2023-07-01' AND '2023-07-31' and pd.anio_actual_paciente<1\n"
     ]
    },
    {
     "name": "stderr",
     "output_type": "stream",
     "text": [
      "d:\\Irvin\\Irvin\\Python\\pandas\\modulos\\pruebas\\../..\\clases\\bd\\conexion2.py:37: UserWarning: pandas only supports SQLAlchemy connectable (engine/connection) or database string URI or sqlite3 DBAPI2 connection. Other DBAPI2 objects are not tested. Please consider using SQLAlchemy.\n",
      "  s = pd.read_sql(sql, con=self.conn)\n",
      "d:\\Irvin\\Irvin\\Python\\pandas\\modulos\\pruebas\\../..\\clases\\bd\\conexion2.py:37: UserWarning: pandas only supports SQLAlchemy connectable (engine/connection) or database string URI or sqlite3 DBAPI2 connection. Other DBAPI2 objects are not tested. Please consider using SQLAlchemy.\n",
      "  s = pd.read_sql(sql, con=self.conn)\n",
      "d:\\Irvin\\Irvin\\Python\\pandas\\modulos\\pruebas\\../..\\clases\\bd\\conexion2.py:37: UserWarning: pandas only supports SQLAlchemy connectable (engine/connection) or database string URI or sqlite3 DBAPI2 connection. Other DBAPI2 objects are not tested. Please consider using SQLAlchemy.\n",
      "  s = pd.read_sql(sql, con=self.conn)\n",
      "d:\\Irvin\\Irvin\\Python\\pandas\\modulos\\pruebas\\../..\\clases\\bd\\conexion2.py:37: UserWarning: pandas only supports SQLAlchemy connectable (engine/connection) or database string URI or sqlite3 DBAPI2 connection. Other DBAPI2 objects are not tested. Please consider using SQLAlchemy.\n",
      "  s = pd.read_sql(sql, con=self.conn)\n",
      "d:\\Irvin\\Irvin\\Python\\pandas\\modulos\\pruebas\\../..\\clases\\bd\\conexion2.py:37: UserWarning: pandas only supports SQLAlchemy connectable (engine/connection) or database string URI or sqlite3 DBAPI2 connection. Other DBAPI2 objects are not tested. Please consider using SQLAlchemy.\n",
      "  s = pd.read_sql(sql, con=self.conn)\n"
     ]
    },
    {
     "name": "stdout",
     "output_type": "stream",
     "text": [
      "SELECT pd.id_paciente, pd.fecha_atencion FROM indicadores.paciente_diagnostico pd WHERE pd.codigo_item = '99402.09'    AND pd.fecha_atencion BETWEEN '2023-07-01' AND '2023-07-31' and pd.anio_actual_paciente<1\n"
     ]
    },
    {
     "name": "stderr",
     "output_type": "stream",
     "text": [
      "d:\\Irvin\\Irvin\\Python\\pandas\\modulos\\pruebas\\../..\\clases\\bd\\conexion2.py:37: UserWarning: pandas only supports SQLAlchemy connectable (engine/connection) or database string URI or sqlite3 DBAPI2 connection. Other DBAPI2 objects are not tested. Please consider using SQLAlchemy.\n",
      "  s = pd.read_sql(sql, con=self.conn)\n",
      "d:\\Irvin\\Irvin\\Python\\pandas\\modulos\\pruebas\\../..\\clases\\bd\\conexion2.py:37: UserWarning: pandas only supports SQLAlchemy connectable (engine/connection) or database string URI or sqlite3 DBAPI2 connection. Other DBAPI2 objects are not tested. Please consider using SQLAlchemy.\n",
      "  s = pd.read_sql(sql, con=self.conn)\n",
      "d:\\Irvin\\Irvin\\Python\\pandas\\modulos\\pruebas\\../..\\clases\\bd\\conexion2.py:37: UserWarning: pandas only supports SQLAlchemy connectable (engine/connection) or database string URI or sqlite3 DBAPI2 connection. Other DBAPI2 objects are not tested. Please consider using SQLAlchemy.\n",
      "  s = pd.read_sql(sql, con=self.conn)\n",
      "d:\\Irvin\\Irvin\\Python\\pandas\\modulos\\pruebas\\../..\\clases\\bd\\conexion2.py:37: UserWarning: pandas only supports SQLAlchemy connectable (engine/connection) or database string URI or sqlite3 DBAPI2 connection. Other DBAPI2 objects are not tested. Please consider using SQLAlchemy.\n",
      "  s = pd.read_sql(sql, con=self.conn)\n",
      "d:\\Irvin\\Irvin\\Python\\pandas\\modulos\\pruebas\\../..\\clases\\bd\\conexion2.py:37: UserWarning: pandas only supports SQLAlchemy connectable (engine/connection) or database string URI or sqlite3 DBAPI2 connection. Other DBAPI2 objects are not tested. Please consider using SQLAlchemy.\n",
      "  s = pd.read_sql(sql, con=self.conn)\n",
      "d:\\Irvin\\Irvin\\Python\\pandas\\modulos\\pruebas\\../..\\clases\\bd\\conexion2.py:37: UserWarning: pandas only supports SQLAlchemy connectable (engine/connection) or database string URI or sqlite3 DBAPI2 connection. Other DBAPI2 objects are not tested. Please consider using SQLAlchemy.\n",
      "  s = pd.read_sql(sql, con=self.conn)\n",
      "d:\\Irvin\\Irvin\\Python\\pandas\\modulos\\pruebas\\../..\\clases\\bd\\conexion2.py:37: UserWarning: pandas only supports SQLAlchemy connectable (engine/connection) or database string URI or sqlite3 DBAPI2 connection. Other DBAPI2 objects are not tested. Please consider using SQLAlchemy.\n",
      "  s = pd.read_sql(sql, con=self.conn)\n",
      "d:\\Irvin\\Irvin\\Python\\pandas\\modulos\\pruebas\\../..\\clases\\bd\\conexion2.py:37: UserWarning: pandas only supports SQLAlchemy connectable (engine/connection) or database string URI or sqlite3 DBAPI2 connection. Other DBAPI2 objects are not tested. Please consider using SQLAlchemy.\n",
      "  s = pd.read_sql(sql, con=self.conn)\n"
     ]
    },
    {
     "name": "stdout",
     "output_type": "stream",
     "text": [
      "SELECT pd.id_paciente, pd.fecha_atencion FROM indicadores.paciente_diagnostico pd WHERE pd.codigo_item = '99436.02'    AND pd.fecha_atencion BETWEEN '2023-07-01' AND '2023-07-31' and pd.anio_actual_paciente<1\n",
      "SELECT pd.id_paciente, pd.fecha_atencion FROM indicadores.paciente_diagnostico pd WHERE pd.codigo_item = '99431'    AND pd.fecha_atencion BETWEEN '2023-07-01' AND '2023-07-31' and pd.anio_actual_paciente<1\n",
      "SELECT pd.id_paciente, pd.fecha_atencion FROM indicadores.paciente_diagnostico pd WHERE pd.codigo_item = '99460'    AND pd.fecha_atencion BETWEEN '2023-07-01' AND '2023-07-31' and pd.anio_actual_paciente<1\n",
      "SELECT pd.id_paciente, pd.fecha_atencion FROM indicadores.paciente_diagnostico pd WHERE pd.codigo_item = '36416'    AND pd.fecha_atencion BETWEEN '2023-07-01' AND '2023-07-31' and pd.anio_actual_paciente<1\n",
      "SELECT pd.id_paciente, pd.fecha_atencion FROM indicadores.paciente_diagnostico pd WHERE pd.codigo_item = '99401'    AND pd.fecha_atencion BETWEEN '2023-07-01' AND '2023-07-31' and pd.anio_actual_paciente<1\n"
     ]
    },
    {
     "name": "stderr",
     "output_type": "stream",
     "text": [
      "d:\\Irvin\\Irvin\\Python\\pandas\\modulos\\pruebas\\../..\\clases\\bd\\conexion2.py:37: UserWarning: pandas only supports SQLAlchemy connectable (engine/connection) or database string URI or sqlite3 DBAPI2 connection. Other DBAPI2 objects are not tested. Please consider using SQLAlchemy.\n",
      "  s = pd.read_sql(sql, con=self.conn)\n",
      "d:\\Irvin\\Irvin\\Python\\pandas\\modulos\\pruebas\\../..\\clases\\bd\\conexion2.py:37: UserWarning: pandas only supports SQLAlchemy connectable (engine/connection) or database string URI or sqlite3 DBAPI2 connection. Other DBAPI2 objects are not tested. Please consider using SQLAlchemy.\n",
      "  s = pd.read_sql(sql, con=self.conn)\n"
     ]
    },
    {
     "name": "stdout",
     "output_type": "stream",
     "text": [
      "SELECT pd.id_paciente, pd.fecha_atencion FROM indicadores.paciente_diagnostico pd WHERE pd.codigo_item = 'C8002' AND pd.lab1='1'   AND pd.fecha_atencion BETWEEN '2023-07-01' AND '2023-07-31' and pd.anio_actual_paciente<1\n",
      "SELECT pd.id_paciente, pd.fecha_atencion FROM indicadores.paciente_diagnostico pd WHERE pd.codigo_item = 'C8002' AND pd.lab1='TA'   AND pd.fecha_atencion BETWEEN '2023-07-01' AND '2023-07-31' and pd.anio_actual_paciente<1\n"
     ]
    },
    {
     "name": "stderr",
     "output_type": "stream",
     "text": [
      "d:\\Irvin\\Irvin\\Python\\pandas\\modulos\\pruebas\\../..\\clases\\bd\\conexion2.py:37: UserWarning: pandas only supports SQLAlchemy connectable (engine/connection) or database string URI or sqlite3 DBAPI2 connection. Other DBAPI2 objects are not tested. Please consider using SQLAlchemy.\n",
      "  s = pd.read_sql(sql, con=self.conn)\n",
      "d:\\Irvin\\Irvin\\Python\\pandas\\modulos\\pruebas\\../..\\clases\\bd\\conexion2.py:37: UserWarning: pandas only supports SQLAlchemy connectable (engine/connection) or database string URI or sqlite3 DBAPI2 connection. Other DBAPI2 objects are not tested. Please consider using SQLAlchemy.\n",
      "  s = pd.read_sql(sql, con=self.conn)\n",
      "d:\\Irvin\\Irvin\\Python\\pandas\\modulos\\pruebas\\../..\\clases\\bd\\conexion2.py:37: UserWarning: pandas only supports SQLAlchemy connectable (engine/connection) or database string URI or sqlite3 DBAPI2 connection. Other DBAPI2 objects are not tested. Please consider using SQLAlchemy.\n",
      "  s = pd.read_sql(sql, con=self.conn)\n"
     ]
    },
    {
     "name": "stdout",
     "output_type": "stream",
     "text": [
      "SELECT pd.id_paciente, pd.fecha_atencion FROM indicadores.paciente_diagnostico pd WHERE pd.codigo_item = '99381.01' AND pd.lab1='1'   AND pd.fecha_atencion BETWEEN '2023-07-01' AND '2023-07-31' and pd.anio_actual_paciente<1\n",
      "SELECT pd.id_paciente, pd.fecha_atencion FROM indicadores.paciente_diagnostico pd WHERE pd.codigo_item = '99381.01' AND pd.lab1='2'   AND pd.fecha_atencion BETWEEN '2023-07-01' AND '2023-07-31' and pd.anio_actual_paciente<1\n",
      "SELECT pd.id_paciente, pd.fecha_atencion FROM indicadores.paciente_diagnostico pd WHERE pd.codigo_item = '99381.01' AND pd.lab1='3'   AND pd.fecha_atencion BETWEEN '2023-07-01' AND '2023-07-31' and pd.anio_actual_paciente<1\n"
     ]
    },
    {
     "name": "stderr",
     "output_type": "stream",
     "text": [
      "d:\\Irvin\\Irvin\\Python\\pandas\\modulos\\pruebas\\../..\\clases\\bd\\conexion2.py:37: UserWarning: pandas only supports SQLAlchemy connectable (engine/connection) or database string URI or sqlite3 DBAPI2 connection. Other DBAPI2 objects are not tested. Please consider using SQLAlchemy.\n",
      "  s = pd.read_sql(sql, con=self.conn)\n",
      "d:\\Irvin\\Irvin\\Python\\pandas\\modulos\\pruebas\\../..\\clases\\bd\\conexion2.py:37: UserWarning: pandas only supports SQLAlchemy connectable (engine/connection) or database string URI or sqlite3 DBAPI2 connection. Other DBAPI2 objects are not tested. Please consider using SQLAlchemy.\n",
      "  s = pd.read_sql(sql, con=self.conn)\n"
     ]
    },
    {
     "name": "stdout",
     "output_type": "stream",
     "text": [
      "SELECT pd.id_paciente, pd.fecha_atencion FROM indicadores.paciente_diagnostico pd WHERE pd.codigo_item = '99381.01' AND pd.lab1='4'   AND pd.fecha_atencion BETWEEN '2023-07-01' AND '2023-07-31' and pd.anio_actual_paciente<1\n",
      "SELECT pd.id_paciente, pd.fecha_atencion FROM indicadores.paciente_diagnostico pd WHERE pd.codigo_item = '99381' AND pd.lab1='1'   AND pd.fecha_atencion BETWEEN '2023-07-01' AND '2023-07-31' and pd.anio_actual_paciente<1\n"
     ]
    },
    {
     "name": "stderr",
     "output_type": "stream",
     "text": [
      "d:\\Irvin\\Irvin\\Python\\pandas\\modulos\\pruebas\\../..\\clases\\bd\\conexion2.py:37: UserWarning: pandas only supports SQLAlchemy connectable (engine/connection) or database string URI or sqlite3 DBAPI2 connection. Other DBAPI2 objects are not tested. Please consider using SQLAlchemy.\n",
      "  s = pd.read_sql(sql, con=self.conn)\n",
      "d:\\Irvin\\Irvin\\Python\\pandas\\modulos\\pruebas\\../..\\clases\\bd\\conexion2.py:37: UserWarning: pandas only supports SQLAlchemy connectable (engine/connection) or database string URI or sqlite3 DBAPI2 connection. Other DBAPI2 objects are not tested. Please consider using SQLAlchemy.\n",
      "  s = pd.read_sql(sql, con=self.conn)\n"
     ]
    },
    {
     "name": "stdout",
     "output_type": "stream",
     "text": [
      "SELECT pd.id_paciente, pd.fecha_atencion FROM indicadores.paciente_diagnostico pd WHERE pd.codigo_item = '99381' AND pd.lab1='2'   AND pd.fecha_atencion BETWEEN '2023-07-01' AND '2023-07-31' and pd.anio_actual_paciente<1\n"
     ]
    },
    {
     "name": "stderr",
     "output_type": "stream",
     "text": [
      "d:\\Irvin\\Irvin\\Python\\pandas\\modulos\\pruebas\\../..\\clases\\bd\\conexion2.py:37: UserWarning: pandas only supports SQLAlchemy connectable (engine/connection) or database string URI or sqlite3 DBAPI2 connection. Other DBAPI2 objects are not tested. Please consider using SQLAlchemy.\n",
      "  s = pd.read_sql(sql, con=self.conn)\n"
     ]
    },
    {
     "name": "stdout",
     "output_type": "stream",
     "text": [
      "SELECT pd.id_paciente, pd.fecha_atencion FROM indicadores.paciente_diagnostico pd WHERE pd.codigo_item = '99381' AND pd.lab1='3'   AND pd.fecha_atencion BETWEEN '2023-07-01' AND '2023-07-31' and pd.anio_actual_paciente<1\n",
      "SELECT pd.id_paciente, pd.fecha_atencion FROM indicadores.paciente_diagnostico pd WHERE pd.codigo_item = '99381' AND pd.lab1='4'   AND pd.fecha_atencion BETWEEN '2023-07-01' AND '2023-07-31' and pd.anio_actual_paciente<1\n"
     ]
    },
    {
     "name": "stderr",
     "output_type": "stream",
     "text": [
      "d:\\Irvin\\Irvin\\Python\\pandas\\modulos\\pruebas\\../..\\clases\\bd\\conexion2.py:37: UserWarning: pandas only supports SQLAlchemy connectable (engine/connection) or database string URI or sqlite3 DBAPI2 connection. Other DBAPI2 objects are not tested. Please consider using SQLAlchemy.\n",
      "  s = pd.read_sql(sql, con=self.conn)\n",
      "d:\\Irvin\\Irvin\\Python\\pandas\\modulos\\pruebas\\../..\\clases\\bd\\conexion2.py:37: UserWarning: pandas only supports SQLAlchemy connectable (engine/connection) or database string URI or sqlite3 DBAPI2 connection. Other DBAPI2 objects are not tested. Please consider using SQLAlchemy.\n",
      "  s = pd.read_sql(sql, con=self.conn)\n"
     ]
    },
    {
     "name": "stdout",
     "output_type": "stream",
     "text": [
      "SELECT pd.id_paciente, pd.fecha_atencion FROM indicadores.paciente_diagnostico pd WHERE pd.codigo_item = '99381' AND pd.lab1='5'   AND pd.fecha_atencion BETWEEN '2023-07-01' AND '2023-07-31' and pd.anio_actual_paciente<1\n",
      "SELECT pd.id_paciente, pd.fecha_atencion FROM indicadores.paciente_diagnostico pd WHERE pd.codigo_item = '99381' AND pd.lab1='6'   AND pd.fecha_atencion BETWEEN '2023-07-01' AND '2023-07-31' and pd.anio_actual_paciente<1\n"
     ]
    },
    {
     "name": "stderr",
     "output_type": "stream",
     "text": [
      "d:\\Irvin\\Irvin\\Python\\pandas\\modulos\\pruebas\\../..\\clases\\bd\\conexion2.py:37: UserWarning: pandas only supports SQLAlchemy connectable (engine/connection) or database string URI or sqlite3 DBAPI2 connection. Other DBAPI2 objects are not tested. Please consider using SQLAlchemy.\n",
      "  s = pd.read_sql(sql, con=self.conn)\n",
      "d:\\Irvin\\Irvin\\Python\\pandas\\modulos\\pruebas\\../..\\clases\\bd\\conexion2.py:37: UserWarning: pandas only supports SQLAlchemy connectable (engine/connection) or database string URI or sqlite3 DBAPI2 connection. Other DBAPI2 objects are not tested. Please consider using SQLAlchemy.\n",
      "  s = pd.read_sql(sql, con=self.conn)\n"
     ]
    },
    {
     "name": "stdout",
     "output_type": "stream",
     "text": [
      "SELECT pd.id_paciente, pd.fecha_atencion FROM indicadores.paciente_diagnostico pd WHERE pd.codigo_item = '99381' AND pd.lab1='7'   AND pd.fecha_atencion BETWEEN '2023-07-01' AND '2023-07-31' and pd.anio_actual_paciente<1\n",
      "SELECT pd.id_paciente, pd.fecha_atencion FROM indicadores.paciente_diagnostico pd WHERE pd.codigo_item = '99381' AND pd.lab1='8'   AND pd.fecha_atencion BETWEEN '2023-07-01' AND '2023-07-31' and pd.anio_actual_paciente<1\n",
      "SELECT pd.id_paciente, pd.fecha_atencion FROM indicadores.paciente_diagnostico pd WHERE pd.codigo_item = '99381' AND pd.lab1='9'   AND pd.fecha_atencion BETWEEN '2023-07-01' AND '2023-07-31' and pd.anio_actual_paciente<1\n"
     ]
    },
    {
     "name": "stderr",
     "output_type": "stream",
     "text": [
      "d:\\Irvin\\Irvin\\Python\\pandas\\modulos\\pruebas\\../..\\clases\\bd\\conexion2.py:37: UserWarning: pandas only supports SQLAlchemy connectable (engine/connection) or database string URI or sqlite3 DBAPI2 connection. Other DBAPI2 objects are not tested. Please consider using SQLAlchemy.\n",
      "  s = pd.read_sql(sql, con=self.conn)\n",
      "d:\\Irvin\\Irvin\\Python\\pandas\\modulos\\pruebas\\../..\\clases\\bd\\conexion2.py:37: UserWarning: pandas only supports SQLAlchemy connectable (engine/connection) or database string URI or sqlite3 DBAPI2 connection. Other DBAPI2 objects are not tested. Please consider using SQLAlchemy.\n",
      "  s = pd.read_sql(sql, con=self.conn)\n",
      "d:\\Irvin\\Irvin\\Python\\pandas\\modulos\\pruebas\\../..\\clases\\bd\\conexion2.py:37: UserWarning: pandas only supports SQLAlchemy connectable (engine/connection) or database string URI or sqlite3 DBAPI2 connection. Other DBAPI2 objects are not tested. Please consider using SQLAlchemy.\n",
      "  s = pd.read_sql(sql, con=self.conn)\n"
     ]
    },
    {
     "name": "stdout",
     "output_type": "stream",
     "text": [
      "SELECT pd.id_paciente, pd.fecha_atencion FROM indicadores.paciente_diagnostico pd WHERE pd.codigo_item = '99381' AND pd.lab1='10'   AND pd.fecha_atencion BETWEEN '2023-07-01' AND '2023-07-31' and pd.anio_actual_paciente<1\n",
      "SELECT pd.id_paciente, pd.fecha_atencion FROM indicadores.paciente_diagnostico pd WHERE pd.codigo_item = '99381' AND pd.lab1='11'   AND pd.fecha_atencion BETWEEN '2023-07-01' AND '2023-07-31' and pd.anio_actual_paciente<1\n",
      "SELECT pd.id_paciente, pd.fecha_atencion FROM indicadores.paciente_diagnostico pd WHERE pd.codigo_item = '90585'    AND pd.fecha_atencion BETWEEN '2023-07-01' AND '2023-07-31' and pd.anio_actual_paciente<1\n"
     ]
    },
    {
     "name": "stderr",
     "output_type": "stream",
     "text": [
      "d:\\Irvin\\Irvin\\Python\\pandas\\modulos\\pruebas\\../..\\clases\\bd\\conexion2.py:37: UserWarning: pandas only supports SQLAlchemy connectable (engine/connection) or database string URI or sqlite3 DBAPI2 connection. Other DBAPI2 objects are not tested. Please consider using SQLAlchemy.\n",
      "  s = pd.read_sql(sql, con=self.conn)\n",
      "d:\\Irvin\\Irvin\\Python\\pandas\\modulos\\pruebas\\../..\\clases\\bd\\conexion2.py:37: UserWarning: pandas only supports SQLAlchemy connectable (engine/connection) or database string URI or sqlite3 DBAPI2 connection. Other DBAPI2 objects are not tested. Please consider using SQLAlchemy.\n",
      "  s = pd.read_sql(sql, con=self.conn)\n",
      "d:\\Irvin\\Irvin\\Python\\pandas\\modulos\\pruebas\\../..\\clases\\bd\\conexion2.py:37: UserWarning: pandas only supports SQLAlchemy connectable (engine/connection) or database string URI or sqlite3 DBAPI2 connection. Other DBAPI2 objects are not tested. Please consider using SQLAlchemy.\n",
      "  s = pd.read_sql(sql, con=self.conn)\n",
      "d:\\Irvin\\Irvin\\Python\\pandas\\modulos\\pruebas\\../..\\clases\\bd\\conexion2.py:37: UserWarning: pandas only supports SQLAlchemy connectable (engine/connection) or database string URI or sqlite3 DBAPI2 connection. Other DBAPI2 objects are not tested. Please consider using SQLAlchemy.\n",
      "  s = pd.read_sql(sql, con=self.conn)\n",
      "d:\\Irvin\\Irvin\\Python\\pandas\\modulos\\pruebas\\../..\\clases\\bd\\conexion2.py:37: UserWarning: pandas only supports SQLAlchemy connectable (engine/connection) or database string URI or sqlite3 DBAPI2 connection. Other DBAPI2 objects are not tested. Please consider using SQLAlchemy.\n",
      "  s = pd.read_sql(sql, con=self.conn)\n"
     ]
    },
    {
     "name": "stdout",
     "output_type": "stream",
     "text": [
      "SELECT pd.id_paciente, pd.fecha_atencion FROM indicadores.paciente_diagnostico pd WHERE pd.codigo_item = '90744'    AND pd.fecha_atencion BETWEEN '2023-07-01' AND '2023-07-31' and pd.anio_actual_paciente<1\n",
      "SELECT pd.id_paciente, pd.fecha_atencion FROM indicadores.paciente_diagnostico pd WHERE pd.codigo_item = '90713' AND pd.lab1='1'   AND pd.fecha_atencion BETWEEN '2023-07-01' AND '2023-07-31' and pd.anio_actual_paciente<1\n"
     ]
    },
    {
     "name": "stderr",
     "output_type": "stream",
     "text": [
      "d:\\Irvin\\Irvin\\Python\\pandas\\modulos\\pruebas\\../..\\clases\\bd\\conexion2.py:37: UserWarning: pandas only supports SQLAlchemy connectable (engine/connection) or database string URI or sqlite3 DBAPI2 connection. Other DBAPI2 objects are not tested. Please consider using SQLAlchemy.\n",
      "  s = pd.read_sql(sql, con=self.conn)\n",
      "d:\\Irvin\\Irvin\\Python\\pandas\\modulos\\pruebas\\../..\\clases\\bd\\conexion2.py:37: UserWarning: pandas only supports SQLAlchemy connectable (engine/connection) or database string URI or sqlite3 DBAPI2 connection. Other DBAPI2 objects are not tested. Please consider using SQLAlchemy.\n",
      "  s = pd.read_sql(sql, con=self.conn)\n"
     ]
    },
    {
     "name": "stdout",
     "output_type": "stream",
     "text": [
      "SELECT pd.id_paciente, pd.fecha_atencion FROM indicadores.paciente_diagnostico pd WHERE pd.codigo_item = '90723' AND pd.lab1='1'   AND pd.fecha_atencion BETWEEN '2023-07-01' AND '2023-07-31' and pd.anio_actual_paciente<1\n",
      "SELECT pd.id_paciente, pd.fecha_atencion FROM indicadores.paciente_diagnostico pd WHERE pd.codigo_item = '90670' AND pd.lab1='1'   AND pd.fecha_atencion BETWEEN '2023-07-01' AND '2023-07-31' and pd.anio_actual_paciente<1\n"
     ]
    },
    {
     "name": "stderr",
     "output_type": "stream",
     "text": [
      "d:\\Irvin\\Irvin\\Python\\pandas\\modulos\\pruebas\\../..\\clases\\bd\\conexion2.py:37: UserWarning: pandas only supports SQLAlchemy connectable (engine/connection) or database string URI or sqlite3 DBAPI2 connection. Other DBAPI2 objects are not tested. Please consider using SQLAlchemy.\n",
      "  s = pd.read_sql(sql, con=self.conn)\n",
      "d:\\Irvin\\Irvin\\Python\\pandas\\modulos\\pruebas\\../..\\clases\\bd\\conexion2.py:37: UserWarning: pandas only supports SQLAlchemy connectable (engine/connection) or database string URI or sqlite3 DBAPI2 connection. Other DBAPI2 objects are not tested. Please consider using SQLAlchemy.\n",
      "  s = pd.read_sql(sql, con=self.conn)\n"
     ]
    },
    {
     "name": "stdout",
     "output_type": "stream",
     "text": [
      "SELECT pd.id_paciente, pd.fecha_atencion FROM indicadores.paciente_diagnostico pd WHERE pd.codigo_item = '90681' AND pd.lab1='1'   AND pd.fecha_atencion BETWEEN '2023-07-01' AND '2023-07-31' and pd.anio_actual_paciente<1\n",
      "SELECT pd.id_paciente, pd.fecha_atencion FROM indicadores.paciente_diagnostico pd WHERE pd.codigo_item = '90713' AND pd.lab1='2'   AND pd.fecha_atencion BETWEEN '2023-07-01' AND '2023-07-31' and pd.anio_actual_paciente<1\n"
     ]
    },
    {
     "name": "stderr",
     "output_type": "stream",
     "text": [
      "d:\\Irvin\\Irvin\\Python\\pandas\\modulos\\pruebas\\../..\\clases\\bd\\conexion2.py:37: UserWarning: pandas only supports SQLAlchemy connectable (engine/connection) or database string URI or sqlite3 DBAPI2 connection. Other DBAPI2 objects are not tested. Please consider using SQLAlchemy.\n",
      "  s = pd.read_sql(sql, con=self.conn)\n",
      "d:\\Irvin\\Irvin\\Python\\pandas\\modulos\\pruebas\\../..\\clases\\bd\\conexion2.py:37: UserWarning: pandas only supports SQLAlchemy connectable (engine/connection) or database string URI or sqlite3 DBAPI2 connection. Other DBAPI2 objects are not tested. Please consider using SQLAlchemy.\n",
      "  s = pd.read_sql(sql, con=self.conn)\n"
     ]
    },
    {
     "name": "stdout",
     "output_type": "stream",
     "text": [
      "SELECT pd.id_paciente, pd.fecha_atencion FROM indicadores.paciente_diagnostico pd WHERE pd.codigo_item = '90723' AND pd.lab1='2'   AND pd.fecha_atencion BETWEEN '2023-07-01' AND '2023-07-31' and pd.anio_actual_paciente<1\n",
      "SELECT pd.id_paciente, pd.fecha_atencion FROM indicadores.paciente_diagnostico pd WHERE pd.codigo_item = '90670' AND pd.lab1='2'   AND pd.fecha_atencion BETWEEN '2023-07-01' AND '2023-07-31' and pd.anio_actual_paciente<1\n"
     ]
    },
    {
     "name": "stderr",
     "output_type": "stream",
     "text": [
      "d:\\Irvin\\Irvin\\Python\\pandas\\modulos\\pruebas\\../..\\clases\\bd\\conexion2.py:37: UserWarning: pandas only supports SQLAlchemy connectable (engine/connection) or database string URI or sqlite3 DBAPI2 connection. Other DBAPI2 objects are not tested. Please consider using SQLAlchemy.\n",
      "  s = pd.read_sql(sql, con=self.conn)\n",
      "d:\\Irvin\\Irvin\\Python\\pandas\\modulos\\pruebas\\../..\\clases\\bd\\conexion2.py:37: UserWarning: pandas only supports SQLAlchemy connectable (engine/connection) or database string URI or sqlite3 DBAPI2 connection. Other DBAPI2 objects are not tested. Please consider using SQLAlchemy.\n",
      "  s = pd.read_sql(sql, con=self.conn)\n"
     ]
    },
    {
     "name": "stdout",
     "output_type": "stream",
     "text": [
      "SELECT pd.id_paciente, pd.fecha_atencion FROM indicadores.paciente_diagnostico pd WHERE pd.codigo_item = '90681' AND pd.lab1='2'   AND pd.fecha_atencion BETWEEN '2023-07-01' AND '2023-07-31' and pd.anio_actual_paciente<1\n",
      "SELECT pd.id_paciente, pd.fecha_atencion FROM indicadores.paciente_diagnostico pd WHERE pd.codigo_item = '90657' AND pd.lab1='1'   AND pd.fecha_atencion BETWEEN '2023-07-01' AND '2023-07-31' and pd.anio_actual_paciente<1\n"
     ]
    },
    {
     "name": "stderr",
     "output_type": "stream",
     "text": [
      "d:\\Irvin\\Irvin\\Python\\pandas\\modulos\\pruebas\\../..\\clases\\bd\\conexion2.py:37: UserWarning: pandas only supports SQLAlchemy connectable (engine/connection) or database string URI or sqlite3 DBAPI2 connection. Other DBAPI2 objects are not tested. Please consider using SQLAlchemy.\n",
      "  s = pd.read_sql(sql, con=self.conn)\n",
      "d:\\Irvin\\Irvin\\Python\\pandas\\modulos\\pruebas\\../..\\clases\\bd\\conexion2.py:37: UserWarning: pandas only supports SQLAlchemy connectable (engine/connection) or database string URI or sqlite3 DBAPI2 connection. Other DBAPI2 objects are not tested. Please consider using SQLAlchemy.\n",
      "  s = pd.read_sql(sql, con=self.conn)\n"
     ]
    },
    {
     "name": "stdout",
     "output_type": "stream",
     "text": [
      "SELECT pd.id_paciente, pd.fecha_atencion FROM indicadores.paciente_diagnostico pd WHERE pd.codigo_item = '90749.03' AND pd.lab1='1'   AND pd.fecha_atencion BETWEEN '2023-07-01' AND '2023-07-31' and pd.anio_actual_paciente<1\n"
     ]
    },
    {
     "name": "stderr",
     "output_type": "stream",
     "text": [
      "d:\\Irvin\\Irvin\\Python\\pandas\\modulos\\pruebas\\../..\\clases\\bd\\conexion2.py:37: UserWarning: pandas only supports SQLAlchemy connectable (engine/connection) or database string URI or sqlite3 DBAPI2 connection. Other DBAPI2 objects are not tested. Please consider using SQLAlchemy.\n",
      "  s = pd.read_sql(sql, con=self.conn)\n"
     ]
    },
    {
     "name": "stdout",
     "output_type": "stream",
     "text": [
      "SELECT pd.id_paciente, pd.fecha_atencion FROM indicadores.paciente_diagnostico pd WHERE pd.codigo_item = '90657' AND pd.lab1='2'   AND pd.fecha_atencion BETWEEN '2023-07-01' AND '2023-07-31' and pd.anio_actual_paciente<1\n",
      "SELECT pd.id_paciente, pd.fecha_atencion FROM indicadores.paciente_diagnostico pd WHERE pd.codigo_item = '90749.03' AND pd.lab1='2'   AND pd.fecha_atencion BETWEEN '2023-07-01' AND '2023-07-31' and pd.anio_actual_paciente<1\n"
     ]
    },
    {
     "name": "stderr",
     "output_type": "stream",
     "text": [
      "d:\\Irvin\\Irvin\\Python\\pandas\\modulos\\pruebas\\../..\\clases\\bd\\conexion2.py:37: UserWarning: pandas only supports SQLAlchemy connectable (engine/connection) or database string URI or sqlite3 DBAPI2 connection. Other DBAPI2 objects are not tested. Please consider using SQLAlchemy.\n",
      "  s = pd.read_sql(sql, con=self.conn)\n",
      "d:\\Irvin\\Irvin\\Python\\pandas\\modulos\\pruebas\\../..\\clases\\bd\\conexion2.py:37: UserWarning: pandas only supports SQLAlchemy connectable (engine/connection) or database string URI or sqlite3 DBAPI2 connection. Other DBAPI2 objects are not tested. Please consider using SQLAlchemy.\n",
      "  s = pd.read_sql(sql, con=self.conn)\n",
      "d:\\Irvin\\Irvin\\Python\\pandas\\modulos\\pruebas\\../..\\clases\\bd\\conexion2.py:37: UserWarning: pandas only supports SQLAlchemy connectable (engine/connection) or database string URI or sqlite3 DBAPI2 connection. Other DBAPI2 objects are not tested. Please consider using SQLAlchemy.\n",
      "  s = pd.read_sql(sql, con=self.conn)\n",
      "d:\\Irvin\\Irvin\\Python\\pandas\\modulos\\pruebas\\../..\\clases\\bd\\conexion2.py:37: UserWarning: pandas only supports SQLAlchemy connectable (engine/connection) or database string URI or sqlite3 DBAPI2 connection. Other DBAPI2 objects are not tested. Please consider using SQLAlchemy.\n",
      "  s = pd.read_sql(sql, con=self.conn)\n",
      "d:\\Irvin\\Irvin\\Python\\pandas\\modulos\\pruebas\\../..\\clases\\bd\\conexion2.py:37: UserWarning: pandas only supports SQLAlchemy connectable (engine/connection) or database string URI or sqlite3 DBAPI2 connection. Other DBAPI2 objects are not tested. Please consider using SQLAlchemy.\n",
      "  s = pd.read_sql(sql, con=self.conn)\n",
      "d:\\Irvin\\Irvin\\Python\\pandas\\modulos\\pruebas\\../..\\clases\\bd\\conexion2.py:37: UserWarning: pandas only supports SQLAlchemy connectable (engine/connection) or database string URI or sqlite3 DBAPI2 connection. Other DBAPI2 objects are not tested. Please consider using SQLAlchemy.\n",
      "  s = pd.read_sql(sql, con=self.conn)\n",
      "d:\\Irvin\\Irvin\\Python\\pandas\\modulos\\pruebas\\../..\\clases\\bd\\conexion2.py:37: UserWarning: pandas only supports SQLAlchemy connectable (engine/connection) or database string URI or sqlite3 DBAPI2 connection. Other DBAPI2 objects are not tested. Please consider using SQLAlchemy.\n",
      "  s = pd.read_sql(sql, con=self.conn)\n",
      "d:\\Irvin\\Irvin\\Python\\pandas\\modulos\\pruebas\\../..\\clases\\bd\\conexion2.py:37: UserWarning: pandas only supports SQLAlchemy connectable (engine/connection) or database string URI or sqlite3 DBAPI2 connection. Other DBAPI2 objects are not tested. Please consider using SQLAlchemy.\n",
      "  s = pd.read_sql(sql, con=self.conn)\n",
      "d:\\Irvin\\Irvin\\Python\\pandas\\modulos\\pruebas\\../..\\clases\\bd\\conexion2.py:37: UserWarning: pandas only supports SQLAlchemy connectable (engine/connection) or database string URI or sqlite3 DBAPI2 connection. Other DBAPI2 objects are not tested. Please consider using SQLAlchemy.\n",
      "  s = pd.read_sql(sql, con=self.conn)\n",
      "d:\\Irvin\\Irvin\\Python\\pandas\\modulos\\pruebas\\../..\\clases\\bd\\conexion2.py:37: UserWarning: pandas only supports SQLAlchemy connectable (engine/connection) or database string URI or sqlite3 DBAPI2 connection. Other DBAPI2 objects are not tested. Please consider using SQLAlchemy.\n",
      "  s = pd.read_sql(sql, con=self.conn)\n",
      "d:\\Irvin\\Irvin\\Python\\pandas\\modulos\\pruebas\\../..\\clases\\bd\\conexion2.py:37: UserWarning: pandas only supports SQLAlchemy connectable (engine/connection) or database string URI or sqlite3 DBAPI2 connection. Other DBAPI2 objects are not tested. Please consider using SQLAlchemy.\n",
      "  s = pd.read_sql(sql, con=self.conn)\n",
      "d:\\Irvin\\Irvin\\Python\\pandas\\modulos\\pruebas\\../..\\clases\\bd\\conexion2.py:37: UserWarning: pandas only supports SQLAlchemy connectable (engine/connection) or database string URI or sqlite3 DBAPI2 connection. Other DBAPI2 objects are not tested. Please consider using SQLAlchemy.\n",
      "  s = pd.read_sql(sql, con=self.conn)\n",
      "d:\\Irvin\\Irvin\\Python\\pandas\\modulos\\pruebas\\../..\\clases\\bd\\conexion2.py:37: UserWarning: pandas only supports SQLAlchemy connectable (engine/connection) or database string URI or sqlite3 DBAPI2 connection. Other DBAPI2 objects are not tested. Please consider using SQLAlchemy.\n",
      "  s = pd.read_sql(sql, con=self.conn)\n",
      "d:\\Irvin\\Irvin\\Python\\pandas\\modulos\\pruebas\\../..\\clases\\bd\\conexion2.py:37: UserWarning: pandas only supports SQLAlchemy connectable (engine/connection) or database string URI or sqlite3 DBAPI2 connection. Other DBAPI2 objects are not tested. Please consider using SQLAlchemy.\n",
      "  s = pd.read_sql(sql, con=self.conn)\n",
      "d:\\Irvin\\Irvin\\Python\\pandas\\modulos\\pruebas\\../..\\clases\\bd\\conexion2.py:37: UserWarning: pandas only supports SQLAlchemy connectable (engine/connection) or database string URI or sqlite3 DBAPI2 connection. Other DBAPI2 objects are not tested. Please consider using SQLAlchemy.\n",
      "  s = pd.read_sql(sql, con=self.conn)\n",
      "d:\\Irvin\\Irvin\\Python\\pandas\\modulos\\pruebas\\../..\\clases\\bd\\conexion2.py:37: UserWarning: pandas only supports SQLAlchemy connectable (engine/connection) or database string URI or sqlite3 DBAPI2 connection. Other DBAPI2 objects are not tested. Please consider using SQLAlchemy.\n",
      "  s = pd.read_sql(sql, con=self.conn)\n",
      "d:\\Irvin\\Irvin\\Python\\pandas\\modulos\\pruebas\\../..\\clases\\bd\\conexion2.py:37: UserWarning: pandas only supports SQLAlchemy connectable (engine/connection) or database string URI or sqlite3 DBAPI2 connection. Other DBAPI2 objects are not tested. Please consider using SQLAlchemy.\n",
      "  s = pd.read_sql(sql, con=self.conn)\n",
      "d:\\Irvin\\Irvin\\Python\\pandas\\modulos\\pruebas\\../..\\clases\\bd\\conexion2.py:37: UserWarning: pandas only supports SQLAlchemy connectable (engine/connection) or database string URI or sqlite3 DBAPI2 connection. Other DBAPI2 objects are not tested. Please consider using SQLAlchemy.\n",
      "  s = pd.read_sql(sql, con=self.conn)\n"
     ]
    },
    {
     "name": "stdout",
     "output_type": "stream",
     "text": [
      "SELECT pd.id_paciente, pd.fecha_atencion FROM indicadores.paciente_diagnostico pd WHERE pd.codigo_item = '85018' AND pd.lab1='1'   AND pd.fecha_atencion BETWEEN '2023-07-01' AND '2023-07-31' and pd.anio_actual_paciente<1\n"
     ]
    }
   ],
   "source": [
    "data = {'id_paciente': []}\n",
    "df = pd.DataFrame(data)\n",
    "df_Paquete = consulta_paquete(conn,2)\n",
    "\n",
    "for index, row1 in df_Paquete.iterrows():\n",
    "    id_p = row1['id']\n",
    "    df_DPaquete=consulta_paquete_detalle(conn,id_p)\n",
    "\n",
    "\n",
    "\n",
    "\n",
    "    for index, row in df_DPaquete.iterrows():\n",
    "        dx = row['codigo_item']\n",
    "        tdx = row['tipo_diagnostico']\n",
    "        desc = row['descripcion']\n",
    "        lab1= \"AND pd.lab1='\"+row['lab_1']+\"'\" if row['lab_1'] is not None  else ''\n",
    "        lab2=\"AND pd.lab2='\"+row['lab_2']+\"'\"  if row['lab_2'] is not None  else ''\n",
    "        lab3=\"AND pd.lab3='\"+row['lab_3']+\"'\"  if row['lab_3'] is not None  else ''   \n",
    "\n",
    "        sql = \"\"\"SELECT pd.id_paciente, pd.fecha_atencion FROM indicadores.paciente_diagnostico pd WHERE pd.codigo_item = '%s' %s %s %s AND pd.fecha_atencion BETWEEN '2023-07-01' AND '2023-07-31' and pd.anio_actual_paciente<1\"\"\" % (dx, lab1, lab2, lab3)\n",
    "        print(sql)\n",
    "        sql = conn.df(sql)\n",
    "        sql['fecha_atencion'] = pd.to_datetime(sql['fecha_atencion'], format='%Y-%m-%d')\n",
    "        sql['fecha_atencion'] = sql['fecha_atencion'].dt.date\n",
    "        sql['id_paciente'] = pd.to_numeric(sql['id_paciente'], errors='coerce')\n",
    "        # INDEXAR\n",
    "        sql = sql.set_index('id_paciente')\n",
    "            # extraer el valosr maximo\n",
    "        sql = sql.groupby(sql.index).tail(1)\n",
    "        \n",
    "        lab1= \"|\"+row['lab_1'] if row['lab_1'] is not None  else ''\n",
    "       # dx2 = dx.replace('.', '_')\n",
    "        dx2 = dx\n",
    "        dx2 = \"\"\"%s.- %s \\n %s%s\"\"\"%(id_p,desc,dx2,lab1)\n",
    "        sql.rename(columns={'fecha_atencion': dx2}, inplace=True)\n",
    "        \n",
    "        df = pd.merge(df, sql, on='id_paciente', how='outer')\n",
    "        \n",
    "        #print(df)\n",
    "df = df.set_index('id_paciente')\n",
    "df=df.reset_index()\n"
   ]
  },
  {
   "cell_type": "code",
   "execution_count": 37,
   "metadata": {},
   "outputs": [
    {
     "name": "stderr",
     "output_type": "stream",
     "text": [
      "d:\\Irvin\\Irvin\\Python\\pandas\\modulos\\pruebas\\../..\\clases\\bd\\conexion2.py:37: UserWarning: pandas only supports SQLAlchemy connectable (engine/connection) or database string URI or sqlite3 DBAPI2 connection. Other DBAPI2 objects are not tested. Please consider using SQLAlchemy.\n",
      "  s = pd.read_sql(sql, con=self.conn)\n"
     ]
    }
   ],
   "source": [
    "def consulta_pacientes(conn):\n",
    "    paquete=conn.df(\"\"\" SELECT mp.id_paciente ,mhtd.abrev_tipo_doc,mp.numero_documento,mp.genero, mp.fecha_nacimiento,mp.id_pais   FROM maestros.maestro_paciente mp \n",
    "INNER JOIN maestros.maestro_his_tipo_doc mhtd ON mp.id_tipo_documento =mhtd.id_tipo_documento  \"\"\")   \n",
    "    paquete['id_paciente'] = paquete['id_paciente'].astype('int64')\n",
    "    return paquete\n",
    "paciente_df =consulta_pacientes(conn)\n"
   ]
  },
  {
   "cell_type": "code",
   "execution_count": 38,
   "metadata": {},
   "outputs": [
    {
     "data": {
      "text/html": [
       "<div>\n",
       "<style scoped>\n",
       "    .dataframe tbody tr th:only-of-type {\n",
       "        vertical-align: middle;\n",
       "    }\n",
       "\n",
       "    .dataframe tbody tr th {\n",
       "        vertical-align: top;\n",
       "    }\n",
       "\n",
       "    .dataframe thead th {\n",
       "        text-align: right;\n",
       "    }\n",
       "</style>\n",
       "<table border=\"1\" class=\"dataframe\">\n",
       "  <thead>\n",
       "    <tr style=\"text-align: right;\">\n",
       "      <th></th>\n",
       "      <th>id_paciente</th>\n",
       "      <th>abrev_tipo_doc</th>\n",
       "      <th>numero_documento</th>\n",
       "      <th>genero</th>\n",
       "      <th>fecha_nacimiento</th>\n",
       "      <th>id_pais</th>\n",
       "      <th>48.- SULFATO FERROSO \\n 99199.17|SF1</th>\n",
       "      <th>48.- SULFATO FERROSO \\n 99199.17|SF2</th>\n",
       "      <th>48.- SULFATO FERROSO \\n 99199.17|SF3</th>\n",
       "      <th>48.- SULFATO FERROSO \\n 99199.17|TA</th>\n",
       "      <th>...</th>\n",
       "      <th>27.- Rotavirus \\n 90681|1</th>\n",
       "      <th>27.- Antipoliomielitica (IPV) \\n 90713|2</th>\n",
       "      <th>27.-  DPT-HvB-HiB \\n 90723|2</th>\n",
       "      <th>27.- Antineumocócica \\n 90670|2</th>\n",
       "      <th>27.- Rotavirus \\n 90681|2</th>\n",
       "      <th>27.- influenza \\n 90657|1</th>\n",
       "      <th>27.- COVID \\n 90749.03|1</th>\n",
       "      <th>27.- influenza \\n 90657|2</th>\n",
       "      <th>27.- COVID \\n 90749.03|2</th>\n",
       "      <th>47.- Dosaje de HB a prematuros \\n 85018|1</th>\n",
       "    </tr>\n",
       "  </thead>\n",
       "  <tbody>\n",
       "    <tr>\n",
       "      <th>0</th>\n",
       "      <td>511011832299</td>\n",
       "      <td>DNI</td>\n",
       "      <td>93142589</td>\n",
       "      <td>M</td>\n",
       "      <td>2022-11-16</td>\n",
       "      <td>PER</td>\n",
       "      <td>NaN</td>\n",
       "      <td>NaN</td>\n",
       "      <td>2023-07-18</td>\n",
       "      <td>NaN</td>\n",
       "      <td>...</td>\n",
       "      <td>NaN</td>\n",
       "      <td>NaN</td>\n",
       "      <td>NaN</td>\n",
       "      <td>NaN</td>\n",
       "      <td>NaN</td>\n",
       "      <td>NaN</td>\n",
       "      <td>NaN</td>\n",
       "      <td>NaN</td>\n",
       "      <td>NaN</td>\n",
       "      <td>NaN</td>\n",
       "    </tr>\n",
       "    <tr>\n",
       "      <th>1</th>\n",
       "      <td>511019692388</td>\n",
       "      <td>DNI</td>\n",
       "      <td>93136161</td>\n",
       "      <td>F</td>\n",
       "      <td>2022-11-11</td>\n",
       "      <td>PER</td>\n",
       "      <td>NaN</td>\n",
       "      <td>2023-07-13</td>\n",
       "      <td>NaN</td>\n",
       "      <td>NaN</td>\n",
       "      <td>...</td>\n",
       "      <td>NaN</td>\n",
       "      <td>NaN</td>\n",
       "      <td>NaN</td>\n",
       "      <td>NaN</td>\n",
       "      <td>NaN</td>\n",
       "      <td>NaN</td>\n",
       "      <td>NaN</td>\n",
       "      <td>2023-07-13</td>\n",
       "      <td>NaN</td>\n",
       "      <td>NaN</td>\n",
       "    </tr>\n",
       "    <tr>\n",
       "      <th>2</th>\n",
       "      <td>511052912535</td>\n",
       "      <td>DNI</td>\n",
       "      <td>93140626</td>\n",
       "      <td>F</td>\n",
       "      <td>2022-11-15</td>\n",
       "      <td>PER</td>\n",
       "      <td>NaN</td>\n",
       "      <td>2023-07-14</td>\n",
       "      <td>NaN</td>\n",
       "      <td>NaN</td>\n",
       "      <td>...</td>\n",
       "      <td>NaN</td>\n",
       "      <td>NaN</td>\n",
       "      <td>NaN</td>\n",
       "      <td>NaN</td>\n",
       "      <td>NaN</td>\n",
       "      <td>NaN</td>\n",
       "      <td>NaN</td>\n",
       "      <td>NaN</td>\n",
       "      <td>NaN</td>\n",
       "      <td>NaN</td>\n",
       "    </tr>\n",
       "    <tr>\n",
       "      <th>3</th>\n",
       "      <td>511056952288</td>\n",
       "      <td>DNI</td>\n",
       "      <td>93129952</td>\n",
       "      <td>M</td>\n",
       "      <td>2022-11-08</td>\n",
       "      <td>PER</td>\n",
       "      <td>NaN</td>\n",
       "      <td>NaN</td>\n",
       "      <td>NaN</td>\n",
       "      <td>NaN</td>\n",
       "      <td>...</td>\n",
       "      <td>NaN</td>\n",
       "      <td>NaN</td>\n",
       "      <td>NaN</td>\n",
       "      <td>NaN</td>\n",
       "      <td>NaN</td>\n",
       "      <td>NaN</td>\n",
       "      <td>NaN</td>\n",
       "      <td>NaN</td>\n",
       "      <td>NaN</td>\n",
       "      <td>NaN</td>\n",
       "    </tr>\n",
       "    <tr>\n",
       "      <th>4</th>\n",
       "      <td>511084862353</td>\n",
       "      <td>DNI</td>\n",
       "      <td>93148160</td>\n",
       "      <td>M</td>\n",
       "      <td>2022-11-21</td>\n",
       "      <td>PER</td>\n",
       "      <td>NaN</td>\n",
       "      <td>NaN</td>\n",
       "      <td>2023-07-28</td>\n",
       "      <td>NaN</td>\n",
       "      <td>...</td>\n",
       "      <td>NaN</td>\n",
       "      <td>NaN</td>\n",
       "      <td>NaN</td>\n",
       "      <td>NaN</td>\n",
       "      <td>NaN</td>\n",
       "      <td>NaN</td>\n",
       "      <td>NaN</td>\n",
       "      <td>NaN</td>\n",
       "      <td>NaN</td>\n",
       "      <td>NaN</td>\n",
       "    </tr>\n",
       "  </tbody>\n",
       "</table>\n",
       "<p>5 rows × 57 columns</p>\n",
       "</div>"
      ],
      "text/plain": [
       "    id_paciente abrev_tipo_doc numero_documento genero fecha_nacimiento  \\\n",
       "0  511011832299            DNI         93142589      M       2022-11-16   \n",
       "1  511019692388            DNI         93136161      F       2022-11-11   \n",
       "2  511052912535            DNI         93140626      F       2022-11-15   \n",
       "3  511056952288            DNI         93129952      M       2022-11-08   \n",
       "4  511084862353            DNI         93148160      M       2022-11-21   \n",
       "\n",
       "  id_pais 48.- SULFATO FERROSO \\n 99199.17|SF1  \\\n",
       "0     PER                                  NaN   \n",
       "1     PER                                  NaN   \n",
       "2     PER                                  NaN   \n",
       "3     PER                                  NaN   \n",
       "4     PER                                  NaN   \n",
       "\n",
       "  48.- SULFATO FERROSO \\n 99199.17|SF2 48.- SULFATO FERROSO \\n 99199.17|SF3  \\\n",
       "0                                  NaN                           2023-07-18   \n",
       "1                           2023-07-13                                  NaN   \n",
       "2                           2023-07-14                                  NaN   \n",
       "3                                  NaN                                  NaN   \n",
       "4                                  NaN                           2023-07-28   \n",
       "\n",
       "  48.- SULFATO FERROSO \\n 99199.17|TA  ... 27.- Rotavirus \\n 90681|1  \\\n",
       "0                                 NaN  ...                       NaN   \n",
       "1                                 NaN  ...                       NaN   \n",
       "2                                 NaN  ...                       NaN   \n",
       "3                                 NaN  ...                       NaN   \n",
       "4                                 NaN  ...                       NaN   \n",
       "\n",
       "  27.- Antipoliomielitica (IPV) \\n 90713|2 27.-  DPT-HvB-HiB \\n 90723|2  \\\n",
       "0                                      NaN                          NaN   \n",
       "1                                      NaN                          NaN   \n",
       "2                                      NaN                          NaN   \n",
       "3                                      NaN                          NaN   \n",
       "4                                      NaN                          NaN   \n",
       "\n",
       "  27.- Antineumocócica \\n 90670|2 27.- Rotavirus \\n 90681|2  \\\n",
       "0                             NaN                       NaN   \n",
       "1                             NaN                       NaN   \n",
       "2                             NaN                       NaN   \n",
       "3                             NaN                       NaN   \n",
       "4                             NaN                       NaN   \n",
       "\n",
       "  27.- influenza \\n 90657|1 27.- COVID \\n 90749.03|1  \\\n",
       "0                       NaN                      NaN   \n",
       "1                       NaN                      NaN   \n",
       "2                       NaN                      NaN   \n",
       "3                       NaN                      NaN   \n",
       "4                       NaN                      NaN   \n",
       "\n",
       "  27.- influenza \\n 90657|2 27.- COVID \\n 90749.03|2  \\\n",
       "0                       NaN                      NaN   \n",
       "1                2023-07-13                      NaN   \n",
       "2                       NaN                      NaN   \n",
       "3                       NaN                      NaN   \n",
       "4                       NaN                      NaN   \n",
       "\n",
       "  47.- Dosaje de HB a prematuros \\n 85018|1  \n",
       "0                                       NaN  \n",
       "1                                       NaN  \n",
       "2                                       NaN  \n",
       "3                                       NaN  \n",
       "4                                       NaN  \n",
       "\n",
       "[5 rows x 57 columns]"
      ]
     },
     "execution_count": 38,
     "metadata": {},
     "output_type": "execute_result"
    }
   ],
   "source": [
    "df_2=paciente_df.merge(df, how='inner', on=['id_paciente'])\n",
    "df_2.head()"
   ]
  },
  {
   "cell_type": "code",
   "execution_count": 39,
   "metadata": {},
   "outputs": [],
   "source": [
    "pd.options.display.float_format = '{:,.0f}'.format\n",
    "\n",
    "df_2.to_excel('Ninio.xlsx', index=False)\n"
   ]
  },
  {
   "cell_type": "code",
   "execution_count": 29,
   "metadata": {},
   "outputs": [],
   "source": []
  },
  {
   "cell_type": "code",
   "execution_count": 28,
   "metadata": {},
   "outputs": [
    {
     "name": "stdout",
     "output_type": "stream",
     "text": [
      "id_paciente                                       int64\n",
      "1.- HVB \\n 90746                                 object\n",
      "1.- H1N1 \\n 90658                                object\n",
      "1.- DTPA \\n 90715                                object\n",
      "2.- GESTANTE CON REGISTRO  \\n Z3491              object\n",
      "                                                  ...  \n",
      "4.- 2DO PLAN DE PARTO  \\n 59401.06|2             object\n",
      "4.- 3RO PLAN DE PARTO  \\n 59401.06|3             object\n",
      "21.- TOTAL DE GESTANTES CON REGISTRO \\n C0011    object\n",
      "21.- TAMIZAJE DE SÍFILIS \\n 86318.01             object\n",
      "21.- TAMIZAJE DE SÍFILIS \\n 86780.01             object\n",
      "Length: 96, dtype: object\n"
     ]
    }
   ],
   "source": [
    "print(df.dtypes)"
   ]
  }
 ],
 "metadata": {
  "kernelspec": {
   "display_name": "Python 3",
   "language": "python",
   "name": "python3"
  },
  "language_info": {
   "codemirror_mode": {
    "name": "ipython",
    "version": 3
   },
   "file_extension": ".py",
   "mimetype": "text/x-python",
   "name": "python",
   "nbconvert_exporter": "python",
   "pygments_lexer": "ipython3",
   "version": "3.11.2"
  },
  "orig_nbformat": 4
 },
 "nbformat": 4,
 "nbformat_minor": 2
}
