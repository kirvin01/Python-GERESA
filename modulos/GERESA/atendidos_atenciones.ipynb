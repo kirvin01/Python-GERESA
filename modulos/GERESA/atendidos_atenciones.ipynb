{
 "cells": [
  {
   "cell_type": "markdown",
   "metadata": {},
   "source": [
    "ATENCIONES"
   ]
  },
  {
   "cell_type": "code",
   "execution_count": null,
   "metadata": {},
   "outputs": [],
   "source": [
    "f\"\"\"SELECT a.provincia,a.distrito,\ta.red\t,a.microred\t,a.nombre_eess\t,a.id_tipo_documento\t,a.numero_documento,\tmax(a.atencion) AS atencion, CASE\n",
    "WHEN a.anio_actual_paciente <= 4 THEN '-a - 4a'\n",
    "WHEN a.anio_actual_paciente >= 5\n",
    "AND a.anio_actual_paciente<= 11 THEN '5 - 11a'\n",
    "WHEN a.anio_actual_paciente >= 12\n",
    "AND a.anio_actual_paciente <= 17 THEN '12a - 17a'\n",
    "WHEN a.anio_actual_paciente >= 18\n",
    "AND a.anio_actual_paciente <= 29 THEN '18a - 29a'\n",
    "WHEN a.anio_actual_paciente >= 30\n",
    "AND a.anio_actual_paciente <= 39 THEN '30a - 39a'\n",
    "WHEN a.anio_actual_paciente >= 40\n",
    "AND a.anio_actual_paciente <= 49 THEN '40a - 49a'\n",
    "WHEN a.anio_actual_paciente >= 50\n",
    "AND a.anio_actual_paciente <= 59 THEN '50a - 59a'\n",
    "WHEN a.anio_actual_paciente >= 60\n",
    "AND a.anio_actual_paciente <= 69 THEN '60a - 69a'\n",
    "WHEN a.anio_actual_paciente >= 70\n",
    "AND a.anio_actual_paciente <= 79 THEN '70a - 79a'\n",
    "WHEN a.anio_actual_paciente >= 80 THEN '80a - +a'\n",
    "ELSE ''\n",
    "    END AS \"etapas\"\n",
    "    FROM (\n",
    "SELECT egc.provincia, egc.distrito, egc.red, egc.microred, egc.nombre_eess , mp.id_tipo_documento, mp.numero_documento ,nt.anio_actual_paciente \n",
    " ,row_number() over (partition by mp.id_tipo_documento,mp.numero_documento,nt.id_establecimiento order by nt.anio,nt.fecha_atencion) as atencion\n",
    "FROM maestros.nominal_trama nt \n",
    "INNER JOIN maestros.maestro_paciente mp ON nt.id_paciente = mp.id_paciente \n",
    "INNER JOIN maestros.eess_geresa_cusco egc  ON egc.id_eess =nt.id_establecimiento \n",
    "WHERE anio =2024\n",
    "AND egc.cod_ue !=0 ) AS a\n",
    "GROUP by\n",
    "a.provincia,a.distrito,\ta.red\t,a.microred\t,a.nombre_eess\t,a.id_tipo_documento\t,a.numero_documento,a.anio_actual_paciente\"\"\""
   ]
  },
  {
   "cell_type": "markdown",
   "metadata": {},
   "source": [
    "ATENDIDOS"
   ]
  },
  {
   "cell_type": "code",
   "execution_count": null,
   "metadata": {},
   "outputs": [],
   "source": [
    "\"\"\" SELECT a.provincia,a.distrito,\ta.red\t,a.microred\t,a.nombre_eess\t,a.id_tipo_documento\t,a.numero_documento,\tatendido     , CASE\n",
    "WHEN a.anio_actual_paciente <= 4 THEN '-a - 4a'\n",
    "WHEN a.anio_actual_paciente >= 5\n",
    "AND a.anio_actual_paciente<= 11 THEN '5 - 11a'\n",
    "WHEN a.anio_actual_paciente >= 12\n",
    "AND a.anio_actual_paciente <= 17 THEN '12a - 17a'\n",
    "WHEN a.anio_actual_paciente >= 18\n",
    "AND a.anio_actual_paciente <= 29 THEN '18a - 29a'\n",
    "WHEN a.anio_actual_paciente >= 30\n",
    "AND a.anio_actual_paciente <= 39 THEN '30a - 39a'\n",
    "WHEN a.anio_actual_paciente >= 40\n",
    "AND a.anio_actual_paciente <= 49 THEN '40a - 49a'\n",
    "WHEN a.anio_actual_paciente >= 50\n",
    "AND a.anio_actual_paciente <= 59 THEN '50a - 59a'\n",
    "WHEN a.anio_actual_paciente >= 60\n",
    "AND a.anio_actual_paciente <= 69 THEN '60a - 69a'\n",
    "WHEN a.anio_actual_paciente >= 70\n",
    "AND a.anio_actual_paciente <= 79 THEN '70a - 79a'\n",
    "WHEN a.anio_actual_paciente >= 80 THEN '80a - +a'\n",
    "ELSE ''\n",
    "    END AS \"etapas\"\n",
    "FROM (\n",
    "SELECT egc.provincia, egc.distrito, egc.red, egc.microred, egc.nombre_eess , mp.id_tipo_documento, mp.numero_documento, nt.anio_actual_paciente \n",
    " ,row_number() over (partition by mp.id_tipo_documento,mp.numero_documento,nt.id_establecimiento order by nt.anio,nt.fecha_atencion) as atendido\n",
    "FROM maestros.nominal_trama nt \n",
    "INNER JOIN maestros.maestro_paciente mp ON nt.id_paciente = mp.id_paciente \n",
    "INNER JOIN maestros.eess_geresa_cusco egc  ON egc.id_eess =nt.id_establecimiento \n",
    "WHERE anio =2024\n",
    "AND egc.cod_ue !=0 \n",
    ") AS a \n",
    "WHERE a.atendido=1 \"\"\""
   ]
  }
 ],
 "metadata": {
  "language_info": {
   "name": "python"
  }
 },
 "nbformat": 4,
 "nbformat_minor": 2
}
