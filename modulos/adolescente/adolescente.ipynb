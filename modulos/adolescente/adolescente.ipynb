{
 "cells": [
  {
   "cell_type": "code",
   "execution_count": 24,
   "metadata": {},
   "outputs": [
    {
     "name": "stdout",
     "output_type": "stream",
     "text": [
      "Conexion exitosa con la Base de datos:irvin_hisminsa\n"
     ]
    }
   ],
   "source": [
    "import pandas as pd\n",
    "import numpy as np\n",
    "import os\n",
    "import glob as gb\n",
    "import sys\n",
    "import datetime\n",
    "\n",
    "sys.path.insert(0, \"../../\")\n",
    "from clases.bd.conexion2 import MyDatabase2\n",
    "conn = MyDatabase2()\n",
    "id=0\n",
    "#from clases.bd.paciente import CPaciente\n",
    "#cpaciente = CPaciente()\n"
   ]
  },
  {
   "cell_type": "code",
   "execution_count": 25,
   "metadata": {},
   "outputs": [],
   "source": [
    "def filtro(**kwargs):\n",
    "    #conn = MyDatabase2()\n",
    "    conn= kwargs['conn']\n",
    "    id = kwargs['id']\n",
    "    df_grupo= kwargs['grupo']\n",
    "    df_codigo= kwargs['codigo']\n",
    "    df_subgrupo= kwargs['subgrupo']\n",
    "    df_detalles= kwargs['detalles']\n",
    "    codigo_item= kwargs['dx1']\n",
    "    tipo_diagnostico= kwargs['t_dx']\n",
    "\n",
    "    lista = codigo_item.split(\",\")\n",
    "    dx=''\n",
    "    for indice, elemento in enumerate(lista):\n",
    "        dx += \"'%s'\"%elemento if indice==0 else \",'%s'\"%elemento\n",
    "#---------------------Config-------------------------------\n",
    "    columnas = 'nt.id_cita,nt.anio,nt.mes,nt.fecha_atencion,nt.id_paciente, nt.id_personal, nt.id_registrador,nt.anio_actual_paciente, nt.tipo_diagnostico,nt.codigo_item, mhe.id_establecimiento,mhe.red,mhe.microred,mhe.nombre_establecimiento,mhe.departamento,mhe.distrito,mhe.provincia'\n",
    "    lab = \"\"\", max(CASE  WHEN nt.id_correlativo_lab='1' THEN nt.valor_lab ELSE null END ) AS \"lab1\", max(CASE  WHEN nt.id_correlativo_lab='2' THEN nt.valor_lab ELSE null END ) AS \"lab2\", max(CASE  WHEN nt.id_correlativo_lab='3' THEN nt.valor_lab ELSE null END ) AS \"lab3\" \"\"\"\n",
    "    GROUP_by = \"GROUP by \" + columnas\n",
    "#---------------------Cabeceras -------------------------------\n",
    "    df_head = \"\"\" '%s' as df_id,'%s' as df_grupo,'%s' as df_codigo,'%s' as df_subgrupo,'%s' as df_detalles,\"\"\" % (\n",
    "        id,df_grupo, df_codigo,df_subgrupo, df_detalles)\n",
    "#---------------------sql -------------------------------\n",
    "    sql = \"\"\"SELECT %s %s %s FROM maestros.nominal_trama nt \n",
    "    INNER JOIN maestros.maestro_his_establecimiento mhe ON mhe.id_establecimiento = nt.id_establecimiento  \n",
    "    WHERE  nt.tipo_diagnostico ='%s' AND codigo_item in(%s)AND nt.anio_actual_paciente BETWEEN 12 AND 17 and nt.anio=2023 %s\n",
    "    \"\"\" % (df_head, columnas ,lab,tipo_diagnostico,dx,GROUP_by)\n",
    "    print(sql)\n",
    "    sql = conn.df(sql)\n",
    "  \n",
    "    \n",
    "    return sql\n",
    "\n",
    "\n"
   ]
  },
  {
   "cell_type": "code",
   "execution_count": 26,
   "metadata": {},
   "outputs": [],
   "source": [
    "def diagnostico2(**kwargs):\n",
    "    #conn = MyDatabase2() \n",
    "    conn= kwargs['conn']\n",
    "    codigo_item= kwargs['dx2']\n",
    "    tipo_diagnostico= kwargs['t_dx2']\n",
    "\n",
    "    lista = codigo_item.split(\",\")\n",
    "    dx=''\n",
    "    for indice, elemento in enumerate(lista):\n",
    "        dx += \"'%s'\"%elemento if indice==0 else \",'%s'\"%elemento\n",
    "#---------------------sql -------------------------------\n",
    "    sql = \"\"\"SELECT nt.id_cita,nt.codigo_item as codigo_item_2,nt.tipo_diagnostico tipo_diagnostico_2  , max(CASE WHEN nt.id_correlativo_lab = '1' THEN nt.valor_lab ELSE NULL END ) AS \"lab1_2\", max(CASE WHEN nt.id_correlativo_lab = '2' THEN nt.valor_lab ELSE NULL END ) AS \"lab2_2\", max(CASE WHEN nt.id_correlativo_lab = '3' THEN nt.valor_lab ELSE NULL END ) AS \"lab3_2\"\n",
    "FROM maestros.nominal_trama nt\n",
    "WHERE nt.tipo_diagnostico ='%s' AND nt.codigo_item ='%s' and nt.anio=2023\n",
    "GROUP by  nt.id_cita,nt.codigo_item,nt.tipo_diagnostico \n",
    "    \"\"\" % (tipo_diagnostico,codigo_item)\n",
    "   # print(sql)\n",
    "    sql = conn.df(sql)\n",
    "  \n",
    "    \n",
    "    return sql\n",
    "def filtro2(**kwargs):\n",
    "        conn= kwargs['conn']\n",
    "        id = kwargs['id']\n",
    "        df_grupo= kwargs['grupo']\n",
    "        df_codigo= kwargs['codigo']\n",
    "        df_subgrupo= kwargs['subgrupo']\n",
    "        df_detalles= kwargs['detalles']\n",
    "        codigo_item= kwargs['dx1']\n",
    "        tipo_diagnostico= kwargs['t_dx1']\n",
    "\n",
    "        codigo_item2= kwargs['dx2']\n",
    "        tipo_diagnostico2= kwargs['t_dx2']\n",
    "\n",
    "        df =filtro(id=id,grupo=df_grupo,codigo=df_codigo,subgrupo=df_subgrupo,detalles=df_detalles,dx1=codigo_item,t_dx=tipo_diagnostico,conn=conn)\n",
    "        df2 = diagnostico2(dx2=codigo_item2,t_dx2=tipo_diagnostico2,conn=conn)\n",
    "    \n",
    "        return df.merge(df2, how='inner', on='id_cita')\n"
   ]
  },
  {
   "cell_type": "code",
   "execution_count": 27,
   "metadata": {},
   "outputs": [
    {
     "name": "stdout",
     "output_type": "stream",
     "text": [
      "SELECT  '0' as df_id,'MORBILIDAD DEL ADOLESCENTE' as df_grupo,'' as df_codigo,'INFECCIONES RESPIRATORIAS AGUDAS COMPLICADAS' as df_subgrupo,'' as df_detalles, nt.id_cita,nt.anio,nt.mes,nt.fecha_atencion,nt.id_paciente, nt.id_personal, nt.id_registrador,nt.anio_actual_paciente, nt.tipo_diagnostico,nt.codigo_item, mhe.id_establecimiento,mhe.red,mhe.microred,mhe.nombre_establecimiento,mhe.departamento,mhe.distrito,mhe.provincia , max(CASE  WHEN nt.id_correlativo_lab='1' THEN nt.valor_lab ELSE null END ) AS \"lab1\", max(CASE  WHEN nt.id_correlativo_lab='2' THEN nt.valor_lab ELSE null END ) AS \"lab2\", max(CASE  WHEN nt.id_correlativo_lab='3' THEN nt.valor_lab ELSE null END ) AS \"lab3\"  FROM maestros.nominal_trama nt \n",
      "    INNER JOIN maestros.maestro_his_establecimiento mhe ON mhe.id_establecimiento = nt.id_establecimiento  \n",
      "    WHERE  nt.tipo_diagnostico ='D' AND codigo_item in('A37','J180','J050','J051','J90','J851','J86','J18','J11','J939','J188','J189','J181','J18','J13','J29','J18','J16','J229','J450','J459','J46','J448','J449')AND nt.anio_actual_paciente BETWEEN 12 AND 17 and nt.anio=2023 GROUP by nt.id_cita,nt.anio,nt.mes,nt.fecha_atencion,nt.id_paciente, nt.id_personal, nt.id_registrador,nt.anio_actual_paciente, nt.tipo_diagnostico,nt.codigo_item, mhe.id_establecimiento,mhe.red,mhe.microred,mhe.nombre_establecimiento,mhe.departamento,mhe.distrito,mhe.provincia\n",
      "    \n"
     ]
    },
    {
     "name": "stderr",
     "output_type": "stream",
     "text": [
      "d:\\Irvin\\Irvin\\Python\\Python-GERESA\\modulos\\adolescente\\../..\\clases\\bd\\conexion2.py:47: UserWarning: pandas only supports SQLAlchemy connectable (engine/connection) or database string URI or sqlite3 DBAPI2 connection. Other DBAPI2 objects are not tested. Please consider using SQLAlchemy.\n",
      "  s = pd.read_sql(sql, con=self.conn)\n"
     ]
    },
    {
     "name": "stdout",
     "output_type": "stream",
     "text": [
      "Carga corecta: Infecciones_Respiratorias_Agudas_Complicadas\n"
     ]
    }
   ],
   "source": [
    "#diagnostico2(t_dx2='D',dx2='C8002')\n",
    "#filtro2=filtro2(id=26,grupo='EVALUACIÓN FÍSICA NUTRICIONAL',codigo='C8002',subgrupo='Examen médico general',detalles='',dx1='C8002',t_dx1='D',dx2='99384',t_dx2='D',conn=conn)\n",
    "#filtro2.head(3)\n",
    "#filtro2.to_excel('archivo_excel.xlsx', index=False)\n",
    "\n",
    "Infecciones_Respiratorias_Agudas_Complicadas=filtro(id=id,grupo='MORBILIDAD DEL ADOLESCENTE',codigo='',subgrupo='INFECCIONES RESPIRATORIAS AGUDAS COMPLICADAS',detalles='',dx1='A37,J180,J050,J051,J90,J851,J86,J18,J11,J939,J188,J189,J181,J18,J13,J29,J18,J16,J229,J450,J459,J46,J448,J449',t_dx='D',conn=conn)\n",
    "print(\"Carga corecta: Infecciones_Respiratorias_Agudas_Complicadas\")\n"
   ]
  },
  {
   "attachments": {},
   "cell_type": "markdown",
   "metadata": {},
   "source": [
    "<center><h1>MORBILIDAD DEL ADOLESCENTE</h1></center>"
   ]
  },
  {
   "cell_type": "code",
   "execution_count": 28,
   "metadata": {},
   "outputs": [
    {
     "name": "stdout",
     "output_type": "stream",
     "text": [
      "SELECT  '1' as df_id,'MORBILIDAD DEL ADOLESCENTE' as df_grupo,'' as df_codigo,'INFECCIONES RESPIRATORIAS AGUDAS COMPLICADAS' as df_subgrupo,'' as df_detalles, nt.id_cita,nt.anio,nt.mes,nt.fecha_atencion,nt.id_paciente, nt.id_personal, nt.id_registrador,nt.anio_actual_paciente, nt.tipo_diagnostico,nt.codigo_item, mhe.id_establecimiento,mhe.red,mhe.microred,mhe.nombre_establecimiento,mhe.departamento,mhe.distrito,mhe.provincia , max(CASE  WHEN nt.id_correlativo_lab='1' THEN nt.valor_lab ELSE null END ) AS \"lab1\", max(CASE  WHEN nt.id_correlativo_lab='2' THEN nt.valor_lab ELSE null END ) AS \"lab2\", max(CASE  WHEN nt.id_correlativo_lab='3' THEN nt.valor_lab ELSE null END ) AS \"lab3\"  FROM maestros.nominal_trama nt \n",
      "    INNER JOIN maestros.maestro_his_establecimiento mhe ON mhe.id_establecimiento = nt.id_establecimiento  \n",
      "    WHERE  nt.tipo_diagnostico ='D' AND codigo_item in('A37','J180','J050','J051','J90','J851','J86','J18','J11','J939','J188','J189','J181','J18','J13','J29','J18','J16','J229','J450','J459','J46','J448','J449')AND nt.anio_actual_paciente BETWEEN 12 AND 17 and nt.anio=2023 GROUP by nt.id_cita,nt.anio,nt.mes,nt.fecha_atencion,nt.id_paciente, nt.id_personal, nt.id_registrador,nt.anio_actual_paciente, nt.tipo_diagnostico,nt.codigo_item, mhe.id_establecimiento,mhe.red,mhe.microred,mhe.nombre_establecimiento,mhe.departamento,mhe.distrito,mhe.provincia\n",
      "    \n",
      "Carga corecta: Infecciones_Respiratorias_Agudas_Complicadas\n",
      "SELECT  '2' as df_id,'MORBILIDAD DEL ADOLESCENTE' as df_grupo,'' as df_codigo,'INFECCIONES RESPIRATORIAS AGUDAS NO COMPLICADAS' as df_subgrupo,'' as df_detalles, nt.id_cita,nt.anio,nt.mes,nt.fecha_atencion,nt.id_paciente, nt.id_personal, nt.id_registrador,nt.anio_actual_paciente, nt.tipo_diagnostico,nt.codigo_item, mhe.id_establecimiento,mhe.red,mhe.microred,mhe.nombre_establecimiento,mhe.departamento,mhe.distrito,mhe.provincia , max(CASE  WHEN nt.id_correlativo_lab='1' THEN nt.valor_lab ELSE null END ) AS \"lab1\", max(CASE  WHEN nt.id_correlativo_lab='2' THEN nt.valor_lab ELSE null END ) AS \"lab2\", max(CASE  WHEN nt.id_correlativo_lab='3' THEN nt.valor_lab ELSE null END ) AS \"lab3\"  FROM maestros.nominal_trama nt \n",
      "    INNER JOIN maestros.maestro_his_establecimiento mhe ON mhe.id_establecimiento = nt.id_establecimiento  \n",
      "    WHERE  nt.tipo_diagnostico ='D' AND codigo_item in('J020','J0309','H660','H669','J00','J01','J028','J029','J040','J041','J042','J069','J209')AND nt.anio_actual_paciente BETWEEN 12 AND 17 and nt.anio=2023 GROUP by nt.id_cita,nt.anio,nt.mes,nt.fecha_atencion,nt.id_paciente, nt.id_personal, nt.id_registrador,nt.anio_actual_paciente, nt.tipo_diagnostico,nt.codigo_item, mhe.id_establecimiento,mhe.red,mhe.microred,mhe.nombre_establecimiento,mhe.departamento,mhe.distrito,mhe.provincia\n",
      "    \n",
      "Carga corecta: Infecciones_Respiratorias_Agudas_No_Complicadas\n",
      "SELECT  '3' as df_id,'MORBILIDAD DEL ADOLESCENTE' as df_grupo,'' as df_codigo,'ENFERMEDADES DIARREICAS AGUDAS COMPLICADAS' as df_subgrupo,'' as df_detalles, nt.id_cita,nt.anio,nt.mes,nt.fecha_atencion,nt.id_paciente, nt.id_personal, nt.id_registrador,nt.anio_actual_paciente, nt.tipo_diagnostico,nt.codigo_item, mhe.id_establecimiento,mhe.red,mhe.microred,mhe.nombre_establecimiento,mhe.departamento,mhe.distrito,mhe.provincia , max(CASE  WHEN nt.id_correlativo_lab='1' THEN nt.valor_lab ELSE null END ) AS \"lab1\", max(CASE  WHEN nt.id_correlativo_lab='2' THEN nt.valor_lab ELSE null END ) AS \"lab2\", max(CASE  WHEN nt.id_correlativo_lab='3' THEN nt.valor_lab ELSE null END ) AS \"lab3\"  FROM maestros.nominal_trama nt \n",
      "    INNER JOIN maestros.maestro_his_establecimiento mhe ON mhe.id_establecimiento = nt.id_establecimiento  \n",
      "    WHERE  nt.tipo_diagnostico ='D' AND codigo_item in('A018','E86','A011','E86','A018','E86','A013','E86','A029','E86','A020','E86','A05','E86','A07','E86 ','A080','E86 ','A082','E86','A083','E86','A084','E86','A00','E86','A049','E86','A03','E86','A039','E86','A045','E86','A060','E86','A062','E86','A018','R571','A011','R571','A018','R571','A01','R571','A029','R571','A020','R571','A05','R571','A07','R571','A080','R571','A082','R571','A083','R571','A084','R571','A00','R571','A099','R571')AND nt.anio_actual_paciente BETWEEN 12 AND 17 and nt.anio=2023 GROUP by nt.id_cita,nt.anio,nt.mes,nt.fecha_atencion,nt.id_paciente, nt.id_personal, nt.id_registrador,nt.anio_actual_paciente, nt.tipo_diagnostico,nt.codigo_item, mhe.id_establecimiento,mhe.red,mhe.microred,mhe.nombre_establecimiento,mhe.departamento,mhe.distrito,mhe.provincia\n",
      "    \n",
      "Carga corecta: Enfermedades_diarreicas_Agudas_Complicadas\n",
      "SELECT  '4' as df_id,'MORBILIDAD DEL ADOLESCENTE' as df_grupo,'' as df_codigo,'ENFERMEDADES DIARREICAS AGUDAS COMPLICADAS' as df_subgrupo,'' as df_detalles, nt.id_cita,nt.anio,nt.mes,nt.fecha_atencion,nt.id_paciente, nt.id_personal, nt.id_registrador,nt.anio_actual_paciente, nt.tipo_diagnostico,nt.codigo_item, mhe.id_establecimiento,mhe.red,mhe.microred,mhe.nombre_establecimiento,mhe.departamento,mhe.distrito,mhe.provincia , max(CASE  WHEN nt.id_correlativo_lab='1' THEN nt.valor_lab ELSE null END ) AS \"lab1\", max(CASE  WHEN nt.id_correlativo_lab='2' THEN nt.valor_lab ELSE null END ) AS \"lab2\", max(CASE  WHEN nt.id_correlativo_lab='3' THEN nt.valor_lab ELSE null END ) AS \"lab3\"  FROM maestros.nominal_trama nt \n",
      "    INNER JOIN maestros.maestro_his_establecimiento mhe ON mhe.id_establecimiento = nt.id_establecimiento  \n",
      "    WHERE  nt.tipo_diagnostico ='D' AND codigo_item in('A018','A011','A018','A013','A029','A020','A05','A07','A080','A082','A083','A084','A00','A049','A030','A039','A045','A060','A062')AND nt.anio_actual_paciente BETWEEN 12 AND 17 and nt.anio=2023 GROUP by nt.id_cita,nt.anio,nt.mes,nt.fecha_atencion,nt.id_paciente, nt.id_personal, nt.id_registrador,nt.anio_actual_paciente, nt.tipo_diagnostico,nt.codigo_item, mhe.id_establecimiento,mhe.red,mhe.microred,mhe.nombre_establecimiento,mhe.departamento,mhe.distrito,mhe.provincia\n",
      "    \n",
      "Carga corecta: Enfermedades_diarreicas_Agudas_Complicadas\n"
     ]
    },
    {
     "data": {
      "text/html": [
       "<div>\n",
       "<style scoped>\n",
       "    .dataframe tbody tr th:only-of-type {\n",
       "        vertical-align: middle;\n",
       "    }\n",
       "\n",
       "    .dataframe tbody tr th {\n",
       "        vertical-align: top;\n",
       "    }\n",
       "\n",
       "    .dataframe thead th {\n",
       "        text-align: right;\n",
       "    }\n",
       "</style>\n",
       "<table border=\"1\" class=\"dataframe\">\n",
       "  <thead>\n",
       "    <tr style=\"text-align: right;\">\n",
       "      <th></th>\n",
       "      <th>df_id</th>\n",
       "      <th>df_grupo</th>\n",
       "      <th>df_codigo</th>\n",
       "      <th>df_subgrupo</th>\n",
       "      <th>df_detalles</th>\n",
       "      <th>id_cita</th>\n",
       "      <th>anio</th>\n",
       "      <th>mes</th>\n",
       "      <th>fecha_atencion</th>\n",
       "      <th>id_paciente</th>\n",
       "      <th>...</th>\n",
       "      <th>id_establecimiento</th>\n",
       "      <th>red</th>\n",
       "      <th>microred</th>\n",
       "      <th>nombre_establecimiento</th>\n",
       "      <th>departamento</th>\n",
       "      <th>distrito</th>\n",
       "      <th>provincia</th>\n",
       "      <th>lab1</th>\n",
       "      <th>lab2</th>\n",
       "      <th>lab3</th>\n",
       "    </tr>\n",
       "  </thead>\n",
       "  <tbody>\n",
       "    <tr>\n",
       "      <th>0</th>\n",
       "      <td>1</td>\n",
       "      <td>MORBILIDAD DEL ADOLESCENTE</td>\n",
       "      <td></td>\n",
       "      <td>INFECCIONES RESPIRATORIAS AGUDAS COMPLICADAS</td>\n",
       "      <td></td>\n",
       "      <td>811995769</td>\n",
       "      <td>2023</td>\n",
       "      <td>1</td>\n",
       "      <td>2023-01-09</td>\n",
       "      <td>294293702294</td>\n",
       "      <td>...</td>\n",
       "      <td>2294</td>\n",
       "      <td>CUSCO NORTE</td>\n",
       "      <td>SIETE CUARTONES</td>\n",
       "      <td>BUENA VISTA</td>\n",
       "      <td>CUSCO</td>\n",
       "      <td>CUSCO</td>\n",
       "      <td>CUSCO</td>\n",
       "      <td>None</td>\n",
       "      <td>None</td>\n",
       "      <td>None</td>\n",
       "    </tr>\n",
       "  </tbody>\n",
       "</table>\n",
       "<p>1 rows × 25 columns</p>\n",
       "</div>"
      ],
      "text/plain": [
       "  df_id                    df_grupo df_codigo  \\\n",
       "0     1  MORBILIDAD DEL ADOLESCENTE             \n",
       "\n",
       "                                    df_subgrupo df_detalles    id_cita  anio  \\\n",
       "0  INFECCIONES RESPIRATORIAS AGUDAS COMPLICADAS              811995769  2023   \n",
       "\n",
       "   mes fecha_atencion   id_paciente  ...  id_establecimiento          red  \\\n",
       "0    1     2023-01-09  294293702294  ...                2294  CUSCO NORTE   \n",
       "\n",
       "          microred nombre_establecimiento departamento  distrito provincia  \\\n",
       "0  SIETE CUARTONES            BUENA VISTA        CUSCO     CUSCO     CUSCO   \n",
       "\n",
       "   lab1  lab2  lab3  \n",
       "0  None  None  None  \n",
       "\n",
       "[1 rows x 25 columns]"
      ]
     },
     "execution_count": 28,
     "metadata": {},
     "output_type": "execute_result"
    }
   ],
   "source": [
    "id+=1\n",
    "Infecciones_Respiratorias_Agudas_Complicadas=filtro(id=id,grupo='MORBILIDAD DEL ADOLESCENTE',codigo='',subgrupo='INFECCIONES RESPIRATORIAS AGUDAS COMPLICADAS',detalles='',dx1='A37,J180,J050,J051,J90,J851,J86,J18,J11,J939,J188,J189,J181,J18,J13,J29,J18,J16,J229,J450,J459,J46,J448,J449',t_dx='D',conn=conn)\n",
    "print(\"Carga corecta: Infecciones_Respiratorias_Agudas_Complicadas\")\n",
    "\n",
    "# ___------------------------------------------------------------------------------------------------------------------------------------------------\n",
    "id+=1\n",
    "Infecciones_Respiratorias_Agudas_No_Complicadas=filtro(id=id,grupo='MORBILIDAD DEL ADOLESCENTE',codigo='',subgrupo='INFECCIONES RESPIRATORIAS AGUDAS NO COMPLICADAS',detalles='',dx1='J020,J0309,H660,H669,J00,J01,J028,J029,J040,J041,J042,J069,J209',t_dx='D',conn=conn)\n",
    "print(\"Carga corecta: Infecciones_Respiratorias_Agudas_No_Complicadas\")\n",
    "\n",
    "# ___------------------------------------------------------------------------------------------------------------------------------------------------\n",
    "id+=1\n",
    "Enfermedades_diarreicas_Agudas_Complicadas=filtro(id=id,grupo='MORBILIDAD DEL ADOLESCENTE',codigo='',subgrupo='ENFERMEDADES DIARREICAS AGUDAS COMPLICADAS',detalles='',dx1='A018,E86,A011,E86,A018,E86,A013,E86,A029,E86,A020,E86,A05,E86,A07,E86 ,A080,E86 ,A082,E86,A083,E86,A084,E86,A00,E86,A049,E86,A03,E86,A039,E86,A045,E86,A060,E86,A062,E86,A018,R571,A011,R571,A018,R571,A01,R571,A029,R571,A020,R571,A05,R571,A07,R571,A080,R571,A082,R571,A083,R571,A084,R571,A00,R571,A099,R571',t_dx='D',conn=conn)\n",
    "print(\"Carga corecta: Enfermedades_diarreicas_Agudas_Complicadas\")\n",
    "# ___------------------------------------------------------------------------------------------------------------------------------------------------\n",
    "\n",
    "id+=1\n",
    "Enfermedades_diarreicas_Agudas_No_Complicadas=filtro(id=id,grupo='MORBILIDAD DEL ADOLESCENTE',codigo='',subgrupo='ENFERMEDADES DIARREICAS AGUDAS COMPLICADAS',detalles='',dx1='A018,A011,A018,A013,A029,A020,A05,A07,A080,A082,A083,A084,A00,A049,A030,A039,A045,A060,A062',t_dx='D',conn=conn)\n",
    "print(\"Carga corecta: Enfermedades_diarreicas_Agudas_Complicadas\")\n",
    "\n",
    "# ___------------------------------------------------------------------------------------------------------------------------------------------------\n",
    "\n",
    "df = pd.concat([Infecciones_Respiratorias_Agudas_Complicadas,Infecciones_Respiratorias_Agudas_No_Complicadas,Enfermedades_diarreicas_Agudas_Complicadas,Enfermedades_diarreicas_Agudas_No_Complicadas])\n",
    "df.head(1)\n"
   ]
  },
  {
   "attachments": {},
   "cell_type": "markdown",
   "metadata": {},
   "source": [
    "<center><h2>CONTROL Y SEGUIMIENTO DE ADOLESCENTES </h2></center>"
   ]
  },
  {
   "cell_type": "code",
   "execution_count": 29,
   "metadata": {},
   "outputs": [
    {
     "name": "stdout",
     "output_type": "stream",
     "text": [
      "SELECT  '5' as df_id,'CONTROL Y SEGUIMIENTO DE ADOLESCENTES' as df_grupo,'C8002' as df_codigo,'Plan de Atención Integral de Salud' as df_subgrupo,'' as df_detalles, nt.id_cita,nt.anio,nt.mes,nt.fecha_atencion,nt.id_paciente, nt.id_personal, nt.id_registrador,nt.anio_actual_paciente, nt.tipo_diagnostico,nt.codigo_item, mhe.id_establecimiento,mhe.red,mhe.microred,mhe.nombre_establecimiento,mhe.departamento,mhe.distrito,mhe.provincia , max(CASE  WHEN nt.id_correlativo_lab='1' THEN nt.valor_lab ELSE null END ) AS \"lab1\", max(CASE  WHEN nt.id_correlativo_lab='2' THEN nt.valor_lab ELSE null END ) AS \"lab2\", max(CASE  WHEN nt.id_correlativo_lab='3' THEN nt.valor_lab ELSE null END ) AS \"lab3\"  FROM maestros.nominal_trama nt \n",
      "    INNER JOIN maestros.maestro_his_establecimiento mhe ON mhe.id_establecimiento = nt.id_establecimiento  \n",
      "    WHERE  nt.tipo_diagnostico ='D' AND codigo_item in('C8002')AND nt.anio_actual_paciente BETWEEN 12 AND 17 and nt.anio=2023 GROUP by nt.id_cita,nt.anio,nt.mes,nt.fecha_atencion,nt.id_paciente, nt.id_personal, nt.id_registrador,nt.anio_actual_paciente, nt.tipo_diagnostico,nt.codigo_item, mhe.id_establecimiento,mhe.red,mhe.microred,mhe.nombre_establecimiento,mhe.departamento,mhe.distrito,mhe.provincia\n",
      "    \n"
     ]
    },
    {
     "name": "stderr",
     "output_type": "stream",
     "text": [
      "d:\\Irvin\\Irvin\\Python\\Python-GERESA\\modulos\\adolescente\\../..\\clases\\bd\\conexion2.py:47: UserWarning: pandas only supports SQLAlchemy connectable (engine/connection) or database string URI or sqlite3 DBAPI2 connection. Other DBAPI2 objects are not tested. Please consider using SQLAlchemy.\n",
      "  s = pd.read_sql(sql, con=self.conn)\n",
      "C:\\Users\\IRVIN\\AppData\\Local\\Temp\\ipykernel_3452\\1239336378.py:14: SettingWithCopyWarning: \n",
      "A value is trying to be set on a copy of a slice from a DataFrame.\n",
      "Try using .loc[row_indexer,col_indexer] = value instead\n",
      "\n",
      "See the caveats in the documentation: https://pandas.pydata.org/pandas-docs/stable/user_guide/indexing.html#returning-a-view-versus-a-copy\n",
      "  xd_C8002_1['df_detalles'] = xd_C8002_1['df_detalles'].replace('', 'Iniciado - Paquete Basico - EESS')\n",
      "C:\\Users\\IRVIN\\AppData\\Local\\Temp\\ipykernel_3452\\1239336378.py:18: SettingWithCopyWarning: \n",
      "A value is trying to be set on a copy of a slice from a DataFrame.\n",
      "Try using .loc[row_indexer,col_indexer] = value instead\n",
      "\n",
      "See the caveats in the documentation: https://pandas.pydata.org/pandas-docs/stable/user_guide/indexing.html#returning-a-view-versus-a-copy\n",
      "  xd_C8002_2['df_detalles'] = xd_C8002_2['df_detalles'].replace('', 'Iniciado - Paquete Completo - EESS')\n",
      "C:\\Users\\IRVIN\\AppData\\Local\\Temp\\ipykernel_3452\\1239336378.py:19: FutureWarning: Downcasting behavior in `replace` is deprecated and will be removed in a future version. To retain the old behavior, explicitly call `result.infer_objects(copy=False)`. To opt-in to the future behavior, set `pd.set_option('future.no_silent_downcasting', True)`\n",
      "  xd_C8002_2['df_id'] = xd_C8002_2['df_id'].replace('%s'% id,id + 1)\n",
      "C:\\Users\\IRVIN\\AppData\\Local\\Temp\\ipykernel_3452\\1239336378.py:19: SettingWithCopyWarning: \n",
      "A value is trying to be set on a copy of a slice from a DataFrame.\n",
      "Try using .loc[row_indexer,col_indexer] = value instead\n",
      "\n",
      "See the caveats in the documentation: https://pandas.pydata.org/pandas-docs/stable/user_guide/indexing.html#returning-a-view-versus-a-copy\n",
      "  xd_C8002_2['df_id'] = xd_C8002_2['df_id'].replace('%s'% id,id + 1)\n",
      "C:\\Users\\IRVIN\\AppData\\Local\\Temp\\ipykernel_3452\\1239336378.py:23: SettingWithCopyWarning: \n",
      "A value is trying to be set on a copy of a slice from a DataFrame.\n",
      "Try using .loc[row_indexer,col_indexer] = value instead\n",
      "\n",
      "See the caveats in the documentation: https://pandas.pydata.org/pandas-docs/stable/user_guide/indexing.html#returning-a-view-versus-a-copy\n",
      "  xd_C8002_3['df_detalles'] = xd_C8002_3['df_detalles'].replace('', 'Iniciado - Paquete Especializado- EESS')\n",
      "C:\\Users\\IRVIN\\AppData\\Local\\Temp\\ipykernel_3452\\1239336378.py:24: FutureWarning: Downcasting behavior in `replace` is deprecated and will be removed in a future version. To retain the old behavior, explicitly call `result.infer_objects(copy=False)`. To opt-in to the future behavior, set `pd.set_option('future.no_silent_downcasting', True)`\n",
      "  xd_C8002_3['df_id'] = xd_C8002_3['df_id'].replace('%s'% id, id + 2)\n",
      "C:\\Users\\IRVIN\\AppData\\Local\\Temp\\ipykernel_3452\\1239336378.py:24: SettingWithCopyWarning: \n",
      "A value is trying to be set on a copy of a slice from a DataFrame.\n",
      "Try using .loc[row_indexer,col_indexer] = value instead\n",
      "\n",
      "See the caveats in the documentation: https://pandas.pydata.org/pandas-docs/stable/user_guide/indexing.html#returning-a-view-versus-a-copy\n",
      "  xd_C8002_3['df_id'] = xd_C8002_3['df_id'].replace('%s'% id, id + 2)\n",
      "C:\\Users\\IRVIN\\AppData\\Local\\Temp\\ipykernel_3452\\1239336378.py:28: SettingWithCopyWarning: \n",
      "A value is trying to be set on a copy of a slice from a DataFrame.\n",
      "Try using .loc[row_indexer,col_indexer] = value instead\n",
      "\n",
      "See the caveats in the documentation: https://pandas.pydata.org/pandas-docs/stable/user_guide/indexing.html#returning-a-view-versus-a-copy\n",
      "  xd_C8002_4['df_detalles'] = xd_C8002_4['df_detalles'].replace('', 'Iniciado - Paquete Basico - IE')\n",
      "C:\\Users\\IRVIN\\AppData\\Local\\Temp\\ipykernel_3452\\1239336378.py:29: FutureWarning: Downcasting behavior in `replace` is deprecated and will be removed in a future version. To retain the old behavior, explicitly call `result.infer_objects(copy=False)`. To opt-in to the future behavior, set `pd.set_option('future.no_silent_downcasting', True)`\n",
      "  xd_C8002_4['df_id'] = xd_C8002_4['df_id'].replace('%s'% id, id + 3)\n",
      "C:\\Users\\IRVIN\\AppData\\Local\\Temp\\ipykernel_3452\\1239336378.py:29: SettingWithCopyWarning: \n",
      "A value is trying to be set on a copy of a slice from a DataFrame.\n",
      "Try using .loc[row_indexer,col_indexer] = value instead\n",
      "\n",
      "See the caveats in the documentation: https://pandas.pydata.org/pandas-docs/stable/user_guide/indexing.html#returning-a-view-versus-a-copy\n",
      "  xd_C8002_4['df_id'] = xd_C8002_4['df_id'].replace('%s'% id, id + 3)\n",
      "C:\\Users\\IRVIN\\AppData\\Local\\Temp\\ipykernel_3452\\1239336378.py:33: SettingWithCopyWarning: \n",
      "A value is trying to be set on a copy of a slice from a DataFrame.\n",
      "Try using .loc[row_indexer,col_indexer] = value instead\n",
      "\n",
      "See the caveats in the documentation: https://pandas.pydata.org/pandas-docs/stable/user_guide/indexing.html#returning-a-view-versus-a-copy\n",
      "  xd_C8002_5['df_detalles'] = xd_C8002_5['df_detalles'].replace('', 'Iniciado - Paquete Completo - IE')\n",
      "C:\\Users\\IRVIN\\AppData\\Local\\Temp\\ipykernel_3452\\1239336378.py:34: FutureWarning: Downcasting behavior in `replace` is deprecated and will be removed in a future version. To retain the old behavior, explicitly call `result.infer_objects(copy=False)`. To opt-in to the future behavior, set `pd.set_option('future.no_silent_downcasting', True)`\n",
      "  xd_C8002_5['df_id'] = xd_C8002_5['df_id'].replace('%s'% id, id + 4)\n",
      "C:\\Users\\IRVIN\\AppData\\Local\\Temp\\ipykernel_3452\\1239336378.py:34: SettingWithCopyWarning: \n",
      "A value is trying to be set on a copy of a slice from a DataFrame.\n",
      "Try using .loc[row_indexer,col_indexer] = value instead\n",
      "\n",
      "See the caveats in the documentation: https://pandas.pydata.org/pandas-docs/stable/user_guide/indexing.html#returning-a-view-versus-a-copy\n",
      "  xd_C8002_5['df_id'] = xd_C8002_5['df_id'].replace('%s'% id, id + 4)\n",
      "C:\\Users\\IRVIN\\AppData\\Local\\Temp\\ipykernel_3452\\1239336378.py:38: SettingWithCopyWarning: \n",
      "A value is trying to be set on a copy of a slice from a DataFrame.\n",
      "Try using .loc[row_indexer,col_indexer] = value instead\n",
      "\n",
      "See the caveats in the documentation: https://pandas.pydata.org/pandas-docs/stable/user_guide/indexing.html#returning-a-view-versus-a-copy\n",
      "  xd_C8002_6['df_detalles'] = xd_C8002_6['df_detalles'].replace('', 'Iniciado - Paquete Especializado- IE')\n",
      "C:\\Users\\IRVIN\\AppData\\Local\\Temp\\ipykernel_3452\\1239336378.py:39: FutureWarning: Downcasting behavior in `replace` is deprecated and will be removed in a future version. To retain the old behavior, explicitly call `result.infer_objects(copy=False)`. To opt-in to the future behavior, set `pd.set_option('future.no_silent_downcasting', True)`\n",
      "  xd_C8002_6['df_id'] = xd_C8002_6['df_id'].replace('%s'% id, id + 5)\n",
      "C:\\Users\\IRVIN\\AppData\\Local\\Temp\\ipykernel_3452\\1239336378.py:39: SettingWithCopyWarning: \n",
      "A value is trying to be set on a copy of a slice from a DataFrame.\n",
      "Try using .loc[row_indexer,col_indexer] = value instead\n",
      "\n",
      "See the caveats in the documentation: https://pandas.pydata.org/pandas-docs/stable/user_guide/indexing.html#returning-a-view-versus-a-copy\n",
      "  xd_C8002_6['df_id'] = xd_C8002_6['df_id'].replace('%s'% id, id + 5)\n",
      "C:\\Users\\IRVIN\\AppData\\Local\\Temp\\ipykernel_3452\\1239336378.py:43: SettingWithCopyWarning: \n",
      "A value is trying to be set on a copy of a slice from a DataFrame.\n",
      "Try using .loc[row_indexer,col_indexer] = value instead\n",
      "\n",
      "See the caveats in the documentation: https://pandas.pydata.org/pandas-docs/stable/user_guide/indexing.html#returning-a-view-versus-a-copy\n",
      "  xd_C8002_7['df_detalles'] = xd_C8002_7['df_detalles'].replace('', 'Concluido - Paquete Basico - EESS')\n",
      "C:\\Users\\IRVIN\\AppData\\Local\\Temp\\ipykernel_3452\\1239336378.py:44: FutureWarning: Downcasting behavior in `replace` is deprecated and will be removed in a future version. To retain the old behavior, explicitly call `result.infer_objects(copy=False)`. To opt-in to the future behavior, set `pd.set_option('future.no_silent_downcasting', True)`\n",
      "  xd_C8002_7['df_id'] = xd_C8002_7['df_id'].replace('%s'% id, id + 6)\n",
      "C:\\Users\\IRVIN\\AppData\\Local\\Temp\\ipykernel_3452\\1239336378.py:44: SettingWithCopyWarning: \n",
      "A value is trying to be set on a copy of a slice from a DataFrame.\n",
      "Try using .loc[row_indexer,col_indexer] = value instead\n",
      "\n",
      "See the caveats in the documentation: https://pandas.pydata.org/pandas-docs/stable/user_guide/indexing.html#returning-a-view-versus-a-copy\n",
      "  xd_C8002_7['df_id'] = xd_C8002_7['df_id'].replace('%s'% id, id + 6)\n",
      "C:\\Users\\IRVIN\\AppData\\Local\\Temp\\ipykernel_3452\\1239336378.py:48: SettingWithCopyWarning: \n",
      "A value is trying to be set on a copy of a slice from a DataFrame.\n",
      "Try using .loc[row_indexer,col_indexer] = value instead\n",
      "\n",
      "See the caveats in the documentation: https://pandas.pydata.org/pandas-docs/stable/user_guide/indexing.html#returning-a-view-versus-a-copy\n",
      "  xd_C8002_8['df_detalles'] = xd_C8002_8['df_detalles'].replace('', 'Concluido - Paquete Completo - EESS')\n",
      "C:\\Users\\IRVIN\\AppData\\Local\\Temp\\ipykernel_3452\\1239336378.py:49: FutureWarning: Downcasting behavior in `replace` is deprecated and will be removed in a future version. To retain the old behavior, explicitly call `result.infer_objects(copy=False)`. To opt-in to the future behavior, set `pd.set_option('future.no_silent_downcasting', True)`\n",
      "  xd_C8002_8['df_id'] = xd_C8002_8['df_id'].replace('%s'% id, id + 7)\n",
      "C:\\Users\\IRVIN\\AppData\\Local\\Temp\\ipykernel_3452\\1239336378.py:49: SettingWithCopyWarning: \n",
      "A value is trying to be set on a copy of a slice from a DataFrame.\n",
      "Try using .loc[row_indexer,col_indexer] = value instead\n",
      "\n",
      "See the caveats in the documentation: https://pandas.pydata.org/pandas-docs/stable/user_guide/indexing.html#returning-a-view-versus-a-copy\n",
      "  xd_C8002_8['df_id'] = xd_C8002_8['df_id'].replace('%s'% id, id + 7)\n",
      "C:\\Users\\IRVIN\\AppData\\Local\\Temp\\ipykernel_3452\\1239336378.py:53: SettingWithCopyWarning: \n",
      "A value is trying to be set on a copy of a slice from a DataFrame.\n",
      "Try using .loc[row_indexer,col_indexer] = value instead\n",
      "\n",
      "See the caveats in the documentation: https://pandas.pydata.org/pandas-docs/stable/user_guide/indexing.html#returning-a-view-versus-a-copy\n",
      "  xd_C8002_9['df_detalles'] = xd_C8002_9['df_detalles'].replace('', 'Concluido - Paquete Especializado- EESS')\n",
      "C:\\Users\\IRVIN\\AppData\\Local\\Temp\\ipykernel_3452\\1239336378.py:54: FutureWarning: Downcasting behavior in `replace` is deprecated and will be removed in a future version. To retain the old behavior, explicitly call `result.infer_objects(copy=False)`. To opt-in to the future behavior, set `pd.set_option('future.no_silent_downcasting', True)`\n",
      "  xd_C8002_9['df_id'] = xd_C8002_9['df_id'].replace('%s'% id, id + 8)\n",
      "C:\\Users\\IRVIN\\AppData\\Local\\Temp\\ipykernel_3452\\1239336378.py:54: SettingWithCopyWarning: \n",
      "A value is trying to be set on a copy of a slice from a DataFrame.\n",
      "Try using .loc[row_indexer,col_indexer] = value instead\n",
      "\n",
      "See the caveats in the documentation: https://pandas.pydata.org/pandas-docs/stable/user_guide/indexing.html#returning-a-view-versus-a-copy\n",
      "  xd_C8002_9['df_id'] = xd_C8002_9['df_id'].replace('%s'% id, id + 8)\n",
      "C:\\Users\\IRVIN\\AppData\\Local\\Temp\\ipykernel_3452\\1239336378.py:58: SettingWithCopyWarning: \n",
      "A value is trying to be set on a copy of a slice from a DataFrame.\n",
      "Try using .loc[row_indexer,col_indexer] = value instead\n",
      "\n",
      "See the caveats in the documentation: https://pandas.pydata.org/pandas-docs/stable/user_guide/indexing.html#returning-a-view-versus-a-copy\n",
      "  xd_C8002_10['df_detalles'] = xd_C8002_10['df_detalles'].replace('', 'Concluido - Paquete Basico - IE')\n",
      "C:\\Users\\IRVIN\\AppData\\Local\\Temp\\ipykernel_3452\\1239336378.py:59: FutureWarning: Downcasting behavior in `replace` is deprecated and will be removed in a future version. To retain the old behavior, explicitly call `result.infer_objects(copy=False)`. To opt-in to the future behavior, set `pd.set_option('future.no_silent_downcasting', True)`\n",
      "  xd_C8002_10['df_id'] = xd_C8002_10['df_id'].replace('%s'% id, id + 9)\n",
      "C:\\Users\\IRVIN\\AppData\\Local\\Temp\\ipykernel_3452\\1239336378.py:59: SettingWithCopyWarning: \n",
      "A value is trying to be set on a copy of a slice from a DataFrame.\n",
      "Try using .loc[row_indexer,col_indexer] = value instead\n",
      "\n",
      "See the caveats in the documentation: https://pandas.pydata.org/pandas-docs/stable/user_guide/indexing.html#returning-a-view-versus-a-copy\n",
      "  xd_C8002_10['df_id'] = xd_C8002_10['df_id'].replace('%s'% id, id + 9)\n",
      "C:\\Users\\IRVIN\\AppData\\Local\\Temp\\ipykernel_3452\\1239336378.py:63: SettingWithCopyWarning: \n",
      "A value is trying to be set on a copy of a slice from a DataFrame.\n",
      "Try using .loc[row_indexer,col_indexer] = value instead\n",
      "\n",
      "See the caveats in the documentation: https://pandas.pydata.org/pandas-docs/stable/user_guide/indexing.html#returning-a-view-versus-a-copy\n",
      "  xd_C8002_11['df_detalles'] = xd_C8002_11['df_detalles'].replace('', 'Concluido - Paquete Completo - IE')\n",
      "C:\\Users\\IRVIN\\AppData\\Local\\Temp\\ipykernel_3452\\1239336378.py:64: FutureWarning: Downcasting behavior in `replace` is deprecated and will be removed in a future version. To retain the old behavior, explicitly call `result.infer_objects(copy=False)`. To opt-in to the future behavior, set `pd.set_option('future.no_silent_downcasting', True)`\n",
      "  xd_C8002_11['df_id'] = xd_C8002_11['df_id'].replace('%s'% id, id + 10)\n",
      "C:\\Users\\IRVIN\\AppData\\Local\\Temp\\ipykernel_3452\\1239336378.py:64: SettingWithCopyWarning: \n",
      "A value is trying to be set on a copy of a slice from a DataFrame.\n",
      "Try using .loc[row_indexer,col_indexer] = value instead\n",
      "\n",
      "See the caveats in the documentation: https://pandas.pydata.org/pandas-docs/stable/user_guide/indexing.html#returning-a-view-versus-a-copy\n",
      "  xd_C8002_11['df_id'] = xd_C8002_11['df_id'].replace('%s'% id, id + 10)\n",
      "C:\\Users\\IRVIN\\AppData\\Local\\Temp\\ipykernel_3452\\1239336378.py:72: FutureWarning: The behavior of DataFrame concatenation with empty or all-NA entries is deprecated. In a future version, this will no longer exclude empty or all-NA columns when determining the result dtypes. To retain the old behavior, exclude the relevant entries before the concat operation.\n",
      "  df = pd.concat([df, xd_C8002_1,xd_C8002_2,xd_C8002_3,xd_C8002_4,xd_C8002_5,xd_C8002_6,xd_C8002_7,xd_C8002_8,xd_C8002_9,xd_C8002_10,xd_C8002_11,xd_C8002_12], ignore_index=True)\n",
      "d:\\Irvin\\Irvin\\Python\\Python-GERESA\\modulos\\adolescente\\../..\\clases\\bd\\conexion2.py:47: UserWarning: pandas only supports SQLAlchemy connectable (engine/connection) or database string URI or sqlite3 DBAPI2 connection. Other DBAPI2 objects are not tested. Please consider using SQLAlchemy.\n",
      "  s = pd.read_sql(sql, con=self.conn)\n"
     ]
    },
    {
     "name": "stdout",
     "output_type": "stream",
     "text": [
      "SELECT  '17' as df_id,'CONTROL Y SEGUIMIENTO DE ADOLESCENTES' as df_grupo,'Z003' as df_codigo,'Examen del estado de desarrollo del adolescente' as df_subgrupo,'' as df_detalles, nt.id_cita,nt.anio,nt.mes,nt.fecha_atencion,nt.id_paciente, nt.id_personal, nt.id_registrador,nt.anio_actual_paciente, nt.tipo_diagnostico,nt.codigo_item, mhe.id_establecimiento,mhe.red,mhe.microred,mhe.nombre_establecimiento,mhe.departamento,mhe.distrito,mhe.provincia , max(CASE  WHEN nt.id_correlativo_lab='1' THEN nt.valor_lab ELSE null END ) AS \"lab1\", max(CASE  WHEN nt.id_correlativo_lab='2' THEN nt.valor_lab ELSE null END ) AS \"lab2\", max(CASE  WHEN nt.id_correlativo_lab='3' THEN nt.valor_lab ELSE null END ) AS \"lab3\"  FROM maestros.nominal_trama nt \n",
      "    INNER JOIN maestros.maestro_his_establecimiento mhe ON mhe.id_establecimiento = nt.id_establecimiento  \n",
      "    WHERE  nt.tipo_diagnostico ='D' AND codigo_item in('C8002')AND nt.anio_actual_paciente BETWEEN 12 AND 17 and nt.anio=2023 GROUP by nt.id_cita,nt.anio,nt.mes,nt.fecha_atencion,nt.id_paciente, nt.id_personal, nt.id_registrador,nt.anio_actual_paciente, nt.tipo_diagnostico,nt.codigo_item, mhe.id_establecimiento,mhe.red,mhe.microred,mhe.nombre_establecimiento,mhe.departamento,mhe.distrito,mhe.provincia\n",
      "    \n"
     ]
    },
    {
     "name": "stderr",
     "output_type": "stream",
     "text": [
      "C:\\Users\\IRVIN\\AppData\\Local\\Temp\\ipykernel_3452\\1239336378.py:83: SettingWithCopyWarning: \n",
      "A value is trying to be set on a copy of a slice from a DataFrame.\n",
      "Try using .loc[row_indexer,col_indexer] = value instead\n",
      "\n",
      "See the caveats in the documentation: https://pandas.pydata.org/pandas-docs/stable/user_guide/indexing.html#returning-a-view-versus-a-copy\n",
      "  xd_Z003_1['df_detalles'] = xd_Z003_1['df_detalles'].replace('', 'Paquete Basico - EESS')\n",
      "C:\\Users\\IRVIN\\AppData\\Local\\Temp\\ipykernel_3452\\1239336378.py:87: SettingWithCopyWarning: \n",
      "A value is trying to be set on a copy of a slice from a DataFrame.\n",
      "Try using .loc[row_indexer,col_indexer] = value instead\n",
      "\n",
      "See the caveats in the documentation: https://pandas.pydata.org/pandas-docs/stable/user_guide/indexing.html#returning-a-view-versus-a-copy\n",
      "  xd_Z003_2['df_detalles'] = xd_Z003_2['df_detalles'].replace('', 'Paquete Completo - EESS')\n",
      "C:\\Users\\IRVIN\\AppData\\Local\\Temp\\ipykernel_3452\\1239336378.py:88: FutureWarning: Downcasting behavior in `replace` is deprecated and will be removed in a future version. To retain the old behavior, explicitly call `result.infer_objects(copy=False)`. To opt-in to the future behavior, set `pd.set_option('future.no_silent_downcasting', True)`\n",
      "  xd_Z003_2['df_id'] = xd_Z003_2['df_id'].replace('%s'% id,id + 1)\n",
      "C:\\Users\\IRVIN\\AppData\\Local\\Temp\\ipykernel_3452\\1239336378.py:88: SettingWithCopyWarning: \n",
      "A value is trying to be set on a copy of a slice from a DataFrame.\n",
      "Try using .loc[row_indexer,col_indexer] = value instead\n",
      "\n",
      "See the caveats in the documentation: https://pandas.pydata.org/pandas-docs/stable/user_guide/indexing.html#returning-a-view-versus-a-copy\n",
      "  xd_Z003_2['df_id'] = xd_Z003_2['df_id'].replace('%s'% id,id + 1)\n",
      "C:\\Users\\IRVIN\\AppData\\Local\\Temp\\ipykernel_3452\\1239336378.py:92: SettingWithCopyWarning: \n",
      "A value is trying to be set on a copy of a slice from a DataFrame.\n",
      "Try using .loc[row_indexer,col_indexer] = value instead\n",
      "\n",
      "See the caveats in the documentation: https://pandas.pydata.org/pandas-docs/stable/user_guide/indexing.html#returning-a-view-versus-a-copy\n",
      "  xd_Z003_3['df_detalles'] = xd_Z003_3['df_detalles'].replace('', 'Paquete Especializado- EESS')\n",
      "C:\\Users\\IRVIN\\AppData\\Local\\Temp\\ipykernel_3452\\1239336378.py:93: FutureWarning: Downcasting behavior in `replace` is deprecated and will be removed in a future version. To retain the old behavior, explicitly call `result.infer_objects(copy=False)`. To opt-in to the future behavior, set `pd.set_option('future.no_silent_downcasting', True)`\n",
      "  xd_Z003_3['df_id'] = xd_Z003_3['df_id'].replace('%s'% id, id + 2)\n",
      "C:\\Users\\IRVIN\\AppData\\Local\\Temp\\ipykernel_3452\\1239336378.py:93: SettingWithCopyWarning: \n",
      "A value is trying to be set on a copy of a slice from a DataFrame.\n",
      "Try using .loc[row_indexer,col_indexer] = value instead\n",
      "\n",
      "See the caveats in the documentation: https://pandas.pydata.org/pandas-docs/stable/user_guide/indexing.html#returning-a-view-versus-a-copy\n",
      "  xd_Z003_3['df_id'] = xd_Z003_3['df_id'].replace('%s'% id, id + 2)\n",
      "C:\\Users\\IRVIN\\AppData\\Local\\Temp\\ipykernel_3452\\1239336378.py:97: SettingWithCopyWarning: \n",
      "A value is trying to be set on a copy of a slice from a DataFrame.\n",
      "Try using .loc[row_indexer,col_indexer] = value instead\n",
      "\n",
      "See the caveats in the documentation: https://pandas.pydata.org/pandas-docs/stable/user_guide/indexing.html#returning-a-view-versus-a-copy\n",
      "  xd_Z003_4['df_detalles'] = xd_Z003_4['df_detalles'].replace('', 'Paquete Basico - IE')\n",
      "C:\\Users\\IRVIN\\AppData\\Local\\Temp\\ipykernel_3452\\1239336378.py:98: FutureWarning: Downcasting behavior in `replace` is deprecated and will be removed in a future version. To retain the old behavior, explicitly call `result.infer_objects(copy=False)`. To opt-in to the future behavior, set `pd.set_option('future.no_silent_downcasting', True)`\n",
      "  xd_Z003_4['df_id'] = xd_Z003_4['df_id'].replace('%s'% id, id + 3)\n",
      "C:\\Users\\IRVIN\\AppData\\Local\\Temp\\ipykernel_3452\\1239336378.py:98: SettingWithCopyWarning: \n",
      "A value is trying to be set on a copy of a slice from a DataFrame.\n",
      "Try using .loc[row_indexer,col_indexer] = value instead\n",
      "\n",
      "See the caveats in the documentation: https://pandas.pydata.org/pandas-docs/stable/user_guide/indexing.html#returning-a-view-versus-a-copy\n",
      "  xd_Z003_4['df_id'] = xd_Z003_4['df_id'].replace('%s'% id, id + 3)\n",
      "C:\\Users\\IRVIN\\AppData\\Local\\Temp\\ipykernel_3452\\1239336378.py:102: SettingWithCopyWarning: \n",
      "A value is trying to be set on a copy of a slice from a DataFrame.\n",
      "Try using .loc[row_indexer,col_indexer] = value instead\n",
      "\n",
      "See the caveats in the documentation: https://pandas.pydata.org/pandas-docs/stable/user_guide/indexing.html#returning-a-view-versus-a-copy\n",
      "  xd_Z003_5['df_detalles'] = xd_Z003_5['df_detalles'].replace('', 'Paquete Completo - IE')\n",
      "C:\\Users\\IRVIN\\AppData\\Local\\Temp\\ipykernel_3452\\1239336378.py:103: FutureWarning: Downcasting behavior in `replace` is deprecated and will be removed in a future version. To retain the old behavior, explicitly call `result.infer_objects(copy=False)`. To opt-in to the future behavior, set `pd.set_option('future.no_silent_downcasting', True)`\n",
      "  xd_Z003_5['df_id'] = xd_Z003_5['df_id'].replace('%s'% id, id + 4)\n",
      "C:\\Users\\IRVIN\\AppData\\Local\\Temp\\ipykernel_3452\\1239336378.py:103: SettingWithCopyWarning: \n",
      "A value is trying to be set on a copy of a slice from a DataFrame.\n",
      "Try using .loc[row_indexer,col_indexer] = value instead\n",
      "\n",
      "See the caveats in the documentation: https://pandas.pydata.org/pandas-docs/stable/user_guide/indexing.html#returning-a-view-versus-a-copy\n",
      "  xd_Z003_5['df_id'] = xd_Z003_5['df_id'].replace('%s'% id, id + 4)\n",
      "C:\\Users\\IRVIN\\AppData\\Local\\Temp\\ipykernel_3452\\1239336378.py:107: SettingWithCopyWarning: \n",
      "A value is trying to be set on a copy of a slice from a DataFrame.\n",
      "Try using .loc[row_indexer,col_indexer] = value instead\n",
      "\n",
      "See the caveats in the documentation: https://pandas.pydata.org/pandas-docs/stable/user_guide/indexing.html#returning-a-view-versus-a-copy\n",
      "  xd_Z003_6['df_detalles'] = xd_Z003_6['df_detalles'].replace('', 'Paquete Especializado - IE')\n",
      "C:\\Users\\IRVIN\\AppData\\Local\\Temp\\ipykernel_3452\\1239336378.py:108: FutureWarning: Downcasting behavior in `replace` is deprecated and will be removed in a future version. To retain the old behavior, explicitly call `result.infer_objects(copy=False)`. To opt-in to the future behavior, set `pd.set_option('future.no_silent_downcasting', True)`\n",
      "  xd_Z003_6['df_id'] = xd_Z003_6['df_id'].replace('%s'% id, id + 5)\n",
      "C:\\Users\\IRVIN\\AppData\\Local\\Temp\\ipykernel_3452\\1239336378.py:108: SettingWithCopyWarning: \n",
      "A value is trying to be set on a copy of a slice from a DataFrame.\n",
      "Try using .loc[row_indexer,col_indexer] = value instead\n",
      "\n",
      "See the caveats in the documentation: https://pandas.pydata.org/pandas-docs/stable/user_guide/indexing.html#returning-a-view-versus-a-copy\n",
      "  xd_Z003_6['df_id'] = xd_Z003_6['df_id'].replace('%s'% id, id + 5)\n"
     ]
    },
    {
     "name": "stdout",
     "output_type": "stream",
     "text": [
      "SELECT  '23' as df_id,'CONTROL Y SEGUIMIENTO DE ADOLESCENTES' as df_grupo,'99384' as df_codigo,'Evaluación Integral del Adolescente' as df_subgrupo,'' as df_detalles, nt.id_cita,nt.anio,nt.mes,nt.fecha_atencion,nt.id_paciente, nt.id_personal, nt.id_registrador,nt.anio_actual_paciente, nt.tipo_diagnostico,nt.codigo_item, mhe.id_establecimiento,mhe.red,mhe.microred,mhe.nombre_establecimiento,mhe.departamento,mhe.distrito,mhe.provincia , max(CASE  WHEN nt.id_correlativo_lab='1' THEN nt.valor_lab ELSE null END ) AS \"lab1\", max(CASE  WHEN nt.id_correlativo_lab='2' THEN nt.valor_lab ELSE null END ) AS \"lab2\", max(CASE  WHEN nt.id_correlativo_lab='3' THEN nt.valor_lab ELSE null END ) AS \"lab3\"  FROM maestros.nominal_trama nt \n",
      "    INNER JOIN maestros.maestro_his_establecimiento mhe ON mhe.id_establecimiento = nt.id_establecimiento  \n",
      "    WHERE  nt.tipo_diagnostico ='D' AND codigo_item in('99384')AND nt.anio_actual_paciente BETWEEN 12 AND 17 and nt.anio=2023 GROUP by nt.id_cita,nt.anio,nt.mes,nt.fecha_atencion,nt.id_paciente, nt.id_personal, nt.id_registrador,nt.anio_actual_paciente, nt.tipo_diagnostico,nt.codigo_item, mhe.id_establecimiento,mhe.red,mhe.microred,mhe.nombre_establecimiento,mhe.departamento,mhe.distrito,mhe.provincia\n",
      "    \n"
     ]
    },
    {
     "name": "stderr",
     "output_type": "stream",
     "text": [
      "d:\\Irvin\\Irvin\\Python\\Python-GERESA\\modulos\\adolescente\\../..\\clases\\bd\\conexion2.py:47: UserWarning: pandas only supports SQLAlchemy connectable (engine/connection) or database string URI or sqlite3 DBAPI2 connection. Other DBAPI2 objects are not tested. Please consider using SQLAlchemy.\n",
      "  s = pd.read_sql(sql, con=self.conn)\n",
      "C:\\Users\\IRVIN\\AppData\\Local\\Temp\\ipykernel_3452\\1239336378.py:124: SettingWithCopyWarning: \n",
      "A value is trying to be set on a copy of a slice from a DataFrame.\n",
      "Try using .loc[row_indexer,col_indexer] = value instead\n",
      "\n",
      "See the caveats in the documentation: https://pandas.pydata.org/pandas-docs/stable/user_guide/indexing.html#returning-a-view-versus-a-copy\n",
      "  xd_99384_1['df_detalles'] = xd_99384_1['df_detalles'].replace('', '1º Control - Paquete Basico - EESS')\n",
      "C:\\Users\\IRVIN\\AppData\\Local\\Temp\\ipykernel_3452\\1239336378.py:127: SettingWithCopyWarning: \n",
      "A value is trying to be set on a copy of a slice from a DataFrame.\n",
      "Try using .loc[row_indexer,col_indexer] = value instead\n",
      "\n",
      "See the caveats in the documentation: https://pandas.pydata.org/pandas-docs/stable/user_guide/indexing.html#returning-a-view-versus-a-copy\n",
      "  xd_99384_2['df_detalles'] = xd_99384_2['df_detalles'].replace('', '1º Control - Paquete Completo - EESS')\n",
      "C:\\Users\\IRVIN\\AppData\\Local\\Temp\\ipykernel_3452\\1239336378.py:128: FutureWarning: Downcasting behavior in `replace` is deprecated and will be removed in a future version. To retain the old behavior, explicitly call `result.infer_objects(copy=False)`. To opt-in to the future behavior, set `pd.set_option('future.no_silent_downcasting', True)`\n",
      "  xd_99384_2['df_id'] = xd_99384_2['df_id'].replace('%s'% id,id + 1)\n",
      "C:\\Users\\IRVIN\\AppData\\Local\\Temp\\ipykernel_3452\\1239336378.py:128: SettingWithCopyWarning: \n",
      "A value is trying to be set on a copy of a slice from a DataFrame.\n",
      "Try using .loc[row_indexer,col_indexer] = value instead\n",
      "\n",
      "See the caveats in the documentation: https://pandas.pydata.org/pandas-docs/stable/user_guide/indexing.html#returning-a-view-versus-a-copy\n",
      "  xd_99384_2['df_id'] = xd_99384_2['df_id'].replace('%s'% id,id + 1)\n",
      "C:\\Users\\IRVIN\\AppData\\Local\\Temp\\ipykernel_3452\\1239336378.py:131: SettingWithCopyWarning: \n",
      "A value is trying to be set on a copy of a slice from a DataFrame.\n",
      "Try using .loc[row_indexer,col_indexer] = value instead\n",
      "\n",
      "See the caveats in the documentation: https://pandas.pydata.org/pandas-docs/stable/user_guide/indexing.html#returning-a-view-versus-a-copy\n",
      "  xd_99384_3['df_detalles'] = xd_99384_3['df_detalles'].replace('', '1º Control - Paquete Especializado - EESS')\n",
      "C:\\Users\\IRVIN\\AppData\\Local\\Temp\\ipykernel_3452\\1239336378.py:132: FutureWarning: Downcasting behavior in `replace` is deprecated and will be removed in a future version. To retain the old behavior, explicitly call `result.infer_objects(copy=False)`. To opt-in to the future behavior, set `pd.set_option('future.no_silent_downcasting', True)`\n",
      "  xd_99384_3['df_id'] = xd_99384_3['df_id'].replace('%s'% id,id + 2)\n",
      "C:\\Users\\IRVIN\\AppData\\Local\\Temp\\ipykernel_3452\\1239336378.py:132: SettingWithCopyWarning: \n",
      "A value is trying to be set on a copy of a slice from a DataFrame.\n",
      "Try using .loc[row_indexer,col_indexer] = value instead\n",
      "\n",
      "See the caveats in the documentation: https://pandas.pydata.org/pandas-docs/stable/user_guide/indexing.html#returning-a-view-versus-a-copy\n",
      "  xd_99384_3['df_id'] = xd_99384_3['df_id'].replace('%s'% id,id + 2)\n",
      "C:\\Users\\IRVIN\\AppData\\Local\\Temp\\ipykernel_3452\\1239336378.py:136: SettingWithCopyWarning: \n",
      "A value is trying to be set on a copy of a slice from a DataFrame.\n",
      "Try using .loc[row_indexer,col_indexer] = value instead\n",
      "\n",
      "See the caveats in the documentation: https://pandas.pydata.org/pandas-docs/stable/user_guide/indexing.html#returning-a-view-versus-a-copy\n",
      "  xd_99384_4['df_detalles'] = xd_99384_4['df_detalles'].replace('', '1º Control - Paquete Basico - IE')\n",
      "C:\\Users\\IRVIN\\AppData\\Local\\Temp\\ipykernel_3452\\1239336378.py:137: FutureWarning: Downcasting behavior in `replace` is deprecated and will be removed in a future version. To retain the old behavior, explicitly call `result.infer_objects(copy=False)`. To opt-in to the future behavior, set `pd.set_option('future.no_silent_downcasting', True)`\n",
      "  xd_99384_4['df_id'] = xd_99384_4['df_id'].replace('%s'% id,id + 3)\n",
      "C:\\Users\\IRVIN\\AppData\\Local\\Temp\\ipykernel_3452\\1239336378.py:137: SettingWithCopyWarning: \n",
      "A value is trying to be set on a copy of a slice from a DataFrame.\n",
      "Try using .loc[row_indexer,col_indexer] = value instead\n",
      "\n",
      "See the caveats in the documentation: https://pandas.pydata.org/pandas-docs/stable/user_guide/indexing.html#returning-a-view-versus-a-copy\n",
      "  xd_99384_4['df_id'] = xd_99384_4['df_id'].replace('%s'% id,id + 3)\n",
      "C:\\Users\\IRVIN\\AppData\\Local\\Temp\\ipykernel_3452\\1239336378.py:140: SettingWithCopyWarning: \n",
      "A value is trying to be set on a copy of a slice from a DataFrame.\n",
      "Try using .loc[row_indexer,col_indexer] = value instead\n",
      "\n",
      "See the caveats in the documentation: https://pandas.pydata.org/pandas-docs/stable/user_guide/indexing.html#returning-a-view-versus-a-copy\n",
      "  xd_99384_5['df_detalles'] = xd_99384_5['df_detalles'].replace('', '1º Control - Paquete Completo - IE')\n",
      "C:\\Users\\IRVIN\\AppData\\Local\\Temp\\ipykernel_3452\\1239336378.py:141: FutureWarning: Downcasting behavior in `replace` is deprecated and will be removed in a future version. To retain the old behavior, explicitly call `result.infer_objects(copy=False)`. To opt-in to the future behavior, set `pd.set_option('future.no_silent_downcasting', True)`\n",
      "  xd_99384_5['df_id'] = xd_99384_5['df_id'].replace('%s'% id,id + 4)\n",
      "C:\\Users\\IRVIN\\AppData\\Local\\Temp\\ipykernel_3452\\1239336378.py:141: SettingWithCopyWarning: \n",
      "A value is trying to be set on a copy of a slice from a DataFrame.\n",
      "Try using .loc[row_indexer,col_indexer] = value instead\n",
      "\n",
      "See the caveats in the documentation: https://pandas.pydata.org/pandas-docs/stable/user_guide/indexing.html#returning-a-view-versus-a-copy\n",
      "  xd_99384_5['df_id'] = xd_99384_5['df_id'].replace('%s'% id,id + 4)\n",
      "C:\\Users\\IRVIN\\AppData\\Local\\Temp\\ipykernel_3452\\1239336378.py:144: SettingWithCopyWarning: \n",
      "A value is trying to be set on a copy of a slice from a DataFrame.\n",
      "Try using .loc[row_indexer,col_indexer] = value instead\n",
      "\n",
      "See the caveats in the documentation: https://pandas.pydata.org/pandas-docs/stable/user_guide/indexing.html#returning-a-view-versus-a-copy\n",
      "  xd_99384_6['df_detalles'] = xd_99384_6['df_detalles'].replace('', '1º Control - Paquete Especializado - IE')\n",
      "C:\\Users\\IRVIN\\AppData\\Local\\Temp\\ipykernel_3452\\1239336378.py:145: FutureWarning: Downcasting behavior in `replace` is deprecated and will be removed in a future version. To retain the old behavior, explicitly call `result.infer_objects(copy=False)`. To opt-in to the future behavior, set `pd.set_option('future.no_silent_downcasting', True)`\n",
      "  xd_99384_6['df_id'] = xd_99384_6['df_id'].replace('%s'% id,id + 5)\n",
      "C:\\Users\\IRVIN\\AppData\\Local\\Temp\\ipykernel_3452\\1239336378.py:145: SettingWithCopyWarning: \n",
      "A value is trying to be set on a copy of a slice from a DataFrame.\n",
      "Try using .loc[row_indexer,col_indexer] = value instead\n",
      "\n",
      "See the caveats in the documentation: https://pandas.pydata.org/pandas-docs/stable/user_guide/indexing.html#returning-a-view-versus-a-copy\n",
      "  xd_99384_6['df_id'] = xd_99384_6['df_id'].replace('%s'% id,id + 5)\n",
      "C:\\Users\\IRVIN\\AppData\\Local\\Temp\\ipykernel_3452\\1239336378.py:150: SettingWithCopyWarning: \n",
      "A value is trying to be set on a copy of a slice from a DataFrame.\n",
      "Try using .loc[row_indexer,col_indexer] = value instead\n",
      "\n",
      "See the caveats in the documentation: https://pandas.pydata.org/pandas-docs/stable/user_guide/indexing.html#returning-a-view-versus-a-copy\n",
      "  xd_99384_7['df_detalles'] = xd_99384_7['df_detalles'].replace('', '3º Control a mas - Paquete Basico - EESS')\n",
      "C:\\Users\\IRVIN\\AppData\\Local\\Temp\\ipykernel_3452\\1239336378.py:151: FutureWarning: Downcasting behavior in `replace` is deprecated and will be removed in a future version. To retain the old behavior, explicitly call `result.infer_objects(copy=False)`. To opt-in to the future behavior, set `pd.set_option('future.no_silent_downcasting', True)`\n",
      "  xd_99384_7['df_id'] = xd_99384_7['df_id'].replace('%s'% id,id + 7)\n",
      "C:\\Users\\IRVIN\\AppData\\Local\\Temp\\ipykernel_3452\\1239336378.py:151: SettingWithCopyWarning: \n",
      "A value is trying to be set on a copy of a slice from a DataFrame.\n",
      "Try using .loc[row_indexer,col_indexer] = value instead\n",
      "\n",
      "See the caveats in the documentation: https://pandas.pydata.org/pandas-docs/stable/user_guide/indexing.html#returning-a-view-versus-a-copy\n",
      "  xd_99384_7['df_id'] = xd_99384_7['df_id'].replace('%s'% id,id + 7)\n",
      "C:\\Users\\IRVIN\\AppData\\Local\\Temp\\ipykernel_3452\\1239336378.py:154: SettingWithCopyWarning: \n",
      "A value is trying to be set on a copy of a slice from a DataFrame.\n",
      "Try using .loc[row_indexer,col_indexer] = value instead\n",
      "\n",
      "See the caveats in the documentation: https://pandas.pydata.org/pandas-docs/stable/user_guide/indexing.html#returning-a-view-versus-a-copy\n",
      "  xd_99384_8['df_detalles'] = xd_99384_8['df_detalles'].replace('', '3º Control a mas - Paquete Completo - EESS')\n",
      "C:\\Users\\IRVIN\\AppData\\Local\\Temp\\ipykernel_3452\\1239336378.py:155: FutureWarning: Downcasting behavior in `replace` is deprecated and will be removed in a future version. To retain the old behavior, explicitly call `result.infer_objects(copy=False)`. To opt-in to the future behavior, set `pd.set_option('future.no_silent_downcasting', True)`\n",
      "  xd_99384_8['df_id'] = xd_99384_8['df_id'].replace('%s'% id,id + 8)\n",
      "C:\\Users\\IRVIN\\AppData\\Local\\Temp\\ipykernel_3452\\1239336378.py:155: SettingWithCopyWarning: \n",
      "A value is trying to be set on a copy of a slice from a DataFrame.\n",
      "Try using .loc[row_indexer,col_indexer] = value instead\n",
      "\n",
      "See the caveats in the documentation: https://pandas.pydata.org/pandas-docs/stable/user_guide/indexing.html#returning-a-view-versus-a-copy\n",
      "  xd_99384_8['df_id'] = xd_99384_8['df_id'].replace('%s'% id,id + 8)\n",
      "C:\\Users\\IRVIN\\AppData\\Local\\Temp\\ipykernel_3452\\1239336378.py:158: SettingWithCopyWarning: \n",
      "A value is trying to be set on a copy of a slice from a DataFrame.\n",
      "Try using .loc[row_indexer,col_indexer] = value instead\n",
      "\n",
      "See the caveats in the documentation: https://pandas.pydata.org/pandas-docs/stable/user_guide/indexing.html#returning-a-view-versus-a-copy\n",
      "  xd_99384_9['df_detalles'] = xd_99384_9['df_detalles'].replace('', '3º Control a mas - Paquete Especializado - EESS')\n",
      "C:\\Users\\IRVIN\\AppData\\Local\\Temp\\ipykernel_3452\\1239336378.py:159: FutureWarning: Downcasting behavior in `replace` is deprecated and will be removed in a future version. To retain the old behavior, explicitly call `result.infer_objects(copy=False)`. To opt-in to the future behavior, set `pd.set_option('future.no_silent_downcasting', True)`\n",
      "  xd_99384_9['df_id'] = xd_99384_9['df_id'].replace('%s'% id,id + 9)\n",
      "C:\\Users\\IRVIN\\AppData\\Local\\Temp\\ipykernel_3452\\1239336378.py:159: SettingWithCopyWarning: \n",
      "A value is trying to be set on a copy of a slice from a DataFrame.\n",
      "Try using .loc[row_indexer,col_indexer] = value instead\n",
      "\n",
      "See the caveats in the documentation: https://pandas.pydata.org/pandas-docs/stable/user_guide/indexing.html#returning-a-view-versus-a-copy\n",
      "  xd_99384_9['df_id'] = xd_99384_9['df_id'].replace('%s'% id,id + 9)\n",
      "C:\\Users\\IRVIN\\AppData\\Local\\Temp\\ipykernel_3452\\1239336378.py:163: SettingWithCopyWarning: \n",
      "A value is trying to be set on a copy of a slice from a DataFrame.\n",
      "Try using .loc[row_indexer,col_indexer] = value instead\n",
      "\n",
      "See the caveats in the documentation: https://pandas.pydata.org/pandas-docs/stable/user_guide/indexing.html#returning-a-view-versus-a-copy\n",
      "  xd_99384_10['df_detalles'] = xd_99384_10['df_detalles'].replace('', '3º Control a mas - Paquete Basico - IE')\n",
      "C:\\Users\\IRVIN\\AppData\\Local\\Temp\\ipykernel_3452\\1239336378.py:164: FutureWarning: Downcasting behavior in `replace` is deprecated and will be removed in a future version. To retain the old behavior, explicitly call `result.infer_objects(copy=False)`. To opt-in to the future behavior, set `pd.set_option('future.no_silent_downcasting', True)`\n",
      "  xd_99384_10['df_id'] = xd_99384_10['df_id'].replace('%s'% id,id + 10)\n",
      "C:\\Users\\IRVIN\\AppData\\Local\\Temp\\ipykernel_3452\\1239336378.py:164: SettingWithCopyWarning: \n",
      "A value is trying to be set on a copy of a slice from a DataFrame.\n",
      "Try using .loc[row_indexer,col_indexer] = value instead\n",
      "\n",
      "See the caveats in the documentation: https://pandas.pydata.org/pandas-docs/stable/user_guide/indexing.html#returning-a-view-versus-a-copy\n",
      "  xd_99384_10['df_id'] = xd_99384_10['df_id'].replace('%s'% id,id + 10)\n",
      "C:\\Users\\IRVIN\\AppData\\Local\\Temp\\ipykernel_3452\\1239336378.py:167: SettingWithCopyWarning: \n",
      "A value is trying to be set on a copy of a slice from a DataFrame.\n",
      "Try using .loc[row_indexer,col_indexer] = value instead\n",
      "\n",
      "See the caveats in the documentation: https://pandas.pydata.org/pandas-docs/stable/user_guide/indexing.html#returning-a-view-versus-a-copy\n",
      "  xd_99384_11['df_detalles'] = xd_99384_11['df_detalles'].replace('', '3º Control a mas - Paquete Completo - IE')\n",
      "C:\\Users\\IRVIN\\AppData\\Local\\Temp\\ipykernel_3452\\1239336378.py:168: FutureWarning: Downcasting behavior in `replace` is deprecated and will be removed in a future version. To retain the old behavior, explicitly call `result.infer_objects(copy=False)`. To opt-in to the future behavior, set `pd.set_option('future.no_silent_downcasting', True)`\n",
      "  xd_99384_11['df_id'] = xd_99384_11['df_id'].replace('%s'% id,id + 11)\n",
      "C:\\Users\\IRVIN\\AppData\\Local\\Temp\\ipykernel_3452\\1239336378.py:168: SettingWithCopyWarning: \n",
      "A value is trying to be set on a copy of a slice from a DataFrame.\n",
      "Try using .loc[row_indexer,col_indexer] = value instead\n",
      "\n",
      "See the caveats in the documentation: https://pandas.pydata.org/pandas-docs/stable/user_guide/indexing.html#returning-a-view-versus-a-copy\n",
      "  xd_99384_11['df_id'] = xd_99384_11['df_id'].replace('%s'% id,id + 11)\n"
     ]
    },
    {
     "name": "stdout",
     "output_type": "stream",
     "text": [
      "SELECT  '35' as df_id,'CONTROL Y SEGUIMIENTO DE ADOLESCENTES' as df_grupo,'99384' as df_codigo,'Evaluación Integral del Adolescente' as df_subgrupo,'2º Control' as df_detalles, nt.id_cita,nt.anio,nt.mes,nt.fecha_atencion,nt.id_paciente, nt.id_personal, nt.id_registrador,nt.anio_actual_paciente, nt.tipo_diagnostico,nt.codigo_item, mhe.id_establecimiento,mhe.red,mhe.microred,mhe.nombre_establecimiento,mhe.departamento,mhe.distrito,mhe.provincia , max(CASE  WHEN nt.id_correlativo_lab='1' THEN nt.valor_lab ELSE null END ) AS \"lab1\", max(CASE  WHEN nt.id_correlativo_lab='2' THEN nt.valor_lab ELSE null END ) AS \"lab2\", max(CASE  WHEN nt.id_correlativo_lab='3' THEN nt.valor_lab ELSE null END ) AS \"lab3\"  FROM maestros.nominal_trama nt \n",
      "    INNER JOIN maestros.maestro_his_establecimiento mhe ON mhe.id_establecimiento = nt.id_establecimiento  \n",
      "    WHERE  nt.tipo_diagnostico ='D' AND codigo_item in('99384')AND nt.anio_actual_paciente BETWEEN 12 AND 17 and nt.anio=2023 GROUP by nt.id_cita,nt.anio,nt.mes,nt.fecha_atencion,nt.id_paciente, nt.id_personal, nt.id_registrador,nt.anio_actual_paciente, nt.tipo_diagnostico,nt.codigo_item, mhe.id_establecimiento,mhe.red,mhe.microred,mhe.nombre_establecimiento,mhe.departamento,mhe.distrito,mhe.provincia\n",
      "    \n"
     ]
    },
    {
     "name": "stderr",
     "output_type": "stream",
     "text": [
      "d:\\Irvin\\Irvin\\Python\\Python-GERESA\\modulos\\adolescente\\../..\\clases\\bd\\conexion2.py:47: UserWarning: pandas only supports SQLAlchemy connectable (engine/connection) or database string URI or sqlite3 DBAPI2 connection. Other DBAPI2 objects are not tested. Please consider using SQLAlchemy.\n",
      "  s = pd.read_sql(sql, con=self.conn)\n",
      "C:\\Users\\IRVIN\\AppData\\Local\\Temp\\ipykernel_3452\\1239336378.py:181: FutureWarning: The behavior of DataFrame concatenation with empty or all-NA entries is deprecated. In a future version, this will no longer exclude empty or all-NA columns when determining the result dtypes. To retain the old behavior, exclude the relevant entries before the concat operation.\n",
      "  df = pd.concat([df, xd_99384_1,xd_99384_2,xd_99384_3,xd_99384_4,xd_99384_5,xd_99384_6,xd_99384_13,xd_99384_7,xd_99384_8,xd_99384_9,xd_99384_10,xd_99384_11,xd_99384_12], ignore_index=True)\n"
     ]
    }
   ],
   "source": [
    "id+=1\n",
    "xd_C8002=filtro2(id=id,grupo='CONTROL Y SEGUIMIENTO DE ADOLESCENTES',codigo='C8002',subgrupo='Plan de Atención Integral de Salud',detalles='',dx1='C8002',t_dx1='D',dx2='99384',t_dx2='D',conn=conn)\n",
    "\n",
    "\n",
    "# convertir a numeros y eliminar texto\n",
    "#xd_C8002['lab1'] = pd.to_numeric(xd_C8002['lab1'], errors='coerce')\n",
    "xd_C8002['lab2'] = pd.to_numeric(xd_C8002['lab2'], errors='coerce')\n",
    "xd_C8002['lab3'] = pd.to_numeric(xd_C8002['lab3'], errors='coerce')\n",
    "xd_C8002['lab1_2'] = pd.to_numeric(xd_C8002['lab1_2'], errors='coerce')\n",
    "\n",
    "\n",
    "# ------------------------------------- Iniciado EESS -----------------------------------------------------\n",
    "xd_C8002_1 = xd_C8002[(xd_C8002['lab1']=='1') & (xd_C8002['lab2']==1) & (xd_C8002['lab3']==1) & (xd_C8002['lab1_2']==1)]\n",
    "xd_C8002_1['df_detalles'] = xd_C8002_1['df_detalles'].replace('', 'Iniciado - Paquete Basico - EESS')\n",
    "\n",
    "# ------------------------------------- Iniciado EESS -----------------------------------------------------\n",
    "xd_C8002_2 = xd_C8002[(xd_C8002['lab1']=='1') & (xd_C8002['lab2']==2) & (xd_C8002['lab3']==1) & (xd_C8002['lab1_2']==1)]\n",
    "xd_C8002_2['df_detalles'] = xd_C8002_2['df_detalles'].replace('', 'Iniciado - Paquete Completo - EESS')\n",
    "xd_C8002_2['df_id'] = xd_C8002_2['df_id'].replace('%s'% id,id + 1)\n",
    "\n",
    "# ------------------------------------- Iniciado EESS -----------------------------------------------------\n",
    "xd_C8002_3 = xd_C8002[(xd_C8002['lab1']=='1') & (xd_C8002['lab2']==3) & (xd_C8002['lab3']==1) & (xd_C8002['lab1_2']==1)]\n",
    "xd_C8002_3['df_detalles'] = xd_C8002_3['df_detalles'].replace('', 'Iniciado - Paquete Especializado- EESS')\n",
    "xd_C8002_3['df_id'] = xd_C8002_3['df_id'].replace('%s'% id, id + 2)\n",
    "\n",
    "# ------------------------------------- Iniciado IE -----------------------------------------------------\n",
    "xd_C8002_4 = xd_C8002[(xd_C8002['lab1']=='1') & (xd_C8002['lab2']==1) & (xd_C8002['lab3']==2) & (xd_C8002['lab1_2']==1)]\n",
    "xd_C8002_4['df_detalles'] = xd_C8002_4['df_detalles'].replace('', 'Iniciado - Paquete Basico - IE')\n",
    "xd_C8002_4['df_id'] = xd_C8002_4['df_id'].replace('%s'% id, id + 3)\n",
    "\n",
    "# ------------------------------------- Iniciado IE -----------------------------------------------------\n",
    "xd_C8002_5 = xd_C8002[(xd_C8002['lab1']=='1') & (xd_C8002['lab2']==2) & (xd_C8002['lab3']==2) & (xd_C8002['lab1_2']==1)]\n",
    "xd_C8002_5['df_detalles'] = xd_C8002_5['df_detalles'].replace('', 'Iniciado - Paquete Completo - IE')\n",
    "xd_C8002_5['df_id'] = xd_C8002_5['df_id'].replace('%s'% id, id + 4)\n",
    "\n",
    "# ------------------------------------- Iniciado IE -----------------------------------------------------\n",
    "xd_C8002_6 = xd_C8002[(xd_C8002['lab1']=='1') & (xd_C8002['lab2']==3) & (xd_C8002['lab3']==2) & (xd_C8002['lab1_2']==1)]\n",
    "xd_C8002_6['df_detalles'] = xd_C8002_6['df_detalles'].replace('', 'Iniciado - Paquete Especializado- IE')\n",
    "xd_C8002_6['df_id'] = xd_C8002_6['df_id'].replace('%s'% id, id + 5)\n",
    "\n",
    "# ------------------------------------- Concluido EESS -----------------------------------------------------\n",
    "xd_C8002_7 = xd_C8002[(xd_C8002['lab1']=='TA') & (xd_C8002['lab2']==1) & (xd_C8002['lab3']==1) & (xd_C8002['lab1_2']>=3)]\n",
    "xd_C8002_7['df_detalles'] = xd_C8002_7['df_detalles'].replace('', 'Concluido - Paquete Basico - EESS')\n",
    "xd_C8002_7['df_id'] = xd_C8002_7['df_id'].replace('%s'% id, id + 6)\n",
    "\n",
    "# ------------------------------------- Concluido EESS -----------------------------------------------------\n",
    "xd_C8002_8 = xd_C8002[(xd_C8002['lab1']=='TA') & (xd_C8002['lab2']==2) & (xd_C8002['lab3']==1) & (xd_C8002['lab1_2']>=3)]\n",
    "xd_C8002_8['df_detalles'] = xd_C8002_8['df_detalles'].replace('', 'Concluido - Paquete Completo - EESS')\n",
    "xd_C8002_8['df_id'] = xd_C8002_8['df_id'].replace('%s'% id, id + 7)\n",
    "\n",
    "# ------------------------------------- Concluido EESS -----------------------------------------------------\n",
    "xd_C8002_9 = xd_C8002[(xd_C8002['lab1']=='TA') & (xd_C8002['lab2']==3) & (xd_C8002['lab3']==1) & (xd_C8002['lab1_2']>=3)]\n",
    "xd_C8002_9['df_detalles'] = xd_C8002_9['df_detalles'].replace('', 'Concluido - Paquete Especializado- EESS')\n",
    "xd_C8002_9['df_id'] = xd_C8002_9['df_id'].replace('%s'% id, id + 8)\n",
    "\n",
    "# ------------------------------------- Concluido IE -----------------------------------------------------\n",
    "xd_C8002_10 = xd_C8002[(xd_C8002['lab1']=='TA') & (xd_C8002['lab2']==1) & (xd_C8002['lab3']==2) & (xd_C8002['lab1_2']>=3)]\n",
    "xd_C8002_10['df_detalles'] = xd_C8002_10['df_detalles'].replace('', 'Concluido - Paquete Basico - IE')\n",
    "xd_C8002_10['df_id'] = xd_C8002_10['df_id'].replace('%s'% id, id + 9)\n",
    "\n",
    "# ------------------------------------- Concluido IE -----------------------------------------------------\n",
    "xd_C8002_11 = xd_C8002[(xd_C8002['lab1']=='TA') & (xd_C8002['lab2']==2) & (xd_C8002['lab3']==2) & (xd_C8002['lab1_2']>=3)]\n",
    "xd_C8002_11['df_detalles'] = xd_C8002_11['df_detalles'].replace('', 'Concluido - Paquete Completo - IE')\n",
    "xd_C8002_11['df_id'] = xd_C8002_11['df_id'].replace('%s'% id, id + 10)\n",
    "\n",
    "# ------------------------------------- Concluido IE -----------------------------------------------------\n",
    "xd_C8002_12 = xd_C8002[(xd_C8002['lab1']=='TA') & (xd_C8002['lab2']==3) & (xd_C8002['lab3']==2) & (xd_C8002['lab1_2']>=3)]\n",
    "xd_C8002_12['df_detalles'] = xd_C8002_12['df_detalles'].replace('', 'Concluido - Paquete Especializado- IE')\n",
    "xd_C8002_12['df_id'] = xd_C8002_12['df_id'].replace('%s'% id, id + 11)\n",
    "\n",
    "#xd_C8002_7.head(5)\n",
    "df = pd.concat([df, xd_C8002_1,xd_C8002_2,xd_C8002_3,xd_C8002_4,xd_C8002_5,xd_C8002_6,xd_C8002_7,xd_C8002_8,xd_C8002_9,xd_C8002_10,xd_C8002_11,xd_C8002_12], ignore_index=True)\n",
    "\n",
    "\n",
    "id+=12\n",
    "xd_Z003=filtro2(id=id,grupo='CONTROL Y SEGUIMIENTO DE ADOLESCENTES',codigo='Z003',subgrupo='Examen del estado de desarrollo del adolescente',detalles='',dx1='C8002',t_dx1='D',dx2='Z003',t_dx2='D',conn=conn)\n",
    "\n",
    "xd_Z003['lab2'] = pd.to_numeric(xd_Z003['lab2'], errors='coerce')\n",
    "xd_Z003['lab3'] = pd.to_numeric(xd_Z003['lab3'], errors='coerce')\n",
    "\n",
    "# ------------------------------------- Iniciado EESS -----------------------------------------------------\n",
    "xd_Z003_1 = xd_Z003[(xd_Z003['lab2']==1) & (xd_Z003['lab3']==1)]\n",
    "xd_Z003_1['df_detalles'] = xd_Z003_1['df_detalles'].replace('', 'Paquete Basico - EESS')\n",
    "\n",
    "# ------------------------------------- Iniciado EESS -----------------------------------------------------\n",
    "xd_Z003_2 = xd_Z003[ (xd_Z003['lab2']==2) & (xd_Z003['lab3']==1)]\n",
    "xd_Z003_2['df_detalles'] = xd_Z003_2['df_detalles'].replace('', 'Paquete Completo - EESS')\n",
    "xd_Z003_2['df_id'] = xd_Z003_2['df_id'].replace('%s'% id,id + 1)\n",
    "\n",
    "# ------------------------------------- Iniciado EESS -----------------------------------------------------\n",
    "xd_Z003_3 = xd_Z003[(xd_Z003['lab2']==3) & (xd_Z003['lab3']==1)]\n",
    "xd_Z003_3['df_detalles'] = xd_Z003_3['df_detalles'].replace('', 'Paquete Especializado- EESS')\n",
    "xd_Z003_3['df_id'] = xd_Z003_3['df_id'].replace('%s'% id, id + 2)\n",
    "\n",
    "# ------------------------------------- Iniciado IE -----------------------------------------------------\n",
    "xd_Z003_4 = xd_Z003[(xd_Z003['lab2']==1) & (xd_Z003['lab3']==2)]\n",
    "xd_Z003_4['df_detalles'] = xd_Z003_4['df_detalles'].replace('', 'Paquete Basico - IE')\n",
    "xd_Z003_4['df_id'] = xd_Z003_4['df_id'].replace('%s'% id, id + 3)\n",
    "\n",
    "# ------------------------------------- Iniciado IE -----------------------------------------------------\n",
    "xd_Z003_5 = xd_Z003[(xd_Z003['lab2']==2) & (xd_Z003['lab3']==2) ]\n",
    "xd_Z003_5['df_detalles'] = xd_Z003_5['df_detalles'].replace('', 'Paquete Completo - IE')\n",
    "xd_Z003_5['df_id'] = xd_Z003_5['df_id'].replace('%s'% id, id + 4)\n",
    "\n",
    "# ------------------------------------- Iniciado IE -----------------------------------------------------\n",
    "xd_Z003_6 = xd_Z003[(xd_Z003['lab2']==3) & (xd_Z003['lab3']==2) ]\n",
    "xd_Z003_6['df_detalles'] = xd_Z003_6['df_detalles'].replace('', 'Paquete Especializado - IE')\n",
    "xd_Z003_6['df_id'] = xd_Z003_6['df_id'].replace('%s'% id, id + 5)\n",
    "\n",
    "df = pd.concat([df, xd_Z003_1,xd_Z003_2,xd_Z003_3,xd_Z003_4,xd_Z003_5,xd_Z003_6], ignore_index=True)\n",
    "\n",
    "id+=6\n",
    "xd_99384=filtro2(id=id,grupo='CONTROL Y SEGUIMIENTO DE ADOLESCENTES',codigo='99384',subgrupo='Evaluación Integral del Adolescente',detalles='',dx1='99384',t_dx1='D',dx2='C8002',t_dx2='D',conn=conn)\n",
    "\n",
    "# convertir a numeros y eliminar texto\n",
    "xd_99384['lab1'] = pd.to_numeric(xd_99384['lab1'], errors='coerce')\n",
    "xd_99384['lab2'] = pd.to_numeric(xd_99384['lab2'], errors='coerce')\n",
    "xd_99384['lab3'] = pd.to_numeric(xd_99384['lab3'], errors='coerce')\n",
    "#xd_99384['lab1_2'] = pd.to_numeric(xd_99384['lab1_2'], errors='coerce')\n",
    "xd_99384['lab2_2'] = pd.to_numeric(xd_99384['lab2_2'], errors='coerce')\n",
    "xd_99384['lab3_2'] = pd.to_numeric(xd_99384['lab3_2'], errors='coerce')\n",
    "\n",
    "xd_99384_1 = xd_99384[(xd_99384['lab1']==1) & (xd_99384['lab1_2']=='1') & (xd_99384['lab2_2']==1)& (xd_99384['lab3_2']==1)]\n",
    "xd_99384_1['df_detalles'] = xd_99384_1['df_detalles'].replace('', '1º Control - Paquete Basico - EESS')\n",
    "\n",
    "xd_99384_2 = xd_99384[(xd_99384['lab1']==1) & (xd_99384['lab1_2']=='1') & (xd_99384['lab2_2']==2)& (xd_99384['lab3_2']==1)]\n",
    "xd_99384_2['df_detalles'] = xd_99384_2['df_detalles'].replace('', '1º Control - Paquete Completo - EESS')\n",
    "xd_99384_2['df_id'] = xd_99384_2['df_id'].replace('%s'% id,id + 1)\n",
    "\n",
    "xd_99384_3 = xd_99384[(xd_99384['lab1']==1) & (xd_99384['lab1_2']=='1') & (xd_99384['lab2_2']==3)& (xd_99384['lab3_2']==1)]\n",
    "xd_99384_3['df_detalles'] = xd_99384_3['df_detalles'].replace('', '1º Control - Paquete Especializado - EESS')\n",
    "xd_99384_3['df_id'] = xd_99384_3['df_id'].replace('%s'% id,id + 2)\n",
    "\n",
    "\n",
    "xd_99384_4 = xd_99384[(xd_99384['lab1']==1) & (xd_99384['lab1_2']=='1') & (xd_99384['lab2_2']==1)& (xd_99384['lab3_2']==2)]\n",
    "xd_99384_4['df_detalles'] = xd_99384_4['df_detalles'].replace('', '1º Control - Paquete Basico - IE')\n",
    "xd_99384_4['df_id'] = xd_99384_4['df_id'].replace('%s'% id,id + 3)\n",
    "\n",
    "xd_99384_5 = xd_99384[(xd_99384['lab1']==1) & (xd_99384['lab1_2']=='1') & (xd_99384['lab2_2']==2)& (xd_99384['lab3_2']==2)]\n",
    "xd_99384_5['df_detalles'] = xd_99384_5['df_detalles'].replace('', '1º Control - Paquete Completo - IE')\n",
    "xd_99384_5['df_id'] = xd_99384_5['df_id'].replace('%s'% id,id + 4)\n",
    "\n",
    "xd_99384_6 = xd_99384[(xd_99384['lab1']==1) & (xd_99384['lab1_2']=='1') & (xd_99384['lab2_2']==3)& (xd_99384['lab3_2']==2)]\n",
    "xd_99384_6['df_detalles'] = xd_99384_6['df_detalles'].replace('', '1º Control - Paquete Especializado - IE')\n",
    "xd_99384_6['df_id'] = xd_99384_6['df_id'].replace('%s'% id,id + 5)\n",
    "\n",
    "##-------------------------------------------------------------!3º Control a + controles!---------------------------------------------------------\n",
    "\n",
    "xd_99384_7 = xd_99384[(xd_99384['lab1']>=3) & (xd_99384['lab1_2']=='TA') & (xd_99384['lab2_2']==1)& (xd_99384['lab3_2']==1)]\n",
    "xd_99384_7['df_detalles'] = xd_99384_7['df_detalles'].replace('', '3º Control a mas - Paquete Basico - EESS')\n",
    "xd_99384_7['df_id'] = xd_99384_7['df_id'].replace('%s'% id,id + 7)\n",
    "\n",
    "xd_99384_8 = xd_99384[(xd_99384['lab1']>=3) & (xd_99384['lab1_2']=='TA') & (xd_99384['lab2_2']==2)& (xd_99384['lab3_2']==1)]\n",
    "xd_99384_8['df_detalles'] = xd_99384_8['df_detalles'].replace('', '3º Control a mas - Paquete Completo - EESS')\n",
    "xd_99384_8['df_id'] = xd_99384_8['df_id'].replace('%s'% id,id + 8)\n",
    "\n",
    "xd_99384_9 = xd_99384[(xd_99384['lab1']>=3) & (xd_99384['lab1_2']=='TA') & (xd_99384['lab2_2']==3)& (xd_99384['lab3_2']==1)]\n",
    "xd_99384_9['df_detalles'] = xd_99384_9['df_detalles'].replace('', '3º Control a mas - Paquete Especializado - EESS')\n",
    "xd_99384_9['df_id'] = xd_99384_9['df_id'].replace('%s'% id,id + 9)\n",
    "\n",
    "\n",
    "xd_99384_10 = xd_99384[(xd_99384['lab1']>=3) & (xd_99384['lab1_2']=='TA') & (xd_99384['lab2_2']==1)& (xd_99384['lab3_2']==2)]\n",
    "xd_99384_10['df_detalles'] = xd_99384_10['df_detalles'].replace('', '3º Control a mas - Paquete Basico - IE')\n",
    "xd_99384_10['df_id'] = xd_99384_10['df_id'].replace('%s'% id,id + 10)\n",
    "\n",
    "xd_99384_11 = xd_99384[(xd_99384['lab1']>=3) & (xd_99384['lab1_2']=='TA') & (xd_99384['lab2_2']==2)& (xd_99384['lab3_2']==2)]\n",
    "xd_99384_11['df_detalles'] = xd_99384_11['df_detalles'].replace('', '3º Control a mas - Paquete Completo - IE')\n",
    "xd_99384_11['df_id'] = xd_99384_11['df_id'].replace('%s'% id,id + 11)\n",
    "\n",
    "xd_99384_12 = xd_99384[(xd_99384['lab1']>=3) & (xd_99384['lab1_2']=='TA') & (xd_99384['lab2_2']==3)& (xd_99384['lab3_2']==2)]\n",
    "xd_99384_12['df_detalles'] = xd_99384_12['df_detalles'].replace('', '3º Control a mas - Paquete Especializado - IE')\n",
    "xd_99384_12['df_id'] = xd_99384_12['df_id'].replace('%s'% id,id + 12)\n",
    "\n",
    "id+=12\n",
    "xd_99384_13=filtro(id=id,grupo='CONTROL Y SEGUIMIENTO DE ADOLESCENTES',codigo='99384',subgrupo='Evaluación Integral del Adolescente',detalles='2º Control',dx1='99384',t_dx='D',conn=conn)\n",
    "#xd_99384_13.to_excel('xd_99384_13.xlsx',index=False)\n",
    "xd_99384_13 = xd_99384_13[(xd_99384_13['lab1']=='2')]\n",
    "\n",
    "##-------------------------------------------------------------!2º Control!---------------------------------------------------------\n",
    "\n",
    "df = pd.concat([df, xd_99384_1,xd_99384_2,xd_99384_3,xd_99384_4,xd_99384_5,xd_99384_6,xd_99384_13,xd_99384_7,xd_99384_8,xd_99384_9,xd_99384_10,xd_99384_11,xd_99384_12], ignore_index=True)\n",
    "#Adolescentes.to_csv('Adolescentes.csv')\n",
    "#xd_Z003.to_excel('xd_Z003.xlsx',index=False)\n",
    "\n",
    "#35"
   ]
  },
  {
   "attachments": {},
   "cell_type": "markdown",
   "metadata": {},
   "source": [
    "<center><h2>VISITA DOMICILIARIA </center></h2>"
   ]
  },
  {
   "cell_type": "code",
   "execution_count": 30,
   "metadata": {},
   "outputs": [
    {
     "name": "stderr",
     "output_type": "stream",
     "text": [
      "d:\\Irvin\\Irvin\\Python\\Python-GERESA\\modulos\\adolescente\\../..\\clases\\bd\\conexion2.py:47: UserWarning: pandas only supports SQLAlchemy connectable (engine/connection) or database string URI or sqlite3 DBAPI2 connection. Other DBAPI2 objects are not tested. Please consider using SQLAlchemy.\n",
      "  s = pd.read_sql(sql, con=self.conn)\n"
     ]
    },
    {
     "name": "stdout",
     "output_type": "stream",
     "text": [
      "SELECT  '36' as df_id,'VISITA DOMICILIARIA' as df_grupo,'C0011' as df_codigo,'Visita Domiciliaria' as df_subgrupo,'' as df_detalles, nt.id_cita,nt.anio,nt.mes,nt.fecha_atencion,nt.id_paciente, nt.id_personal, nt.id_registrador,nt.anio_actual_paciente, nt.tipo_diagnostico,nt.codigo_item, mhe.id_establecimiento,mhe.red,mhe.microred,mhe.nombre_establecimiento,mhe.departamento,mhe.distrito,mhe.provincia , max(CASE  WHEN nt.id_correlativo_lab='1' THEN nt.valor_lab ELSE null END ) AS \"lab1\", max(CASE  WHEN nt.id_correlativo_lab='2' THEN nt.valor_lab ELSE null END ) AS \"lab2\", max(CASE  WHEN nt.id_correlativo_lab='3' THEN nt.valor_lab ELSE null END ) AS \"lab3\"  FROM maestros.nominal_trama nt \n",
      "    INNER JOIN maestros.maestro_his_establecimiento mhe ON mhe.id_establecimiento = nt.id_establecimiento  \n",
      "    WHERE  nt.tipo_diagnostico ='D' AND codigo_item in('C0011')AND nt.anio_actual_paciente BETWEEN 12 AND 17 and nt.anio=2023 GROUP by nt.id_cita,nt.anio,nt.mes,nt.fecha_atencion,nt.id_paciente, nt.id_personal, nt.id_registrador,nt.anio_actual_paciente, nt.tipo_diagnostico,nt.codigo_item, mhe.id_establecimiento,mhe.red,mhe.microred,mhe.nombre_establecimiento,mhe.departamento,mhe.distrito,mhe.provincia\n",
      "    \n"
     ]
    },
    {
     "name": "stderr",
     "output_type": "stream",
     "text": [
      "C:\\Users\\IRVIN\\AppData\\Local\\Temp\\ipykernel_3452\\1337092366.py:11: SettingWithCopyWarning: \n",
      "A value is trying to be set on a copy of a slice from a DataFrame.\n",
      "Try using .loc[row_indexer,col_indexer] = value instead\n",
      "\n",
      "See the caveats in the documentation: https://pandas.pydata.org/pandas-docs/stable/user_guide/indexing.html#returning-a-view-versus-a-copy\n",
      "  Visita_Domiciliaria_1['df_detalles'] = Visita_Domiciliaria_1['df_detalles'].replace('', '1º visita')\n",
      "C:\\Users\\IRVIN\\AppData\\Local\\Temp\\ipykernel_3452\\1337092366.py:15: SettingWithCopyWarning: \n",
      "A value is trying to be set on a copy of a slice from a DataFrame.\n",
      "Try using .loc[row_indexer,col_indexer] = value instead\n",
      "\n",
      "See the caveats in the documentation: https://pandas.pydata.org/pandas-docs/stable/user_guide/indexing.html#returning-a-view-versus-a-copy\n",
      "  Visita_Domiciliaria_2['df_detalles'] = Visita_Domiciliaria_2['df_detalles'].replace( '', '2º visita')\n",
      "C:\\Users\\IRVIN\\AppData\\Local\\Temp\\ipykernel_3452\\1337092366.py:16: FutureWarning: Downcasting behavior in `replace` is deprecated and will be removed in a future version. To retain the old behavior, explicitly call `result.infer_objects(copy=False)`. To opt-in to the future behavior, set `pd.set_option('future.no_silent_downcasting', True)`\n",
      "  Visita_Domiciliaria_2['df_id'] = Visita_Domiciliaria_2['df_id'].replace('%s'% id,id + 1)\n",
      "C:\\Users\\IRVIN\\AppData\\Local\\Temp\\ipykernel_3452\\1337092366.py:16: SettingWithCopyWarning: \n",
      "A value is trying to be set on a copy of a slice from a DataFrame.\n",
      "Try using .loc[row_indexer,col_indexer] = value instead\n",
      "\n",
      "See the caveats in the documentation: https://pandas.pydata.org/pandas-docs/stable/user_guide/indexing.html#returning-a-view-versus-a-copy\n",
      "  Visita_Domiciliaria_2['df_id'] = Visita_Domiciliaria_2['df_id'].replace('%s'% id,id + 1)\n",
      "C:\\Users\\IRVIN\\AppData\\Local\\Temp\\ipykernel_3452\\1337092366.py:20: SettingWithCopyWarning: \n",
      "A value is trying to be set on a copy of a slice from a DataFrame.\n",
      "Try using .loc[row_indexer,col_indexer] = value instead\n",
      "\n",
      "See the caveats in the documentation: https://pandas.pydata.org/pandas-docs/stable/user_guide/indexing.html#returning-a-view-versus-a-copy\n",
      "  Visita_Domiciliaria_3['df_detalles'] = Visita_Domiciliaria_3['df_detalles'].replace('', '3º visita')\n",
      "C:\\Users\\IRVIN\\AppData\\Local\\Temp\\ipykernel_3452\\1337092366.py:21: FutureWarning: Downcasting behavior in `replace` is deprecated and will be removed in a future version. To retain the old behavior, explicitly call `result.infer_objects(copy=False)`. To opt-in to the future behavior, set `pd.set_option('future.no_silent_downcasting', True)`\n",
      "  Visita_Domiciliaria_3['df_id'] = Visita_Domiciliaria_3['df_id'].replace('%s'% id,id + 2)\n",
      "C:\\Users\\IRVIN\\AppData\\Local\\Temp\\ipykernel_3452\\1337092366.py:21: SettingWithCopyWarning: \n",
      "A value is trying to be set on a copy of a slice from a DataFrame.\n",
      "Try using .loc[row_indexer,col_indexer] = value instead\n",
      "\n",
      "See the caveats in the documentation: https://pandas.pydata.org/pandas-docs/stable/user_guide/indexing.html#returning-a-view-versus-a-copy\n",
      "  Visita_Domiciliaria_3['df_id'] = Visita_Domiciliaria_3['df_id'].replace('%s'% id,id + 2)\n"
     ]
    },
    {
     "name": "stdout",
     "output_type": "stream",
     "text": [
      "SELECT  '39' as df_id,'VISITA DOMICILIARIA' as df_grupo,'99509' as df_codigo,'Visita domiciliaria para la ayuda con actividades de la vida diaria y del cuidado personal' as df_subgrupo,'' as df_detalles, nt.id_cita,nt.anio,nt.mes,nt.fecha_atencion,nt.id_paciente, nt.id_personal, nt.id_registrador,nt.anio_actual_paciente, nt.tipo_diagnostico,nt.codigo_item, mhe.id_establecimiento,mhe.red,mhe.microred,mhe.nombre_establecimiento,mhe.departamento,mhe.distrito,mhe.provincia , max(CASE  WHEN nt.id_correlativo_lab='1' THEN nt.valor_lab ELSE null END ) AS \"lab1\", max(CASE  WHEN nt.id_correlativo_lab='2' THEN nt.valor_lab ELSE null END ) AS \"lab2\", max(CASE  WHEN nt.id_correlativo_lab='3' THEN nt.valor_lab ELSE null END ) AS \"lab3\"  FROM maestros.nominal_trama nt \n",
      "    INNER JOIN maestros.maestro_his_establecimiento mhe ON mhe.id_establecimiento = nt.id_establecimiento  \n",
      "    WHERE  nt.tipo_diagnostico ='D' AND codigo_item in('99509')AND nt.anio_actual_paciente BETWEEN 12 AND 17 and nt.anio=2023 GROUP by nt.id_cita,nt.anio,nt.mes,nt.fecha_atencion,nt.id_paciente, nt.id_personal, nt.id_registrador,nt.anio_actual_paciente, nt.tipo_diagnostico,nt.codigo_item, mhe.id_establecimiento,mhe.red,mhe.microred,mhe.nombre_establecimiento,mhe.departamento,mhe.distrito,mhe.provincia\n",
      "    \n"
     ]
    },
    {
     "name": "stderr",
     "output_type": "stream",
     "text": [
      "d:\\Irvin\\Irvin\\Python\\Python-GERESA\\modulos\\adolescente\\../..\\clases\\bd\\conexion2.py:47: UserWarning: pandas only supports SQLAlchemy connectable (engine/connection) or database string URI or sqlite3 DBAPI2 connection. Other DBAPI2 objects are not tested. Please consider using SQLAlchemy.\n",
      "  s = pd.read_sql(sql, con=self.conn)\n",
      "C:\\Users\\IRVIN\\AppData\\Local\\Temp\\ipykernel_3452\\1337092366.py:36: SettingWithCopyWarning: \n",
      "A value is trying to be set on a copy of a slice from a DataFrame.\n",
      "Try using .loc[row_indexer,col_indexer] = value instead\n",
      "\n",
      "See the caveats in the documentation: https://pandas.pydata.org/pandas-docs/stable/user_guide/indexing.html#returning-a-view-versus-a-copy\n",
      "  xd_99509_1['df_detalles'] = xd_99509_1['df_detalles'].replace('', '1º visita')\n"
     ]
    },
    {
     "name": "stdout",
     "output_type": "stream",
     "text": [
      "   df_id             df_grupo df_codigo  \\\n",
      "20    39  VISITA DOMICILIARIA     99509   \n",
      "21    39  VISITA DOMICILIARIA     99509   \n",
      "22    39  VISITA DOMICILIARIA     99509   \n",
      "23    39  VISITA DOMICILIARIA     99509   \n",
      "24    39  VISITA DOMICILIARIA     99509   \n",
      "25    39  VISITA DOMICILIARIA     99509   \n",
      "26    39  VISITA DOMICILIARIA     99509   \n",
      "29    39  VISITA DOMICILIARIA     99509   \n",
      "30    39  VISITA DOMICILIARIA     99509   \n",
      "31    39  VISITA DOMICILIARIA     99509   \n",
      "32    39  VISITA DOMICILIARIA     99509   \n",
      "33    39  VISITA DOMICILIARIA     99509   \n",
      "37    39  VISITA DOMICILIARIA     99509   \n",
      "38    39  VISITA DOMICILIARIA     99509   \n",
      "39    39  VISITA DOMICILIARIA     99509   \n",
      "40    39  VISITA DOMICILIARIA     99509   \n",
      "41    39  VISITA DOMICILIARIA     99509   \n",
      "42    39  VISITA DOMICILIARIA     99509   \n",
      "43    39  VISITA DOMICILIARIA     99509   \n",
      "44    39  VISITA DOMICILIARIA     99509   \n",
      "\n",
      "                                          df_subgrupo df_detalles    id_cita  \\\n",
      "20  Visita domiciliaria para la ayuda con activida...   1º visita  894672594   \n",
      "21  Visita domiciliaria para la ayuda con activida...   1º visita  894672802   \n",
      "22  Visita domiciliaria para la ayuda con activida...   1º visita  894673518   \n",
      "23  Visita domiciliaria para la ayuda con activida...   1º visita  894674011   \n",
      "24  Visita domiciliaria para la ayuda con activida...   1º visita  894674276   \n",
      "25  Visita domiciliaria para la ayuda con activida...   1º visita  894674674   \n",
      "26  Visita domiciliaria para la ayuda con activida...   1º visita  894674855   \n",
      "29  Visita domiciliaria para la ayuda con activida...   1º visita  921177797   \n",
      "30  Visita domiciliaria para la ayuda con activida...   1º visita  921177939   \n",
      "31  Visita domiciliaria para la ayuda con activida...   1º visita  921178083   \n",
      "32  Visita domiciliaria para la ayuda con activida...   1º visita  921178178   \n",
      "33  Visita domiciliaria para la ayuda con activida...   1º visita  921178272   \n",
      "37  Visita domiciliaria para la ayuda con activida...   1º visita  952061207   \n",
      "38  Visita domiciliaria para la ayuda con activida...   1º visita  952061562   \n",
      "39  Visita domiciliaria para la ayuda con activida...   1º visita  961048234   \n",
      "40  Visita domiciliaria para la ayuda con activida...   1º visita  961048300   \n",
      "41  Visita domiciliaria para la ayuda con activida...   1º visita  961048349   \n",
      "42  Visita domiciliaria para la ayuda con activida...   1º visita  961048404   \n",
      "43  Visita domiciliaria para la ayuda con activida...   1º visita  961048489   \n",
      "44  Visita domiciliaria para la ayuda con activida...   1º visita  961048584   \n",
      "\n",
      "    anio  mes fecha_atencion    id_paciente  ...  id_establecimiento  \\\n",
      "20  2023    7     2023-07-08    57229262469  ...                2469   \n",
      "21  2023    7     2023-07-08    57031722469  ...                2469   \n",
      "22  2023    7     2023-07-08    56623592469  ...                2469   \n",
      "23  2023    7     2023-07-08    56839322469  ...                2469   \n",
      "24  2023    7     2023-07-08    59015442469  ...                2469   \n",
      "25  2023    7     2023-07-08    48832492469  ...                2469   \n",
      "26  2023    7     2023-07-08    59498272469  ...                2469   \n",
      "29  2023    9     2023-09-06    58449312469  ...                2469   \n",
      "30  2023    9     2023-09-06    33945292469  ...                2469   \n",
      "31  2023    9     2023-09-06    58938452469  ...                2469   \n",
      "32  2023    9     2023-09-06   263273362469  ...                2469   \n",
      "33  2023    9     2023-09-06    58938702469  ...                2469   \n",
      "37  2023   11     2023-11-05   247004540467  ...               40467   \n",
      "38  2023   11     2023-11-08   380963840467  ...               40467   \n",
      "39  2023   11     2023-11-26  2614657640467  ...               40467   \n",
      "40  2023   11     2023-11-26   379954340467  ...               40467   \n",
      "41  2023   11     2023-11-26   380963840467  ...               40467   \n",
      "42  2023   11     2023-11-26  3173447740467  ...               40467   \n",
      "43  2023   11     2023-11-26   380774640467  ...               40467   \n",
      "44  2023   11     2023-11-26   576889440467  ...               40467   \n",
      "\n",
      "                red  microred nombre_establecimiento departamento  distrito  \\\n",
      "20  KIMBIRI PICHARI   KIMBIRI            CHIRUMPIARI        CUSCO   KIMBIRI   \n",
      "21  KIMBIRI PICHARI   KIMBIRI            CHIRUMPIARI        CUSCO   KIMBIRI   \n",
      "22  KIMBIRI PICHARI   KIMBIRI            CHIRUMPIARI        CUSCO   KIMBIRI   \n",
      "23  KIMBIRI PICHARI   KIMBIRI            CHIRUMPIARI        CUSCO   KIMBIRI   \n",
      "24  KIMBIRI PICHARI   KIMBIRI            CHIRUMPIARI        CUSCO   KIMBIRI   \n",
      "25  KIMBIRI PICHARI   KIMBIRI            CHIRUMPIARI        CUSCO   KIMBIRI   \n",
      "26  KIMBIRI PICHARI   KIMBIRI            CHIRUMPIARI        CUSCO   KIMBIRI   \n",
      "29  KIMBIRI PICHARI   KIMBIRI            CHIRUMPIARI        CUSCO   KIMBIRI   \n",
      "30  KIMBIRI PICHARI   KIMBIRI            CHIRUMPIARI        CUSCO   KIMBIRI   \n",
      "31  KIMBIRI PICHARI   KIMBIRI            CHIRUMPIARI        CUSCO   KIMBIRI   \n",
      "32  KIMBIRI PICHARI   KIMBIRI            CHIRUMPIARI        CUSCO   KIMBIRI   \n",
      "33  KIMBIRI PICHARI   KIMBIRI            CHIRUMPIARI        CUSCO   KIMBIRI   \n",
      "37  KIMBIRI PICHARI   PICHARI         NUEVO PROGRESO        CUSCO   PICHARI   \n",
      "38  KIMBIRI PICHARI   PICHARI         NUEVO PROGRESO        CUSCO   PICHARI   \n",
      "39  KIMBIRI PICHARI   PICHARI         NUEVO PROGRESO        CUSCO   PICHARI   \n",
      "40  KIMBIRI PICHARI   PICHARI         NUEVO PROGRESO        CUSCO   PICHARI   \n",
      "41  KIMBIRI PICHARI   PICHARI         NUEVO PROGRESO        CUSCO   PICHARI   \n",
      "42  KIMBIRI PICHARI   PICHARI         NUEVO PROGRESO        CUSCO   PICHARI   \n",
      "43  KIMBIRI PICHARI   PICHARI         NUEVO PROGRESO        CUSCO   PICHARI   \n",
      "44  KIMBIRI PICHARI   PICHARI         NUEVO PROGRESO        CUSCO   PICHARI   \n",
      "\n",
      "        provincia lab1  lab2  lab3  \n",
      "20  LA CONVENCION  1.0  None  None  \n",
      "21  LA CONVENCION  1.0  None  None  \n",
      "22  LA CONVENCION  1.0  None  None  \n",
      "23  LA CONVENCION  1.0  None  None  \n",
      "24  LA CONVENCION  1.0  None  None  \n",
      "25  LA CONVENCION  1.0  None  None  \n",
      "26  LA CONVENCION  1.0  None  None  \n",
      "29  LA CONVENCION  1.0  None  None  \n",
      "30  LA CONVENCION  1.0  None  None  \n",
      "31  LA CONVENCION  1.0  None  None  \n",
      "32  LA CONVENCION  1.0  None  None  \n",
      "33  LA CONVENCION  1.0  None  None  \n",
      "37  LA CONVENCION  1.0  None  None  \n",
      "38  LA CONVENCION  1.0  None  None  \n",
      "39  LA CONVENCION  1.0  None  None  \n",
      "40  LA CONVENCION  1.0  None  None  \n",
      "41  LA CONVENCION  1.0  None  None  \n",
      "42  LA CONVENCION  1.0  None  None  \n",
      "43  LA CONVENCION  1.0  None  None  \n",
      "44  LA CONVENCION  1.0  None  None  \n",
      "\n",
      "[20 rows x 25 columns]\n"
     ]
    }
   ],
   "source": [
    "\n",
    "\n",
    "\n",
    "# ___------------------------------------------------------------------------------------------------------------------------------------------------\n",
    "id+=1\n",
    "Visita_Domiciliaria=filtro(id=id,grupo='VISITA DOMICILIARIA',codigo='C0011',subgrupo='Visita Domiciliaria',detalles='',dx1='C0011',t_dx='D',conn=conn)\n",
    "\n",
    "\n",
    "\n",
    "Visita_Domiciliaria['lab1'] = pd.to_numeric(\n",
    "    Visita_Domiciliaria['lab1'], errors='coerce')  # convertir a numeros y eliminar texto\n",
    "# ------------------------------------- Primera Visita-----------------------------------------------------\n",
    "Visita_Domiciliaria_1 = Visita_Domiciliaria.loc[Visita_Domiciliaria['lab1'].isin([1])]\n",
    "Visita_Domiciliaria_1['df_detalles'] = Visita_Domiciliaria_1['df_detalles'].replace('', '1º visita')\n",
    "\n",
    "# ------------------------------------- segunda Visita-----------------------------------------------------\n",
    "Visita_Domiciliaria_2 = Visita_Domiciliaria.loc[Visita_Domiciliaria['lab1'].isin([2])]\n",
    "Visita_Domiciliaria_2['df_detalles'] = Visita_Domiciliaria_2['df_detalles'].replace( '', '2º visita')\n",
    "Visita_Domiciliaria_2['df_id'] = Visita_Domiciliaria_2['df_id'].replace('%s'% id,id + 1) \n",
    "\n",
    "# ------------------------------------- Tercera Visita-----------------------------------------------------\n",
    "Visita_Domiciliaria_3 = Visita_Domiciliaria.loc[Visita_Domiciliaria['lab1'] >= 3]\n",
    "Visita_Domiciliaria_3['df_detalles'] = Visita_Domiciliaria_3['df_detalles'].replace('', '3º visita')\n",
    "Visita_Domiciliaria_3['df_id'] = Visita_Domiciliaria_3['df_id'].replace('%s'% id,id + 2) \n",
    "\n",
    "df = pd.concat([df, Visita_Domiciliaria_1,Visita_Domiciliaria_2,Visita_Domiciliaria_3], ignore_index=True)\n",
    "\n",
    "\n",
    "\n",
    "#------------------------------------------------------------------------------------------------\n",
    "id+=3\n",
    "xd_99509=filtro(id=id,grupo='VISITA DOMICILIARIA',codigo='99509',subgrupo='Visita domiciliaria para la ayuda con actividades de la vida diaria y del cuidado personal',detalles='',dx1='99509',t_dx='D',conn=conn)\n",
    "\n",
    "\n",
    "# convertir a numeros y eliminar texto\n",
    "xd_99509['lab1'] = pd.to_numeric(xd_99509['lab1'], errors='coerce')\n",
    "# ------------------------------------- Primera Visita-----------------------------------------------------\n",
    "xd_99509_1 = xd_99509.loc[xd_99509['lab1'].isin([1])]\n",
    "xd_99509_1['df_detalles'] = xd_99509_1['df_detalles'].replace('', '1º visita')\n",
    "\n",
    "# ------------------------------------- segunda Visita-----------------------------------------------------\n",
    "xd_99509_2 = xd_99509.loc[xd_99509['lab1'].isin([2])]\n",
    "xd_99509_2['df_detalles'] = xd_99509_2['df_detalles'].replace('', '2º visita')\n",
    "xd_99509_2['df_id'] = xd_99509_2['df_id'].replace('%s'% id,id + 1) \n",
    "# ------------------------------------- Tercera Visita-----------------------------------------------------\n",
    "xd_99509_3 = xd_99509.loc[xd_99509['lab1'] >= 3]\n",
    "xd_99509_3['df_detalles'] = xd_99509_3['df_detalles'].replace('', '3º visita')\n",
    "xd_99509_3['df_id'] = xd_99509_3['df_id'].replace('%s'% id,id + 2) \n",
    "\n",
    "df = pd.concat([df, xd_99509_1,xd_99509_2,xd_99509_3], ignore_index=True)\n",
    "\n",
    "print(xd_99509_1)\n",
    "# df.info()\n",
    "#xd_99509.head(1)\n"
   ]
  },
  {
   "attachments": {},
   "cell_type": "markdown",
   "metadata": {},
   "source": [
    "<center><h1>EVALUACIÓN FÍSICA NUTRICIONAL </h1></center>"
   ]
  },
  {
   "cell_type": "code",
   "execution_count": 31,
   "metadata": {},
   "outputs": [
    {
     "name": "stdout",
     "output_type": "stream",
     "text": [
      "SELECT  '42' as df_id,'EVALUACIÓN FÍSICA NUTRICIONAL' as df_grupo,'Z000' as df_codigo,'Examen médico general' as df_subgrupo,'' as df_detalles, nt.id_cita,nt.anio,nt.mes,nt.fecha_atencion,nt.id_paciente, nt.id_personal, nt.id_registrador,nt.anio_actual_paciente, nt.tipo_diagnostico,nt.codigo_item, mhe.id_establecimiento,mhe.red,mhe.microred,mhe.nombre_establecimiento,mhe.departamento,mhe.distrito,mhe.provincia , max(CASE  WHEN nt.id_correlativo_lab='1' THEN nt.valor_lab ELSE null END ) AS \"lab1\", max(CASE  WHEN nt.id_correlativo_lab='2' THEN nt.valor_lab ELSE null END ) AS \"lab2\", max(CASE  WHEN nt.id_correlativo_lab='3' THEN nt.valor_lab ELSE null END ) AS \"lab3\"  FROM maestros.nominal_trama nt \n",
      "    INNER JOIN maestros.maestro_his_establecimiento mhe ON mhe.id_establecimiento = nt.id_establecimiento  \n",
      "    WHERE  nt.tipo_diagnostico ='D' AND codigo_item in('Z000')AND nt.anio_actual_paciente BETWEEN 12 AND 17 and nt.anio=2023 GROUP by nt.id_cita,nt.anio,nt.mes,nt.fecha_atencion,nt.id_paciente, nt.id_personal, nt.id_registrador,nt.anio_actual_paciente, nt.tipo_diagnostico,nt.codigo_item, mhe.id_establecimiento,mhe.red,mhe.microred,mhe.nombre_establecimiento,mhe.departamento,mhe.distrito,mhe.provincia\n",
      "    \n"
     ]
    },
    {
     "name": "stderr",
     "output_type": "stream",
     "text": [
      "d:\\Irvin\\Irvin\\Python\\Python-GERESA\\modulos\\adolescente\\../..\\clases\\bd\\conexion2.py:47: UserWarning: pandas only supports SQLAlchemy connectable (engine/connection) or database string URI or sqlite3 DBAPI2 connection. Other DBAPI2 objects are not tested. Please consider using SQLAlchemy.\n",
      "  s = pd.read_sql(sql, con=self.conn)\n"
     ]
    },
    {
     "name": "stdout",
     "output_type": "stream",
     "text": [
      "SELECT  '43' as df_id,'EVALUACIÓN FÍSICA NUTRICIONAL' as df_grupo,'Z019' as df_codigo,'Valoración de Factores de Riesgo (DNT)' as df_subgrupo,'' as df_detalles, nt.id_cita,nt.anio,nt.mes,nt.fecha_atencion,nt.id_paciente, nt.id_personal, nt.id_registrador,nt.anio_actual_paciente, nt.tipo_diagnostico,nt.codigo_item, mhe.id_establecimiento,mhe.red,mhe.microred,mhe.nombre_establecimiento,mhe.departamento,mhe.distrito,mhe.provincia , max(CASE  WHEN nt.id_correlativo_lab='1' THEN nt.valor_lab ELSE null END ) AS \"lab1\", max(CASE  WHEN nt.id_correlativo_lab='2' THEN nt.valor_lab ELSE null END ) AS \"lab2\", max(CASE  WHEN nt.id_correlativo_lab='3' THEN nt.valor_lab ELSE null END ) AS \"lab3\"  FROM maestros.nominal_trama nt \n",
      "    INNER JOIN maestros.maestro_his_establecimiento mhe ON mhe.id_establecimiento = nt.id_establecimiento  \n",
      "    WHERE  nt.tipo_diagnostico ='D' AND codigo_item in('Z019')AND nt.anio_actual_paciente BETWEEN 12 AND 17 and nt.anio=2023 GROUP by nt.id_cita,nt.anio,nt.mes,nt.fecha_atencion,nt.id_paciente, nt.id_personal, nt.id_registrador,nt.anio_actual_paciente, nt.tipo_diagnostico,nt.codigo_item, mhe.id_establecimiento,mhe.red,mhe.microred,mhe.nombre_establecimiento,mhe.departamento,mhe.distrito,mhe.provincia\n",
      "    \n"
     ]
    },
    {
     "name": "stderr",
     "output_type": "stream",
     "text": [
      "d:\\Irvin\\Irvin\\Python\\Python-GERESA\\modulos\\adolescente\\../..\\clases\\bd\\conexion2.py:47: UserWarning: pandas only supports SQLAlchemy connectable (engine/connection) or database string URI or sqlite3 DBAPI2 connection. Other DBAPI2 objects are not tested. Please consider using SQLAlchemy.\n",
      "  s = pd.read_sql(sql, con=self.conn)\n"
     ]
    },
    {
     "name": "stdout",
     "output_type": "stream",
     "text": [
      "SELECT  '44' as df_id,'EVALUACIÓN FÍSICA NUTRICIONAL' as df_grupo,'99209.04' as df_codigo,'Evaluación Nutricional Antropometrica (PAB)' as df_subgrupo,'' as df_detalles, nt.id_cita,nt.anio,nt.mes,nt.fecha_atencion,nt.id_paciente, nt.id_personal, nt.id_registrador,nt.anio_actual_paciente, nt.tipo_diagnostico,nt.codigo_item, mhe.id_establecimiento,mhe.red,mhe.microred,mhe.nombre_establecimiento,mhe.departamento,mhe.distrito,mhe.provincia , max(CASE  WHEN nt.id_correlativo_lab='1' THEN nt.valor_lab ELSE null END ) AS \"lab1\", max(CASE  WHEN nt.id_correlativo_lab='2' THEN nt.valor_lab ELSE null END ) AS \"lab2\", max(CASE  WHEN nt.id_correlativo_lab='3' THEN nt.valor_lab ELSE null END ) AS \"lab3\"  FROM maestros.nominal_trama nt \n",
      "    INNER JOIN maestros.maestro_his_establecimiento mhe ON mhe.id_establecimiento = nt.id_establecimiento  \n",
      "    WHERE  nt.tipo_diagnostico ='D' AND codigo_item in('99209.04')AND nt.anio_actual_paciente BETWEEN 12 AND 17 and nt.anio=2023 GROUP by nt.id_cita,nt.anio,nt.mes,nt.fecha_atencion,nt.id_paciente, nt.id_personal, nt.id_registrador,nt.anio_actual_paciente, nt.tipo_diagnostico,nt.codigo_item, mhe.id_establecimiento,mhe.red,mhe.microred,mhe.nombre_establecimiento,mhe.departamento,mhe.distrito,mhe.provincia\n",
      "    \n"
     ]
    },
    {
     "name": "stderr",
     "output_type": "stream",
     "text": [
      "d:\\Irvin\\Irvin\\Python\\Python-GERESA\\modulos\\adolescente\\../..\\clases\\bd\\conexion2.py:47: UserWarning: pandas only supports SQLAlchemy connectable (engine/connection) or database string URI or sqlite3 DBAPI2 connection. Other DBAPI2 objects are not tested. Please consider using SQLAlchemy.\n",
      "  s = pd.read_sql(sql, con=self.conn)\n",
      "C:\\Users\\IRVIN\\AppData\\Local\\Temp\\ipykernel_3452\\2593671444.py:15: SettingWithCopyWarning: \n",
      "A value is trying to be set on a copy of a slice from a DataFrame.\n",
      "Try using .loc[row_indexer,col_indexer] = value instead\n",
      "\n",
      "See the caveats in the documentation: https://pandas.pydata.org/pandas-docs/stable/user_guide/indexing.html#returning-a-view-versus-a-copy\n",
      "  xd_99209_04_1['df_detalles']=xd_99209_04_1['df_detalles'].replace('','RSM= Riesgo Bajo')\n",
      "C:\\Users\\IRVIN\\AppData\\Local\\Temp\\ipykernel_3452\\2593671444.py:20: SettingWithCopyWarning: \n",
      "A value is trying to be set on a copy of a slice from a DataFrame.\n",
      "Try using .loc[row_indexer,col_indexer] = value instead\n",
      "\n",
      "See the caveats in the documentation: https://pandas.pydata.org/pandas-docs/stable/user_guide/indexing.html#returning-a-view-versus-a-copy\n",
      "  xd_99209_04_2['df_detalles']=xd_99209_04_2['df_detalles'].replace('','RSA= Riesgo Alto')\n",
      "C:\\Users\\IRVIN\\AppData\\Local\\Temp\\ipykernel_3452\\2593671444.py:21: FutureWarning: Downcasting behavior in `replace` is deprecated and will be removed in a future version. To retain the old behavior, explicitly call `result.infer_objects(copy=False)`. To opt-in to the future behavior, set `pd.set_option('future.no_silent_downcasting', True)`\n",
      "  xd_99209_04_2['df_id'] = xd_99209_04_2['df_id'].replace('%s'% id,id + 1)\n",
      "C:\\Users\\IRVIN\\AppData\\Local\\Temp\\ipykernel_3452\\2593671444.py:21: SettingWithCopyWarning: \n",
      "A value is trying to be set on a copy of a slice from a DataFrame.\n",
      "Try using .loc[row_indexer,col_indexer] = value instead\n",
      "\n",
      "See the caveats in the documentation: https://pandas.pydata.org/pandas-docs/stable/user_guide/indexing.html#returning-a-view-versus-a-copy\n",
      "  xd_99209_04_2['df_id'] = xd_99209_04_2['df_id'].replace('%s'% id,id + 1)\n",
      "C:\\Users\\IRVIN\\AppData\\Local\\Temp\\ipykernel_3452\\2593671444.py:25: SettingWithCopyWarning: \n",
      "A value is trying to be set on a copy of a slice from a DataFrame.\n",
      "Try using .loc[row_indexer,col_indexer] = value instead\n",
      "\n",
      "See the caveats in the documentation: https://pandas.pydata.org/pandas-docs/stable/user_guide/indexing.html#returning-a-view-versus-a-copy\n",
      "  xd_99209_04_3['df_detalles']=xd_99209_04_3['df_detalles'].replace('','RMA= Riesgo Muy Alto')\n",
      "C:\\Users\\IRVIN\\AppData\\Local\\Temp\\ipykernel_3452\\2593671444.py:26: FutureWarning: Downcasting behavior in `replace` is deprecated and will be removed in a future version. To retain the old behavior, explicitly call `result.infer_objects(copy=False)`. To opt-in to the future behavior, set `pd.set_option('future.no_silent_downcasting', True)`\n",
      "  xd_99209_04_3['df_id'] = xd_99209_04_3['df_id'].replace('%s'% id,id + 2)\n",
      "C:\\Users\\IRVIN\\AppData\\Local\\Temp\\ipykernel_3452\\2593671444.py:26: SettingWithCopyWarning: \n",
      "A value is trying to be set on a copy of a slice from a DataFrame.\n",
      "Try using .loc[row_indexer,col_indexer] = value instead\n",
      "\n",
      "See the caveats in the documentation: https://pandas.pydata.org/pandas-docs/stable/user_guide/indexing.html#returning-a-view-versus-a-copy\n",
      "  xd_99209_04_3['df_id'] = xd_99209_04_3['df_id'].replace('%s'% id,id + 2)\n"
     ]
    },
    {
     "name": "stdout",
     "output_type": "stream",
     "text": [
      "SELECT  '47' as df_id,'EVALUACIÓN FÍSICA NUTRICIONAL' as df_grupo,'E660' as df_codigo,'Índice de Masa Corporal (IMC)' as df_subgrupo,'Obesidad debido a exceso de caloría (Sobrepeso)' as df_detalles, nt.id_cita,nt.anio,nt.mes,nt.fecha_atencion,nt.id_paciente, nt.id_personal, nt.id_registrador,nt.anio_actual_paciente, nt.tipo_diagnostico,nt.codigo_item, mhe.id_establecimiento,mhe.red,mhe.microred,mhe.nombre_establecimiento,mhe.departamento,mhe.distrito,mhe.provincia , max(CASE  WHEN nt.id_correlativo_lab='1' THEN nt.valor_lab ELSE null END ) AS \"lab1\", max(CASE  WHEN nt.id_correlativo_lab='2' THEN nt.valor_lab ELSE null END ) AS \"lab2\", max(CASE  WHEN nt.id_correlativo_lab='3' THEN nt.valor_lab ELSE null END ) AS \"lab3\"  FROM maestros.nominal_trama nt \n",
      "    INNER JOIN maestros.maestro_his_establecimiento mhe ON mhe.id_establecimiento = nt.id_establecimiento  \n",
      "    WHERE  nt.tipo_diagnostico ='D' AND codigo_item in('E660')AND nt.anio_actual_paciente BETWEEN 12 AND 17 and nt.anio=2023 GROUP by nt.id_cita,nt.anio,nt.mes,nt.fecha_atencion,nt.id_paciente, nt.id_personal, nt.id_registrador,nt.anio_actual_paciente, nt.tipo_diagnostico,nt.codigo_item, mhe.id_establecimiento,mhe.red,mhe.microred,mhe.nombre_establecimiento,mhe.departamento,mhe.distrito,mhe.provincia\n",
      "    \n"
     ]
    },
    {
     "name": "stderr",
     "output_type": "stream",
     "text": [
      "d:\\Irvin\\Irvin\\Python\\Python-GERESA\\modulos\\adolescente\\../..\\clases\\bd\\conexion2.py:47: UserWarning: pandas only supports SQLAlchemy connectable (engine/connection) or database string URI or sqlite3 DBAPI2 connection. Other DBAPI2 objects are not tested. Please consider using SQLAlchemy.\n",
      "  s = pd.read_sql(sql, con=self.conn)\n"
     ]
    },
    {
     "name": "stdout",
     "output_type": "stream",
     "text": [
      "SELECT  '48' as df_id,'EVALUACIÓN FÍSICA NUTRICIONAL' as df_grupo,'E669' as df_codigo,'Índice de Masa Corporal (IMC)' as df_subgrupo,'Obesidad no especificada (Obesidad)' as df_detalles, nt.id_cita,nt.anio,nt.mes,nt.fecha_atencion,nt.id_paciente, nt.id_personal, nt.id_registrador,nt.anio_actual_paciente, nt.tipo_diagnostico,nt.codigo_item, mhe.id_establecimiento,mhe.red,mhe.microred,mhe.nombre_establecimiento,mhe.departamento,mhe.distrito,mhe.provincia , max(CASE  WHEN nt.id_correlativo_lab='1' THEN nt.valor_lab ELSE null END ) AS \"lab1\", max(CASE  WHEN nt.id_correlativo_lab='2' THEN nt.valor_lab ELSE null END ) AS \"lab2\", max(CASE  WHEN nt.id_correlativo_lab='3' THEN nt.valor_lab ELSE null END ) AS \"lab3\"  FROM maestros.nominal_trama nt \n",
      "    INNER JOIN maestros.maestro_his_establecimiento mhe ON mhe.id_establecimiento = nt.id_establecimiento  \n",
      "    WHERE  nt.tipo_diagnostico ='D' AND codigo_item in('E669')AND nt.anio_actual_paciente BETWEEN 12 AND 17 and nt.anio=2023 GROUP by nt.id_cita,nt.anio,nt.mes,nt.fecha_atencion,nt.id_paciente, nt.id_personal, nt.id_registrador,nt.anio_actual_paciente, nt.tipo_diagnostico,nt.codigo_item, mhe.id_establecimiento,mhe.red,mhe.microred,mhe.nombre_establecimiento,mhe.departamento,mhe.distrito,mhe.provincia\n",
      "    \n"
     ]
    },
    {
     "name": "stderr",
     "output_type": "stream",
     "text": [
      "d:\\Irvin\\Irvin\\Python\\Python-GERESA\\modulos\\adolescente\\../..\\clases\\bd\\conexion2.py:47: UserWarning: pandas only supports SQLAlchemy connectable (engine/connection) or database string URI or sqlite3 DBAPI2 connection. Other DBAPI2 objects are not tested. Please consider using SQLAlchemy.\n",
      "  s = pd.read_sql(sql, con=self.conn)\n"
     ]
    },
    {
     "name": "stdout",
     "output_type": "stream",
     "text": [
      "SELECT  '49' as df_id,'EVALUACIÓN FÍSICA NUTRICIONAL' as df_grupo,'Z006' as df_codigo,'Índice de Masa Corporal (IMC)' as df_subgrupo,'Peso Normal' as df_detalles, nt.id_cita,nt.anio,nt.mes,nt.fecha_atencion,nt.id_paciente, nt.id_personal, nt.id_registrador,nt.anio_actual_paciente, nt.tipo_diagnostico,nt.codigo_item, mhe.id_establecimiento,mhe.red,mhe.microred,mhe.nombre_establecimiento,mhe.departamento,mhe.distrito,mhe.provincia , max(CASE  WHEN nt.id_correlativo_lab='1' THEN nt.valor_lab ELSE null END ) AS \"lab1\", max(CASE  WHEN nt.id_correlativo_lab='2' THEN nt.valor_lab ELSE null END ) AS \"lab2\", max(CASE  WHEN nt.id_correlativo_lab='3' THEN nt.valor_lab ELSE null END ) AS \"lab3\"  FROM maestros.nominal_trama nt \n",
      "    INNER JOIN maestros.maestro_his_establecimiento mhe ON mhe.id_establecimiento = nt.id_establecimiento  \n",
      "    WHERE  nt.tipo_diagnostico ='D' AND codigo_item in('Z006')AND nt.anio_actual_paciente BETWEEN 12 AND 17 and nt.anio=2023 GROUP by nt.id_cita,nt.anio,nt.mes,nt.fecha_atencion,nt.id_paciente, nt.id_personal, nt.id_registrador,nt.anio_actual_paciente, nt.tipo_diagnostico,nt.codigo_item, mhe.id_establecimiento,mhe.red,mhe.microred,mhe.nombre_establecimiento,mhe.departamento,mhe.distrito,mhe.provincia\n",
      "    \n"
     ]
    },
    {
     "name": "stderr",
     "output_type": "stream",
     "text": [
      "d:\\Irvin\\Irvin\\Python\\Python-GERESA\\modulos\\adolescente\\../..\\clases\\bd\\conexion2.py:47: UserWarning: pandas only supports SQLAlchemy connectable (engine/connection) or database string URI or sqlite3 DBAPI2 connection. Other DBAPI2 objects are not tested. Please consider using SQLAlchemy.\n",
      "  s = pd.read_sql(sql, con=self.conn)\n"
     ]
    },
    {
     "name": "stdout",
     "output_type": "stream",
     "text": [
      "SELECT  '50' as df_id,'EVALUACIÓN FÍSICA NUTRICIONAL' as df_grupo,'E440' as df_codigo,'Índice de Masa Corporal (IMC)' as df_subgrupo,'Desnutrición Proteico Calórica Moderada(Desnutrición Aguda)' as df_detalles, nt.id_cita,nt.anio,nt.mes,nt.fecha_atencion,nt.id_paciente, nt.id_personal, nt.id_registrador,nt.anio_actual_paciente, nt.tipo_diagnostico,nt.codigo_item, mhe.id_establecimiento,mhe.red,mhe.microred,mhe.nombre_establecimiento,mhe.departamento,mhe.distrito,mhe.provincia , max(CASE  WHEN nt.id_correlativo_lab='1' THEN nt.valor_lab ELSE null END ) AS \"lab1\", max(CASE  WHEN nt.id_correlativo_lab='2' THEN nt.valor_lab ELSE null END ) AS \"lab2\", max(CASE  WHEN nt.id_correlativo_lab='3' THEN nt.valor_lab ELSE null END ) AS \"lab3\"  FROM maestros.nominal_trama nt \n",
      "    INNER JOIN maestros.maestro_his_establecimiento mhe ON mhe.id_establecimiento = nt.id_establecimiento  \n",
      "    WHERE  nt.tipo_diagnostico ='D' AND codigo_item in('E440')AND nt.anio_actual_paciente BETWEEN 12 AND 17 and nt.anio=2023 GROUP by nt.id_cita,nt.anio,nt.mes,nt.fecha_atencion,nt.id_paciente, nt.id_personal, nt.id_registrador,nt.anio_actual_paciente, nt.tipo_diagnostico,nt.codigo_item, mhe.id_establecimiento,mhe.red,mhe.microred,mhe.nombre_establecimiento,mhe.departamento,mhe.distrito,mhe.provincia\n",
      "    \n"
     ]
    },
    {
     "name": "stderr",
     "output_type": "stream",
     "text": [
      "d:\\Irvin\\Irvin\\Python\\Python-GERESA\\modulos\\adolescente\\../..\\clases\\bd\\conexion2.py:47: UserWarning: pandas only supports SQLAlchemy connectable (engine/connection) or database string URI or sqlite3 DBAPI2 connection. Other DBAPI2 objects are not tested. Please consider using SQLAlchemy.\n",
      "  s = pd.read_sql(sql, con=self.conn)\n"
     ]
    },
    {
     "name": "stdout",
     "output_type": "stream",
     "text": [
      "SELECT  '51' as df_id,'EVALUACIÓN FÍSICA NUTRICIONAL' as df_grupo,'E43X' as df_codigo,'Índice de Masa Corporal (IMC)' as df_subgrupo,'Desnutrición Proteico Calórica Severa No Especificada' as df_detalles, nt.id_cita,nt.anio,nt.mes,nt.fecha_atencion,nt.id_paciente, nt.id_personal, nt.id_registrador,nt.anio_actual_paciente, nt.tipo_diagnostico,nt.codigo_item, mhe.id_establecimiento,mhe.red,mhe.microred,mhe.nombre_establecimiento,mhe.departamento,mhe.distrito,mhe.provincia , max(CASE  WHEN nt.id_correlativo_lab='1' THEN nt.valor_lab ELSE null END ) AS \"lab1\", max(CASE  WHEN nt.id_correlativo_lab='2' THEN nt.valor_lab ELSE null END ) AS \"lab2\", max(CASE  WHEN nt.id_correlativo_lab='3' THEN nt.valor_lab ELSE null END ) AS \"lab3\"  FROM maestros.nominal_trama nt \n",
      "    INNER JOIN maestros.maestro_his_establecimiento mhe ON mhe.id_establecimiento = nt.id_establecimiento  \n",
      "    WHERE  nt.tipo_diagnostico ='D' AND codigo_item in('E43X')AND nt.anio_actual_paciente BETWEEN 12 AND 17 and nt.anio=2023 GROUP by nt.id_cita,nt.anio,nt.mes,nt.fecha_atencion,nt.id_paciente, nt.id_personal, nt.id_registrador,nt.anio_actual_paciente, nt.tipo_diagnostico,nt.codigo_item, mhe.id_establecimiento,mhe.red,mhe.microred,mhe.nombre_establecimiento,mhe.departamento,mhe.distrito,mhe.provincia\n",
      "    \n"
     ]
    },
    {
     "name": "stderr",
     "output_type": "stream",
     "text": [
      "d:\\Irvin\\Irvin\\Python\\Python-GERESA\\modulos\\adolescente\\../..\\clases\\bd\\conexion2.py:47: UserWarning: pandas only supports SQLAlchemy connectable (engine/connection) or database string URI or sqlite3 DBAPI2 connection. Other DBAPI2 objects are not tested. Please consider using SQLAlchemy.\n",
      "  s = pd.read_sql(sql, con=self.conn)\n"
     ]
    },
    {
     "name": "stdout",
     "output_type": "stream",
     "text": [
      "SELECT  '52' as df_id,'EVALUACIÓN FÍSICA NUTRICIONAL' as df_grupo,'E344' as df_codigo,'Talla/Edad' as df_subgrupo,'Estatura Alta Constitucional (Talla Alta)' as df_detalles, nt.id_cita,nt.anio,nt.mes,nt.fecha_atencion,nt.id_paciente, nt.id_personal, nt.id_registrador,nt.anio_actual_paciente, nt.tipo_diagnostico,nt.codigo_item, mhe.id_establecimiento,mhe.red,mhe.microred,mhe.nombre_establecimiento,mhe.departamento,mhe.distrito,mhe.provincia , max(CASE  WHEN nt.id_correlativo_lab='1' THEN nt.valor_lab ELSE null END ) AS \"lab1\", max(CASE  WHEN nt.id_correlativo_lab='2' THEN nt.valor_lab ELSE null END ) AS \"lab2\", max(CASE  WHEN nt.id_correlativo_lab='3' THEN nt.valor_lab ELSE null END ) AS \"lab3\"  FROM maestros.nominal_trama nt \n",
      "    INNER JOIN maestros.maestro_his_establecimiento mhe ON mhe.id_establecimiento = nt.id_establecimiento  \n",
      "    WHERE  nt.tipo_diagnostico ='D' AND codigo_item in('E344')AND nt.anio_actual_paciente BETWEEN 12 AND 17 and nt.anio=2023 GROUP by nt.id_cita,nt.anio,nt.mes,nt.fecha_atencion,nt.id_paciente, nt.id_personal, nt.id_registrador,nt.anio_actual_paciente, nt.tipo_diagnostico,nt.codigo_item, mhe.id_establecimiento,mhe.red,mhe.microred,mhe.nombre_establecimiento,mhe.departamento,mhe.distrito,mhe.provincia\n",
      "    \n"
     ]
    },
    {
     "name": "stderr",
     "output_type": "stream",
     "text": [
      "d:\\Irvin\\Irvin\\Python\\Python-GERESA\\modulos\\adolescente\\../..\\clases\\bd\\conexion2.py:47: UserWarning: pandas only supports SQLAlchemy connectable (engine/connection) or database string URI or sqlite3 DBAPI2 connection. Other DBAPI2 objects are not tested. Please consider using SQLAlchemy.\n",
      "  s = pd.read_sql(sql, con=self.conn)\n"
     ]
    },
    {
     "name": "stdout",
     "output_type": "stream",
     "text": [
      "SELECT  '53' as df_id,'EVALUACIÓN FÍSICA NUTRICIONAL' as df_grupo,'Z006' as df_codigo,'Talla/Edad' as df_subgrupo,'Talla Normal' as df_detalles, nt.id_cita,nt.anio,nt.mes,nt.fecha_atencion,nt.id_paciente, nt.id_personal, nt.id_registrador,nt.anio_actual_paciente, nt.tipo_diagnostico,nt.codigo_item, mhe.id_establecimiento,mhe.red,mhe.microred,mhe.nombre_establecimiento,mhe.departamento,mhe.distrito,mhe.provincia , max(CASE  WHEN nt.id_correlativo_lab='1' THEN nt.valor_lab ELSE null END ) AS \"lab1\", max(CASE  WHEN nt.id_correlativo_lab='2' THEN nt.valor_lab ELSE null END ) AS \"lab2\", max(CASE  WHEN nt.id_correlativo_lab='3' THEN nt.valor_lab ELSE null END ) AS \"lab3\"  FROM maestros.nominal_trama nt \n",
      "    INNER JOIN maestros.maestro_his_establecimiento mhe ON mhe.id_establecimiento = nt.id_establecimiento  \n",
      "    WHERE  nt.tipo_diagnostico ='D' AND codigo_item in('E344')AND nt.anio_actual_paciente BETWEEN 12 AND 17 and nt.anio=2023 GROUP by nt.id_cita,nt.anio,nt.mes,nt.fecha_atencion,nt.id_paciente, nt.id_personal, nt.id_registrador,nt.anio_actual_paciente, nt.tipo_diagnostico,nt.codigo_item, mhe.id_establecimiento,mhe.red,mhe.microred,mhe.nombre_establecimiento,mhe.departamento,mhe.distrito,mhe.provincia\n",
      "    \n"
     ]
    },
    {
     "name": "stderr",
     "output_type": "stream",
     "text": [
      "d:\\Irvin\\Irvin\\Python\\Python-GERESA\\modulos\\adolescente\\../..\\clases\\bd\\conexion2.py:47: UserWarning: pandas only supports SQLAlchemy connectable (engine/connection) or database string URI or sqlite3 DBAPI2 connection. Other DBAPI2 objects are not tested. Please consider using SQLAlchemy.\n",
      "  s = pd.read_sql(sql, con=self.conn)\n"
     ]
    },
    {
     "name": "stdout",
     "output_type": "stream",
     "text": [
      "SELECT  '54' as df_id,'EVALUACIÓN FÍSICA NUTRICIONAL' as df_grupo,'E45X' as df_codigo,'Talla/Edad' as df_subgrupo,'Desnutrición Crónica T/E (Talla Baja)' as df_detalles, nt.id_cita,nt.anio,nt.mes,nt.fecha_atencion,nt.id_paciente, nt.id_personal, nt.id_registrador,nt.anio_actual_paciente, nt.tipo_diagnostico,nt.codigo_item, mhe.id_establecimiento,mhe.red,mhe.microred,mhe.nombre_establecimiento,mhe.departamento,mhe.distrito,mhe.provincia , max(CASE  WHEN nt.id_correlativo_lab='1' THEN nt.valor_lab ELSE null END ) AS \"lab1\", max(CASE  WHEN nt.id_correlativo_lab='2' THEN nt.valor_lab ELSE null END ) AS \"lab2\", max(CASE  WHEN nt.id_correlativo_lab='3' THEN nt.valor_lab ELSE null END ) AS \"lab3\"  FROM maestros.nominal_trama nt \n",
      "    INNER JOIN maestros.maestro_his_establecimiento mhe ON mhe.id_establecimiento = nt.id_establecimiento  \n",
      "    WHERE  nt.tipo_diagnostico ='D' AND codigo_item in('E45X')AND nt.anio_actual_paciente BETWEEN 12 AND 17 and nt.anio=2023 GROUP by nt.id_cita,nt.anio,nt.mes,nt.fecha_atencion,nt.id_paciente, nt.id_personal, nt.id_registrador,nt.anio_actual_paciente, nt.tipo_diagnostico,nt.codigo_item, mhe.id_establecimiento,mhe.red,mhe.microred,mhe.nombre_establecimiento,mhe.departamento,mhe.distrito,mhe.provincia\n",
      "    \n"
     ]
    },
    {
     "name": "stderr",
     "output_type": "stream",
     "text": [
      "d:\\Irvin\\Irvin\\Python\\Python-GERESA\\modulos\\adolescente\\../..\\clases\\bd\\conexion2.py:47: UserWarning: pandas only supports SQLAlchemy connectable (engine/connection) or database string URI or sqlite3 DBAPI2 connection. Other DBAPI2 objects are not tested. Please consider using SQLAlchemy.\n",
      "  s = pd.read_sql(sql, con=self.conn)\n"
     ]
    },
    {
     "name": "stdout",
     "output_type": "stream",
     "text": [
      "SELECT  '55' as df_id,'EVALUACIÓN FÍSICA NUTRICIONAL' as df_grupo,'E785' as df_codigo,'Hiperlipidemia No Especificada (Dislipidemia)' as df_subgrupo,'' as df_detalles, nt.id_cita,nt.anio,nt.mes,nt.fecha_atencion,nt.id_paciente, nt.id_personal, nt.id_registrador,nt.anio_actual_paciente, nt.tipo_diagnostico,nt.codigo_item, mhe.id_establecimiento,mhe.red,mhe.microred,mhe.nombre_establecimiento,mhe.departamento,mhe.distrito,mhe.provincia , max(CASE  WHEN nt.id_correlativo_lab='1' THEN nt.valor_lab ELSE null END ) AS \"lab1\", max(CASE  WHEN nt.id_correlativo_lab='2' THEN nt.valor_lab ELSE null END ) AS \"lab2\", max(CASE  WHEN nt.id_correlativo_lab='3' THEN nt.valor_lab ELSE null END ) AS \"lab3\"  FROM maestros.nominal_trama nt \n",
      "    INNER JOIN maestros.maestro_his_establecimiento mhe ON mhe.id_establecimiento = nt.id_establecimiento  \n",
      "    WHERE  nt.tipo_diagnostico ='D' AND codigo_item in('E785')AND nt.anio_actual_paciente BETWEEN 12 AND 17 and nt.anio=2023 GROUP by nt.id_cita,nt.anio,nt.mes,nt.fecha_atencion,nt.id_paciente, nt.id_personal, nt.id_registrador,nt.anio_actual_paciente, nt.tipo_diagnostico,nt.codigo_item, mhe.id_establecimiento,mhe.red,mhe.microred,mhe.nombre_establecimiento,mhe.departamento,mhe.distrito,mhe.provincia\n",
      "    \n"
     ]
    },
    {
     "name": "stderr",
     "output_type": "stream",
     "text": [
      "d:\\Irvin\\Irvin\\Python\\Python-GERESA\\modulos\\adolescente\\../..\\clases\\bd\\conexion2.py:47: UserWarning: pandas only supports SQLAlchemy connectable (engine/connection) or database string URI or sqlite3 DBAPI2 connection. Other DBAPI2 objects are not tested. Please consider using SQLAlchemy.\n",
      "  s = pd.read_sql(sql, con=self.conn)\n"
     ]
    },
    {
     "name": "stdout",
     "output_type": "stream",
     "text": [
      "SELECT  '56' as df_id,'EVALUACIÓN FÍSICA NUTRICIONAL' as df_grupo,'E65X' as df_codigo,'Adiposidad Localizada' as df_subgrupo,'' as df_detalles, nt.id_cita,nt.anio,nt.mes,nt.fecha_atencion,nt.id_paciente, nt.id_personal, nt.id_registrador,nt.anio_actual_paciente, nt.tipo_diagnostico,nt.codigo_item, mhe.id_establecimiento,mhe.red,mhe.microred,mhe.nombre_establecimiento,mhe.departamento,mhe.distrito,mhe.provincia , max(CASE  WHEN nt.id_correlativo_lab='1' THEN nt.valor_lab ELSE null END ) AS \"lab1\", max(CASE  WHEN nt.id_correlativo_lab='2' THEN nt.valor_lab ELSE null END ) AS \"lab2\", max(CASE  WHEN nt.id_correlativo_lab='3' THEN nt.valor_lab ELSE null END ) AS \"lab3\"  FROM maestros.nominal_trama nt \n",
      "    INNER JOIN maestros.maestro_his_establecimiento mhe ON mhe.id_establecimiento = nt.id_establecimiento  \n",
      "    WHERE  nt.tipo_diagnostico ='D' AND codigo_item in('E65X')AND nt.anio_actual_paciente BETWEEN 12 AND 17 and nt.anio=2023 GROUP by nt.id_cita,nt.anio,nt.mes,nt.fecha_atencion,nt.id_paciente, nt.id_personal, nt.id_registrador,nt.anio_actual_paciente, nt.tipo_diagnostico,nt.codigo_item, mhe.id_establecimiento,mhe.red,mhe.microred,mhe.nombre_establecimiento,mhe.departamento,mhe.distrito,mhe.provincia\n",
      "    \n"
     ]
    },
    {
     "name": "stderr",
     "output_type": "stream",
     "text": [
      "d:\\Irvin\\Irvin\\Python\\Python-GERESA\\modulos\\adolescente\\../..\\clases\\bd\\conexion2.py:47: UserWarning: pandas only supports SQLAlchemy connectable (engine/connection) or database string URI or sqlite3 DBAPI2 connection. Other DBAPI2 objects are not tested. Please consider using SQLAlchemy.\n",
      "  s = pd.read_sql(sql, con=self.conn)\n"
     ]
    },
    {
     "name": "stdout",
     "output_type": "stream",
     "text": [
      "SELECT  '57' as df_id,'EVALUACIÓN FÍSICA NUTRICIONAL' as df_grupo,'Z728' as df_codigo,'Otros Problemas relacionados al Estilo de Vida' as df_subgrupo,'' as df_detalles, nt.id_cita,nt.anio,nt.mes,nt.fecha_atencion,nt.id_paciente, nt.id_personal, nt.id_registrador,nt.anio_actual_paciente, nt.tipo_diagnostico,nt.codigo_item, mhe.id_establecimiento,mhe.red,mhe.microred,mhe.nombre_establecimiento,mhe.departamento,mhe.distrito,mhe.provincia , max(CASE  WHEN nt.id_correlativo_lab='1' THEN nt.valor_lab ELSE null END ) AS \"lab1\", max(CASE  WHEN nt.id_correlativo_lab='2' THEN nt.valor_lab ELSE null END ) AS \"lab2\", max(CASE  WHEN nt.id_correlativo_lab='3' THEN nt.valor_lab ELSE null END ) AS \"lab3\"  FROM maestros.nominal_trama nt \n",
      "    INNER JOIN maestros.maestro_his_establecimiento mhe ON mhe.id_establecimiento = nt.id_establecimiento  \n",
      "    WHERE  nt.tipo_diagnostico ='D' AND codigo_item in('Z728')AND nt.anio_actual_paciente BETWEEN 12 AND 17 and nt.anio=2023 GROUP by nt.id_cita,nt.anio,nt.mes,nt.fecha_atencion,nt.id_paciente, nt.id_personal, nt.id_registrador,nt.anio_actual_paciente, nt.tipo_diagnostico,nt.codigo_item, mhe.id_establecimiento,mhe.red,mhe.microred,mhe.nombre_establecimiento,mhe.departamento,mhe.distrito,mhe.provincia\n",
      "    \n"
     ]
    },
    {
     "name": "stderr",
     "output_type": "stream",
     "text": [
      "d:\\Irvin\\Irvin\\Python\\Python-GERESA\\modulos\\adolescente\\../..\\clases\\bd\\conexion2.py:47: UserWarning: pandas only supports SQLAlchemy connectable (engine/connection) or database string URI or sqlite3 DBAPI2 connection. Other DBAPI2 objects are not tested. Please consider using SQLAlchemy.\n",
      "  s = pd.read_sql(sql, con=self.conn)\n"
     ]
    },
    {
     "name": "stdout",
     "output_type": "stream",
     "text": [
      "SELECT  '58' as df_id,'EVALUACIÓN FÍSICA NUTRICIONAL' as df_grupo,'85018' as df_codigo,'Dosaje de Hemoglobina' as df_subgrupo,'' as df_detalles, nt.id_cita,nt.anio,nt.mes,nt.fecha_atencion,nt.id_paciente, nt.id_personal, nt.id_registrador,nt.anio_actual_paciente, nt.tipo_diagnostico,nt.codigo_item, mhe.id_establecimiento,mhe.red,mhe.microred,mhe.nombre_establecimiento,mhe.departamento,mhe.distrito,mhe.provincia , max(CASE  WHEN nt.id_correlativo_lab='1' THEN nt.valor_lab ELSE null END ) AS \"lab1\", max(CASE  WHEN nt.id_correlativo_lab='2' THEN nt.valor_lab ELSE null END ) AS \"lab2\", max(CASE  WHEN nt.id_correlativo_lab='3' THEN nt.valor_lab ELSE null END ) AS \"lab3\"  FROM maestros.nominal_trama nt \n",
      "    INNER JOIN maestros.maestro_his_establecimiento mhe ON mhe.id_establecimiento = nt.id_establecimiento  \n",
      "    WHERE  nt.tipo_diagnostico ='D' AND codigo_item in('85018','85018.01')AND nt.anio_actual_paciente BETWEEN 12 AND 17 and nt.anio=2023 GROUP by nt.id_cita,nt.anio,nt.mes,nt.fecha_atencion,nt.id_paciente, nt.id_personal, nt.id_registrador,nt.anio_actual_paciente, nt.tipo_diagnostico,nt.codigo_item, mhe.id_establecimiento,mhe.red,mhe.microred,mhe.nombre_establecimiento,mhe.departamento,mhe.distrito,mhe.provincia\n",
      "    \n"
     ]
    },
    {
     "name": "stderr",
     "output_type": "stream",
     "text": [
      "d:\\Irvin\\Irvin\\Python\\Python-GERESA\\modulos\\adolescente\\../..\\clases\\bd\\conexion2.py:47: UserWarning: pandas only supports SQLAlchemy connectable (engine/connection) or database string URI or sqlite3 DBAPI2 connection. Other DBAPI2 objects are not tested. Please consider using SQLAlchemy.\n",
      "  s = pd.read_sql(sql, con=self.conn)\n"
     ]
    },
    {
     "name": "stdout",
     "output_type": "stream",
     "text": [
      "SELECT  '59' as df_id,'EVALUACIÓN FÍSICA NUTRICIONAL' as df_grupo,'99199.26' as df_codigo,'Suplementación de sulfato ferroso y ácido fólico' as df_subgrupo,'' as df_detalles, nt.id_cita,nt.anio,nt.mes,nt.fecha_atencion,nt.id_paciente, nt.id_personal, nt.id_registrador,nt.anio_actual_paciente, nt.tipo_diagnostico,nt.codigo_item, mhe.id_establecimiento,mhe.red,mhe.microred,mhe.nombre_establecimiento,mhe.departamento,mhe.distrito,mhe.provincia , max(CASE  WHEN nt.id_correlativo_lab='1' THEN nt.valor_lab ELSE null END ) AS \"lab1\", max(CASE  WHEN nt.id_correlativo_lab='2' THEN nt.valor_lab ELSE null END ) AS \"lab2\", max(CASE  WHEN nt.id_correlativo_lab='3' THEN nt.valor_lab ELSE null END ) AS \"lab3\"  FROM maestros.nominal_trama nt \n",
      "    INNER JOIN maestros.maestro_his_establecimiento mhe ON mhe.id_establecimiento = nt.id_establecimiento  \n",
      "    WHERE  nt.tipo_diagnostico ='D' AND codigo_item in('99199.26')AND nt.anio_actual_paciente BETWEEN 12 AND 17 and nt.anio=2023 GROUP by nt.id_cita,nt.anio,nt.mes,nt.fecha_atencion,nt.id_paciente, nt.id_personal, nt.id_registrador,nt.anio_actual_paciente, nt.tipo_diagnostico,nt.codigo_item, mhe.id_establecimiento,mhe.red,mhe.microred,mhe.nombre_establecimiento,mhe.departamento,mhe.distrito,mhe.provincia\n",
      "    \n"
     ]
    },
    {
     "name": "stderr",
     "output_type": "stream",
     "text": [
      "d:\\Irvin\\Irvin\\Python\\Python-GERESA\\modulos\\adolescente\\../..\\clases\\bd\\conexion2.py:47: UserWarning: pandas only supports SQLAlchemy connectable (engine/connection) or database string URI or sqlite3 DBAPI2 connection. Other DBAPI2 objects are not tested. Please consider using SQLAlchemy.\n",
      "  s = pd.read_sql(sql, con=self.conn)\n"
     ]
    },
    {
     "name": "stdout",
     "output_type": "stream",
     "text": [
      "59\n"
     ]
    }
   ],
   "source": [
    "\n",
    "\n",
    "id+=3\n",
    "xd_Z000=filtro(id=id,grupo='EVALUACIÓN FÍSICA NUTRICIONAL',codigo='Z000',subgrupo='Examen médico general',detalles='',dx1='Z000',t_dx='D',conn=conn)\n",
    "df = pd.concat([df, xd_Z000], ignore_index=True)\n",
    "##-----------------------------------------------------------------------------------------------------\n",
    "id+=1\n",
    "xd_Z019=filtro(id=id,grupo='EVALUACIÓN FÍSICA NUTRICIONAL',codigo='Z019',subgrupo='Valoración de Factores de Riesgo (DNT)',detalles='',dx1='Z019',t_dx='D',conn=conn)\n",
    "df = pd.concat([df, xd_Z019], ignore_index=True)\n",
    "\n",
    "##-----------------------------------------------------------------------------------------------------\n",
    "id+=1\n",
    "xd_99209_04=filtro(id=id,grupo='EVALUACIÓN FÍSICA NUTRICIONAL',codigo='99209.04',subgrupo='Evaluación Nutricional Antropometrica (PAB)',detalles='',dx1='99209.04',t_dx='D',conn=conn)\n",
    "\n",
    "#------------------------------------- Primera -----------------------------------------------------\n",
    "xd_99209_04_1=xd_99209_04.loc[xd_99209_04['lab1'].isin(['RSM'])]\n",
    "xd_99209_04_1['df_detalles']=xd_99209_04_1['df_detalles'].replace('','RSM= Riesgo Bajo')\n",
    "#xd_99209_04_1['df_id'] = xd_99209_04_1['df_id'].replace( '27', '27')\n",
    "\n",
    "#------------------------------------- segunda -----------------------------------------------------\n",
    "xd_99209_04_2=xd_99209_04.loc[xd_99209_04['lab1'].isin(['RSA'])]\n",
    "xd_99209_04_2['df_detalles']=xd_99209_04_2['df_detalles'].replace('','RSA= Riesgo Alto')\n",
    "xd_99209_04_2['df_id'] = xd_99209_04_2['df_id'].replace('%s'% id,id + 1) \n",
    "\n",
    "#------------------------------------- Tercera -----------------------------------------------------\n",
    "xd_99209_04_3=xd_99209_04.loc[xd_99209_04['lab1'].isin(['RMA'])]\n",
    "xd_99209_04_3['df_detalles']=xd_99209_04_3['df_detalles'].replace('','RMA= Riesgo Muy Alto')\n",
    "xd_99209_04_3['df_id'] = xd_99209_04_3['df_id'].replace('%s'% id,id + 2) \n",
    "\n",
    "df = pd.concat([df, xd_99209_04_1,xd_99209_04_2,xd_99209_04_3], ignore_index=True)\n",
    "\n",
    "##-----------------------------------------------------------------------------------------------------\n",
    "id+=3\n",
    "xd_E660=filtro(id=id,grupo='EVALUACIÓN FÍSICA NUTRICIONAL',codigo='E660',subgrupo='Índice de Masa Corporal (IMC)',detalles='Obesidad debido a exceso de caloría (Sobrepeso)',dx1='E660',t_dx='D',conn=conn)\n",
    "df = pd.concat([df, xd_E660], ignore_index=True)\n",
    "\n",
    "##-----------------------------------------------------------------------------------------------------\n",
    "id+=1\n",
    "xd_E669=filtro(id=id,grupo='EVALUACIÓN FÍSICA NUTRICIONAL',codigo='E669',subgrupo='Índice de Masa Corporal (IMC)',detalles='Obesidad no especificada (Obesidad)',dx1='E669',t_dx='D',conn=conn)\n",
    "df = pd.concat([df, xd_E669], ignore_index=True)\n",
    "\n",
    "##-----------------------------------------------------------------------------------------------------\n",
    "id+=1\n",
    "xd_Z006=filtro(id=id,grupo='EVALUACIÓN FÍSICA NUTRICIONAL',codigo='Z006',subgrupo='Índice de Masa Corporal (IMC)',detalles='Peso Normal',dx1='Z006',t_dx='D',conn=conn)\n",
    "df = pd.concat([df, xd_Z006], ignore_index=True)\n",
    "\n",
    "##-----------------------------------------------------------------------------------------------------\n",
    "id+=1\n",
    "xd_E440=filtro(id=id,grupo='EVALUACIÓN FÍSICA NUTRICIONAL',codigo='E440',subgrupo='Índice de Masa Corporal (IMC)',detalles='Desnutrición Proteico Calórica Moderada(Desnutrición Aguda)',dx1='E440',t_dx='D',conn=conn)\n",
    "df = pd.concat([df, xd_E440], ignore_index=True)\n",
    "\n",
    "##-----------------------------------------------------------------------------------------------------\n",
    "id+=1\n",
    "xd_E43X=filtro(id=id,grupo='EVALUACIÓN FÍSICA NUTRICIONAL',codigo='E43X',subgrupo='Índice de Masa Corporal (IMC)',detalles='Desnutrición Proteico Calórica Severa No Especificada',dx1='E43X',t_dx='D',conn=conn)\n",
    "df = pd.concat([df, xd_E43X], ignore_index=True)\n",
    "\n",
    "##-----------------------------------------------------------------------------------------------------\n",
    "id+=1\n",
    "xd_E344=filtro(id=id,grupo='EVALUACIÓN FÍSICA NUTRICIONAL',codigo='E344',subgrupo='Talla/Edad',detalles='Estatura Alta Constitucional (Talla Alta)',dx1='E344',t_dx='D',conn=conn)\n",
    "df = pd.concat([df, xd_E344], ignore_index=True)\n",
    "\n",
    "##-----------------------------------------------------------------------------------------------------\n",
    "id+=1\n",
    "xd_Z006=filtro(id=id,grupo='EVALUACIÓN FÍSICA NUTRICIONAL',codigo='Z006',subgrupo='Talla/Edad',detalles='Talla Normal',dx1='E344',t_dx='D',conn=conn)\n",
    "xd_Z006=xd_Z006.loc[xd_Z006['lab1'].isin(['TE'])]\n",
    "df = pd.concat([df, xd_Z006], ignore_index=True)\n",
    "\n",
    "##-----------------------------------------------------------------------------------------------------\n",
    "id+=1\n",
    "xd_E45X=filtro(id=id,grupo='EVALUACIÓN FÍSICA NUTRICIONAL',codigo='E45X',subgrupo='Talla/Edad',detalles='Desnutrición Crónica T/E (Talla Baja)',dx1='E45X',t_dx='D',conn=conn)\n",
    "df = pd.concat([df, xd_E45X], ignore_index=True)\n",
    "\n",
    "##-----------------------------------------------------------------------------------------------------\n",
    "id+=1\n",
    "xd_E785=filtro(id=id,grupo='EVALUACIÓN FÍSICA NUTRICIONAL',codigo='E785',subgrupo='Hiperlipidemia No Especificada (Dislipidemia)',detalles='',dx1='E785',t_dx='D',conn=conn)\n",
    "df = pd.concat([df, xd_E785], ignore_index=True)\n",
    "\n",
    "##-----------------------------------------------------------------------------------------------------\n",
    "id+=1\n",
    "xd_E65X=filtro(id=id,grupo='EVALUACIÓN FÍSICA NUTRICIONAL',codigo='E65X',subgrupo='Adiposidad Localizada',detalles='',dx1='E65X',t_dx='D',conn=conn)\n",
    "df = pd.concat([df, xd_E65X], ignore_index=True)\n",
    "\n",
    "##-----------------------------------------------------------------------------------------------------\n",
    "id+=1\n",
    "xd_Z728=filtro(id=id,grupo='EVALUACIÓN FÍSICA NUTRICIONAL',codigo='Z728',subgrupo='Otros Problemas relacionados al Estilo de Vida',detalles='',dx1='Z728',t_dx='D',conn=conn)\n",
    "df = pd.concat([df, xd_Z728], ignore_index=True)\n",
    "\n",
    "##-----------------------------------------------------------------------------------------------------\n",
    "id+=1\n",
    "xd_85018=filtro(id=id,grupo='EVALUACIÓN FÍSICA NUTRICIONAL',codigo='85018',subgrupo='Dosaje de Hemoglobina',detalles='',dx1='85018,85018.01',t_dx='D',conn=conn)\n",
    "xd_85018=xd_85018.loc[xd_85018['lab1'].isin(['1'])]\n",
    "df = pd.concat([df, xd_85018], ignore_index=True)\n",
    "\n",
    "##-----------------------------------------------------------------------------------------------------\n",
    "id+=1\n",
    "xd_99199_26=filtro(id=id,grupo='EVALUACIÓN FÍSICA NUTRICIONAL',codigo='99199.26',subgrupo='Suplementación de sulfato ferroso y ácido fólico',detalles='',dx1='99199.26',t_dx='D',conn=conn)\n",
    "df = pd.concat([df, xd_99199_26], ignore_index=True)\n",
    "\n",
    "print(id)\n",
    "\n"
   ]
  },
  {
   "attachments": {},
   "cell_type": "markdown",
   "metadata": {},
   "source": [
    "<CENTER> <H2>EVALUACIÓN DE LA AGUDEZA VISUAL</H2><CENTER>"
   ]
  },
  {
   "cell_type": "code",
   "execution_count": 32,
   "metadata": {},
   "outputs": [
    {
     "name": "stdout",
     "output_type": "stream",
     "text": [
      "SELECT  '60' as df_id,'EVALUACIÓN DE LA AGUDEZA VISUAL' as df_grupo,'99173' as df_codigo,'Prueba  de la Agudeza Visual cuantitativa bilateral' as df_subgrupo,'' as df_detalles, nt.id_cita,nt.anio,nt.mes,nt.fecha_atencion,nt.id_paciente, nt.id_personal, nt.id_registrador,nt.anio_actual_paciente, nt.tipo_diagnostico,nt.codigo_item, mhe.id_establecimiento,mhe.red,mhe.microred,mhe.nombre_establecimiento,mhe.departamento,mhe.distrito,mhe.provincia , max(CASE  WHEN nt.id_correlativo_lab='1' THEN nt.valor_lab ELSE null END ) AS \"lab1\", max(CASE  WHEN nt.id_correlativo_lab='2' THEN nt.valor_lab ELSE null END ) AS \"lab2\", max(CASE  WHEN nt.id_correlativo_lab='3' THEN nt.valor_lab ELSE null END ) AS \"lab3\"  FROM maestros.nominal_trama nt \n",
      "    INNER JOIN maestros.maestro_his_establecimiento mhe ON mhe.id_establecimiento = nt.id_establecimiento  \n",
      "    WHERE  nt.tipo_diagnostico ='D' AND codigo_item in('99173')AND nt.anio_actual_paciente BETWEEN 12 AND 17 and nt.anio=2023 GROUP by nt.id_cita,nt.anio,nt.mes,nt.fecha_atencion,nt.id_paciente, nt.id_personal, nt.id_registrador,nt.anio_actual_paciente, nt.tipo_diagnostico,nt.codigo_item, mhe.id_establecimiento,mhe.red,mhe.microred,mhe.nombre_establecimiento,mhe.departamento,mhe.distrito,mhe.provincia\n",
      "    \n"
     ]
    },
    {
     "name": "stderr",
     "output_type": "stream",
     "text": [
      "d:\\Irvin\\Irvin\\Python\\Python-GERESA\\modulos\\adolescente\\../..\\clases\\bd\\conexion2.py:47: UserWarning: pandas only supports SQLAlchemy connectable (engine/connection) or database string URI or sqlite3 DBAPI2 connection. Other DBAPI2 objects are not tested. Please consider using SQLAlchemy.\n",
      "  s = pd.read_sql(sql, con=self.conn)\n"
     ]
    },
    {
     "name": "stdout",
     "output_type": "stream",
     "text": [
      "SELECT  '61' as df_id,'EVALUACIÓN DE LA AGUDEZA VISUAL' as df_grupo,'Z010' as df_codigo,'Examen de Ojos y de la Visión (Normal)' as df_subgrupo,'' as df_detalles, nt.id_cita,nt.anio,nt.mes,nt.fecha_atencion,nt.id_paciente, nt.id_personal, nt.id_registrador,nt.anio_actual_paciente, nt.tipo_diagnostico,nt.codigo_item, mhe.id_establecimiento,mhe.red,mhe.microred,mhe.nombre_establecimiento,mhe.departamento,mhe.distrito,mhe.provincia , max(CASE  WHEN nt.id_correlativo_lab='1' THEN nt.valor_lab ELSE null END ) AS \"lab1\", max(CASE  WHEN nt.id_correlativo_lab='2' THEN nt.valor_lab ELSE null END ) AS \"lab2\", max(CASE  WHEN nt.id_correlativo_lab='3' THEN nt.valor_lab ELSE null END ) AS \"lab3\"  FROM maestros.nominal_trama nt \n",
      "    INNER JOIN maestros.maestro_his_establecimiento mhe ON mhe.id_establecimiento = nt.id_establecimiento  \n",
      "    WHERE  nt.tipo_diagnostico ='D' AND codigo_item in('Z010')AND nt.anio_actual_paciente BETWEEN 12 AND 17 and nt.anio=2023 GROUP by nt.id_cita,nt.anio,nt.mes,nt.fecha_atencion,nt.id_paciente, nt.id_personal, nt.id_registrador,nt.anio_actual_paciente, nt.tipo_diagnostico,nt.codigo_item, mhe.id_establecimiento,mhe.red,mhe.microred,mhe.nombre_establecimiento,mhe.departamento,mhe.distrito,mhe.provincia\n",
      "    \n",
      "SELECT  '62' as df_id,'EVALUACIÓN DE LA AGUDEZA VISUAL' as df_grupo,'Z010' as df_codigo,'Examen de Ojos y de la Visión (Anormal)' as df_subgrupo,'' as df_detalles, nt.id_cita,nt.anio,nt.mes,nt.fecha_atencion,nt.id_paciente, nt.id_personal, nt.id_registrador,nt.anio_actual_paciente, nt.tipo_diagnostico,nt.codigo_item, mhe.id_establecimiento,mhe.red,mhe.microred,mhe.nombre_establecimiento,mhe.departamento,mhe.distrito,mhe.provincia , max(CASE  WHEN nt.id_correlativo_lab='1' THEN nt.valor_lab ELSE null END ) AS \"lab1\", max(CASE  WHEN nt.id_correlativo_lab='2' THEN nt.valor_lab ELSE null END ) AS \"lab2\", max(CASE  WHEN nt.id_correlativo_lab='3' THEN nt.valor_lab ELSE null END ) AS \"lab3\"  FROM maestros.nominal_trama nt \n",
      "    INNER JOIN maestros.maestro_his_establecimiento mhe ON mhe.id_establecimiento = nt.id_establecimiento  \n",
      "    WHERE  nt.tipo_diagnostico ='D' AND codigo_item in('Z010')AND nt.anio_actual_paciente BETWEEN 12 AND 17 and nt.anio=2023 GROUP by nt.id_cita,nt.anio,nt.mes,nt.fecha_atencion,nt.id_paciente, nt.id_personal, nt.id_registrador,nt.anio_actual_paciente, nt.tipo_diagnostico,nt.codigo_item, mhe.id_establecimiento,mhe.red,mhe.microred,mhe.nombre_establecimiento,mhe.departamento,mhe.distrito,mhe.provincia\n",
      "    \n",
      "SELECT  '63' as df_id,'EVALUACIÓN DE LA AGUDEZA VISUAL' as df_grupo,'99401.16' as df_codigo,'Consejería ocular' as df_subgrupo,'' as df_detalles, nt.id_cita,nt.anio,nt.mes,nt.fecha_atencion,nt.id_paciente, nt.id_personal, nt.id_registrador,nt.anio_actual_paciente, nt.tipo_diagnostico,nt.codigo_item, mhe.id_establecimiento,mhe.red,mhe.microred,mhe.nombre_establecimiento,mhe.departamento,mhe.distrito,mhe.provincia , max(CASE  WHEN nt.id_correlativo_lab='1' THEN nt.valor_lab ELSE null END ) AS \"lab1\", max(CASE  WHEN nt.id_correlativo_lab='2' THEN nt.valor_lab ELSE null END ) AS \"lab2\", max(CASE  WHEN nt.id_correlativo_lab='3' THEN nt.valor_lab ELSE null END ) AS \"lab3\"  FROM maestros.nominal_trama nt \n",
      "    INNER JOIN maestros.maestro_his_establecimiento mhe ON mhe.id_establecimiento = nt.id_establecimiento  \n",
      "    WHERE  nt.tipo_diagnostico ='D' AND codigo_item in('99401.16')AND nt.anio_actual_paciente BETWEEN 12 AND 17 and nt.anio=2023 GROUP by nt.id_cita,nt.anio,nt.mes,nt.fecha_atencion,nt.id_paciente, nt.id_personal, nt.id_registrador,nt.anio_actual_paciente, nt.tipo_diagnostico,nt.codigo_item, mhe.id_establecimiento,mhe.red,mhe.microred,mhe.nombre_establecimiento,mhe.departamento,mhe.distrito,mhe.provincia\n",
      "    \n"
     ]
    }
   ],
   "source": [
    "id+=1\n",
    "xd_99173=filtro(id=id,grupo='EVALUACIÓN DE LA AGUDEZA VISUAL',codigo='99173',subgrupo='Prueba  de la Agudeza Visual cuantitativa bilateral',detalles='',dx1='99173',t_dx='D',conn=conn)\n",
    "id+=1\n",
    "xd_Z010=filtro(id=id,grupo='EVALUACIÓN DE LA AGUDEZA VISUAL',codigo='Z010',subgrupo='Examen de Ojos y de la Visión (Normal)',detalles='',dx1='Z010',t_dx='D',conn=conn)\n",
    "xd_Z010=xd_Z010.loc[xd_Z010['lab1'].isin(['N'])]\n",
    "id+=1\n",
    "xd_Z010_1=filtro(id=id,grupo='EVALUACIÓN DE LA AGUDEZA VISUAL',codigo='Z010',subgrupo='Examen de Ojos y de la Visión (Anormal)',detalles='',dx1='Z010',t_dx='D',conn=conn)\n",
    "xd_Z006_1=xd_Z010_1.loc[xd_Z010_1['lab1'].isin(['A'])]\n",
    "id+=1\n",
    "xd_99401_16=filtro(id=id,grupo='EVALUACIÓN DE LA AGUDEZA VISUAL',codigo='99401.16',subgrupo='Consejería ocular',detalles='',dx1='99401.16',t_dx='D',conn=conn)\n",
    "\n",
    "\n",
    "df = pd.concat([df, xd_99173,xd_Z010,xd_Z010_1,xd_99401_16], ignore_index=True)\n",
    "\n"
   ]
  },
  {
   "attachments": {},
   "cell_type": "markdown",
   "metadata": {},
   "source": [
    "<CENTER> <H2>EVALUACIÓN DE LA AGUDEZA AUDITIVA</H2><CENTER>"
   ]
  },
  {
   "cell_type": "code",
   "execution_count": 33,
   "metadata": {},
   "outputs": [
    {
     "name": "stdout",
     "output_type": "stream",
     "text": [
      "SELECT  '64' as df_id,'EVALUACIÓN DE LA AGUDEZA AUDITIVA' as df_grupo,'H919' as df_codigo,'Disminución de la Agudeza Auditiva sin Especificación' as df_subgrupo,'' as df_detalles, nt.id_cita,nt.anio,nt.mes,nt.fecha_atencion,nt.id_paciente, nt.id_personal, nt.id_registrador,nt.anio_actual_paciente, nt.tipo_diagnostico,nt.codigo_item, mhe.id_establecimiento,mhe.red,mhe.microred,mhe.nombre_establecimiento,mhe.departamento,mhe.distrito,mhe.provincia , max(CASE  WHEN nt.id_correlativo_lab='1' THEN nt.valor_lab ELSE null END ) AS \"lab1\", max(CASE  WHEN nt.id_correlativo_lab='2' THEN nt.valor_lab ELSE null END ) AS \"lab2\", max(CASE  WHEN nt.id_correlativo_lab='3' THEN nt.valor_lab ELSE null END ) AS \"lab3\"  FROM maestros.nominal_trama nt \n",
      "    INNER JOIN maestros.maestro_his_establecimiento mhe ON mhe.id_establecimiento = nt.id_establecimiento  \n",
      "    WHERE  nt.tipo_diagnostico ='D' AND codigo_item in('H919')AND nt.anio_actual_paciente BETWEEN 12 AND 17 and nt.anio=2023 GROUP by nt.id_cita,nt.anio,nt.mes,nt.fecha_atencion,nt.id_paciente, nt.id_personal, nt.id_registrador,nt.anio_actual_paciente, nt.tipo_diagnostico,nt.codigo_item, mhe.id_establecimiento,mhe.red,mhe.microred,mhe.nombre_establecimiento,mhe.departamento,mhe.distrito,mhe.provincia\n",
      "    \n",
      "SELECT  '65' as df_id,'EVALUACIÓN DE LA AGUDEZA AUDITIVA' as df_grupo,'Z011' as df_codigo,'Examen de Oídos y de la Audición (Normal)' as df_subgrupo,'' as df_detalles, nt.id_cita,nt.anio,nt.mes,nt.fecha_atencion,nt.id_paciente, nt.id_personal, nt.id_registrador,nt.anio_actual_paciente, nt.tipo_diagnostico,nt.codigo_item, mhe.id_establecimiento,mhe.red,mhe.microred,mhe.nombre_establecimiento,mhe.departamento,mhe.distrito,mhe.provincia , max(CASE  WHEN nt.id_correlativo_lab='1' THEN nt.valor_lab ELSE null END ) AS \"lab1\", max(CASE  WHEN nt.id_correlativo_lab='2' THEN nt.valor_lab ELSE null END ) AS \"lab2\", max(CASE  WHEN nt.id_correlativo_lab='3' THEN nt.valor_lab ELSE null END ) AS \"lab3\"  FROM maestros.nominal_trama nt \n",
      "    INNER JOIN maestros.maestro_his_establecimiento mhe ON mhe.id_establecimiento = nt.id_establecimiento  \n",
      "    WHERE  nt.tipo_diagnostico ='D' AND codigo_item in('Z011')AND nt.anio_actual_paciente BETWEEN 12 AND 17 and nt.anio=2023 GROUP by nt.id_cita,nt.anio,nt.mes,nt.fecha_atencion,nt.id_paciente, nt.id_personal, nt.id_registrador,nt.anio_actual_paciente, nt.tipo_diagnostico,nt.codigo_item, mhe.id_establecimiento,mhe.red,mhe.microred,mhe.nombre_establecimiento,mhe.departamento,mhe.distrito,mhe.provincia\n",
      "    \n"
     ]
    },
    {
     "name": "stderr",
     "output_type": "stream",
     "text": [
      "d:\\Irvin\\Irvin\\Python\\Python-GERESA\\modulos\\adolescente\\../..\\clases\\bd\\conexion2.py:47: UserWarning: pandas only supports SQLAlchemy connectable (engine/connection) or database string URI or sqlite3 DBAPI2 connection. Other DBAPI2 objects are not tested. Please consider using SQLAlchemy.\n",
      "  s = pd.read_sql(sql, con=self.conn)\n"
     ]
    },
    {
     "name": "stdout",
     "output_type": "stream",
     "text": [
      "SELECT  '66' as df_id,'EVALUACIÓN DE LA AGUDEZA AUDITIVA' as df_grupo,'Z011' as df_codigo,'Examen de Oídos y de la Audición (Anormal)' as df_subgrupo,'' as df_detalles, nt.id_cita,nt.anio,nt.mes,nt.fecha_atencion,nt.id_paciente, nt.id_personal, nt.id_registrador,nt.anio_actual_paciente, nt.tipo_diagnostico,nt.codigo_item, mhe.id_establecimiento,mhe.red,mhe.microred,mhe.nombre_establecimiento,mhe.departamento,mhe.distrito,mhe.provincia , max(CASE  WHEN nt.id_correlativo_lab='1' THEN nt.valor_lab ELSE null END ) AS \"lab1\", max(CASE  WHEN nt.id_correlativo_lab='2' THEN nt.valor_lab ELSE null END ) AS \"lab2\", max(CASE  WHEN nt.id_correlativo_lab='3' THEN nt.valor_lab ELSE null END ) AS \"lab3\"  FROM maestros.nominal_trama nt \n",
      "    INNER JOIN maestros.maestro_his_establecimiento mhe ON mhe.id_establecimiento = nt.id_establecimiento  \n",
      "    WHERE  nt.tipo_diagnostico ='D' AND codigo_item in('Z011')AND nt.anio_actual_paciente BETWEEN 12 AND 17 and nt.anio=2023 GROUP by nt.id_cita,nt.anio,nt.mes,nt.fecha_atencion,nt.id_paciente, nt.id_personal, nt.id_registrador,nt.anio_actual_paciente, nt.tipo_diagnostico,nt.codigo_item, mhe.id_establecimiento,mhe.red,mhe.microred,mhe.nombre_establecimiento,mhe.departamento,mhe.distrito,mhe.provincia\n",
      "    \n"
     ]
    }
   ],
   "source": [
    "id+=1\n",
    "dx_H919=filtro(id=id,grupo='EVALUACIÓN DE LA AGUDEZA AUDITIVA',codigo='H919',subgrupo='Disminución de la Agudeza Auditiva sin Especificación',detalles='',dx1='H919',t_dx='D',conn=conn)\n",
    "id+=1\n",
    "dx_Z011=filtro(id=id,grupo='EVALUACIÓN DE LA AGUDEZA AUDITIVA',codigo='Z011',subgrupo='Examen de Oídos y de la Audición (Normal)',detalles='',dx1='Z011',t_dx='D',conn=conn)\n",
    "dx_Z011=dx_Z011.loc[dx_Z011['lab1'].isin(['N'])]\n",
    "id+=1\n",
    "dx_Z011_2=filtro(id=id,grupo='EVALUACIÓN DE LA AGUDEZA AUDITIVA',codigo='Z011',subgrupo='Examen de Oídos y de la Audición (Anormal)',detalles='',dx1='Z011',t_dx='D',conn=conn)\n",
    "dx_Z011_2=dx_Z011_2.loc[dx_Z011_2['lab1'].isin(['A'])]\n",
    "\n",
    "df = pd.concat([df, dx_H919,dx_Z011,dx_Z011_2], ignore_index=True)"
   ]
  },
  {
   "attachments": {},
   "cell_type": "markdown",
   "metadata": {},
   "source": [
    "<CENTER> <H2>ATENCIÓN ODONTOLÓGICA</H2><CENTER>"
   ]
  },
  {
   "cell_type": "code",
   "execution_count": 34,
   "metadata": {},
   "outputs": [
    {
     "name": "stdout",
     "output_type": "stream",
     "text": [
      "SELECT  '67' as df_id,'ATENCIÓN ODONTOLÓGICA' as df_grupo,'D1310' as df_codigo,'Asesoría Nutricional para el Control de Enfermedades Dentales' as df_subgrupo,'' as df_detalles, nt.id_cita,nt.anio,nt.mes,nt.fecha_atencion,nt.id_paciente, nt.id_personal, nt.id_registrador,nt.anio_actual_paciente, nt.tipo_diagnostico,nt.codigo_item, mhe.id_establecimiento,mhe.red,mhe.microred,mhe.nombre_establecimiento,mhe.departamento,mhe.distrito,mhe.provincia , max(CASE  WHEN nt.id_correlativo_lab='1' THEN nt.valor_lab ELSE null END ) AS \"lab1\", max(CASE  WHEN nt.id_correlativo_lab='2' THEN nt.valor_lab ELSE null END ) AS \"lab2\", max(CASE  WHEN nt.id_correlativo_lab='3' THEN nt.valor_lab ELSE null END ) AS \"lab3\"  FROM maestros.nominal_trama nt \n",
      "    INNER JOIN maestros.maestro_his_establecimiento mhe ON mhe.id_establecimiento = nt.id_establecimiento  \n",
      "    WHERE  nt.tipo_diagnostico ='D' AND codigo_item in('D1310')AND nt.anio_actual_paciente BETWEEN 12 AND 17 and nt.anio=2023 GROUP by nt.id_cita,nt.anio,nt.mes,nt.fecha_atencion,nt.id_paciente, nt.id_personal, nt.id_registrador,nt.anio_actual_paciente, nt.tipo_diagnostico,nt.codigo_item, mhe.id_establecimiento,mhe.red,mhe.microred,mhe.nombre_establecimiento,mhe.departamento,mhe.distrito,mhe.provincia\n",
      "    \n"
     ]
    },
    {
     "name": "stderr",
     "output_type": "stream",
     "text": [
      "d:\\Irvin\\Irvin\\Python\\Python-GERESA\\modulos\\adolescente\\../..\\clases\\bd\\conexion2.py:47: UserWarning: pandas only supports SQLAlchemy connectable (engine/connection) or database string URI or sqlite3 DBAPI2 connection. Other DBAPI2 objects are not tested. Please consider using SQLAlchemy.\n",
      "  s = pd.read_sql(sql, con=self.conn)\n"
     ]
    },
    {
     "name": "stdout",
     "output_type": "stream",
     "text": [
      "SELECT  '68' as df_id,'ATENCIÓN ODONTOLÓGICA' as df_grupo,'D1330' as df_codigo,'Instrucción de Higiene Oral' as df_subgrupo,'' as df_detalles, nt.id_cita,nt.anio,nt.mes,nt.fecha_atencion,nt.id_paciente, nt.id_personal, nt.id_registrador,nt.anio_actual_paciente, nt.tipo_diagnostico,nt.codigo_item, mhe.id_establecimiento,mhe.red,mhe.microred,mhe.nombre_establecimiento,mhe.departamento,mhe.distrito,mhe.provincia , max(CASE  WHEN nt.id_correlativo_lab='1' THEN nt.valor_lab ELSE null END ) AS \"lab1\", max(CASE  WHEN nt.id_correlativo_lab='2' THEN nt.valor_lab ELSE null END ) AS \"lab2\", max(CASE  WHEN nt.id_correlativo_lab='3' THEN nt.valor_lab ELSE null END ) AS \"lab3\"  FROM maestros.nominal_trama nt \n",
      "    INNER JOIN maestros.maestro_his_establecimiento mhe ON mhe.id_establecimiento = nt.id_establecimiento  \n",
      "    WHERE  nt.tipo_diagnostico ='D' AND codigo_item in('D1310')AND nt.anio_actual_paciente BETWEEN 12 AND 17 and nt.anio=2023 GROUP by nt.id_cita,nt.anio,nt.mes,nt.fecha_atencion,nt.id_paciente, nt.id_personal, nt.id_registrador,nt.anio_actual_paciente, nt.tipo_diagnostico,nt.codigo_item, mhe.id_establecimiento,mhe.red,mhe.microred,mhe.nombre_establecimiento,mhe.departamento,mhe.distrito,mhe.provincia\n",
      "    \n",
      "SELECT  '69' as df_id,'ATENCIÓN ODONTOLÓGICA' as df_grupo,'D0120' as df_codigo,'Examen Estomatológico' as df_subgrupo,'' as df_detalles, nt.id_cita,nt.anio,nt.mes,nt.fecha_atencion,nt.id_paciente, nt.id_personal, nt.id_registrador,nt.anio_actual_paciente, nt.tipo_diagnostico,nt.codigo_item, mhe.id_establecimiento,mhe.red,mhe.microred,mhe.nombre_establecimiento,mhe.departamento,mhe.distrito,mhe.provincia , max(CASE  WHEN nt.id_correlativo_lab='1' THEN nt.valor_lab ELSE null END ) AS \"lab1\", max(CASE  WHEN nt.id_correlativo_lab='2' THEN nt.valor_lab ELSE null END ) AS \"lab2\", max(CASE  WHEN nt.id_correlativo_lab='3' THEN nt.valor_lab ELSE null END ) AS \"lab3\"  FROM maestros.nominal_trama nt \n",
      "    INNER JOIN maestros.maestro_his_establecimiento mhe ON mhe.id_establecimiento = nt.id_establecimiento  \n",
      "    WHERE  nt.tipo_diagnostico ='D' AND codigo_item in('D0120')AND nt.anio_actual_paciente BETWEEN 12 AND 17 and nt.anio=2023 GROUP by nt.id_cita,nt.anio,nt.mes,nt.fecha_atencion,nt.id_paciente, nt.id_personal, nt.id_registrador,nt.anio_actual_paciente, nt.tipo_diagnostico,nt.codigo_item, mhe.id_establecimiento,mhe.red,mhe.microred,mhe.nombre_establecimiento,mhe.departamento,mhe.distrito,mhe.provincia\n",
      "    \n",
      "SELECT  '70' as df_id,'ATENCIÓN ODONTOLÓGICA' as df_grupo,'D1110' as df_codigo,'Profilaxis Dental' as df_subgrupo,'' as df_detalles, nt.id_cita,nt.anio,nt.mes,nt.fecha_atencion,nt.id_paciente, nt.id_personal, nt.id_registrador,nt.anio_actual_paciente, nt.tipo_diagnostico,nt.codigo_item, mhe.id_establecimiento,mhe.red,mhe.microred,mhe.nombre_establecimiento,mhe.departamento,mhe.distrito,mhe.provincia , max(CASE  WHEN nt.id_correlativo_lab='1' THEN nt.valor_lab ELSE null END ) AS \"lab1\", max(CASE  WHEN nt.id_correlativo_lab='2' THEN nt.valor_lab ELSE null END ) AS \"lab2\", max(CASE  WHEN nt.id_correlativo_lab='3' THEN nt.valor_lab ELSE null END ) AS \"lab3\"  FROM maestros.nominal_trama nt \n",
      "    INNER JOIN maestros.maestro_his_establecimiento mhe ON mhe.id_establecimiento = nt.id_establecimiento  \n",
      "    WHERE  nt.tipo_diagnostico ='D' AND codigo_item in('D1110')AND nt.anio_actual_paciente BETWEEN 12 AND 17 and nt.anio=2023 GROUP by nt.id_cita,nt.anio,nt.mes,nt.fecha_atencion,nt.id_paciente, nt.id_personal, nt.id_registrador,nt.anio_actual_paciente, nt.tipo_diagnostico,nt.codigo_item, mhe.id_establecimiento,mhe.red,mhe.microred,mhe.nombre_establecimiento,mhe.departamento,mhe.distrito,mhe.provincia\n",
      "    \n",
      "SELECT  '71' as df_id,'ATENCIÓN ODONTOLÓGICA' as df_grupo,'U510' as df_codigo,'Alta Básica Odontológica' as df_subgrupo,'' as df_detalles, nt.id_cita,nt.anio,nt.mes,nt.fecha_atencion,nt.id_paciente, nt.id_personal, nt.id_registrador,nt.anio_actual_paciente, nt.tipo_diagnostico,nt.codigo_item, mhe.id_establecimiento,mhe.red,mhe.microred,mhe.nombre_establecimiento,mhe.departamento,mhe.distrito,mhe.provincia , max(CASE  WHEN nt.id_correlativo_lab='1' THEN nt.valor_lab ELSE null END ) AS \"lab1\", max(CASE  WHEN nt.id_correlativo_lab='2' THEN nt.valor_lab ELSE null END ) AS \"lab2\", max(CASE  WHEN nt.id_correlativo_lab='3' THEN nt.valor_lab ELSE null END ) AS \"lab3\"  FROM maestros.nominal_trama nt \n",
      "    INNER JOIN maestros.maestro_his_establecimiento mhe ON mhe.id_establecimiento = nt.id_establecimiento  \n",
      "    WHERE  nt.tipo_diagnostico ='D' AND codigo_item in('U510')AND nt.anio_actual_paciente BETWEEN 12 AND 17 and nt.anio=2023 GROUP by nt.id_cita,nt.anio,nt.mes,nt.fecha_atencion,nt.id_paciente, nt.id_personal, nt.id_registrador,nt.anio_actual_paciente, nt.tipo_diagnostico,nt.codigo_item, mhe.id_establecimiento,mhe.red,mhe.microred,mhe.nombre_establecimiento,mhe.departamento,mhe.distrito,mhe.provincia\n",
      "    \n"
     ]
    }
   ],
   "source": [
    "id+=1\n",
    "dx_D1310=filtro(id=id,grupo='ATENCIÓN ODONTOLÓGICA',codigo='D1310',subgrupo='Asesoría Nutricional para el Control de Enfermedades Dentales',detalles='',dx1='D1310',t_dx='D',conn=conn)\n",
    "id+=1\n",
    "dx_D1330=filtro(id=id,grupo='ATENCIÓN ODONTOLÓGICA',codigo='D1330',subgrupo='Instrucción de Higiene Oral',detalles='',dx1='D1310',t_dx='D',conn=conn)\n",
    "id+=1\n",
    "dx_D0120=filtro(id=id,grupo='ATENCIÓN ODONTOLÓGICA',codigo='D0120',subgrupo='Examen Estomatológico',detalles='',dx1='D0120',t_dx='D',conn=conn)\n",
    "id+=1\n",
    "dx_D1110=filtro(id=id,grupo='ATENCIÓN ODONTOLÓGICA',codigo='D1110',subgrupo='Profilaxis Dental',detalles='',dx1='D1110',t_dx='D',conn=conn)\n",
    "id+=1\n",
    "dx_U510=filtro(id=id,grupo='ATENCIÓN ODONTOLÓGICA',codigo='U510',subgrupo='Alta Básica Odontológica',detalles='',dx1='U510',t_dx='D',conn=conn)\n",
    "df = pd.concat([df, dx_D1310,dx_D1330,dx_D0120,dx_D1110,dx_U510], ignore_index=True)"
   ]
  },
  {
   "attachments": {},
   "cell_type": "markdown",
   "metadata": {},
   "source": [
    "<CENTER> <H2>EVALUACIÓN FÍSICO POSTURAL</H2><CENTER>"
   ]
  },
  {
   "cell_type": "code",
   "execution_count": 35,
   "metadata": {},
   "outputs": [
    {
     "name": "stdout",
     "output_type": "stream",
     "text": [
      "SELECT  '72' as df_id,'EVALUACIÓN FÍSICO POSTURAL' as df_grupo,'96008' as df_codigo,'Análisis Postural Estático ( NORMAL)' as df_subgrupo,'' as df_detalles, nt.id_cita,nt.anio,nt.mes,nt.fecha_atencion,nt.id_paciente, nt.id_personal, nt.id_registrador,nt.anio_actual_paciente, nt.tipo_diagnostico,nt.codigo_item, mhe.id_establecimiento,mhe.red,mhe.microred,mhe.nombre_establecimiento,mhe.departamento,mhe.distrito,mhe.provincia , max(CASE  WHEN nt.id_correlativo_lab='1' THEN nt.valor_lab ELSE null END ) AS \"lab1\", max(CASE  WHEN nt.id_correlativo_lab='2' THEN nt.valor_lab ELSE null END ) AS \"lab2\", max(CASE  WHEN nt.id_correlativo_lab='3' THEN nt.valor_lab ELSE null END ) AS \"lab3\"  FROM maestros.nominal_trama nt \n",
      "    INNER JOIN maestros.maestro_his_establecimiento mhe ON mhe.id_establecimiento = nt.id_establecimiento  \n",
      "    WHERE  nt.tipo_diagnostico ='D' AND codigo_item in('96008')AND nt.anio_actual_paciente BETWEEN 12 AND 17 and nt.anio=2023 GROUP by nt.id_cita,nt.anio,nt.mes,nt.fecha_atencion,nt.id_paciente, nt.id_personal, nt.id_registrador,nt.anio_actual_paciente, nt.tipo_diagnostico,nt.codigo_item, mhe.id_establecimiento,mhe.red,mhe.microred,mhe.nombre_establecimiento,mhe.departamento,mhe.distrito,mhe.provincia\n",
      "    \n"
     ]
    },
    {
     "name": "stderr",
     "output_type": "stream",
     "text": [
      "d:\\Irvin\\Irvin\\Python\\Python-GERESA\\modulos\\adolescente\\../..\\clases\\bd\\conexion2.py:47: UserWarning: pandas only supports SQLAlchemy connectable (engine/connection) or database string URI or sqlite3 DBAPI2 connection. Other DBAPI2 objects are not tested. Please consider using SQLAlchemy.\n",
      "  s = pd.read_sql(sql, con=self.conn)\n"
     ]
    },
    {
     "name": "stdout",
     "output_type": "stream",
     "text": [
      "SELECT  '73' as df_id,'EVALUACIÓN FÍSICO POSTURAL' as df_grupo,'M400' as df_codigo,'Cifosis postural' as df_subgrupo,'' as df_detalles, nt.id_cita,nt.anio,nt.mes,nt.fecha_atencion,nt.id_paciente, nt.id_personal, nt.id_registrador,nt.anio_actual_paciente, nt.tipo_diagnostico,nt.codigo_item, mhe.id_establecimiento,mhe.red,mhe.microred,mhe.nombre_establecimiento,mhe.departamento,mhe.distrito,mhe.provincia , max(CASE  WHEN nt.id_correlativo_lab='1' THEN nt.valor_lab ELSE null END ) AS \"lab1\", max(CASE  WHEN nt.id_correlativo_lab='2' THEN nt.valor_lab ELSE null END ) AS \"lab2\", max(CASE  WHEN nt.id_correlativo_lab='3' THEN nt.valor_lab ELSE null END ) AS \"lab3\"  FROM maestros.nominal_trama nt \n",
      "    INNER JOIN maestros.maestro_his_establecimiento mhe ON mhe.id_establecimiento = nt.id_establecimiento  \n",
      "    WHERE  nt.tipo_diagnostico ='D' AND codigo_item in('M400')AND nt.anio_actual_paciente BETWEEN 12 AND 17 and nt.anio=2023 GROUP by nt.id_cita,nt.anio,nt.mes,nt.fecha_atencion,nt.id_paciente, nt.id_personal, nt.id_registrador,nt.anio_actual_paciente, nt.tipo_diagnostico,nt.codigo_item, mhe.id_establecimiento,mhe.red,mhe.microred,mhe.nombre_establecimiento,mhe.departamento,mhe.distrito,mhe.provincia\n",
      "    \n",
      "SELECT  '74' as df_id,'EVALUACIÓN FÍSICO POSTURAL' as df_grupo,'M402' as df_codigo,'Otras cifosis y las no especificadas' as df_subgrupo,'' as df_detalles, nt.id_cita,nt.anio,nt.mes,nt.fecha_atencion,nt.id_paciente, nt.id_personal, nt.id_registrador,nt.anio_actual_paciente, nt.tipo_diagnostico,nt.codigo_item, mhe.id_establecimiento,mhe.red,mhe.microred,mhe.nombre_establecimiento,mhe.departamento,mhe.distrito,mhe.provincia , max(CASE  WHEN nt.id_correlativo_lab='1' THEN nt.valor_lab ELSE null END ) AS \"lab1\", max(CASE  WHEN nt.id_correlativo_lab='2' THEN nt.valor_lab ELSE null END ) AS \"lab2\", max(CASE  WHEN nt.id_correlativo_lab='3' THEN nt.valor_lab ELSE null END ) AS \"lab3\"  FROM maestros.nominal_trama nt \n",
      "    INNER JOIN maestros.maestro_his_establecimiento mhe ON mhe.id_establecimiento = nt.id_establecimiento  \n",
      "    WHERE  nt.tipo_diagnostico ='D' AND codigo_item in('M402')AND nt.anio_actual_paciente BETWEEN 12 AND 17 and nt.anio=2023 GROUP by nt.id_cita,nt.anio,nt.mes,nt.fecha_atencion,nt.id_paciente, nt.id_personal, nt.id_registrador,nt.anio_actual_paciente, nt.tipo_diagnostico,nt.codigo_item, mhe.id_establecimiento,mhe.red,mhe.microred,mhe.nombre_establecimiento,mhe.departamento,mhe.distrito,mhe.provincia\n",
      "    \n",
      "SELECT  '75' as df_id,'EVALUACIÓN FÍSICO POSTURAL' as df_grupo,'M403' as df_codigo,'Síndrome de espalda plana' as df_subgrupo,'' as df_detalles, nt.id_cita,nt.anio,nt.mes,nt.fecha_atencion,nt.id_paciente, nt.id_personal, nt.id_registrador,nt.anio_actual_paciente, nt.tipo_diagnostico,nt.codigo_item, mhe.id_establecimiento,mhe.red,mhe.microred,mhe.nombre_establecimiento,mhe.departamento,mhe.distrito,mhe.provincia , max(CASE  WHEN nt.id_correlativo_lab='1' THEN nt.valor_lab ELSE null END ) AS \"lab1\", max(CASE  WHEN nt.id_correlativo_lab='2' THEN nt.valor_lab ELSE null END ) AS \"lab2\", max(CASE  WHEN nt.id_correlativo_lab='3' THEN nt.valor_lab ELSE null END ) AS \"lab3\"  FROM maestros.nominal_trama nt \n",
      "    INNER JOIN maestros.maestro_his_establecimiento mhe ON mhe.id_establecimiento = nt.id_establecimiento  \n",
      "    WHERE  nt.tipo_diagnostico ='D' AND codigo_item in('M403')AND nt.anio_actual_paciente BETWEEN 12 AND 17 and nt.anio=2023 GROUP by nt.id_cita,nt.anio,nt.mes,nt.fecha_atencion,nt.id_paciente, nt.id_personal, nt.id_registrador,nt.anio_actual_paciente, nt.tipo_diagnostico,nt.codigo_item, mhe.id_establecimiento,mhe.red,mhe.microred,mhe.nombre_establecimiento,mhe.departamento,mhe.distrito,mhe.provincia\n",
      "    \n",
      "SELECT  '76' as df_id,'EVALUACIÓN FÍSICO POSTURAL' as df_grupo,'M405' as df_codigo,'Lordosis no especifica' as df_subgrupo,'' as df_detalles, nt.id_cita,nt.anio,nt.mes,nt.fecha_atencion,nt.id_paciente, nt.id_personal, nt.id_registrador,nt.anio_actual_paciente, nt.tipo_diagnostico,nt.codigo_item, mhe.id_establecimiento,mhe.red,mhe.microred,mhe.nombre_establecimiento,mhe.departamento,mhe.distrito,mhe.provincia , max(CASE  WHEN nt.id_correlativo_lab='1' THEN nt.valor_lab ELSE null END ) AS \"lab1\", max(CASE  WHEN nt.id_correlativo_lab='2' THEN nt.valor_lab ELSE null END ) AS \"lab2\", max(CASE  WHEN nt.id_correlativo_lab='3' THEN nt.valor_lab ELSE null END ) AS \"lab3\"  FROM maestros.nominal_trama nt \n",
      "    INNER JOIN maestros.maestro_his_establecimiento mhe ON mhe.id_establecimiento = nt.id_establecimiento  \n",
      "    WHERE  nt.tipo_diagnostico ='D' AND codigo_item in('M405')AND nt.anio_actual_paciente BETWEEN 12 AND 17 and nt.anio=2023 GROUP by nt.id_cita,nt.anio,nt.mes,nt.fecha_atencion,nt.id_paciente, nt.id_personal, nt.id_registrador,nt.anio_actual_paciente, nt.tipo_diagnostico,nt.codigo_item, mhe.id_establecimiento,mhe.red,mhe.microred,mhe.nombre_establecimiento,mhe.departamento,mhe.distrito,mhe.provincia\n",
      "    \n",
      "SELECT  '77' as df_id,'EVALUACIÓN FÍSICO POSTURAL' as df_grupo,'M419' as df_codigo,'Escoliosis, no especificada' as df_subgrupo,'' as df_detalles, nt.id_cita,nt.anio,nt.mes,nt.fecha_atencion,nt.id_paciente, nt.id_personal, nt.id_registrador,nt.anio_actual_paciente, nt.tipo_diagnostico,nt.codigo_item, mhe.id_establecimiento,mhe.red,mhe.microred,mhe.nombre_establecimiento,mhe.departamento,mhe.distrito,mhe.provincia , max(CASE  WHEN nt.id_correlativo_lab='1' THEN nt.valor_lab ELSE null END ) AS \"lab1\", max(CASE  WHEN nt.id_correlativo_lab='2' THEN nt.valor_lab ELSE null END ) AS \"lab2\", max(CASE  WHEN nt.id_correlativo_lab='3' THEN nt.valor_lab ELSE null END ) AS \"lab3\"  FROM maestros.nominal_trama nt \n",
      "    INNER JOIN maestros.maestro_his_establecimiento mhe ON mhe.id_establecimiento = nt.id_establecimiento  \n",
      "    WHERE  nt.tipo_diagnostico ='D' AND codigo_item in('M419')AND nt.anio_actual_paciente BETWEEN 12 AND 17 and nt.anio=2023 GROUP by nt.id_cita,nt.anio,nt.mes,nt.fecha_atencion,nt.id_paciente, nt.id_personal, nt.id_registrador,nt.anio_actual_paciente, nt.tipo_diagnostico,nt.codigo_item, mhe.id_establecimiento,mhe.red,mhe.microred,mhe.nombre_establecimiento,mhe.departamento,mhe.distrito,mhe.provincia\n",
      "    \n"
     ]
    }
   ],
   "source": [
    "id+=1\n",
    "dx_96008=filtro(id=id,grupo='EVALUACIÓN FÍSICO POSTURAL',codigo='96008',subgrupo='Análisis Postural Estático ( NORMAL)',detalles='',dx1='96008',t_dx='D',conn=conn)\n",
    "id+=1\n",
    "dx_M400=filtro(id=id,grupo='EVALUACIÓN FÍSICO POSTURAL',codigo='M400',subgrupo='Cifosis postural',detalles='',dx1='M400',t_dx='D',conn=conn)\n",
    "id+=1\n",
    "dx_M402=filtro(id=id,grupo='EVALUACIÓN FÍSICO POSTURAL',codigo='M402',subgrupo='Otras cifosis y las no especificadas',detalles='',dx1='M402',t_dx='D',conn=conn)\n",
    "id+=1\n",
    "dx_M403=filtro(id=id,grupo='EVALUACIÓN FÍSICO POSTURAL',codigo='M403',subgrupo='Síndrome de espalda plana',detalles='',dx1='M403',t_dx='D',conn=conn)\n",
    "id+=1\n",
    "dx_M405=filtro(id=id,grupo='EVALUACIÓN FÍSICO POSTURAL',codigo='M405',subgrupo='Lordosis no especifica',detalles='',dx1='M405',t_dx='D',conn=conn)\n",
    "id+=1\n",
    "dx_M419=filtro(id=id,grupo='EVALUACIÓN FÍSICO POSTURAL',codigo='M419',subgrupo='Escoliosis, no especificada',detalles='',dx1='M419',t_dx='D',conn=conn)\n",
    "\n",
    "df = pd.concat([df, dx_96008,dx_M400,dx_M402,dx_M403,dx_M405,dx_M419], ignore_index=True)"
   ]
  },
  {
   "attachments": {},
   "cell_type": "markdown",
   "metadata": {},
   "source": [
    "<CENTER> <H2>INMUNIZACIONES</H2><CENTER>"
   ]
  },
  {
   "cell_type": "code",
   "execution_count": 36,
   "metadata": {},
   "outputs": [
    {
     "name": "stdout",
     "output_type": "stream",
     "text": [
      "SELECT  '78' as df_id,'INMUNIZACIONES' as df_grupo,'90746' as df_codigo,'Vacunación Antihepatitis Viral B (HvB)' as df_subgrupo,'' as df_detalles, nt.id_cita,nt.anio,nt.mes,nt.fecha_atencion,nt.id_paciente, nt.id_personal, nt.id_registrador,nt.anio_actual_paciente, nt.tipo_diagnostico,nt.codigo_item, mhe.id_establecimiento,mhe.red,mhe.microred,mhe.nombre_establecimiento,mhe.departamento,mhe.distrito,mhe.provincia , max(CASE  WHEN nt.id_correlativo_lab='1' THEN nt.valor_lab ELSE null END ) AS \"lab1\", max(CASE  WHEN nt.id_correlativo_lab='2' THEN nt.valor_lab ELSE null END ) AS \"lab2\", max(CASE  WHEN nt.id_correlativo_lab='3' THEN nt.valor_lab ELSE null END ) AS \"lab3\"  FROM maestros.nominal_trama nt \n",
      "    INNER JOIN maestros.maestro_his_establecimiento mhe ON mhe.id_establecimiento = nt.id_establecimiento  \n",
      "    WHERE  nt.tipo_diagnostico ='D' AND codigo_item in('90746')AND nt.anio_actual_paciente BETWEEN 12 AND 17 and nt.anio=2023 GROUP by nt.id_cita,nt.anio,nt.mes,nt.fecha_atencion,nt.id_paciente, nt.id_personal, nt.id_registrador,nt.anio_actual_paciente, nt.tipo_diagnostico,nt.codigo_item, mhe.id_establecimiento,mhe.red,mhe.microred,mhe.nombre_establecimiento,mhe.departamento,mhe.distrito,mhe.provincia\n",
      "    \n"
     ]
    },
    {
     "name": "stderr",
     "output_type": "stream",
     "text": [
      "d:\\Irvin\\Irvin\\Python\\Python-GERESA\\modulos\\adolescente\\../..\\clases\\bd\\conexion2.py:47: UserWarning: pandas only supports SQLAlchemy connectable (engine/connection) or database string URI or sqlite3 DBAPI2 connection. Other DBAPI2 objects are not tested. Please consider using SQLAlchemy.\n",
      "  s = pd.read_sql(sql, con=self.conn)\n",
      "C:\\Users\\IRVIN\\AppData\\Local\\Temp\\ipykernel_3452\\2797636967.py:5: SettingWithCopyWarning: \n",
      "A value is trying to be set on a copy of a slice from a DataFrame.\n",
      "Try using .loc[row_indexer,col_indexer] = value instead\n",
      "\n",
      "See the caveats in the documentation: https://pandas.pydata.org/pandas-docs/stable/user_guide/indexing.html#returning-a-view-versus-a-copy\n",
      "  dx_90746_1['df_detalles']=dx_90746_1['df_detalles'].replace('','DOSIS 1')\n",
      "C:\\Users\\IRVIN\\AppData\\Local\\Temp\\ipykernel_3452\\2797636967.py:9: SettingWithCopyWarning: \n",
      "A value is trying to be set on a copy of a slice from a DataFrame.\n",
      "Try using .loc[row_indexer,col_indexer] = value instead\n",
      "\n",
      "See the caveats in the documentation: https://pandas.pydata.org/pandas-docs/stable/user_guide/indexing.html#returning-a-view-versus-a-copy\n",
      "  dx_90746_2['df_detalles']=dx_90746_2['df_detalles'].replace('','DOSIS 2')\n",
      "C:\\Users\\IRVIN\\AppData\\Local\\Temp\\ipykernel_3452\\2797636967.py:10: FutureWarning: Downcasting behavior in `replace` is deprecated and will be removed in a future version. To retain the old behavior, explicitly call `result.infer_objects(copy=False)`. To opt-in to the future behavior, set `pd.set_option('future.no_silent_downcasting', True)`\n",
      "  dx_90746_2['df_id'] = dx_90746_2['df_id'].replace('%s'% id,id + 1)\n",
      "C:\\Users\\IRVIN\\AppData\\Local\\Temp\\ipykernel_3452\\2797636967.py:10: SettingWithCopyWarning: \n",
      "A value is trying to be set on a copy of a slice from a DataFrame.\n",
      "Try using .loc[row_indexer,col_indexer] = value instead\n",
      "\n",
      "See the caveats in the documentation: https://pandas.pydata.org/pandas-docs/stable/user_guide/indexing.html#returning-a-view-versus-a-copy\n",
      "  dx_90746_2['df_id'] = dx_90746_2['df_id'].replace('%s'% id,id + 1)\n",
      "C:\\Users\\IRVIN\\AppData\\Local\\Temp\\ipykernel_3452\\2797636967.py:14: SettingWithCopyWarning: \n",
      "A value is trying to be set on a copy of a slice from a DataFrame.\n",
      "Try using .loc[row_indexer,col_indexer] = value instead\n",
      "\n",
      "See the caveats in the documentation: https://pandas.pydata.org/pandas-docs/stable/user_guide/indexing.html#returning-a-view-versus-a-copy\n",
      "  dx_90746_3['df_detalles']=dx_90746_3['df_detalles'].replace('','DOSIS 3')\n",
      "C:\\Users\\IRVIN\\AppData\\Local\\Temp\\ipykernel_3452\\2797636967.py:15: FutureWarning: Downcasting behavior in `replace` is deprecated and will be removed in a future version. To retain the old behavior, explicitly call `result.infer_objects(copy=False)`. To opt-in to the future behavior, set `pd.set_option('future.no_silent_downcasting', True)`\n",
      "  dx_90746_3['df_id'] = dx_90746_3['df_id'].replace('%s'% id,id + 2)\n",
      "C:\\Users\\IRVIN\\AppData\\Local\\Temp\\ipykernel_3452\\2797636967.py:15: SettingWithCopyWarning: \n",
      "A value is trying to be set on a copy of a slice from a DataFrame.\n",
      "Try using .loc[row_indexer,col_indexer] = value instead\n",
      "\n",
      "See the caveats in the documentation: https://pandas.pydata.org/pandas-docs/stable/user_guide/indexing.html#returning-a-view-versus-a-copy\n",
      "  dx_90746_3['df_id'] = dx_90746_3['df_id'].replace('%s'% id,id + 2)\n"
     ]
    },
    {
     "name": "stdout",
     "output_type": "stream",
     "text": [
      "SELECT  '81' as df_id,'INMUNIZACIONES' as df_grupo,'90658' as df_codigo,'Vacuna contra la Influenza  (Estacional)' as df_subgrupo,'' as df_detalles, nt.id_cita,nt.anio,nt.mes,nt.fecha_atencion,nt.id_paciente, nt.id_personal, nt.id_registrador,nt.anio_actual_paciente, nt.tipo_diagnostico,nt.codigo_item, mhe.id_establecimiento,mhe.red,mhe.microred,mhe.nombre_establecimiento,mhe.departamento,mhe.distrito,mhe.provincia , max(CASE  WHEN nt.id_correlativo_lab='1' THEN nt.valor_lab ELSE null END ) AS \"lab1\", max(CASE  WHEN nt.id_correlativo_lab='2' THEN nt.valor_lab ELSE null END ) AS \"lab2\", max(CASE  WHEN nt.id_correlativo_lab='3' THEN nt.valor_lab ELSE null END ) AS \"lab3\"  FROM maestros.nominal_trama nt \n",
      "    INNER JOIN maestros.maestro_his_establecimiento mhe ON mhe.id_establecimiento = nt.id_establecimiento  \n",
      "    WHERE  nt.tipo_diagnostico ='D' AND codigo_item in('90658')AND nt.anio_actual_paciente BETWEEN 12 AND 17 and nt.anio=2023 GROUP by nt.id_cita,nt.anio,nt.mes,nt.fecha_atencion,nt.id_paciente, nt.id_personal, nt.id_registrador,nt.anio_actual_paciente, nt.tipo_diagnostico,nt.codigo_item, mhe.id_establecimiento,mhe.red,mhe.microred,mhe.nombre_establecimiento,mhe.departamento,mhe.distrito,mhe.provincia\n",
      "    \n"
     ]
    },
    {
     "name": "stderr",
     "output_type": "stream",
     "text": [
      "d:\\Irvin\\Irvin\\Python\\Python-GERESA\\modulos\\adolescente\\../..\\clases\\bd\\conexion2.py:47: UserWarning: pandas only supports SQLAlchemy connectable (engine/connection) or database string URI or sqlite3 DBAPI2 connection. Other DBAPI2 objects are not tested. Please consider using SQLAlchemy.\n",
      "  s = pd.read_sql(sql, con=self.conn)\n"
     ]
    },
    {
     "name": "stdout",
     "output_type": "stream",
     "text": [
      "SELECT  '82' as df_id,'INMUNIZACIONES' as df_grupo,'90714' as df_codigo,'Vacunación Diftotetánica (dT) (Incluye varones y gestantes)' as df_subgrupo,'' as df_detalles, nt.id_cita,nt.anio,nt.mes,nt.fecha_atencion,nt.id_paciente, nt.id_personal, nt.id_registrador,nt.anio_actual_paciente, nt.tipo_diagnostico,nt.codigo_item, mhe.id_establecimiento,mhe.red,mhe.microred,mhe.nombre_establecimiento,mhe.departamento,mhe.distrito,mhe.provincia , max(CASE  WHEN nt.id_correlativo_lab='1' THEN nt.valor_lab ELSE null END ) AS \"lab1\", max(CASE  WHEN nt.id_correlativo_lab='2' THEN nt.valor_lab ELSE null END ) AS \"lab2\", max(CASE  WHEN nt.id_correlativo_lab='3' THEN nt.valor_lab ELSE null END ) AS \"lab3\"  FROM maestros.nominal_trama nt \n",
      "    INNER JOIN maestros.maestro_his_establecimiento mhe ON mhe.id_establecimiento = nt.id_establecimiento  \n",
      "    WHERE  nt.tipo_diagnostico ='D' AND codigo_item in('90714')AND nt.anio_actual_paciente BETWEEN 12 AND 17 and nt.anio=2023 GROUP by nt.id_cita,nt.anio,nt.mes,nt.fecha_atencion,nt.id_paciente, nt.id_personal, nt.id_registrador,nt.anio_actual_paciente, nt.tipo_diagnostico,nt.codigo_item, mhe.id_establecimiento,mhe.red,mhe.microred,mhe.nombre_establecimiento,mhe.departamento,mhe.distrito,mhe.provincia\n",
      "    \n"
     ]
    },
    {
     "name": "stderr",
     "output_type": "stream",
     "text": [
      "d:\\Irvin\\Irvin\\Python\\Python-GERESA\\modulos\\adolescente\\../..\\clases\\bd\\conexion2.py:47: UserWarning: pandas only supports SQLAlchemy connectable (engine/connection) or database string URI or sqlite3 DBAPI2 connection. Other DBAPI2 objects are not tested. Please consider using SQLAlchemy.\n",
      "  s = pd.read_sql(sql, con=self.conn)\n",
      "C:\\Users\\IRVIN\\AppData\\Local\\Temp\\ipykernel_3452\\2797636967.py:28: SettingWithCopyWarning: \n",
      "A value is trying to be set on a copy of a slice from a DataFrame.\n",
      "Try using .loc[row_indexer,col_indexer] = value instead\n",
      "\n",
      "See the caveats in the documentation: https://pandas.pydata.org/pandas-docs/stable/user_guide/indexing.html#returning-a-view-versus-a-copy\n",
      "  dx_90714_1['df_detalles']=dx_90714_1['df_detalles'].replace('','DOSIS 1')\n",
      "C:\\Users\\IRVIN\\AppData\\Local\\Temp\\ipykernel_3452\\2797636967.py:32: SettingWithCopyWarning: \n",
      "A value is trying to be set on a copy of a slice from a DataFrame.\n",
      "Try using .loc[row_indexer,col_indexer] = value instead\n",
      "\n",
      "See the caveats in the documentation: https://pandas.pydata.org/pandas-docs/stable/user_guide/indexing.html#returning-a-view-versus-a-copy\n",
      "  dx_90714_2['df_detalles']=dx_90714_2['df_detalles'].replace('','DOSIS 2')\n",
      "C:\\Users\\IRVIN\\AppData\\Local\\Temp\\ipykernel_3452\\2797636967.py:33: FutureWarning: Downcasting behavior in `replace` is deprecated and will be removed in a future version. To retain the old behavior, explicitly call `result.infer_objects(copy=False)`. To opt-in to the future behavior, set `pd.set_option('future.no_silent_downcasting', True)`\n",
      "  dx_90714_2['df_id'] = dx_90714_2['df_id'].replace('%s'% id,id + 1)\n",
      "C:\\Users\\IRVIN\\AppData\\Local\\Temp\\ipykernel_3452\\2797636967.py:33: SettingWithCopyWarning: \n",
      "A value is trying to be set on a copy of a slice from a DataFrame.\n",
      "Try using .loc[row_indexer,col_indexer] = value instead\n",
      "\n",
      "See the caveats in the documentation: https://pandas.pydata.org/pandas-docs/stable/user_guide/indexing.html#returning-a-view-versus-a-copy\n",
      "  dx_90714_2['df_id'] = dx_90714_2['df_id'].replace('%s'% id,id + 1)\n",
      "C:\\Users\\IRVIN\\AppData\\Local\\Temp\\ipykernel_3452\\2797636967.py:37: SettingWithCopyWarning: \n",
      "A value is trying to be set on a copy of a slice from a DataFrame.\n",
      "Try using .loc[row_indexer,col_indexer] = value instead\n",
      "\n",
      "See the caveats in the documentation: https://pandas.pydata.org/pandas-docs/stable/user_guide/indexing.html#returning-a-view-versus-a-copy\n",
      "  dx_90714_3['df_detalles']=dx_90714_3['df_detalles'].replace('','DOSIS 3')\n",
      "C:\\Users\\IRVIN\\AppData\\Local\\Temp\\ipykernel_3452\\2797636967.py:38: FutureWarning: Downcasting behavior in `replace` is deprecated and will be removed in a future version. To retain the old behavior, explicitly call `result.infer_objects(copy=False)`. To opt-in to the future behavior, set `pd.set_option('future.no_silent_downcasting', True)`\n",
      "  dx_90714_3['df_id'] = dx_90714_3['df_id'].replace('%s'% id,id + 2)\n",
      "C:\\Users\\IRVIN\\AppData\\Local\\Temp\\ipykernel_3452\\2797636967.py:38: SettingWithCopyWarning: \n",
      "A value is trying to be set on a copy of a slice from a DataFrame.\n",
      "Try using .loc[row_indexer,col_indexer] = value instead\n",
      "\n",
      "See the caveats in the documentation: https://pandas.pydata.org/pandas-docs/stable/user_guide/indexing.html#returning-a-view-versus-a-copy\n",
      "  dx_90714_3['df_id'] = dx_90714_3['df_id'].replace('%s'% id,id + 2)\n"
     ]
    },
    {
     "name": "stdout",
     "output_type": "stream",
     "text": [
      "SELECT  '85' as df_id,'INMUNIZACIONES' as df_grupo,'90649' as df_codigo,'Vacunación Diftotetánica (dT) (Incluye varones y gestantes)' as df_subgrupo,'' as df_detalles, nt.id_cita,nt.anio,nt.mes,nt.fecha_atencion,nt.id_paciente, nt.id_personal, nt.id_registrador,nt.anio_actual_paciente, nt.tipo_diagnostico,nt.codigo_item, mhe.id_establecimiento,mhe.red,mhe.microred,mhe.nombre_establecimiento,mhe.departamento,mhe.distrito,mhe.provincia , max(CASE  WHEN nt.id_correlativo_lab='1' THEN nt.valor_lab ELSE null END ) AS \"lab1\", max(CASE  WHEN nt.id_correlativo_lab='2' THEN nt.valor_lab ELSE null END ) AS \"lab2\", max(CASE  WHEN nt.id_correlativo_lab='3' THEN nt.valor_lab ELSE null END ) AS \"lab3\"  FROM maestros.nominal_trama nt \n",
      "    INNER JOIN maestros.maestro_his_establecimiento mhe ON mhe.id_establecimiento = nt.id_establecimiento  \n",
      "    WHERE  nt.tipo_diagnostico ='D' AND codigo_item in('90649')AND nt.anio_actual_paciente BETWEEN 12 AND 17 and nt.anio=2023 GROUP by nt.id_cita,nt.anio,nt.mes,nt.fecha_atencion,nt.id_paciente, nt.id_personal, nt.id_registrador,nt.anio_actual_paciente, nt.tipo_diagnostico,nt.codigo_item, mhe.id_establecimiento,mhe.red,mhe.microred,mhe.nombre_establecimiento,mhe.departamento,mhe.distrito,mhe.provincia\n",
      "    \n"
     ]
    },
    {
     "name": "stderr",
     "output_type": "stream",
     "text": [
      "d:\\Irvin\\Irvin\\Python\\Python-GERESA\\modulos\\adolescente\\../..\\clases\\bd\\conexion2.py:47: UserWarning: pandas only supports SQLAlchemy connectable (engine/connection) or database string URI or sqlite3 DBAPI2 connection. Other DBAPI2 objects are not tested. Please consider using SQLAlchemy.\n",
      "  s = pd.read_sql(sql, con=self.conn)\n",
      "C:\\Users\\IRVIN\\AppData\\Local\\Temp\\ipykernel_3452\\2797636967.py:46: SettingWithCopyWarning: \n",
      "A value is trying to be set on a copy of a slice from a DataFrame.\n",
      "Try using .loc[row_indexer,col_indexer] = value instead\n",
      "\n",
      "See the caveats in the documentation: https://pandas.pydata.org/pandas-docs/stable/user_guide/indexing.html#returning-a-view-versus-a-copy\n",
      "  dx_90649_1['df_detalles']=dx_90649_1['df_detalles'].replace('','DOSIS 1')\n",
      "C:\\Users\\IRVIN\\AppData\\Local\\Temp\\ipykernel_3452\\2797636967.py:50: SettingWithCopyWarning: \n",
      "A value is trying to be set on a copy of a slice from a DataFrame.\n",
      "Try using .loc[row_indexer,col_indexer] = value instead\n",
      "\n",
      "See the caveats in the documentation: https://pandas.pydata.org/pandas-docs/stable/user_guide/indexing.html#returning-a-view-versus-a-copy\n",
      "  dx_90649_2['df_detalles']=dx_90649_2['df_detalles'].replace('','DOSIS 2')\n",
      "C:\\Users\\IRVIN\\AppData\\Local\\Temp\\ipykernel_3452\\2797636967.py:51: FutureWarning: Downcasting behavior in `replace` is deprecated and will be removed in a future version. To retain the old behavior, explicitly call `result.infer_objects(copy=False)`. To opt-in to the future behavior, set `pd.set_option('future.no_silent_downcasting', True)`\n",
      "  dx_90649_2['df_id'] = dx_90649_2['df_id'].replace('%s'% id,id + 1)\n",
      "C:\\Users\\IRVIN\\AppData\\Local\\Temp\\ipykernel_3452\\2797636967.py:51: SettingWithCopyWarning: \n",
      "A value is trying to be set on a copy of a slice from a DataFrame.\n",
      "Try using .loc[row_indexer,col_indexer] = value instead\n",
      "\n",
      "See the caveats in the documentation: https://pandas.pydata.org/pandas-docs/stable/user_guide/indexing.html#returning-a-view-versus-a-copy\n",
      "  dx_90649_2['df_id'] = dx_90649_2['df_id'].replace('%s'% id,id + 1)\n"
     ]
    },
    {
     "name": "stdout",
     "output_type": "stream",
     "text": [
      "SELECT  '87' as df_id,'INMUNIZACIONES' as df_grupo,'90717' as df_codigo,'Vacuna Antiamarilica' as df_subgrupo,'' as df_detalles, nt.id_cita,nt.anio,nt.mes,nt.fecha_atencion,nt.id_paciente, nt.id_personal, nt.id_registrador,nt.anio_actual_paciente, nt.tipo_diagnostico,nt.codigo_item, mhe.id_establecimiento,mhe.red,mhe.microred,mhe.nombre_establecimiento,mhe.departamento,mhe.distrito,mhe.provincia , max(CASE  WHEN nt.id_correlativo_lab='1' THEN nt.valor_lab ELSE null END ) AS \"lab1\", max(CASE  WHEN nt.id_correlativo_lab='2' THEN nt.valor_lab ELSE null END ) AS \"lab2\", max(CASE  WHEN nt.id_correlativo_lab='3' THEN nt.valor_lab ELSE null END ) AS \"lab3\"  FROM maestros.nominal_trama nt \n",
      "    INNER JOIN maestros.maestro_his_establecimiento mhe ON mhe.id_establecimiento = nt.id_establecimiento  \n",
      "    WHERE  nt.tipo_diagnostico ='D' AND codigo_item in('90717')AND nt.anio_actual_paciente BETWEEN 12 AND 17 and nt.anio=2023 GROUP by nt.id_cita,nt.anio,nt.mes,nt.fecha_atencion,nt.id_paciente, nt.id_personal, nt.id_registrador,nt.anio_actual_paciente, nt.tipo_diagnostico,nt.codigo_item, mhe.id_establecimiento,mhe.red,mhe.microred,mhe.nombre_establecimiento,mhe.departamento,mhe.distrito,mhe.provincia\n",
      "    \n"
     ]
    },
    {
     "name": "stderr",
     "output_type": "stream",
     "text": [
      "d:\\Irvin\\Irvin\\Python\\Python-GERESA\\modulos\\adolescente\\../..\\clases\\bd\\conexion2.py:47: UserWarning: pandas only supports SQLAlchemy connectable (engine/connection) or database string URI or sqlite3 DBAPI2 connection. Other DBAPI2 objects are not tested. Please consider using SQLAlchemy.\n",
      "  s = pd.read_sql(sql, con=self.conn)\n"
     ]
    }
   ],
   "source": [
    "id+=1\n",
    "dx_90746=filtro(id=id,grupo='INMUNIZACIONES',codigo='90746',subgrupo='Vacunación Antihepatitis Viral B (HvB)',detalles='',dx1='90746',t_dx='D',conn=conn)\n",
    "#------------------------------------- Primera -----------------------------------------------------\n",
    "dx_90746_1=dx_90746.loc[dx_90746['lab1'].isin(['1'])]\n",
    "dx_90746_1['df_detalles']=dx_90746_1['df_detalles'].replace('','DOSIS 1')\n",
    "\n",
    "#------------------------------------- segunda -----------------------------------------------------\n",
    "dx_90746_2=dx_90746.loc[dx_90746['lab1'].isin(['2'])]\n",
    "dx_90746_2['df_detalles']=dx_90746_2['df_detalles'].replace('','DOSIS 2')\n",
    "dx_90746_2['df_id'] = dx_90746_2['df_id'].replace('%s'% id,id + 1) \n",
    "\n",
    "#------------------------------------- Tercera -----------------------------------------------------\n",
    "dx_90746_3=dx_90746.loc[dx_90746['lab1'].isin(['3'])]\n",
    "dx_90746_3['df_detalles']=dx_90746_3['df_detalles'].replace('','DOSIS 3')\n",
    "dx_90746_3['df_id'] = dx_90746_3['df_id'].replace('%s'% id,id + 2) \n",
    "\n",
    "df = pd.concat([df, dx_90746_1,dx_90746_2,dx_90746_3], ignore_index=True)\n",
    "\n",
    "id+=3\n",
    "dx_90658=filtro(id=id,grupo='INMUNIZACIONES',codigo='90658',subgrupo='Vacuna contra la Influenza  (Estacional)',detalles='',dx1='90658',t_dx='D',conn=conn)\n",
    "df = pd.concat([df, dx_90658], ignore_index=True)\n",
    "\n",
    "\n",
    "id+=1\n",
    "dx_90714=filtro(id=id,grupo='INMUNIZACIONES',codigo='90714',subgrupo='Vacunación Diftotetánica (dT) (Incluye varones y gestantes)',detalles='',dx1='90714',t_dx='D',conn=conn)\n",
    "#------------------------------------- Primera -----------------------------------------------------\n",
    "dx_90714_1=dx_90714.loc[dx_90714['lab1'].isin(['1'])]\n",
    "dx_90714_1['df_detalles']=dx_90714_1['df_detalles'].replace('','DOSIS 1')\n",
    "\n",
    "#------------------------------------- segunda -----------------------------------------------------\n",
    "dx_90714_2=dx_90714.loc[dx_90714['lab1'].isin(['2'])]\n",
    "dx_90714_2['df_detalles']=dx_90714_2['df_detalles'].replace('','DOSIS 2')\n",
    "dx_90714_2['df_id'] = dx_90714_2['df_id'].replace('%s'% id,id + 1) \n",
    "\n",
    "#------------------------------------- Tercera -----------------------------------------------------\n",
    "dx_90714_3=dx_90714.loc[dx_90714['lab1'].isin(['3'])]\n",
    "dx_90714_3['df_detalles']=dx_90714_3['df_detalles'].replace('','DOSIS 3')\n",
    "dx_90714_3['df_id'] = dx_90714_3['df_id'].replace('%s'% id,id + 2) \n",
    "\n",
    "df = pd.concat([df, dx_90714_1,dx_90714_2,dx_90714_3], ignore_index=True)\n",
    "\n",
    "id+=3\n",
    "dx_90649=filtro(id=id,grupo='INMUNIZACIONES',codigo='90649',subgrupo='Vacunación Diftotetánica (dT) (Incluye varones y gestantes)',detalles='',dx1='90649',t_dx='D',conn=conn)\n",
    "#------------------------------------- Primera -----------------------------------------------------\n",
    "dx_90649_1=dx_90649.loc[dx_90649['lab1'].isin(['1'])]\n",
    "dx_90649_1['df_detalles']=dx_90649_1['df_detalles'].replace('','DOSIS 1')\n",
    "\n",
    "#------------------------------------- segunda -----------------------------------------------------\n",
    "dx_90649_2=dx_90649.loc[dx_90649['lab1'].isin(['2'])]\n",
    "dx_90649_2['df_detalles']=dx_90649_2['df_detalles'].replace('','DOSIS 2')\n",
    "dx_90649_2['df_id'] = dx_90649_2['df_id'].replace('%s'% id,id + 1) \n",
    "df = pd.concat([df, dx_90746_1,dx_90649_1,dx_90649_2], ignore_index=True)\n",
    "\n",
    "id+=2\n",
    "dx_90717=filtro(id=id,grupo='INMUNIZACIONES',codigo='90717',subgrupo='Vacuna Antiamarilica',detalles='',dx1='90717',t_dx='D',conn=conn)\n",
    "df = pd.concat([df, dx_90717], ignore_index=True)\n"
   ]
  },
  {
   "attachments": {},
   "cell_type": "markdown",
   "metadata": {},
   "source": [
    "<CENTER> <H2>EVALUACIÓN DEL DESARROLLO SEXUAL/ PLANIFICACIÓN FAMILIAR</H2><CENTER>"
   ]
  },
  {
   "cell_type": "code",
   "execution_count": 37,
   "metadata": {},
   "outputs": [
    {
     "name": "stdout",
     "output_type": "stream",
     "text": [
      "SELECT  '88' as df_id,'EVALUACIÓN DEL DESARROLLO SEXUAL/ PLANIFICACIÓN FAMILIAR' as df_grupo,'99384.02' as df_codigo,'Evaluación del desarrollo sexual según Tanner.' as df_subgrupo,'' as df_detalles, nt.id_cita,nt.anio,nt.mes,nt.fecha_atencion,nt.id_paciente, nt.id_personal, nt.id_registrador,nt.anio_actual_paciente, nt.tipo_diagnostico,nt.codigo_item, mhe.id_establecimiento,mhe.red,mhe.microred,mhe.nombre_establecimiento,mhe.departamento,mhe.distrito,mhe.provincia , max(CASE  WHEN nt.id_correlativo_lab='1' THEN nt.valor_lab ELSE null END ) AS \"lab1\", max(CASE  WHEN nt.id_correlativo_lab='2' THEN nt.valor_lab ELSE null END ) AS \"lab2\", max(CASE  WHEN nt.id_correlativo_lab='3' THEN nt.valor_lab ELSE null END ) AS \"lab3\"  FROM maestros.nominal_trama nt \n",
      "    INNER JOIN maestros.maestro_his_establecimiento mhe ON mhe.id_establecimiento = nt.id_establecimiento  \n",
      "    WHERE  nt.tipo_diagnostico ='D' AND codigo_item in('99384.02')AND nt.anio_actual_paciente BETWEEN 12 AND 17 and nt.anio=2023 GROUP by nt.id_cita,nt.anio,nt.mes,nt.fecha_atencion,nt.id_paciente, nt.id_personal, nt.id_registrador,nt.anio_actual_paciente, nt.tipo_diagnostico,nt.codigo_item, mhe.id_establecimiento,mhe.red,mhe.microred,mhe.nombre_establecimiento,mhe.departamento,mhe.distrito,mhe.provincia\n",
      "    \n"
     ]
    },
    {
     "name": "stderr",
     "output_type": "stream",
     "text": [
      "d:\\Irvin\\Irvin\\Python\\Python-GERESA\\modulos\\adolescente\\../..\\clases\\bd\\conexion2.py:47: UserWarning: pandas only supports SQLAlchemy connectable (engine/connection) or database string URI or sqlite3 DBAPI2 connection. Other DBAPI2 objects are not tested. Please consider using SQLAlchemy.\n",
      "  s = pd.read_sql(sql, con=self.conn)\n"
     ]
    },
    {
     "name": "stdout",
     "output_type": "stream",
     "text": [
      "SELECT  '89' as df_id,'EVALUACIÓN DEL DESARROLLO SEXUAL/ PLANIFICACIÓN FAMILIAR' as df_grupo,'99208' as df_codigo,'Atención en Planificación Familiar y SSR' as df_subgrupo,'' as df_detalles, nt.id_cita,nt.anio,nt.mes,nt.fecha_atencion,nt.id_paciente, nt.id_personal, nt.id_registrador,nt.anio_actual_paciente, nt.tipo_diagnostico,nt.codigo_item, mhe.id_establecimiento,mhe.red,mhe.microred,mhe.nombre_establecimiento,mhe.departamento,mhe.distrito,mhe.provincia , max(CASE  WHEN nt.id_correlativo_lab='1' THEN nt.valor_lab ELSE null END ) AS \"lab1\", max(CASE  WHEN nt.id_correlativo_lab='2' THEN nt.valor_lab ELSE null END ) AS \"lab2\", max(CASE  WHEN nt.id_correlativo_lab='3' THEN nt.valor_lab ELSE null END ) AS \"lab3\"  FROM maestros.nominal_trama nt \n",
      "    INNER JOIN maestros.maestro_his_establecimiento mhe ON mhe.id_establecimiento = nt.id_establecimiento  \n",
      "    WHERE  nt.tipo_diagnostico ='D' AND codigo_item in('99208')AND nt.anio_actual_paciente BETWEEN 12 AND 17 and nt.anio=2023 GROUP by nt.id_cita,nt.anio,nt.mes,nt.fecha_atencion,nt.id_paciente, nt.id_personal, nt.id_registrador,nt.anio_actual_paciente, nt.tipo_diagnostico,nt.codigo_item, mhe.id_establecimiento,mhe.red,mhe.microred,mhe.nombre_establecimiento,mhe.departamento,mhe.distrito,mhe.provincia\n",
      "    \n"
     ]
    },
    {
     "name": "stderr",
     "output_type": "stream",
     "text": [
      "d:\\Irvin\\Irvin\\Python\\Python-GERESA\\modulos\\adolescente\\../..\\clases\\bd\\conexion2.py:47: UserWarning: pandas only supports SQLAlchemy connectable (engine/connection) or database string URI or sqlite3 DBAPI2 connection. Other DBAPI2 objects are not tested. Please consider using SQLAlchemy.\n",
      "  s = pd.read_sql(sql, con=self.conn)\n"
     ]
    },
    {
     "name": "stdout",
     "output_type": "stream",
     "text": [
      "SELECT  '90' as df_id,'EVALUACIÓN DEL DESARROLLO SEXUAL/ PLANIFICACIÓN FAMILIAR' as df_grupo,'3' as df_codigo,'DIU' as df_subgrupo,'' as df_detalles, nt.id_cita,nt.anio,nt.mes,nt.fecha_atencion,nt.id_paciente, nt.id_personal, nt.id_registrador,nt.anio_actual_paciente, nt.tipo_diagnostico,nt.codigo_item, mhe.id_establecimiento,mhe.red,mhe.microred,mhe.nombre_establecimiento,mhe.departamento,mhe.distrito,mhe.provincia , max(CASE  WHEN nt.id_correlativo_lab='1' THEN nt.valor_lab ELSE null END ) AS \"lab1\", max(CASE  WHEN nt.id_correlativo_lab='2' THEN nt.valor_lab ELSE null END ) AS \"lab2\", max(CASE  WHEN nt.id_correlativo_lab='3' THEN nt.valor_lab ELSE null END ) AS \"lab3\"  FROM maestros.nominal_trama nt \n",
      "    INNER JOIN maestros.maestro_his_establecimiento mhe ON mhe.id_establecimiento = nt.id_establecimiento  \n",
      "    WHERE  nt.tipo_diagnostico ='D' AND codigo_item in('58300')AND nt.anio_actual_paciente BETWEEN 12 AND 17 and nt.anio=2023 GROUP by nt.id_cita,nt.anio,nt.mes,nt.fecha_atencion,nt.id_paciente, nt.id_personal, nt.id_registrador,nt.anio_actual_paciente, nt.tipo_diagnostico,nt.codigo_item, mhe.id_establecimiento,mhe.red,mhe.microred,mhe.nombre_establecimiento,mhe.departamento,mhe.distrito,mhe.provincia\n",
      "    \n"
     ]
    },
    {
     "name": "stderr",
     "output_type": "stream",
     "text": [
      "d:\\Irvin\\Irvin\\Python\\Python-GERESA\\modulos\\adolescente\\../..\\clases\\bd\\conexion2.py:47: UserWarning: pandas only supports SQLAlchemy connectable (engine/connection) or database string URI or sqlite3 DBAPI2 connection. Other DBAPI2 objects are not tested. Please consider using SQLAlchemy.\n",
      "  s = pd.read_sql(sql, con=self.conn)\n"
     ]
    },
    {
     "name": "stdout",
     "output_type": "stream",
     "text": [
      "SELECT  '91' as df_id,'EVALUACIÓN DEL DESARROLLO SEXUAL/ PLANIFICACIÓN FAMILIAR' as df_grupo,'4' as df_codigo,'HORMONAL' as df_subgrupo,'ORAL COMBINADO' as df_detalles, nt.id_cita,nt.anio,nt.mes,nt.fecha_atencion,nt.id_paciente, nt.id_personal, nt.id_registrador,nt.anio_actual_paciente, nt.tipo_diagnostico,nt.codigo_item, mhe.id_establecimiento,mhe.red,mhe.microred,mhe.nombre_establecimiento,mhe.departamento,mhe.distrito,mhe.provincia , max(CASE  WHEN nt.id_correlativo_lab='1' THEN nt.valor_lab ELSE null END ) AS \"lab1\", max(CASE  WHEN nt.id_correlativo_lab='2' THEN nt.valor_lab ELSE null END ) AS \"lab2\", max(CASE  WHEN nt.id_correlativo_lab='3' THEN nt.valor_lab ELSE null END ) AS \"lab3\"  FROM maestros.nominal_trama nt \n",
      "    INNER JOIN maestros.maestro_his_establecimiento mhe ON mhe.id_establecimiento = nt.id_establecimiento  \n",
      "    WHERE  nt.tipo_diagnostico ='D' AND codigo_item in('99208.13')AND nt.anio_actual_paciente BETWEEN 12 AND 17 and nt.anio=2023 GROUP by nt.id_cita,nt.anio,nt.mes,nt.fecha_atencion,nt.id_paciente, nt.id_personal, nt.id_registrador,nt.anio_actual_paciente, nt.tipo_diagnostico,nt.codigo_item, mhe.id_establecimiento,mhe.red,mhe.microred,mhe.nombre_establecimiento,mhe.departamento,mhe.distrito,mhe.provincia\n",
      "    \n"
     ]
    },
    {
     "name": "stderr",
     "output_type": "stream",
     "text": [
      "d:\\Irvin\\Irvin\\Python\\Python-GERESA\\modulos\\adolescente\\../..\\clases\\bd\\conexion2.py:47: UserWarning: pandas only supports SQLAlchemy connectable (engine/connection) or database string URI or sqlite3 DBAPI2 connection. Other DBAPI2 objects are not tested. Please consider using SQLAlchemy.\n",
      "  s = pd.read_sql(sql, con=self.conn)\n"
     ]
    },
    {
     "name": "stdout",
     "output_type": "stream",
     "text": [
      "SELECT  '92' as df_id,'EVALUACIÓN DEL DESARROLLO SEXUAL/ PLANIFICACIÓN FAMILIAR' as df_grupo,'5' as df_codigo,'HORMONAL' as df_subgrupo,'INYECTABLE TRIMESTRAL' as df_detalles, nt.id_cita,nt.anio,nt.mes,nt.fecha_atencion,nt.id_paciente, nt.id_personal, nt.id_registrador,nt.anio_actual_paciente, nt.tipo_diagnostico,nt.codigo_item, mhe.id_establecimiento,mhe.red,mhe.microred,mhe.nombre_establecimiento,mhe.departamento,mhe.distrito,mhe.provincia , max(CASE  WHEN nt.id_correlativo_lab='1' THEN nt.valor_lab ELSE null END ) AS \"lab1\", max(CASE  WHEN nt.id_correlativo_lab='2' THEN nt.valor_lab ELSE null END ) AS \"lab2\", max(CASE  WHEN nt.id_correlativo_lab='3' THEN nt.valor_lab ELSE null END ) AS \"lab3\"  FROM maestros.nominal_trama nt \n",
      "    INNER JOIN maestros.maestro_his_establecimiento mhe ON mhe.id_establecimiento = nt.id_establecimiento  \n",
      "    WHERE  nt.tipo_diagnostico ='D' AND codigo_item in('99208.05')AND nt.anio_actual_paciente BETWEEN 12 AND 17 and nt.anio=2023 GROUP by nt.id_cita,nt.anio,nt.mes,nt.fecha_atencion,nt.id_paciente, nt.id_personal, nt.id_registrador,nt.anio_actual_paciente, nt.tipo_diagnostico,nt.codigo_item, mhe.id_establecimiento,mhe.red,mhe.microred,mhe.nombre_establecimiento,mhe.departamento,mhe.distrito,mhe.provincia\n",
      "    \n"
     ]
    },
    {
     "name": "stderr",
     "output_type": "stream",
     "text": [
      "d:\\Irvin\\Irvin\\Python\\Python-GERESA\\modulos\\adolescente\\../..\\clases\\bd\\conexion2.py:47: UserWarning: pandas only supports SQLAlchemy connectable (engine/connection) or database string URI or sqlite3 DBAPI2 connection. Other DBAPI2 objects are not tested. Please consider using SQLAlchemy.\n",
      "  s = pd.read_sql(sql, con=self.conn)\n"
     ]
    },
    {
     "name": "stdout",
     "output_type": "stream",
     "text": [
      "SELECT  '93' as df_id,'EVALUACIÓN DEL DESARROLLO SEXUAL/ PLANIFICACIÓN FAMILIAR' as df_grupo,'6' as df_codigo,'HORMONAL' as df_subgrupo,'INYECTABLE MENSUAL' as df_detalles, nt.id_cita,nt.anio,nt.mes,nt.fecha_atencion,nt.id_paciente, nt.id_personal, nt.id_registrador,nt.anio_actual_paciente, nt.tipo_diagnostico,nt.codigo_item, mhe.id_establecimiento,mhe.red,mhe.microred,mhe.nombre_establecimiento,mhe.departamento,mhe.distrito,mhe.provincia , max(CASE  WHEN nt.id_correlativo_lab='1' THEN nt.valor_lab ELSE null END ) AS \"lab1\", max(CASE  WHEN nt.id_correlativo_lab='2' THEN nt.valor_lab ELSE null END ) AS \"lab2\", max(CASE  WHEN nt.id_correlativo_lab='3' THEN nt.valor_lab ELSE null END ) AS \"lab3\"  FROM maestros.nominal_trama nt \n",
      "    INNER JOIN maestros.maestro_his_establecimiento mhe ON mhe.id_establecimiento = nt.id_establecimiento  \n",
      "    WHERE  nt.tipo_diagnostico ='D' AND codigo_item in('99208.04')AND nt.anio_actual_paciente BETWEEN 12 AND 17 and nt.anio=2023 GROUP by nt.id_cita,nt.anio,nt.mes,nt.fecha_atencion,nt.id_paciente, nt.id_personal, nt.id_registrador,nt.anio_actual_paciente, nt.tipo_diagnostico,nt.codigo_item, mhe.id_establecimiento,mhe.red,mhe.microred,mhe.nombre_establecimiento,mhe.departamento,mhe.distrito,mhe.provincia\n",
      "    \n"
     ]
    },
    {
     "name": "stderr",
     "output_type": "stream",
     "text": [
      "d:\\Irvin\\Irvin\\Python\\Python-GERESA\\modulos\\adolescente\\../..\\clases\\bd\\conexion2.py:47: UserWarning: pandas only supports SQLAlchemy connectable (engine/connection) or database string URI or sqlite3 DBAPI2 connection. Other DBAPI2 objects are not tested. Please consider using SQLAlchemy.\n",
      "  s = pd.read_sql(sql, con=self.conn)\n"
     ]
    },
    {
     "name": "stdout",
     "output_type": "stream",
     "text": [
      "SELECT  '94' as df_id,'EVALUACIÓN DEL DESARROLLO SEXUAL/ PLANIFICACIÓN FAMILIAR' as df_grupo,'7' as df_codigo,'HORMONAL' as df_subgrupo,'IMPLANTE' as df_detalles, nt.id_cita,nt.anio,nt.mes,nt.fecha_atencion,nt.id_paciente, nt.id_personal, nt.id_registrador,nt.anio_actual_paciente, nt.tipo_diagnostico,nt.codigo_item, mhe.id_establecimiento,mhe.red,mhe.microred,mhe.nombre_establecimiento,mhe.departamento,mhe.distrito,mhe.provincia , max(CASE  WHEN nt.id_correlativo_lab='1' THEN nt.valor_lab ELSE null END ) AS \"lab1\", max(CASE  WHEN nt.id_correlativo_lab='2' THEN nt.valor_lab ELSE null END ) AS \"lab2\", max(CASE  WHEN nt.id_correlativo_lab='3' THEN nt.valor_lab ELSE null END ) AS \"lab3\"  FROM maestros.nominal_trama nt \n",
      "    INNER JOIN maestros.maestro_his_establecimiento mhe ON mhe.id_establecimiento = nt.id_establecimiento  \n",
      "    WHERE  nt.tipo_diagnostico ='D' AND codigo_item in('11975')AND nt.anio_actual_paciente BETWEEN 12 AND 17 and nt.anio=2023 GROUP by nt.id_cita,nt.anio,nt.mes,nt.fecha_atencion,nt.id_paciente, nt.id_personal, nt.id_registrador,nt.anio_actual_paciente, nt.tipo_diagnostico,nt.codigo_item, mhe.id_establecimiento,mhe.red,mhe.microred,mhe.nombre_establecimiento,mhe.departamento,mhe.distrito,mhe.provincia\n",
      "    \n"
     ]
    },
    {
     "name": "stderr",
     "output_type": "stream",
     "text": [
      "d:\\Irvin\\Irvin\\Python\\Python-GERESA\\modulos\\adolescente\\../..\\clases\\bd\\conexion2.py:47: UserWarning: pandas only supports SQLAlchemy connectable (engine/connection) or database string URI or sqlite3 DBAPI2 connection. Other DBAPI2 objects are not tested. Please consider using SQLAlchemy.\n",
      "  s = pd.read_sql(sql, con=self.conn)\n"
     ]
    },
    {
     "name": "stdout",
     "output_type": "stream",
     "text": [
      "SELECT  '95' as df_id,'EVALUACIÓN DEL DESARROLLO SEXUAL/ PLANIFICACIÓN FAMILIAR' as df_grupo,'8' as df_codigo,'BARRERA' as df_subgrupo,'CONDON MASCULINO' as df_detalles, nt.id_cita,nt.anio,nt.mes,nt.fecha_atencion,nt.id_paciente, nt.id_personal, nt.id_registrador,nt.anio_actual_paciente, nt.tipo_diagnostico,nt.codigo_item, mhe.id_establecimiento,mhe.red,mhe.microred,mhe.nombre_establecimiento,mhe.departamento,mhe.distrito,mhe.provincia , max(CASE  WHEN nt.id_correlativo_lab='1' THEN nt.valor_lab ELSE null END ) AS \"lab1\", max(CASE  WHEN nt.id_correlativo_lab='2' THEN nt.valor_lab ELSE null END ) AS \"lab2\", max(CASE  WHEN nt.id_correlativo_lab='3' THEN nt.valor_lab ELSE null END ) AS \"lab3\"  FROM maestros.nominal_trama nt \n",
      "    INNER JOIN maestros.maestro_his_establecimiento mhe ON mhe.id_establecimiento = nt.id_establecimiento  \n",
      "    WHERE  nt.tipo_diagnostico ='D' AND codigo_item in('99208.02')AND nt.anio_actual_paciente BETWEEN 12 AND 17 and nt.anio=2023 GROUP by nt.id_cita,nt.anio,nt.mes,nt.fecha_atencion,nt.id_paciente, nt.id_personal, nt.id_registrador,nt.anio_actual_paciente, nt.tipo_diagnostico,nt.codigo_item, mhe.id_establecimiento,mhe.red,mhe.microred,mhe.nombre_establecimiento,mhe.departamento,mhe.distrito,mhe.provincia\n",
      "    \n"
     ]
    },
    {
     "name": "stderr",
     "output_type": "stream",
     "text": [
      "d:\\Irvin\\Irvin\\Python\\Python-GERESA\\modulos\\adolescente\\../..\\clases\\bd\\conexion2.py:47: UserWarning: pandas only supports SQLAlchemy connectable (engine/connection) or database string URI or sqlite3 DBAPI2 connection. Other DBAPI2 objects are not tested. Please consider using SQLAlchemy.\n",
      "  s = pd.read_sql(sql, con=self.conn)\n"
     ]
    },
    {
     "name": "stdout",
     "output_type": "stream",
     "text": [
      "SELECT  '96' as df_id,'EVALUACIÓN DEL DESARROLLO SEXUAL/ PLANIFICACIÓN FAMILIAR' as df_grupo,'9' as df_codigo,'BARRERA' as df_subgrupo,'CONDON FEMENINO' as df_detalles, nt.id_cita,nt.anio,nt.mes,nt.fecha_atencion,nt.id_paciente, nt.id_personal, nt.id_registrador,nt.anio_actual_paciente, nt.tipo_diagnostico,nt.codigo_item, mhe.id_establecimiento,mhe.red,mhe.microred,mhe.nombre_establecimiento,mhe.departamento,mhe.distrito,mhe.provincia , max(CASE  WHEN nt.id_correlativo_lab='1' THEN nt.valor_lab ELSE null END ) AS \"lab1\", max(CASE  WHEN nt.id_correlativo_lab='2' THEN nt.valor_lab ELSE null END ) AS \"lab2\", max(CASE  WHEN nt.id_correlativo_lab='3' THEN nt.valor_lab ELSE null END ) AS \"lab3\"  FROM maestros.nominal_trama nt \n",
      "    INNER JOIN maestros.maestro_his_establecimiento mhe ON mhe.id_establecimiento = nt.id_establecimiento  \n",
      "    WHERE  nt.tipo_diagnostico ='D' AND codigo_item in('99208.06')AND nt.anio_actual_paciente BETWEEN 12 AND 17 and nt.anio=2023 GROUP by nt.id_cita,nt.anio,nt.mes,nt.fecha_atencion,nt.id_paciente, nt.id_personal, nt.id_registrador,nt.anio_actual_paciente, nt.tipo_diagnostico,nt.codigo_item, mhe.id_establecimiento,mhe.red,mhe.microred,mhe.nombre_establecimiento,mhe.departamento,mhe.distrito,mhe.provincia\n",
      "    \n"
     ]
    },
    {
     "name": "stderr",
     "output_type": "stream",
     "text": [
      "d:\\Irvin\\Irvin\\Python\\Python-GERESA\\modulos\\adolescente\\../..\\clases\\bd\\conexion2.py:47: UserWarning: pandas only supports SQLAlchemy connectable (engine/connection) or database string URI or sqlite3 DBAPI2 connection. Other DBAPI2 objects are not tested. Please consider using SQLAlchemy.\n",
      "  s = pd.read_sql(sql, con=self.conn)\n"
     ]
    },
    {
     "name": "stdout",
     "output_type": "stream",
     "text": [
      "SELECT  '97' as df_id,'EVALUACIÓN DEL DESARROLLO SEXUAL/ PLANIFICACIÓN FAMILIAR' as df_grupo,'10' as df_codigo,'MELA' as df_subgrupo,'' as df_detalles, nt.id_cita,nt.anio,nt.mes,nt.fecha_atencion,nt.id_paciente, nt.id_personal, nt.id_registrador,nt.anio_actual_paciente, nt.tipo_diagnostico,nt.codigo_item, mhe.id_establecimiento,mhe.red,mhe.microred,mhe.nombre_establecimiento,mhe.departamento,mhe.distrito,mhe.provincia , max(CASE  WHEN nt.id_correlativo_lab='1' THEN nt.valor_lab ELSE null END ) AS \"lab1\", max(CASE  WHEN nt.id_correlativo_lab='2' THEN nt.valor_lab ELSE null END ) AS \"lab2\", max(CASE  WHEN nt.id_correlativo_lab='3' THEN nt.valor_lab ELSE null END ) AS \"lab3\"  FROM maestros.nominal_trama nt \n",
      "    INNER JOIN maestros.maestro_his_establecimiento mhe ON mhe.id_establecimiento = nt.id_establecimiento  \n",
      "    WHERE  nt.tipo_diagnostico ='D' AND codigo_item in('99208.07')AND nt.anio_actual_paciente BETWEEN 12 AND 17 and nt.anio=2023 GROUP by nt.id_cita,nt.anio,nt.mes,nt.fecha_atencion,nt.id_paciente, nt.id_personal, nt.id_registrador,nt.anio_actual_paciente, nt.tipo_diagnostico,nt.codigo_item, mhe.id_establecimiento,mhe.red,mhe.microred,mhe.nombre_establecimiento,mhe.departamento,mhe.distrito,mhe.provincia\n",
      "    \n"
     ]
    },
    {
     "name": "stderr",
     "output_type": "stream",
     "text": [
      "d:\\Irvin\\Irvin\\Python\\Python-GERESA\\modulos\\adolescente\\../..\\clases\\bd\\conexion2.py:47: UserWarning: pandas only supports SQLAlchemy connectable (engine/connection) or database string URI or sqlite3 DBAPI2 connection. Other DBAPI2 objects are not tested. Please consider using SQLAlchemy.\n",
      "  s = pd.read_sql(sql, con=self.conn)\n"
     ]
    },
    {
     "name": "stdout",
     "output_type": "stream",
     "text": [
      "SELECT  '98' as df_id,'EVALUACIÓN DEL DESARROLLO SEXUAL/ PLANIFICACIÓN FAMILIAR' as df_grupo,'11' as df_codigo,'ABSTINECIA PERIODICA' as df_subgrupo,'BILLINGS' as df_detalles, nt.id_cita,nt.anio,nt.mes,nt.fecha_atencion,nt.id_paciente, nt.id_personal, nt.id_registrador,nt.anio_actual_paciente, nt.tipo_diagnostico,nt.codigo_item, mhe.id_establecimiento,mhe.red,mhe.microred,mhe.nombre_establecimiento,mhe.departamento,mhe.distrito,mhe.provincia , max(CASE  WHEN nt.id_correlativo_lab='1' THEN nt.valor_lab ELSE null END ) AS \"lab1\", max(CASE  WHEN nt.id_correlativo_lab='2' THEN nt.valor_lab ELSE null END ) AS \"lab2\", max(CASE  WHEN nt.id_correlativo_lab='3' THEN nt.valor_lab ELSE null END ) AS \"lab3\"  FROM maestros.nominal_trama nt \n",
      "    INNER JOIN maestros.maestro_his_establecimiento mhe ON mhe.id_establecimiento = nt.id_establecimiento  \n",
      "    WHERE  nt.tipo_diagnostico ='D' AND codigo_item in('99208.09')AND nt.anio_actual_paciente BETWEEN 12 AND 17 and nt.anio=2023 GROUP by nt.id_cita,nt.anio,nt.mes,nt.fecha_atencion,nt.id_paciente, nt.id_personal, nt.id_registrador,nt.anio_actual_paciente, nt.tipo_diagnostico,nt.codigo_item, mhe.id_establecimiento,mhe.red,mhe.microred,mhe.nombre_establecimiento,mhe.departamento,mhe.distrito,mhe.provincia\n",
      "    \n"
     ]
    },
    {
     "name": "stderr",
     "output_type": "stream",
     "text": [
      "d:\\Irvin\\Irvin\\Python\\Python-GERESA\\modulos\\adolescente\\../..\\clases\\bd\\conexion2.py:47: UserWarning: pandas only supports SQLAlchemy connectable (engine/connection) or database string URI or sqlite3 DBAPI2 connection. Other DBAPI2 objects are not tested. Please consider using SQLAlchemy.\n",
      "  s = pd.read_sql(sql, con=self.conn)\n"
     ]
    },
    {
     "name": "stdout",
     "output_type": "stream",
     "text": [
      "SELECT  '99' as df_id,'EVALUACIÓN DEL DESARROLLO SEXUAL/ PLANIFICACIÓN FAMILIAR' as df_grupo,'12' as df_codigo,'ABSTINECIA PERIODICA' as df_subgrupo,'RITMO' as df_detalles, nt.id_cita,nt.anio,nt.mes,nt.fecha_atencion,nt.id_paciente, nt.id_personal, nt.id_registrador,nt.anio_actual_paciente, nt.tipo_diagnostico,nt.codigo_item, mhe.id_establecimiento,mhe.red,mhe.microred,mhe.nombre_establecimiento,mhe.departamento,mhe.distrito,mhe.provincia , max(CASE  WHEN nt.id_correlativo_lab='1' THEN nt.valor_lab ELSE null END ) AS \"lab1\", max(CASE  WHEN nt.id_correlativo_lab='2' THEN nt.valor_lab ELSE null END ) AS \"lab2\", max(CASE  WHEN nt.id_correlativo_lab='3' THEN nt.valor_lab ELSE null END ) AS \"lab3\"  FROM maestros.nominal_trama nt \n",
      "    INNER JOIN maestros.maestro_his_establecimiento mhe ON mhe.id_establecimiento = nt.id_establecimiento  \n",
      "    WHERE  nt.tipo_diagnostico ='D' AND codigo_item in('99208.08')AND nt.anio_actual_paciente BETWEEN 12 AND 17 and nt.anio=2023 GROUP by nt.id_cita,nt.anio,nt.mes,nt.fecha_atencion,nt.id_paciente, nt.id_personal, nt.id_registrador,nt.anio_actual_paciente, nt.tipo_diagnostico,nt.codigo_item, mhe.id_establecimiento,mhe.red,mhe.microred,mhe.nombre_establecimiento,mhe.departamento,mhe.distrito,mhe.provincia\n",
      "    \n"
     ]
    },
    {
     "name": "stderr",
     "output_type": "stream",
     "text": [
      "d:\\Irvin\\Irvin\\Python\\Python-GERESA\\modulos\\adolescente\\../..\\clases\\bd\\conexion2.py:47: UserWarning: pandas only supports SQLAlchemy connectable (engine/connection) or database string URI or sqlite3 DBAPI2 connection. Other DBAPI2 objects are not tested. Please consider using SQLAlchemy.\n",
      "  s = pd.read_sql(sql, con=self.conn)\n"
     ]
    },
    {
     "name": "stdout",
     "output_type": "stream",
     "text": [
      "SELECT  '100' as df_id,'EVALUACIÓN DEL DESARROLLO SEXUAL/ PLANIFICACIÓN FAMILIAR' as df_grupo,'13' as df_codigo,'ABSTINECIA PERIODICA' as df_subgrupo,'DIAS FIJO' as df_detalles, nt.id_cita,nt.anio,nt.mes,nt.fecha_atencion,nt.id_paciente, nt.id_personal, nt.id_registrador,nt.anio_actual_paciente, nt.tipo_diagnostico,nt.codigo_item, mhe.id_establecimiento,mhe.red,mhe.microred,mhe.nombre_establecimiento,mhe.departamento,mhe.distrito,mhe.provincia , max(CASE  WHEN nt.id_correlativo_lab='1' THEN nt.valor_lab ELSE null END ) AS \"lab1\", max(CASE  WHEN nt.id_correlativo_lab='2' THEN nt.valor_lab ELSE null END ) AS \"lab2\", max(CASE  WHEN nt.id_correlativo_lab='3' THEN nt.valor_lab ELSE null END ) AS \"lab3\"  FROM maestros.nominal_trama nt \n",
      "    INNER JOIN maestros.maestro_his_establecimiento mhe ON mhe.id_establecimiento = nt.id_establecimiento  \n",
      "    WHERE  nt.tipo_diagnostico ='D' AND codigo_item in('99208.10')AND nt.anio_actual_paciente BETWEEN 12 AND 17 and nt.anio=2023 GROUP by nt.id_cita,nt.anio,nt.mes,nt.fecha_atencion,nt.id_paciente, nt.id_personal, nt.id_registrador,nt.anio_actual_paciente, nt.tipo_diagnostico,nt.codigo_item, mhe.id_establecimiento,mhe.red,mhe.microred,mhe.nombre_establecimiento,mhe.departamento,mhe.distrito,mhe.provincia\n",
      "    \n"
     ]
    },
    {
     "name": "stderr",
     "output_type": "stream",
     "text": [
      "d:\\Irvin\\Irvin\\Python\\Python-GERESA\\modulos\\adolescente\\../..\\clases\\bd\\conexion2.py:47: UserWarning: pandas only supports SQLAlchemy connectable (engine/connection) or database string URI or sqlite3 DBAPI2 connection. Other DBAPI2 objects are not tested. Please consider using SQLAlchemy.\n",
      "  s = pd.read_sql(sql, con=self.conn)\n"
     ]
    },
    {
     "name": "stdout",
     "output_type": "stream",
     "text": [
      "SELECT  '101' as df_id,'EVALUACIÓN DEL DESARROLLO SEXUAL/ PLANIFICACIÓN FAMILIAR' as df_grupo,'14' as df_codigo,'ADMINISTRACIÓN Y USO AOE/ YUSPE' as df_subgrupo,'Administración y uso de anticonceptivo oral de emergencia/YUZPE' as df_detalles, nt.id_cita,nt.anio,nt.mes,nt.fecha_atencion,nt.id_paciente, nt.id_personal, nt.id_registrador,nt.anio_actual_paciente, nt.tipo_diagnostico,nt.codigo_item, mhe.id_establecimiento,mhe.red,mhe.microred,mhe.nombre_establecimiento,mhe.departamento,mhe.distrito,mhe.provincia , max(CASE  WHEN nt.id_correlativo_lab='1' THEN nt.valor_lab ELSE null END ) AS \"lab1\", max(CASE  WHEN nt.id_correlativo_lab='2' THEN nt.valor_lab ELSE null END ) AS \"lab2\", max(CASE  WHEN nt.id_correlativo_lab='3' THEN nt.valor_lab ELSE null END ) AS \"lab3\"  FROM maestros.nominal_trama nt \n",
      "    INNER JOIN maestros.maestro_his_establecimiento mhe ON mhe.id_establecimiento = nt.id_establecimiento  \n",
      "    WHERE  nt.tipo_diagnostico ='D' AND codigo_item in('99208.11')AND nt.anio_actual_paciente BETWEEN 12 AND 17 and nt.anio=2023 GROUP by nt.id_cita,nt.anio,nt.mes,nt.fecha_atencion,nt.id_paciente, nt.id_personal, nt.id_registrador,nt.anio_actual_paciente, nt.tipo_diagnostico,nt.codigo_item, mhe.id_establecimiento,mhe.red,mhe.microred,mhe.nombre_establecimiento,mhe.departamento,mhe.distrito,mhe.provincia\n",
      "    \n"
     ]
    },
    {
     "name": "stderr",
     "output_type": "stream",
     "text": [
      "d:\\Irvin\\Irvin\\Python\\Python-GERESA\\modulos\\adolescente\\../..\\clases\\bd\\conexion2.py:47: UserWarning: pandas only supports SQLAlchemy connectable (engine/connection) or database string URI or sqlite3 DBAPI2 connection. Other DBAPI2 objects are not tested. Please consider using SQLAlchemy.\n",
      "  s = pd.read_sql(sql, con=self.conn)\n"
     ]
    }
   ],
   "source": [
    "grupo='EVALUACIÓN DEL DESARROLLO SEXUAL/ PLANIFICACIÓN FAMILIAR'\n",
    "id+=1\n",
    "dx_99384_02=filtro(id=id,grupo=grupo,codigo='99384.02',subgrupo='Evaluación del desarrollo sexual según Tanner.',detalles='',dx1='99384.02',t_dx='D',conn=conn)\n",
    "df = pd.concat([df, dx_99384_02], ignore_index=True)\n",
    "id+=1\n",
    "dx_99208=filtro(id=id,grupo=grupo,codigo='99208',subgrupo='Atención en Planificación Familiar y SSR',detalles='',dx1='99208',t_dx='D',conn=conn)\n",
    "df = pd.concat([df, dx_99208], ignore_index=True)\n",
    "id+=1\n",
    "dx_58300=filtro(id=id,grupo=grupo,codigo='3',subgrupo='DIU',detalles='',dx1='58300',t_dx='D',conn=conn)\n",
    "df = pd.concat([df, dx_58300], ignore_index=True)\n",
    "id+=1\n",
    "dx_99208_13=filtro(id=id,grupo=grupo,codigo='4',subgrupo='HORMONAL',detalles='ORAL COMBINADO',dx1='99208.13',t_dx='D',conn=conn)\n",
    "df = pd.concat([df, dx_99208_13], ignore_index=True)\n",
    "id+=1\n",
    "dx_99208_05=filtro(id=id,grupo=grupo,codigo='5',subgrupo='HORMONAL',detalles='INYECTABLE TRIMESTRAL',dx1='99208.05',t_dx='D',conn=conn)\n",
    "df = pd.concat([df, dx_99208_05], ignore_index=True)\n",
    "id+=1\n",
    "dx_99208_04=filtro(id=id,grupo=grupo,codigo='6',subgrupo='HORMONAL',detalles='INYECTABLE MENSUAL',dx1='99208.04',t_dx='D',conn=conn)\n",
    "df = pd.concat([df, dx_99208_04], ignore_index=True)\n",
    "id+=1\n",
    "dx_11975=filtro(id=id,grupo=grupo,codigo='7',subgrupo='HORMONAL',detalles='IMPLANTE',dx1='11975',t_dx='D',conn=conn)\n",
    "df = pd.concat([df, dx_11975], ignore_index=True)\n",
    "id+=1\n",
    "dx_99208_02=filtro(id=id,grupo=grupo,codigo='8',subgrupo='BARRERA',detalles='CONDON MASCULINO',dx1='99208.02',t_dx='D',conn=conn)\n",
    "df = pd.concat([df, dx_99208_02], ignore_index=True)\n",
    "id+=1\n",
    "dx_99208_06=filtro(id=id,grupo=grupo,codigo='9',subgrupo='BARRERA',detalles='CONDON FEMENINO',dx1='99208.06',t_dx='D',conn=conn)\n",
    "df = pd.concat([df, dx_99208_06], ignore_index=True)\n",
    "id+=1\n",
    "dx_99208_07=filtro(id=id,grupo=grupo,codigo='10',subgrupo='MELA',detalles='',dx1='99208.07',t_dx='D',conn=conn)\n",
    "df = pd.concat([df, dx_99208_07], ignore_index=True)\n",
    "id+=1\n",
    "dx_99208_09=filtro(id=id,grupo=grupo,codigo='11',subgrupo='ABSTINECIA PERIODICA',detalles='BILLINGS',dx1='99208.09',t_dx='D',conn=conn)\n",
    "df = pd.concat([df, dx_99208_09], ignore_index=True)\n",
    "id+=1\n",
    "dx_99208_08=filtro(id=id,grupo=grupo,codigo='12',subgrupo='ABSTINECIA PERIODICA',detalles='RITMO',dx1='99208.08',t_dx='D',conn=conn)\n",
    "df = pd.concat([df, dx_99208_08], ignore_index=True)\n",
    "id+=1\n",
    "dx_99208_10=filtro(id=id,grupo=grupo,codigo='13',subgrupo='ABSTINECIA PERIODICA',detalles='DIAS FIJO',dx1='99208.10',t_dx='D',conn=conn)\n",
    "df = pd.concat([df, dx_99208_10], ignore_index=True)\n",
    "id+=1\n",
    "dx_99208_11=filtro(id=id,grupo=grupo,codigo='14',subgrupo='ADMINISTRACIÓN Y USO AOE/ YUSPE',detalles='Administración y uso de anticonceptivo oral de emergencia/YUZPE',dx1='99208.11',t_dx='D',conn=conn)\n",
    "df = pd.concat([df, dx_99208_11], ignore_index=True)\n",
    "\n"
   ]
  },
  {
   "attachments": {},
   "cell_type": "markdown",
   "metadata": {},
   "source": [
    "<CENTER> <H2>EVALUACIÓN CLÍNICA</H2><CENTER>"
   ]
  },
  {
   "cell_type": "code",
   "execution_count": 38,
   "metadata": {},
   "outputs": [
    {
     "name": "stdout",
     "output_type": "stream",
     "text": [
      "SELECT  '102' as df_id,'EVALUACIÓN CLÍNICA' as df_grupo,'L709 ' as df_codigo,'Acné no especificado' as df_subgrupo,'' as df_detalles, nt.id_cita,nt.anio,nt.mes,nt.fecha_atencion,nt.id_paciente, nt.id_personal, nt.id_registrador,nt.anio_actual_paciente, nt.tipo_diagnostico,nt.codigo_item, mhe.id_establecimiento,mhe.red,mhe.microred,mhe.nombre_establecimiento,mhe.departamento,mhe.distrito,mhe.provincia , max(CASE  WHEN nt.id_correlativo_lab='1' THEN nt.valor_lab ELSE null END ) AS \"lab1\", max(CASE  WHEN nt.id_correlativo_lab='2' THEN nt.valor_lab ELSE null END ) AS \"lab2\", max(CASE  WHEN nt.id_correlativo_lab='3' THEN nt.valor_lab ELSE null END ) AS \"lab3\"  FROM maestros.nominal_trama nt \n",
      "    INNER JOIN maestros.maestro_his_establecimiento mhe ON mhe.id_establecimiento = nt.id_establecimiento  \n",
      "    WHERE  nt.tipo_diagnostico ='D' AND codigo_item in('L709')AND nt.anio_actual_paciente BETWEEN 12 AND 17 and nt.anio=2023 GROUP by nt.id_cita,nt.anio,nt.mes,nt.fecha_atencion,nt.id_paciente, nt.id_personal, nt.id_registrador,nt.anio_actual_paciente, nt.tipo_diagnostico,nt.codigo_item, mhe.id_establecimiento,mhe.red,mhe.microred,mhe.nombre_establecimiento,mhe.departamento,mhe.distrito,mhe.provincia\n",
      "    \n",
      "SELECT  '103' as df_id,'EVALUACIÓN CLÍNICA' as df_grupo,'D509 ' as df_codigo,' Anemia por Deficiencia de Hierro sin Especificación' as df_subgrupo,'' as df_detalles, nt.id_cita,nt.anio,nt.mes,nt.fecha_atencion,nt.id_paciente, nt.id_personal, nt.id_registrador,nt.anio_actual_paciente, nt.tipo_diagnostico,nt.codigo_item, mhe.id_establecimiento,mhe.red,mhe.microred,mhe.nombre_establecimiento,mhe.departamento,mhe.distrito,mhe.provincia , max(CASE  WHEN nt.id_correlativo_lab='1' THEN nt.valor_lab ELSE null END ) AS \"lab1\", max(CASE  WHEN nt.id_correlativo_lab='2' THEN nt.valor_lab ELSE null END ) AS \"lab2\", max(CASE  WHEN nt.id_correlativo_lab='3' THEN nt.valor_lab ELSE null END ) AS \"lab3\"  FROM maestros.nominal_trama nt \n",
      "    INNER JOIN maestros.maestro_his_establecimiento mhe ON mhe.id_establecimiento = nt.id_establecimiento  \n",
      "    WHERE  nt.tipo_diagnostico ='D' AND codigo_item in('D509')AND nt.anio_actual_paciente BETWEEN 12 AND 17 and nt.anio=2023 GROUP by nt.id_cita,nt.anio,nt.mes,nt.fecha_atencion,nt.id_paciente, nt.id_personal, nt.id_registrador,nt.anio_actual_paciente, nt.tipo_diagnostico,nt.codigo_item, mhe.id_establecimiento,mhe.red,mhe.microred,mhe.nombre_establecimiento,mhe.departamento,mhe.distrito,mhe.provincia\n",
      "    \n"
     ]
    },
    {
     "name": "stderr",
     "output_type": "stream",
     "text": [
      "d:\\Irvin\\Irvin\\Python\\Python-GERESA\\modulos\\adolescente\\../..\\clases\\bd\\conexion2.py:47: UserWarning: pandas only supports SQLAlchemy connectable (engine/connection) or database string URI or sqlite3 DBAPI2 connection. Other DBAPI2 objects are not tested. Please consider using SQLAlchemy.\n",
      "  s = pd.read_sql(sql, con=self.conn)\n"
     ]
    },
    {
     "name": "stdout",
     "output_type": "stream",
     "text": [
      "SELECT  '104' as df_id,'EVALUACIÓN CLÍNICA' as df_grupo,'O990 ' as df_codigo,' Anemia que afecta al Embarazo, Parto o Puerperio' as df_subgrupo,'' as df_detalles, nt.id_cita,nt.anio,nt.mes,nt.fecha_atencion,nt.id_paciente, nt.id_personal, nt.id_registrador,nt.anio_actual_paciente, nt.tipo_diagnostico,nt.codigo_item, mhe.id_establecimiento,mhe.red,mhe.microred,mhe.nombre_establecimiento,mhe.departamento,mhe.distrito,mhe.provincia , max(CASE  WHEN nt.id_correlativo_lab='1' THEN nt.valor_lab ELSE null END ) AS \"lab1\", max(CASE  WHEN nt.id_correlativo_lab='2' THEN nt.valor_lab ELSE null END ) AS \"lab2\", max(CASE  WHEN nt.id_correlativo_lab='3' THEN nt.valor_lab ELSE null END ) AS \"lab3\"  FROM maestros.nominal_trama nt \n",
      "    INNER JOIN maestros.maestro_his_establecimiento mhe ON mhe.id_establecimiento = nt.id_establecimiento  \n",
      "    WHERE  nt.tipo_diagnostico ='D' AND codigo_item in('O990')AND nt.anio_actual_paciente BETWEEN 12 AND 17 and nt.anio=2023 GROUP by nt.id_cita,nt.anio,nt.mes,nt.fecha_atencion,nt.id_paciente, nt.id_personal, nt.id_registrador,nt.anio_actual_paciente, nt.tipo_diagnostico,nt.codigo_item, mhe.id_establecimiento,mhe.red,mhe.microred,mhe.nombre_establecimiento,mhe.departamento,mhe.distrito,mhe.provincia\n",
      "    \n",
      "SELECT  '105' as df_id,'EVALUACIÓN CLÍNICA' as df_grupo,'U310 ' as df_codigo,' Administración de Tratamiento (Anemia)' as df_subgrupo,'' as df_detalles, nt.id_cita,nt.anio,nt.mes,nt.fecha_atencion,nt.id_paciente, nt.id_personal, nt.id_registrador,nt.anio_actual_paciente, nt.tipo_diagnostico,nt.codigo_item, mhe.id_establecimiento,mhe.red,mhe.microred,mhe.nombre_establecimiento,mhe.departamento,mhe.distrito,mhe.provincia , max(CASE  WHEN nt.id_correlativo_lab='1' THEN nt.valor_lab ELSE null END ) AS \"lab1\", max(CASE  WHEN nt.id_correlativo_lab='2' THEN nt.valor_lab ELSE null END ) AS \"lab2\", max(CASE  WHEN nt.id_correlativo_lab='3' THEN nt.valor_lab ELSE null END ) AS \"lab3\"  FROM maestros.nominal_trama nt \n",
      "    INNER JOIN maestros.maestro_his_establecimiento mhe ON mhe.id_establecimiento = nt.id_establecimiento  \n",
      "    WHERE  nt.tipo_diagnostico ='D' AND codigo_item in('U310')AND nt.anio_actual_paciente BETWEEN 12 AND 17 and nt.anio=2023 GROUP by nt.id_cita,nt.anio,nt.mes,nt.fecha_atencion,nt.id_paciente, nt.id_personal, nt.id_registrador,nt.anio_actual_paciente, nt.tipo_diagnostico,nt.codigo_item, mhe.id_establecimiento,mhe.red,mhe.microred,mhe.nombre_establecimiento,mhe.departamento,mhe.distrito,mhe.provincia\n",
      "    \n",
      "SELECT  '106' as df_id,'EVALUACIÓN CLÍNICA' as df_grupo,'J459 ' as df_codigo,' Asma No Especificada' as df_subgrupo,'' as df_detalles, nt.id_cita,nt.anio,nt.mes,nt.fecha_atencion,nt.id_paciente, nt.id_personal, nt.id_registrador,nt.anio_actual_paciente, nt.tipo_diagnostico,nt.codigo_item, mhe.id_establecimiento,mhe.red,mhe.microred,mhe.nombre_establecimiento,mhe.departamento,mhe.distrito,mhe.provincia , max(CASE  WHEN nt.id_correlativo_lab='1' THEN nt.valor_lab ELSE null END ) AS \"lab1\", max(CASE  WHEN nt.id_correlativo_lab='2' THEN nt.valor_lab ELSE null END ) AS \"lab2\", max(CASE  WHEN nt.id_correlativo_lab='3' THEN nt.valor_lab ELSE null END ) AS \"lab3\"  FROM maestros.nominal_trama nt \n",
      "    INNER JOIN maestros.maestro_his_establecimiento mhe ON mhe.id_establecimiento = nt.id_establecimiento  \n",
      "    WHERE  nt.tipo_diagnostico ='D' AND codigo_item in('J459')AND nt.anio_actual_paciente BETWEEN 12 AND 17 and nt.anio=2023 GROUP by nt.id_cita,nt.anio,nt.mes,nt.fecha_atencion,nt.id_paciente, nt.id_personal, nt.id_registrador,nt.anio_actual_paciente, nt.tipo_diagnostico,nt.codigo_item, mhe.id_establecimiento,mhe.red,mhe.microred,mhe.nombre_establecimiento,mhe.departamento,mhe.distrito,mhe.provincia\n",
      "    \n",
      "SELECT  '107' as df_id,'EVALUACIÓN CLÍNICA' as df_grupo,'I10X ' as df_codigo,'Hipertensión Esencial Primaria (Hipertensión Arterial)' as df_subgrupo,'' as df_detalles, nt.id_cita,nt.anio,nt.mes,nt.fecha_atencion,nt.id_paciente, nt.id_personal, nt.id_registrador,nt.anio_actual_paciente, nt.tipo_diagnostico,nt.codigo_item, mhe.id_establecimiento,mhe.red,mhe.microred,mhe.nombre_establecimiento,mhe.departamento,mhe.distrito,mhe.provincia , max(CASE  WHEN nt.id_correlativo_lab='1' THEN nt.valor_lab ELSE null END ) AS \"lab1\", max(CASE  WHEN nt.id_correlativo_lab='2' THEN nt.valor_lab ELSE null END ) AS \"lab2\", max(CASE  WHEN nt.id_correlativo_lab='3' THEN nt.valor_lab ELSE null END ) AS \"lab3\"  FROM maestros.nominal_trama nt \n",
      "    INNER JOIN maestros.maestro_his_establecimiento mhe ON mhe.id_establecimiento = nt.id_establecimiento  \n",
      "    WHERE  nt.tipo_diagnostico ='D' AND codigo_item in('I10X')AND nt.anio_actual_paciente BETWEEN 12 AND 17 and nt.anio=2023 GROUP by nt.id_cita,nt.anio,nt.mes,nt.fecha_atencion,nt.id_paciente, nt.id_personal, nt.id_registrador,nt.anio_actual_paciente, nt.tipo_diagnostico,nt.codigo_item, mhe.id_establecimiento,mhe.red,mhe.microred,mhe.nombre_establecimiento,mhe.departamento,mhe.distrito,mhe.provincia\n",
      "    \n",
      "SELECT  '108' as df_id,'EVALUACIÓN CLÍNICA' as df_grupo,'R51X ' as df_codigo,' Cefalea' as df_subgrupo,'' as df_detalles, nt.id_cita,nt.anio,nt.mes,nt.fecha_atencion,nt.id_paciente, nt.id_personal, nt.id_registrador,nt.anio_actual_paciente, nt.tipo_diagnostico,nt.codigo_item, mhe.id_establecimiento,mhe.red,mhe.microred,mhe.nombre_establecimiento,mhe.departamento,mhe.distrito,mhe.provincia , max(CASE  WHEN nt.id_correlativo_lab='1' THEN nt.valor_lab ELSE null END ) AS \"lab1\", max(CASE  WHEN nt.id_correlativo_lab='2' THEN nt.valor_lab ELSE null END ) AS \"lab2\", max(CASE  WHEN nt.id_correlativo_lab='3' THEN nt.valor_lab ELSE null END ) AS \"lab3\"  FROM maestros.nominal_trama nt \n",
      "    INNER JOIN maestros.maestro_his_establecimiento mhe ON mhe.id_establecimiento = nt.id_establecimiento  \n",
      "    WHERE  nt.tipo_diagnostico ='D' AND codigo_item in('R51X')AND nt.anio_actual_paciente BETWEEN 12 AND 17 and nt.anio=2023 GROUP by nt.id_cita,nt.anio,nt.mes,nt.fecha_atencion,nt.id_paciente, nt.id_personal, nt.id_registrador,nt.anio_actual_paciente, nt.tipo_diagnostico,nt.codigo_item, mhe.id_establecimiento,mhe.red,mhe.microred,mhe.nombre_establecimiento,mhe.departamento,mhe.distrito,mhe.provincia\n",
      "    \n",
      "SELECT  '109' as df_id,'EVALUACIÓN CLÍNICA' as df_grupo,'B829 ' as df_codigo,' Parasitosis Intestinal, sin otra Especificación' as df_subgrupo,'' as df_detalles, nt.id_cita,nt.anio,nt.mes,nt.fecha_atencion,nt.id_paciente, nt.id_personal, nt.id_registrador,nt.anio_actual_paciente, nt.tipo_diagnostico,nt.codigo_item, mhe.id_establecimiento,mhe.red,mhe.microred,mhe.nombre_establecimiento,mhe.departamento,mhe.distrito,mhe.provincia , max(CASE  WHEN nt.id_correlativo_lab='1' THEN nt.valor_lab ELSE null END ) AS \"lab1\", max(CASE  WHEN nt.id_correlativo_lab='2' THEN nt.valor_lab ELSE null END ) AS \"lab2\", max(CASE  WHEN nt.id_correlativo_lab='3' THEN nt.valor_lab ELSE null END ) AS \"lab3\"  FROM maestros.nominal_trama nt \n",
      "    INNER JOIN maestros.maestro_his_establecimiento mhe ON mhe.id_establecimiento = nt.id_establecimiento  \n",
      "    WHERE  nt.tipo_diagnostico ='D' AND codigo_item in('B829')AND nt.anio_actual_paciente BETWEEN 12 AND 17 and nt.anio=2023 GROUP by nt.id_cita,nt.anio,nt.mes,nt.fecha_atencion,nt.id_paciente, nt.id_personal, nt.id_registrador,nt.anio_actual_paciente, nt.tipo_diagnostico,nt.codigo_item, mhe.id_establecimiento,mhe.red,mhe.microred,mhe.nombre_establecimiento,mhe.departamento,mhe.distrito,mhe.provincia\n",
      "    \n",
      "SELECT  '110' as df_id,'EVALUACIÓN CLÍNICA' as df_grupo,'N63X ' as df_codigo,' Masa No Especificada en la Mama' as df_subgrupo,'' as df_detalles, nt.id_cita,nt.anio,nt.mes,nt.fecha_atencion,nt.id_paciente, nt.id_personal, nt.id_registrador,nt.anio_actual_paciente, nt.tipo_diagnostico,nt.codigo_item, mhe.id_establecimiento,mhe.red,mhe.microred,mhe.nombre_establecimiento,mhe.departamento,mhe.distrito,mhe.provincia , max(CASE  WHEN nt.id_correlativo_lab='1' THEN nt.valor_lab ELSE null END ) AS \"lab1\", max(CASE  WHEN nt.id_correlativo_lab='2' THEN nt.valor_lab ELSE null END ) AS \"lab2\", max(CASE  WHEN nt.id_correlativo_lab='3' THEN nt.valor_lab ELSE null END ) AS \"lab3\"  FROM maestros.nominal_trama nt \n",
      "    INNER JOIN maestros.maestro_his_establecimiento mhe ON mhe.id_establecimiento = nt.id_establecimiento  \n",
      "    WHERE  nt.tipo_diagnostico ='D' AND codigo_item in('N63X')AND nt.anio_actual_paciente BETWEEN 12 AND 17 and nt.anio=2023 GROUP by nt.id_cita,nt.anio,nt.mes,nt.fecha_atencion,nt.id_paciente, nt.id_personal, nt.id_registrador,nt.anio_actual_paciente, nt.tipo_diagnostico,nt.codigo_item, mhe.id_establecimiento,mhe.red,mhe.microred,mhe.nombre_establecimiento,mhe.departamento,mhe.distrito,mhe.provincia\n",
      "    \n",
      "SELECT  '111' as df_id,'EVALUACIÓN CLÍNICA' as df_grupo,'A084 ' as df_codigo,' Infección Intestinal Viral, Sin Otra Especificación' as df_subgrupo,'' as df_detalles, nt.id_cita,nt.anio,nt.mes,nt.fecha_atencion,nt.id_paciente, nt.id_personal, nt.id_registrador,nt.anio_actual_paciente, nt.tipo_diagnostico,nt.codigo_item, mhe.id_establecimiento,mhe.red,mhe.microred,mhe.nombre_establecimiento,mhe.departamento,mhe.distrito,mhe.provincia , max(CASE  WHEN nt.id_correlativo_lab='1' THEN nt.valor_lab ELSE null END ) AS \"lab1\", max(CASE  WHEN nt.id_correlativo_lab='2' THEN nt.valor_lab ELSE null END ) AS \"lab2\", max(CASE  WHEN nt.id_correlativo_lab='3' THEN nt.valor_lab ELSE null END ) AS \"lab3\"  FROM maestros.nominal_trama nt \n",
      "    INNER JOIN maestros.maestro_his_establecimiento mhe ON mhe.id_establecimiento = nt.id_establecimiento  \n",
      "    WHERE  nt.tipo_diagnostico ='D' AND codigo_item in('A084')AND nt.anio_actual_paciente BETWEEN 12 AND 17 and nt.anio=2023 GROUP by nt.id_cita,nt.anio,nt.mes,nt.fecha_atencion,nt.id_paciente, nt.id_personal, nt.id_registrador,nt.anio_actual_paciente, nt.tipo_diagnostico,nt.codigo_item, mhe.id_establecimiento,mhe.red,mhe.microred,mhe.nombre_establecimiento,mhe.departamento,mhe.distrito,mhe.provincia\n",
      "    \n",
      "SELECT  '112' as df_id,'EVALUACIÓN CLÍNICA' as df_grupo,'B373 ' as df_codigo,' Candidiasis de la Vulva y de la Vagina (Candidiasis Vaginal) ' as df_subgrupo,'' as df_detalles, nt.id_cita,nt.anio,nt.mes,nt.fecha_atencion,nt.id_paciente, nt.id_personal, nt.id_registrador,nt.anio_actual_paciente, nt.tipo_diagnostico,nt.codigo_item, mhe.id_establecimiento,mhe.red,mhe.microred,mhe.nombre_establecimiento,mhe.departamento,mhe.distrito,mhe.provincia , max(CASE  WHEN nt.id_correlativo_lab='1' THEN nt.valor_lab ELSE null END ) AS \"lab1\", max(CASE  WHEN nt.id_correlativo_lab='2' THEN nt.valor_lab ELSE null END ) AS \"lab2\", max(CASE  WHEN nt.id_correlativo_lab='3' THEN nt.valor_lab ELSE null END ) AS \"lab3\"  FROM maestros.nominal_trama nt \n",
      "    INNER JOIN maestros.maestro_his_establecimiento mhe ON mhe.id_establecimiento = nt.id_establecimiento  \n",
      "    WHERE  nt.tipo_diagnostico ='D' AND codigo_item in('B373')AND nt.anio_actual_paciente BETWEEN 12 AND 17 and nt.anio=2023 GROUP by nt.id_cita,nt.anio,nt.mes,nt.fecha_atencion,nt.id_paciente, nt.id_personal, nt.id_registrador,nt.anio_actual_paciente, nt.tipo_diagnostico,nt.codigo_item, mhe.id_establecimiento,mhe.red,mhe.microred,mhe.nombre_establecimiento,mhe.departamento,mhe.distrito,mhe.provincia\n",
      "    \n",
      "SELECT  '113' as df_id,'EVALUACIÓN CLÍNICA' as df_grupo,'B853 ' as df_codigo,' Pediculosis del Pubis ' as df_subgrupo,'' as df_detalles, nt.id_cita,nt.anio,nt.mes,nt.fecha_atencion,nt.id_paciente, nt.id_personal, nt.id_registrador,nt.anio_actual_paciente, nt.tipo_diagnostico,nt.codigo_item, mhe.id_establecimiento,mhe.red,mhe.microred,mhe.nombre_establecimiento,mhe.departamento,mhe.distrito,mhe.provincia , max(CASE  WHEN nt.id_correlativo_lab='1' THEN nt.valor_lab ELSE null END ) AS \"lab1\", max(CASE  WHEN nt.id_correlativo_lab='2' THEN nt.valor_lab ELSE null END ) AS \"lab2\", max(CASE  WHEN nt.id_correlativo_lab='3' THEN nt.valor_lab ELSE null END ) AS \"lab3\"  FROM maestros.nominal_trama nt \n",
      "    INNER JOIN maestros.maestro_his_establecimiento mhe ON mhe.id_establecimiento = nt.id_establecimiento  \n",
      "    WHERE  nt.tipo_diagnostico ='D' AND codigo_item in('B853')AND nt.anio_actual_paciente BETWEEN 12 AND 17 and nt.anio=2023 GROUP by nt.id_cita,nt.anio,nt.mes,nt.fecha_atencion,nt.id_paciente, nt.id_personal, nt.id_registrador,nt.anio_actual_paciente, nt.tipo_diagnostico,nt.codigo_item, mhe.id_establecimiento,mhe.red,mhe.microred,mhe.nombre_establecimiento,mhe.departamento,mhe.distrito,mhe.provincia\n",
      "    \n",
      "SELECT  '114' as df_id,'EVALUACIÓN CLÍNICA' as df_grupo,'B968 ' as df_codigo,' Vaginosis Bacteriana' as df_subgrupo,'' as df_detalles, nt.id_cita,nt.anio,nt.mes,nt.fecha_atencion,nt.id_paciente, nt.id_personal, nt.id_registrador,nt.anio_actual_paciente, nt.tipo_diagnostico,nt.codigo_item, mhe.id_establecimiento,mhe.red,mhe.microred,mhe.nombre_establecimiento,mhe.departamento,mhe.distrito,mhe.provincia , max(CASE  WHEN nt.id_correlativo_lab='1' THEN nt.valor_lab ELSE null END ) AS \"lab1\", max(CASE  WHEN nt.id_correlativo_lab='2' THEN nt.valor_lab ELSE null END ) AS \"lab2\", max(CASE  WHEN nt.id_correlativo_lab='3' THEN nt.valor_lab ELSE null END ) AS \"lab3\"  FROM maestros.nominal_trama nt \n",
      "    INNER JOIN maestros.maestro_his_establecimiento mhe ON mhe.id_establecimiento = nt.id_establecimiento  \n",
      "    WHERE  nt.tipo_diagnostico ='D' AND codigo_item in('B968')AND nt.anio_actual_paciente BETWEEN 12 AND 17 and nt.anio=2023 GROUP by nt.id_cita,nt.anio,nt.mes,nt.fecha_atencion,nt.id_paciente, nt.id_personal, nt.id_registrador,nt.anio_actual_paciente, nt.tipo_diagnostico,nt.codigo_item, mhe.id_establecimiento,mhe.red,mhe.microred,mhe.nombre_establecimiento,mhe.departamento,mhe.distrito,mhe.provincia\n",
      "    \n",
      "SELECT  '115' as df_id,'EVALUACIÓN CLÍNICA' as df_grupo,'A64X9 ' as df_codigo,' Síndrome de Flujo Vaginal' as df_subgrupo,'' as df_detalles, nt.id_cita,nt.anio,nt.mes,nt.fecha_atencion,nt.id_paciente, nt.id_personal, nt.id_registrador,nt.anio_actual_paciente, nt.tipo_diagnostico,nt.codigo_item, mhe.id_establecimiento,mhe.red,mhe.microred,mhe.nombre_establecimiento,mhe.departamento,mhe.distrito,mhe.provincia , max(CASE  WHEN nt.id_correlativo_lab='1' THEN nt.valor_lab ELSE null END ) AS \"lab1\", max(CASE  WHEN nt.id_correlativo_lab='2' THEN nt.valor_lab ELSE null END ) AS \"lab2\", max(CASE  WHEN nt.id_correlativo_lab='3' THEN nt.valor_lab ELSE null END ) AS \"lab3\"  FROM maestros.nominal_trama nt \n",
      "    INNER JOIN maestros.maestro_his_establecimiento mhe ON mhe.id_establecimiento = nt.id_establecimiento  \n",
      "    WHERE  nt.tipo_diagnostico ='D' AND codigo_item in('A64X9')AND nt.anio_actual_paciente BETWEEN 12 AND 17 and nt.anio=2023 GROUP by nt.id_cita,nt.anio,nt.mes,nt.fecha_atencion,nt.id_paciente, nt.id_personal, nt.id_registrador,nt.anio_actual_paciente, nt.tipo_diagnostico,nt.codigo_item, mhe.id_establecimiento,mhe.red,mhe.microred,mhe.nombre_establecimiento,mhe.departamento,mhe.distrito,mhe.provincia\n",
      "    \n",
      "SELECT  '116' as df_id,'EVALUACIÓN CLÍNICA' as df_grupo,'A64X5 ' as df_codigo,' Síndrome de Dolor Abdominal Bajo' as df_subgrupo,'' as df_detalles, nt.id_cita,nt.anio,nt.mes,nt.fecha_atencion,nt.id_paciente, nt.id_personal, nt.id_registrador,nt.anio_actual_paciente, nt.tipo_diagnostico,nt.codigo_item, mhe.id_establecimiento,mhe.red,mhe.microred,mhe.nombre_establecimiento,mhe.departamento,mhe.distrito,mhe.provincia , max(CASE  WHEN nt.id_correlativo_lab='1' THEN nt.valor_lab ELSE null END ) AS \"lab1\", max(CASE  WHEN nt.id_correlativo_lab='2' THEN nt.valor_lab ELSE null END ) AS \"lab2\", max(CASE  WHEN nt.id_correlativo_lab='3' THEN nt.valor_lab ELSE null END ) AS \"lab3\"  FROM maestros.nominal_trama nt \n",
      "    INNER JOIN maestros.maestro_his_establecimiento mhe ON mhe.id_establecimiento = nt.id_establecimiento  \n",
      "    WHERE  nt.tipo_diagnostico ='D' AND codigo_item in('A64X5')AND nt.anio_actual_paciente BETWEEN 12 AND 17 and nt.anio=2023 GROUP by nt.id_cita,nt.anio,nt.mes,nt.fecha_atencion,nt.id_paciente, nt.id_personal, nt.id_registrador,nt.anio_actual_paciente, nt.tipo_diagnostico,nt.codigo_item, mhe.id_establecimiento,mhe.red,mhe.microred,mhe.nombre_establecimiento,mhe.departamento,mhe.distrito,mhe.provincia\n",
      "    \n",
      "SELECT  '117' as df_id,'EVALUACIÓN CLÍNICA' as df_grupo,'A64X6' as df_codigo,' Síndrome de Secreción Uretral' as df_subgrupo,'' as df_detalles, nt.id_cita,nt.anio,nt.mes,nt.fecha_atencion,nt.id_paciente, nt.id_personal, nt.id_registrador,nt.anio_actual_paciente, nt.tipo_diagnostico,nt.codigo_item, mhe.id_establecimiento,mhe.red,mhe.microred,mhe.nombre_establecimiento,mhe.departamento,mhe.distrito,mhe.provincia , max(CASE  WHEN nt.id_correlativo_lab='1' THEN nt.valor_lab ELSE null END ) AS \"lab1\", max(CASE  WHEN nt.id_correlativo_lab='2' THEN nt.valor_lab ELSE null END ) AS \"lab2\", max(CASE  WHEN nt.id_correlativo_lab='3' THEN nt.valor_lab ELSE null END ) AS \"lab3\"  FROM maestros.nominal_trama nt \n",
      "    INNER JOIN maestros.maestro_his_establecimiento mhe ON mhe.id_establecimiento = nt.id_establecimiento  \n",
      "    WHERE  nt.tipo_diagnostico ='D' AND codigo_item in('A64X6')AND nt.anio_actual_paciente BETWEEN 12 AND 17 and nt.anio=2023 GROUP by nt.id_cita,nt.anio,nt.mes,nt.fecha_atencion,nt.id_paciente, nt.id_personal, nt.id_registrador,nt.anio_actual_paciente, nt.tipo_diagnostico,nt.codigo_item, mhe.id_establecimiento,mhe.red,mhe.microred,mhe.nombre_establecimiento,mhe.departamento,mhe.distrito,mhe.provincia\n",
      "    \n",
      "SELECT  '118' as df_id,'EVALUACIÓN CLÍNICA' as df_grupo,'99199.11 ' as df_codigo,' Administración de Tratamiento (ITS)' as df_subgrupo,'' as df_detalles, nt.id_cita,nt.anio,nt.mes,nt.fecha_atencion,nt.id_paciente, nt.id_personal, nt.id_registrador,nt.anio_actual_paciente, nt.tipo_diagnostico,nt.codigo_item, mhe.id_establecimiento,mhe.red,mhe.microred,mhe.nombre_establecimiento,mhe.departamento,mhe.distrito,mhe.provincia , max(CASE  WHEN nt.id_correlativo_lab='1' THEN nt.valor_lab ELSE null END ) AS \"lab1\", max(CASE  WHEN nt.id_correlativo_lab='2' THEN nt.valor_lab ELSE null END ) AS \"lab2\", max(CASE  WHEN nt.id_correlativo_lab='3' THEN nt.valor_lab ELSE null END ) AS \"lab3\"  FROM maestros.nominal_trama nt \n",
      "    INNER JOIN maestros.maestro_his_establecimiento mhe ON mhe.id_establecimiento = nt.id_establecimiento  \n",
      "    WHERE  nt.tipo_diagnostico ='D' AND codigo_item in('99199.11')AND nt.anio_actual_paciente BETWEEN 12 AND 17 and nt.anio=2023 GROUP by nt.id_cita,nt.anio,nt.mes,nt.fecha_atencion,nt.id_paciente, nt.id_personal, nt.id_registrador,nt.anio_actual_paciente, nt.tipo_diagnostico,nt.codigo_item, mhe.id_establecimiento,mhe.red,mhe.microred,mhe.nombre_establecimiento,mhe.departamento,mhe.distrito,mhe.provincia\n",
      "    \n"
     ]
    }
   ],
   "source": [
    "grupo='EVALUACIÓN CLÍNICA'\n",
    "id+=1\n",
    "dx_L709 =filtro(id=id,grupo=grupo,codigo='L709 ',subgrupo='Acné no especificado',detalles='',dx1='L709',t_dx='D',conn=conn)\n",
    "id+=1\n",
    "dx_D509 =filtro(id=id,grupo=grupo,codigo='D509 ',subgrupo=' Anemia por Deficiencia de Hierro sin Especificación',detalles='',dx1='D509',t_dx='D',conn=conn)\n",
    "id+=1\n",
    "dx_O990 =filtro(id=id,grupo=grupo,codigo='O990 ',subgrupo=' Anemia que afecta al Embarazo, Parto o Puerperio',detalles='',dx1='O990',t_dx='D',conn=conn)\n",
    "id+=1\n",
    "dx_U310 =filtro(id=id,grupo=grupo,codigo='U310 ',subgrupo=' Administración de Tratamiento (Anemia)',detalles='',dx1='U310',t_dx='D',conn=conn)\n",
    "id+=1\n",
    "dx_J459 =filtro(id=id,grupo=grupo,codigo='J459 ',subgrupo=' Asma No Especificada',detalles='',dx1='J459',t_dx='D',conn=conn)\n",
    "id+=1\n",
    "dx_I10X =filtro(id=id,grupo=grupo,codigo='I10X ',subgrupo='Hipertensión Esencial Primaria (Hipertensión Arterial)',detalles='',dx1='I10X',t_dx='D',conn=conn)\n",
    "id+=1\n",
    "dx_R51X =filtro(id=id,grupo=grupo,codigo='R51X ',subgrupo=' Cefalea',detalles='',dx1='R51X',t_dx='D',conn=conn)\n",
    "id+=1\n",
    "dx_B829 =filtro(id=id,grupo=grupo,codigo='B829 ',subgrupo=' Parasitosis Intestinal, sin otra Especificación',detalles='',dx1='B829',t_dx='D',conn=conn)\n",
    "id+=1\n",
    "dx_N63X =filtro(id=id,grupo=grupo,codigo='N63X ',subgrupo=' Masa No Especificada en la Mama',detalles='',dx1='N63X',t_dx='D',conn=conn)\n",
    "id+=1\n",
    "dx_A084 =filtro(id=id,grupo=grupo,codigo='A084 ',subgrupo=' Infección Intestinal Viral, Sin Otra Especificación',detalles='',dx1='A084',t_dx='D',conn=conn)\n",
    "id+=1\n",
    "dx_B373 =filtro(id=id,grupo=grupo,codigo='B373 ',subgrupo=' Candidiasis de la Vulva y de la Vagina (Candidiasis Vaginal) ',detalles='',dx1='B373',t_dx='D',conn=conn)\n",
    "id+=1\n",
    "dx_B853 =filtro(id=id,grupo=grupo,codigo='B853 ',subgrupo=' Pediculosis del Pubis ',detalles='',dx1='B853',t_dx='D',conn=conn)\n",
    "id+=1\n",
    "dx_B968 =filtro(id=id,grupo=grupo,codigo='B968 ',subgrupo=' Vaginosis Bacteriana',detalles='',dx1='B968',t_dx='D',conn=conn)\n",
    "id+=1\n",
    "dx_A64X9 =filtro(id=id,grupo=grupo,codigo='A64X9 ',subgrupo=' Síndrome de Flujo Vaginal',detalles='',dx1='A64X9',t_dx='D',conn=conn)\n",
    "id+=1\n",
    "dx_A64X5 =filtro(id=id,grupo=grupo,codigo='A64X5 ',subgrupo=' Síndrome de Dolor Abdominal Bajo',detalles='',dx1='A64X5',t_dx='D',conn=conn)\n",
    "id+=1\n",
    "dx_A64X6 =filtro(id=id,grupo=grupo,codigo='A64X6',subgrupo=' Síndrome de Secreción Uretral',detalles='',dx1='A64X6',t_dx='D',conn=conn)\n",
    "id+=1\n",
    "dx_99199_11 =filtro(id=id,grupo=grupo,codigo='99199.11 ',subgrupo=' Administración de Tratamiento (ITS)',detalles='',dx1='99199.11',t_dx='D',conn=conn)\n",
    "\n",
    "df = pd.concat([df, dx_L709,dx_D509,dx_O990,dx_U310,dx_J459,dx_I10X,dx_R51X,dx_B829,dx_N63X,dx_A084,dx_B373,dx_B853,dx_B968,dx_A64X9,dx_A64X5,dx_A64X6,dx_99199_11], ignore_index=True)\n",
    "\n"
   ]
  },
  {
   "cell_type": "markdown",
   "metadata": {},
   "source": [
    "<h2>CONSEJERÍAS</h2>"
   ]
  },
  {
   "cell_type": "code",
   "execution_count": 39,
   "metadata": {},
   "outputs": [
    {
     "name": "stdout",
     "output_type": "stream",
     "text": [
      "SELECT  '119' as df_id,'CONSEJERÍAS' as df_grupo,'99401' as df_codigo,'Consejería Integral' as df_subgrupo,'' as df_detalles, nt.id_cita,nt.anio,nt.mes,nt.fecha_atencion,nt.id_paciente, nt.id_personal, nt.id_registrador,nt.anio_actual_paciente, nt.tipo_diagnostico,nt.codigo_item, mhe.id_establecimiento,mhe.red,mhe.microred,mhe.nombre_establecimiento,mhe.departamento,mhe.distrito,mhe.provincia , max(CASE  WHEN nt.id_correlativo_lab='1' THEN nt.valor_lab ELSE null END ) AS \"lab1\", max(CASE  WHEN nt.id_correlativo_lab='2' THEN nt.valor_lab ELSE null END ) AS \"lab2\", max(CASE  WHEN nt.id_correlativo_lab='3' THEN nt.valor_lab ELSE null END ) AS \"lab3\"  FROM maestros.nominal_trama nt \n",
      "    INNER JOIN maestros.maestro_his_establecimiento mhe ON mhe.id_establecimiento = nt.id_establecimiento  \n",
      "    WHERE  nt.tipo_diagnostico ='D' AND codigo_item in('99401')AND nt.anio_actual_paciente BETWEEN 12 AND 17 and nt.anio=2023 GROUP by nt.id_cita,nt.anio,nt.mes,nt.fecha_atencion,nt.id_paciente, nt.id_personal, nt.id_registrador,nt.anio_actual_paciente, nt.tipo_diagnostico,nt.codigo_item, mhe.id_establecimiento,mhe.red,mhe.microred,mhe.nombre_establecimiento,mhe.departamento,mhe.distrito,mhe.provincia\n",
      "    \n"
     ]
    },
    {
     "name": "stderr",
     "output_type": "stream",
     "text": [
      "d:\\Irvin\\Irvin\\Python\\Python-GERESA\\modulos\\adolescente\\../..\\clases\\bd\\conexion2.py:47: UserWarning: pandas only supports SQLAlchemy connectable (engine/connection) or database string URI or sqlite3 DBAPI2 connection. Other DBAPI2 objects are not tested. Please consider using SQLAlchemy.\n",
      "  s = pd.read_sql(sql, con=self.conn)\n"
     ]
    },
    {
     "name": "stdout",
     "output_type": "stream",
     "text": [
      "SELECT  '120' as df_id,'CONSEJERÍAS' as df_grupo,'99402.03' as df_codigo,'Consejería/Orientación en Salud Sexual y Reproductiva' as df_subgrupo,'' as df_detalles, nt.id_cita,nt.anio,nt.mes,nt.fecha_atencion,nt.id_paciente, nt.id_personal, nt.id_registrador,nt.anio_actual_paciente, nt.tipo_diagnostico,nt.codigo_item, mhe.id_establecimiento,mhe.red,mhe.microred,mhe.nombre_establecimiento,mhe.departamento,mhe.distrito,mhe.provincia , max(CASE  WHEN nt.id_correlativo_lab='1' THEN nt.valor_lab ELSE null END ) AS \"lab1\", max(CASE  WHEN nt.id_correlativo_lab='2' THEN nt.valor_lab ELSE null END ) AS \"lab2\", max(CASE  WHEN nt.id_correlativo_lab='3' THEN nt.valor_lab ELSE null END ) AS \"lab3\"  FROM maestros.nominal_trama nt \n",
      "    INNER JOIN maestros.maestro_his_establecimiento mhe ON mhe.id_establecimiento = nt.id_establecimiento  \n",
      "    WHERE  nt.tipo_diagnostico ='D' AND codigo_item in('99402.03')AND nt.anio_actual_paciente BETWEEN 12 AND 17 and nt.anio=2023 GROUP by nt.id_cita,nt.anio,nt.mes,nt.fecha_atencion,nt.id_paciente, nt.id_personal, nt.id_registrador,nt.anio_actual_paciente, nt.tipo_diagnostico,nt.codigo_item, mhe.id_establecimiento,mhe.red,mhe.microred,mhe.nombre_establecimiento,mhe.departamento,mhe.distrito,mhe.provincia\n",
      "    \n",
      "SELECT  '121' as df_id,'CONSEJERÍAS' as df_grupo,'99402.04' as df_codigo,'Orientación/Consejería en Planificación Familiar' as df_subgrupo,'' as df_detalles, nt.id_cita,nt.anio,nt.mes,nt.fecha_atencion,nt.id_paciente, nt.id_personal, nt.id_registrador,nt.anio_actual_paciente, nt.tipo_diagnostico,nt.codigo_item, mhe.id_establecimiento,mhe.red,mhe.microred,mhe.nombre_establecimiento,mhe.departamento,mhe.distrito,mhe.provincia , max(CASE  WHEN nt.id_correlativo_lab='1' THEN nt.valor_lab ELSE null END ) AS \"lab1\", max(CASE  WHEN nt.id_correlativo_lab='2' THEN nt.valor_lab ELSE null END ) AS \"lab2\", max(CASE  WHEN nt.id_correlativo_lab='3' THEN nt.valor_lab ELSE null END ) AS \"lab3\"  FROM maestros.nominal_trama nt \n",
      "    INNER JOIN maestros.maestro_his_establecimiento mhe ON mhe.id_establecimiento = nt.id_establecimiento  \n",
      "    WHERE  nt.tipo_diagnostico ='D' AND codigo_item in('99402.04')AND nt.anio_actual_paciente BETWEEN 12 AND 17 and nt.anio=2023 GROUP by nt.id_cita,nt.anio,nt.mes,nt.fecha_atencion,nt.id_paciente, nt.id_personal, nt.id_registrador,nt.anio_actual_paciente, nt.tipo_diagnostico,nt.codigo_item, mhe.id_establecimiento,mhe.red,mhe.microred,mhe.nombre_establecimiento,mhe.departamento,mhe.distrito,mhe.provincia\n",
      "    \n",
      "SELECT  '122' as df_id,'CONSEJERÍAS' as df_grupo,'99402.09' as df_codigo,'Consejería de Prevención en Riesgos de Salud Mental' as df_subgrupo,'' as df_detalles, nt.id_cita,nt.anio,nt.mes,nt.fecha_atencion,nt.id_paciente, nt.id_personal, nt.id_registrador,nt.anio_actual_paciente, nt.tipo_diagnostico,nt.codigo_item, mhe.id_establecimiento,mhe.red,mhe.microred,mhe.nombre_establecimiento,mhe.departamento,mhe.distrito,mhe.provincia , max(CASE  WHEN nt.id_correlativo_lab='1' THEN nt.valor_lab ELSE null END ) AS \"lab1\", max(CASE  WHEN nt.id_correlativo_lab='2' THEN nt.valor_lab ELSE null END ) AS \"lab2\", max(CASE  WHEN nt.id_correlativo_lab='3' THEN nt.valor_lab ELSE null END ) AS \"lab3\"  FROM maestros.nominal_trama nt \n",
      "    INNER JOIN maestros.maestro_his_establecimiento mhe ON mhe.id_establecimiento = nt.id_establecimiento  \n",
      "    WHERE  nt.tipo_diagnostico ='D' AND codigo_item in('99402.09')AND nt.anio_actual_paciente BETWEEN 12 AND 17 and nt.anio=2023 GROUP by nt.id_cita,nt.anio,nt.mes,nt.fecha_atencion,nt.id_paciente, nt.id_personal, nt.id_registrador,nt.anio_actual_paciente, nt.tipo_diagnostico,nt.codigo_item, mhe.id_establecimiento,mhe.red,mhe.microred,mhe.nombre_establecimiento,mhe.departamento,mhe.distrito,mhe.provincia\n",
      "    \n",
      "SELECT  '123' as df_id,'CONSEJERÍAS' as df_grupo,'99401.31' as df_codigo,'Consejería en Prevención de Enfermedades No transmisibles (Salud Física)' as df_subgrupo,'' as df_detalles, nt.id_cita,nt.anio,nt.mes,nt.fecha_atencion,nt.id_paciente, nt.id_personal, nt.id_registrador,nt.anio_actual_paciente, nt.tipo_diagnostico,nt.codigo_item, mhe.id_establecimiento,mhe.red,mhe.microred,mhe.nombre_establecimiento,mhe.departamento,mhe.distrito,mhe.provincia , max(CASE  WHEN nt.id_correlativo_lab='1' THEN nt.valor_lab ELSE null END ) AS \"lab1\", max(CASE  WHEN nt.id_correlativo_lab='2' THEN nt.valor_lab ELSE null END ) AS \"lab2\", max(CASE  WHEN nt.id_correlativo_lab='3' THEN nt.valor_lab ELSE null END ) AS \"lab3\"  FROM maestros.nominal_trama nt \n",
      "    INNER JOIN maestros.maestro_his_establecimiento mhe ON mhe.id_establecimiento = nt.id_establecimiento  \n",
      "    WHERE  nt.tipo_diagnostico ='D' AND codigo_item in('99401.31')AND nt.anio_actual_paciente BETWEEN 12 AND 17 and nt.anio=2023 GROUP by nt.id_cita,nt.anio,nt.mes,nt.fecha_atencion,nt.id_paciente, nt.id_personal, nt.id_registrador,nt.anio_actual_paciente, nt.tipo_diagnostico,nt.codigo_item, mhe.id_establecimiento,mhe.red,mhe.microred,mhe.nombre_establecimiento,mhe.departamento,mhe.distrito,mhe.provincia\n",
      "    \n",
      "SELECT  '124' as df_id,'CONSEJERÍAS' as df_grupo,'99403' as df_codigo,'Consejería Nutricional' as df_subgrupo,'' as df_detalles, nt.id_cita,nt.anio,nt.mes,nt.fecha_atencion,nt.id_paciente, nt.id_personal, nt.id_registrador,nt.anio_actual_paciente, nt.tipo_diagnostico,nt.codigo_item, mhe.id_establecimiento,mhe.red,mhe.microred,mhe.nombre_establecimiento,mhe.departamento,mhe.distrito,mhe.provincia , max(CASE  WHEN nt.id_correlativo_lab='1' THEN nt.valor_lab ELSE null END ) AS \"lab1\", max(CASE  WHEN nt.id_correlativo_lab='2' THEN nt.valor_lab ELSE null END ) AS \"lab2\", max(CASE  WHEN nt.id_correlativo_lab='3' THEN nt.valor_lab ELSE null END ) AS \"lab3\"  FROM maestros.nominal_trama nt \n",
      "    INNER JOIN maestros.maestro_his_establecimiento mhe ON mhe.id_establecimiento = nt.id_establecimiento  \n",
      "    WHERE  nt.tipo_diagnostico ='D' AND codigo_item in('99403')AND nt.anio_actual_paciente BETWEEN 12 AND 17 and nt.anio=2023 GROUP by nt.id_cita,nt.anio,nt.mes,nt.fecha_atencion,nt.id_paciente, nt.id_personal, nt.id_registrador,nt.anio_actual_paciente, nt.tipo_diagnostico,nt.codigo_item, mhe.id_establecimiento,mhe.red,mhe.microred,mhe.nombre_establecimiento,mhe.departamento,mhe.distrito,mhe.provincia\n",
      "    \n",
      "SELECT  '125' as df_id,'CONSEJERÍAS' as df_grupo,'99403.01' as df_codigo,'Consejería Nutricional: Alimentación Saludable' as df_subgrupo,'' as df_detalles, nt.id_cita,nt.anio,nt.mes,nt.fecha_atencion,nt.id_paciente, nt.id_personal, nt.id_registrador,nt.anio_actual_paciente, nt.tipo_diagnostico,nt.codigo_item, mhe.id_establecimiento,mhe.red,mhe.microred,mhe.nombre_establecimiento,mhe.departamento,mhe.distrito,mhe.provincia , max(CASE  WHEN nt.id_correlativo_lab='1' THEN nt.valor_lab ELSE null END ) AS \"lab1\", max(CASE  WHEN nt.id_correlativo_lab='2' THEN nt.valor_lab ELSE null END ) AS \"lab2\", max(CASE  WHEN nt.id_correlativo_lab='3' THEN nt.valor_lab ELSE null END ) AS \"lab3\"  FROM maestros.nominal_trama nt \n",
      "    INNER JOIN maestros.maestro_his_establecimiento mhe ON mhe.id_establecimiento = nt.id_establecimiento  \n",
      "    WHERE  nt.tipo_diagnostico ='D' AND codigo_item in('99403.01')AND nt.anio_actual_paciente BETWEEN 12 AND 17 and nt.anio=2023 GROUP by nt.id_cita,nt.anio,nt.mes,nt.fecha_atencion,nt.id_paciente, nt.id_personal, nt.id_registrador,nt.anio_actual_paciente, nt.tipo_diagnostico,nt.codigo_item, mhe.id_establecimiento,mhe.red,mhe.microred,mhe.nombre_establecimiento,mhe.departamento,mhe.distrito,mhe.provincia\n",
      "    \n",
      "SELECT  '126' as df_id,'CONSEJERÍAS' as df_grupo,'99401.33' as df_codigo,'Consejería Pre Test para VIH' as df_subgrupo,'' as df_detalles, nt.id_cita,nt.anio,nt.mes,nt.fecha_atencion,nt.id_paciente, nt.id_personal, nt.id_registrador,nt.anio_actual_paciente, nt.tipo_diagnostico,nt.codigo_item, mhe.id_establecimiento,mhe.red,mhe.microred,mhe.nombre_establecimiento,mhe.departamento,mhe.distrito,mhe.provincia , max(CASE  WHEN nt.id_correlativo_lab='1' THEN nt.valor_lab ELSE null END ) AS \"lab1\", max(CASE  WHEN nt.id_correlativo_lab='2' THEN nt.valor_lab ELSE null END ) AS \"lab2\", max(CASE  WHEN nt.id_correlativo_lab='3' THEN nt.valor_lab ELSE null END ) AS \"lab3\"  FROM maestros.nominal_trama nt \n",
      "    INNER JOIN maestros.maestro_his_establecimiento mhe ON mhe.id_establecimiento = nt.id_establecimiento  \n",
      "    WHERE  nt.tipo_diagnostico ='D' AND codigo_item in('99401.33')AND nt.anio_actual_paciente BETWEEN 12 AND 17 and nt.anio=2023 GROUP by nt.id_cita,nt.anio,nt.mes,nt.fecha_atencion,nt.id_paciente, nt.id_personal, nt.id_registrador,nt.anio_actual_paciente, nt.tipo_diagnostico,nt.codigo_item, mhe.id_establecimiento,mhe.red,mhe.microred,mhe.nombre_establecimiento,mhe.departamento,mhe.distrito,mhe.provincia\n",
      "    \n",
      "SELECT  '127' as df_id,'CONSEJERÍAS' as df_grupo,'99401.34' as df_codigo,'Consejería Post Test para VIH - Resultado No Reactivo' as df_subgrupo,'' as df_detalles, nt.id_cita,nt.anio,nt.mes,nt.fecha_atencion,nt.id_paciente, nt.id_personal, nt.id_registrador,nt.anio_actual_paciente, nt.tipo_diagnostico,nt.codigo_item, mhe.id_establecimiento,mhe.red,mhe.microred,mhe.nombre_establecimiento,mhe.departamento,mhe.distrito,mhe.provincia , max(CASE  WHEN nt.id_correlativo_lab='1' THEN nt.valor_lab ELSE null END ) AS \"lab1\", max(CASE  WHEN nt.id_correlativo_lab='2' THEN nt.valor_lab ELSE null END ) AS \"lab2\", max(CASE  WHEN nt.id_correlativo_lab='3' THEN nt.valor_lab ELSE null END ) AS \"lab3\"  FROM maestros.nominal_trama nt \n",
      "    INNER JOIN maestros.maestro_his_establecimiento mhe ON mhe.id_establecimiento = nt.id_establecimiento  \n",
      "    WHERE  nt.tipo_diagnostico ='D' AND codigo_item in('99401.34')AND nt.anio_actual_paciente BETWEEN 12 AND 17 and nt.anio=2023 GROUP by nt.id_cita,nt.anio,nt.mes,nt.fecha_atencion,nt.id_paciente, nt.id_personal, nt.id_registrador,nt.anio_actual_paciente, nt.tipo_diagnostico,nt.codigo_item, mhe.id_establecimiento,mhe.red,mhe.microred,mhe.nombre_establecimiento,mhe.departamento,mhe.distrito,mhe.provincia\n",
      "    \n",
      "SELECT  '128' as df_id,'CONSEJERÍAS' as df_grupo,'99403.03' as df_codigo,'Consejería Post Test para VIH - Resultado Reactivo' as df_subgrupo,'' as df_detalles, nt.id_cita,nt.anio,nt.mes,nt.fecha_atencion,nt.id_paciente, nt.id_personal, nt.id_registrador,nt.anio_actual_paciente, nt.tipo_diagnostico,nt.codigo_item, mhe.id_establecimiento,mhe.red,mhe.microred,mhe.nombre_establecimiento,mhe.departamento,mhe.distrito,mhe.provincia , max(CASE  WHEN nt.id_correlativo_lab='1' THEN nt.valor_lab ELSE null END ) AS \"lab1\", max(CASE  WHEN nt.id_correlativo_lab='2' THEN nt.valor_lab ELSE null END ) AS \"lab2\", max(CASE  WHEN nt.id_correlativo_lab='3' THEN nt.valor_lab ELSE null END ) AS \"lab3\"  FROM maestros.nominal_trama nt \n",
      "    INNER JOIN maestros.maestro_his_establecimiento mhe ON mhe.id_establecimiento = nt.id_establecimiento  \n",
      "    WHERE  nt.tipo_diagnostico ='D' AND codigo_item in('99403.03')AND nt.anio_actual_paciente BETWEEN 12 AND 17 and nt.anio=2023 GROUP by nt.id_cita,nt.anio,nt.mes,nt.fecha_atencion,nt.id_paciente, nt.id_personal, nt.id_registrador,nt.anio_actual_paciente, nt.tipo_diagnostico,nt.codigo_item, mhe.id_establecimiento,mhe.red,mhe.microred,mhe.nombre_establecimiento,mhe.departamento,mhe.distrito,mhe.provincia\n",
      "    \n",
      "SELECT  '129' as df_id,'CONSEJERÍAS' as df_grupo,'99402.05' as df_codigo,'Consejería/Orientación en Prevención de ITS, VIH, Hepatitis' as df_subgrupo,'' as df_detalles, nt.id_cita,nt.anio,nt.mes,nt.fecha_atencion,nt.id_paciente, nt.id_personal, nt.id_registrador,nt.anio_actual_paciente, nt.tipo_diagnostico,nt.codigo_item, mhe.id_establecimiento,mhe.red,mhe.microred,mhe.nombre_establecimiento,mhe.departamento,mhe.distrito,mhe.provincia , max(CASE  WHEN nt.id_correlativo_lab='1' THEN nt.valor_lab ELSE null END ) AS \"lab1\", max(CASE  WHEN nt.id_correlativo_lab='2' THEN nt.valor_lab ELSE null END ) AS \"lab2\", max(CASE  WHEN nt.id_correlativo_lab='3' THEN nt.valor_lab ELSE null END ) AS \"lab3\"  FROM maestros.nominal_trama nt \n",
      "    INNER JOIN maestros.maestro_his_establecimiento mhe ON mhe.id_establecimiento = nt.id_establecimiento  \n",
      "    WHERE  nt.tipo_diagnostico ='D' AND codigo_item in('99402.05')AND nt.anio_actual_paciente BETWEEN 12 AND 17 and nt.anio=2023 GROUP by nt.id_cita,nt.anio,nt.mes,nt.fecha_atencion,nt.id_paciente, nt.id_personal, nt.id_registrador,nt.anio_actual_paciente, nt.tipo_diagnostico,nt.codigo_item, mhe.id_establecimiento,mhe.red,mhe.microred,mhe.nombre_establecimiento,mhe.departamento,mhe.distrito,mhe.provincia\n",
      "    \n",
      "SELECT  '130' as df_id,'CONSEJERÍAS' as df_grupo,'99401.24' as df_codigo,'Consejerìa higiene de manos' as df_subgrupo,'' as df_detalles, nt.id_cita,nt.anio,nt.mes,nt.fecha_atencion,nt.id_paciente, nt.id_personal, nt.id_registrador,nt.anio_actual_paciente, nt.tipo_diagnostico,nt.codigo_item, mhe.id_establecimiento,mhe.red,mhe.microred,mhe.nombre_establecimiento,mhe.departamento,mhe.distrito,mhe.provincia , max(CASE  WHEN nt.id_correlativo_lab='1' THEN nt.valor_lab ELSE null END ) AS \"lab1\", max(CASE  WHEN nt.id_correlativo_lab='2' THEN nt.valor_lab ELSE null END ) AS \"lab2\", max(CASE  WHEN nt.id_correlativo_lab='3' THEN nt.valor_lab ELSE null END ) AS \"lab3\"  FROM maestros.nominal_trama nt \n",
      "    INNER JOIN maestros.maestro_his_establecimiento mhe ON mhe.id_establecimiento = nt.id_establecimiento  \n",
      "    WHERE  nt.tipo_diagnostico ='D' AND codigo_item in('99401.24')AND nt.anio_actual_paciente BETWEEN 12 AND 17 and nt.anio=2023 GROUP by nt.id_cita,nt.anio,nt.mes,nt.fecha_atencion,nt.id_paciente, nt.id_personal, nt.id_registrador,nt.anio_actual_paciente, nt.tipo_diagnostico,nt.codigo_item, mhe.id_establecimiento,mhe.red,mhe.microred,mhe.nombre_establecimiento,mhe.departamento,mhe.distrito,mhe.provincia\n",
      "    \n",
      "SELECT  '131' as df_id,'CONSEJERÍAS' as df_grupo,'99401.19' as df_codigo,'Consejerìa para el autocuidado' as df_subgrupo,'' as df_detalles, nt.id_cita,nt.anio,nt.mes,nt.fecha_atencion,nt.id_paciente, nt.id_personal, nt.id_registrador,nt.anio_actual_paciente, nt.tipo_diagnostico,nt.codigo_item, mhe.id_establecimiento,mhe.red,mhe.microred,mhe.nombre_establecimiento,mhe.departamento,mhe.distrito,mhe.provincia , max(CASE  WHEN nt.id_correlativo_lab='1' THEN nt.valor_lab ELSE null END ) AS \"lab1\", max(CASE  WHEN nt.id_correlativo_lab='2' THEN nt.valor_lab ELSE null END ) AS \"lab2\", max(CASE  WHEN nt.id_correlativo_lab='3' THEN nt.valor_lab ELSE null END ) AS \"lab3\"  FROM maestros.nominal_trama nt \n",
      "    INNER JOIN maestros.maestro_his_establecimiento mhe ON mhe.id_establecimiento = nt.id_establecimiento  \n",
      "    WHERE  nt.tipo_diagnostico ='D' AND codigo_item in('99401.19')AND nt.anio_actual_paciente BETWEEN 12 AND 17 and nt.anio=2023 GROUP by nt.id_cita,nt.anio,nt.mes,nt.fecha_atencion,nt.id_paciente, nt.id_personal, nt.id_registrador,nt.anio_actual_paciente, nt.tipo_diagnostico,nt.codigo_item, mhe.id_establecimiento,mhe.red,mhe.microred,mhe.nombre_establecimiento,mhe.departamento,mhe.distrito,mhe.provincia\n",
      "    \n"
     ]
    }
   ],
   "source": [
    "grupo='CONSEJERÍAS'\n",
    "id+=1\n",
    "dx_99401 =filtro(id=id,grupo=grupo,codigo='99401',subgrupo='Consejería Integral',detalles='',dx1='99401',t_dx='D',conn=conn)\n",
    "id+=1\n",
    "dx_99402_03 =filtro(id=id,grupo=grupo,codigo='99402.03',subgrupo='Consejería/Orientación en Salud Sexual y Reproductiva',detalles='',dx1='99402.03',t_dx='D',conn=conn)\n",
    "id+=1\n",
    "dx_99402_04 =filtro(id=id,grupo=grupo,codigo='99402.04',subgrupo='Orientación/Consejería en Planificación Familiar',detalles='',dx1='99402.04',t_dx='D',conn=conn)\n",
    "id+=1\n",
    "dx_99402_09 =filtro(id=id,grupo=grupo,codigo='99402.09',subgrupo='Consejería de Prevención en Riesgos de Salud Mental',detalles='',dx1='99402.09',t_dx='D',conn=conn)\n",
    "id+=1\n",
    "dx_99401_31 =filtro(id=id,grupo=grupo,codigo='99401.31',subgrupo='Consejería en Prevención de Enfermedades No transmisibles (Salud Física)',detalles='',dx1='99401.31',t_dx='D',conn=conn)\n",
    "id+=1\n",
    "dx_99403 =filtro(id=id,grupo=grupo,codigo='99403',subgrupo='Consejería Nutricional',detalles='',dx1='99403',t_dx='D',conn=conn)\n",
    "id+=1\n",
    "dx_99403_01 =filtro(id=id,grupo=grupo,codigo='99403.01',subgrupo='Consejería Nutricional: Alimentación Saludable',detalles='',dx1='99403.01',t_dx='D',conn=conn)\n",
    "id+=1\n",
    "dx_99401_33 =filtro(id=id,grupo=grupo,codigo='99401.33',subgrupo='Consejería Pre Test para VIH',detalles='',dx1='99401.33',t_dx='D',conn=conn)\n",
    "id+=1\n",
    "dx_99401_34 =filtro(id=id,grupo=grupo,codigo='99401.34',subgrupo='Consejería Post Test para VIH - Resultado No Reactivo',detalles='',dx1='99401.34',t_dx='D',conn=conn)\n",
    "id+=1\n",
    "dx_99403_03 =filtro(id=id,grupo=grupo,codigo='99403.03',subgrupo='Consejería Post Test para VIH - Resultado Reactivo',detalles='',dx1='99403.03',t_dx='D',conn=conn)\n",
    "id+=1\n",
    "dx_99402_05 =filtro(id=id,grupo=grupo,codigo='99402.05',subgrupo='Consejería/Orientación en Prevención de ITS, VIH, Hepatitis',detalles='',dx1='99402.05',t_dx='D',conn=conn)\n",
    "id+=1\n",
    "dx_99401_24 =filtro(id=id,grupo=grupo,codigo='99401.24',subgrupo='Consejerìa higiene de manos',detalles='',dx1='99401.24',t_dx='D',conn=conn)\n",
    "id+=1\n",
    "dx_99401_19 =filtro(id=id,grupo=grupo,codigo='99401.19',subgrupo='Consejerìa para el autocuidado',detalles='',dx1='99401.19',t_dx='D',conn=conn)\n",
    "\n",
    "\n",
    "df = pd.concat([df, dx_99401,dx_99402_03,dx_99402_04,dx_99402_09,dx_99401_31,dx_99403,dx_99403_01,dx_99401_33,dx_99401_34,dx_99403_03,dx_99402_05,dx_99401_24,dx_99401_19], ignore_index=True)\n",
    "\n"
   ]
  },
  {
   "cell_type": "markdown",
   "metadata": {},
   "source": [
    "<h2>TOMA DE PRUEBA RÁPIDA (en caso lo requiera) PARA LA DETECCIÓN DE </h2>"
   ]
  },
  {
   "cell_type": "code",
   "execution_count": 40,
   "metadata": {},
   "outputs": [
    {
     "name": "stdout",
     "output_type": "stream",
     "text": [
      "SELECT  '132' as df_id,'TOMA DE PRUEBA RÁPIDA (en caso lo requiera) PARA LA DETECCIÓN DE' as df_grupo,'86703' as df_codigo,'Anticuerpos; HIV-1 y HIV-2, análisis único (Tamizaje de VIH por Prueba Rápida)' as df_subgrupo,'' as df_detalles, nt.id_cita,nt.anio,nt.mes,nt.fecha_atencion,nt.id_paciente, nt.id_personal, nt.id_registrador,nt.anio_actual_paciente, nt.tipo_diagnostico,nt.codigo_item, mhe.id_establecimiento,mhe.red,mhe.microred,mhe.nombre_establecimiento,mhe.departamento,mhe.distrito,mhe.provincia , max(CASE  WHEN nt.id_correlativo_lab='1' THEN nt.valor_lab ELSE null END ) AS \"lab1\", max(CASE  WHEN nt.id_correlativo_lab='2' THEN nt.valor_lab ELSE null END ) AS \"lab2\", max(CASE  WHEN nt.id_correlativo_lab='3' THEN nt.valor_lab ELSE null END ) AS \"lab3\"  FROM maestros.nominal_trama nt \n",
      "    INNER JOIN maestros.maestro_his_establecimiento mhe ON mhe.id_establecimiento = nt.id_establecimiento  \n",
      "    WHERE  nt.tipo_diagnostico ='D' AND codigo_item in('86703','86703.01')AND nt.anio_actual_paciente BETWEEN 12 AND 17 and nt.anio=2023 GROUP by nt.id_cita,nt.anio,nt.mes,nt.fecha_atencion,nt.id_paciente, nt.id_personal, nt.id_registrador,nt.anio_actual_paciente, nt.tipo_diagnostico,nt.codigo_item, mhe.id_establecimiento,mhe.red,mhe.microred,mhe.nombre_establecimiento,mhe.departamento,mhe.distrito,mhe.provincia\n",
      "    \n"
     ]
    },
    {
     "name": "stderr",
     "output_type": "stream",
     "text": [
      "d:\\Irvin\\Irvin\\Python\\Python-GERESA\\modulos\\adolescente\\../..\\clases\\bd\\conexion2.py:47: UserWarning: pandas only supports SQLAlchemy connectable (engine/connection) or database string URI or sqlite3 DBAPI2 connection. Other DBAPI2 objects are not tested. Please consider using SQLAlchemy.\n",
      "  s = pd.read_sql(sql, con=self.conn)\n"
     ]
    },
    {
     "name": "stdout",
     "output_type": "stream",
     "text": [
      "SELECT  '133' as df_id,'TOMA DE PRUEBA RÁPIDA (en caso lo requiera) PARA LA DETECCIÓN DE' as df_grupo,'86780' as df_codigo,'Anticuerpo: Treponema Pallidum(Tamizaje de Sífilis por Prueba Rápida)' as df_subgrupo,'' as df_detalles, nt.id_cita,nt.anio,nt.mes,nt.fecha_atencion,nt.id_paciente, nt.id_personal, nt.id_registrador,nt.anio_actual_paciente, nt.tipo_diagnostico,nt.codigo_item, mhe.id_establecimiento,mhe.red,mhe.microred,mhe.nombre_establecimiento,mhe.departamento,mhe.distrito,mhe.provincia , max(CASE  WHEN nt.id_correlativo_lab='1' THEN nt.valor_lab ELSE null END ) AS \"lab1\", max(CASE  WHEN nt.id_correlativo_lab='2' THEN nt.valor_lab ELSE null END ) AS \"lab2\", max(CASE  WHEN nt.id_correlativo_lab='3' THEN nt.valor_lab ELSE null END ) AS \"lab3\"  FROM maestros.nominal_trama nt \n",
      "    INNER JOIN maestros.maestro_his_establecimiento mhe ON mhe.id_establecimiento = nt.id_establecimiento  \n",
      "    WHERE  nt.tipo_diagnostico ='D' AND codigo_item in('86780','86780.01')AND nt.anio_actual_paciente BETWEEN 12 AND 17 and nt.anio=2023 GROUP by nt.id_cita,nt.anio,nt.mes,nt.fecha_atencion,nt.id_paciente, nt.id_personal, nt.id_registrador,nt.anio_actual_paciente, nt.tipo_diagnostico,nt.codigo_item, mhe.id_establecimiento,mhe.red,mhe.microred,mhe.nombre_establecimiento,mhe.departamento,mhe.distrito,mhe.provincia\n",
      "    \n",
      "SELECT  '134' as df_id,'TOMA DE PRUEBA RÁPIDA (en caso lo requiera) PARA LA DETECCIÓN DE' as df_grupo,'86593' as df_codigo,'Prueba de Sífilis; anticuerpo no treponémico cuantitativa ()' as df_subgrupo,'' as df_detalles, nt.id_cita,nt.anio,nt.mes,nt.fecha_atencion,nt.id_paciente, nt.id_personal, nt.id_registrador,nt.anio_actual_paciente, nt.tipo_diagnostico,nt.codigo_item, mhe.id_establecimiento,mhe.red,mhe.microred,mhe.nombre_establecimiento,mhe.departamento,mhe.distrito,mhe.provincia , max(CASE  WHEN nt.id_correlativo_lab='1' THEN nt.valor_lab ELSE null END ) AS \"lab1\", max(CASE  WHEN nt.id_correlativo_lab='2' THEN nt.valor_lab ELSE null END ) AS \"lab2\", max(CASE  WHEN nt.id_correlativo_lab='3' THEN nt.valor_lab ELSE null END ) AS \"lab3\"  FROM maestros.nominal_trama nt \n",
      "    INNER JOIN maestros.maestro_his_establecimiento mhe ON mhe.id_establecimiento = nt.id_establecimiento  \n",
      "    WHERE  nt.tipo_diagnostico ='D' AND codigo_item in('86593')AND nt.anio_actual_paciente BETWEEN 12 AND 17 and nt.anio=2023 GROUP by nt.id_cita,nt.anio,nt.mes,nt.fecha_atencion,nt.id_paciente, nt.id_personal, nt.id_registrador,nt.anio_actual_paciente, nt.tipo_diagnostico,nt.codigo_item, mhe.id_establecimiento,mhe.red,mhe.microred,mhe.nombre_establecimiento,mhe.departamento,mhe.distrito,mhe.provincia\n",
      "    \n",
      "SELECT  '135' as df_id,'TOMA DE PRUEBA RÁPIDA (en caso lo requiera) PARA LA DETECCIÓN DE' as df_grupo,'87342' as df_codigo,'Tamizaje de Hepatitis B por Prueba Rápida' as df_subgrupo,'' as df_detalles, nt.id_cita,nt.anio,nt.mes,nt.fecha_atencion,nt.id_paciente, nt.id_personal, nt.id_registrador,nt.anio_actual_paciente, nt.tipo_diagnostico,nt.codigo_item, mhe.id_establecimiento,mhe.red,mhe.microred,mhe.nombre_establecimiento,mhe.departamento,mhe.distrito,mhe.provincia , max(CASE  WHEN nt.id_correlativo_lab='1' THEN nt.valor_lab ELSE null END ) AS \"lab1\", max(CASE  WHEN nt.id_correlativo_lab='2' THEN nt.valor_lab ELSE null END ) AS \"lab2\", max(CASE  WHEN nt.id_correlativo_lab='3' THEN nt.valor_lab ELSE null END ) AS \"lab3\"  FROM maestros.nominal_trama nt \n",
      "    INNER JOIN maestros.maestro_his_establecimiento mhe ON mhe.id_establecimiento = nt.id_establecimiento  \n",
      "    WHERE  nt.tipo_diagnostico ='D' AND codigo_item in('87342')AND nt.anio_actual_paciente BETWEEN 12 AND 17 and nt.anio=2023 GROUP by nt.id_cita,nt.anio,nt.mes,nt.fecha_atencion,nt.id_paciente, nt.id_personal, nt.id_registrador,nt.anio_actual_paciente, nt.tipo_diagnostico,nt.codigo_item, mhe.id_establecimiento,mhe.red,mhe.microred,mhe.nombre_establecimiento,mhe.departamento,mhe.distrito,mhe.provincia\n",
      "    \n",
      "SELECT  '136' as df_id,'TOMA DE PRUEBA RÁPIDA (en caso lo requiera) PARA LA DETECCIÓN DE' as df_grupo,'Z320' as df_codigo,'Embarazo No Confirmado: toma de pruebas para el descarte de embarazo en caso la adolescente lo requiera. (examen de orina)' as df_subgrupo,'' as df_detalles, nt.id_cita,nt.anio,nt.mes,nt.fecha_atencion,nt.id_paciente, nt.id_personal, nt.id_registrador,nt.anio_actual_paciente, nt.tipo_diagnostico,nt.codigo_item, mhe.id_establecimiento,mhe.red,mhe.microred,mhe.nombre_establecimiento,mhe.departamento,mhe.distrito,mhe.provincia , max(CASE  WHEN nt.id_correlativo_lab='1' THEN nt.valor_lab ELSE null END ) AS \"lab1\", max(CASE  WHEN nt.id_correlativo_lab='2' THEN nt.valor_lab ELSE null END ) AS \"lab2\", max(CASE  WHEN nt.id_correlativo_lab='3' THEN nt.valor_lab ELSE null END ) AS \"lab3\"  FROM maestros.nominal_trama nt \n",
      "    INNER JOIN maestros.maestro_his_establecimiento mhe ON mhe.id_establecimiento = nt.id_establecimiento  \n",
      "    WHERE  nt.tipo_diagnostico ='D' AND codigo_item in('Z320')AND nt.anio_actual_paciente BETWEEN 12 AND 17 and nt.anio=2023 GROUP by nt.id_cita,nt.anio,nt.mes,nt.fecha_atencion,nt.id_paciente, nt.id_personal, nt.id_registrador,nt.anio_actual_paciente, nt.tipo_diagnostico,nt.codigo_item, mhe.id_establecimiento,mhe.red,mhe.microred,mhe.nombre_establecimiento,mhe.departamento,mhe.distrito,mhe.provincia\n",
      "    \n"
     ]
    }
   ],
   "source": [
    "grupo='TOMA DE PRUEBA RÁPIDA (en caso lo requiera) PARA LA DETECCIÓN DE'\n",
    "id+=1\n",
    "dx_86703 =filtro(id=id,grupo=grupo,codigo='86703',subgrupo='Anticuerpos; HIV-1 y HIV-2, análisis único (Tamizaje de VIH por Prueba Rápida)',detalles='',dx1='86703,86703.01',t_dx='D',conn=conn)\n",
    "id+=1\n",
    "dx_86780 =filtro(id=id,grupo=grupo,codigo='86780',subgrupo='Anticuerpo: Treponema Pallidum(Tamizaje de Sífilis por Prueba Rápida)',detalles='',dx1='86780,86780.01',t_dx='D',conn=conn)\n",
    "id+=1\n",
    "dx_86593 =filtro(id=id,grupo=grupo,codigo='86593',subgrupo='Prueba de Sífilis; anticuerpo no treponémico cuantitativa ()',detalles='',dx1='86593',t_dx='D',conn=conn)\n",
    "id+=1\n",
    "dx_87342 =filtro(id=id,grupo=grupo,codigo='87342',subgrupo='Tamizaje de Hepatitis B por Prueba Rápida',detalles='',dx1='87342',t_dx='D',conn=conn)\n",
    "id+=1\n",
    "dx_Z320 =filtro(id=id,grupo=grupo,codigo='Z320',subgrupo='Embarazo No Confirmado: toma de pruebas para el descarte de embarazo en caso la adolescente lo requiera. (examen de orina)',detalles='',dx1='Z320',t_dx='D',conn=conn)\n",
    "\n",
    "df = pd.concat([df, dx_86703,dx_86780,dx_86593,dx_87342,dx_Z320], ignore_index=True)\n"
   ]
  },
  {
   "cell_type": "markdown",
   "metadata": {},
   "source": [
    "<h2>SALUD MENTAL</h2>"
   ]
  },
  {
   "cell_type": "code",
   "execution_count": 41,
   "metadata": {},
   "outputs": [
    {
     "name": "stdout",
     "output_type": "stream",
     "text": [
      "SELECT  '137' as df_id,'SALUD MENTAL' as df_grupo,'96150' as df_codigo,'Entrevista de Tamizaje' as df_subgrupo,'' as df_detalles, nt.id_cita,nt.anio,nt.mes,nt.fecha_atencion,nt.id_paciente, nt.id_personal, nt.id_registrador,nt.anio_actual_paciente, nt.tipo_diagnostico,nt.codigo_item, mhe.id_establecimiento,mhe.red,mhe.microred,mhe.nombre_establecimiento,mhe.departamento,mhe.distrito,mhe.provincia , max(CASE  WHEN nt.id_correlativo_lab='1' THEN nt.valor_lab ELSE null END ) AS \"lab1\", max(CASE  WHEN nt.id_correlativo_lab='2' THEN nt.valor_lab ELSE null END ) AS \"lab2\", max(CASE  WHEN nt.id_correlativo_lab='3' THEN nt.valor_lab ELSE null END ) AS \"lab3\"  FROM maestros.nominal_trama nt \n",
      "    INNER JOIN maestros.maestro_his_establecimiento mhe ON mhe.id_establecimiento = nt.id_establecimiento  \n",
      "    WHERE  nt.tipo_diagnostico ='D' AND codigo_item in('96150')AND nt.anio_actual_paciente BETWEEN 12 AND 17 and nt.anio=2023 GROUP by nt.id_cita,nt.anio,nt.mes,nt.fecha_atencion,nt.id_paciente, nt.id_personal, nt.id_registrador,nt.anio_actual_paciente, nt.tipo_diagnostico,nt.codigo_item, mhe.id_establecimiento,mhe.red,mhe.microred,mhe.nombre_establecimiento,mhe.departamento,mhe.distrito,mhe.provincia\n",
      "    \n"
     ]
    },
    {
     "name": "stderr",
     "output_type": "stream",
     "text": [
      "d:\\Irvin\\Irvin\\Python\\Python-GERESA\\modulos\\adolescente\\../..\\clases\\bd\\conexion2.py:47: UserWarning: pandas only supports SQLAlchemy connectable (engine/connection) or database string URI or sqlite3 DBAPI2 connection. Other DBAPI2 objects are not tested. Please consider using SQLAlchemy.\n",
      "  s = pd.read_sql(sql, con=self.conn)\n"
     ]
    },
    {
     "name": "stdout",
     "output_type": "stream",
     "text": [
      "SELECT  '138' as df_id,'SALUD MENTAL' as df_grupo,'F419' as df_codigo,'Trastorno de ansiedad, no Especificado' as df_subgrupo,'' as df_detalles, nt.id_cita,nt.anio,nt.mes,nt.fecha_atencion,nt.id_paciente, nt.id_personal, nt.id_registrador,nt.anio_actual_paciente, nt.tipo_diagnostico,nt.codigo_item, mhe.id_establecimiento,mhe.red,mhe.microred,mhe.nombre_establecimiento,mhe.departamento,mhe.distrito,mhe.provincia , max(CASE  WHEN nt.id_correlativo_lab='1' THEN nt.valor_lab ELSE null END ) AS \"lab1\", max(CASE  WHEN nt.id_correlativo_lab='2' THEN nt.valor_lab ELSE null END ) AS \"lab2\", max(CASE  WHEN nt.id_correlativo_lab='3' THEN nt.valor_lab ELSE null END ) AS \"lab3\"  FROM maestros.nominal_trama nt \n",
      "    INNER JOIN maestros.maestro_his_establecimiento mhe ON mhe.id_establecimiento = nt.id_establecimiento  \n",
      "    WHERE  nt.tipo_diagnostico ='D' AND codigo_item in('F419')AND nt.anio_actual_paciente BETWEEN 12 AND 17 and nt.anio=2023 GROUP by nt.id_cita,nt.anio,nt.mes,nt.fecha_atencion,nt.id_paciente, nt.id_personal, nt.id_registrador,nt.anio_actual_paciente, nt.tipo_diagnostico,nt.codigo_item, mhe.id_establecimiento,mhe.red,mhe.microred,mhe.nombre_establecimiento,mhe.departamento,mhe.distrito,mhe.provincia\n",
      "    \n",
      "SELECT  '139' as df_id,'SALUD MENTAL' as df_grupo,'Z553' as df_codigo,' Problemas Relacionados con el Bajo Rendimiento Escolar' as df_subgrupo,'' as df_detalles, nt.id_cita,nt.anio,nt.mes,nt.fecha_atencion,nt.id_paciente, nt.id_personal, nt.id_registrador,nt.anio_actual_paciente, nt.tipo_diagnostico,nt.codigo_item, mhe.id_establecimiento,mhe.red,mhe.microred,mhe.nombre_establecimiento,mhe.departamento,mhe.distrito,mhe.provincia , max(CASE  WHEN nt.id_correlativo_lab='1' THEN nt.valor_lab ELSE null END ) AS \"lab1\", max(CASE  WHEN nt.id_correlativo_lab='2' THEN nt.valor_lab ELSE null END ) AS \"lab2\", max(CASE  WHEN nt.id_correlativo_lab='3' THEN nt.valor_lab ELSE null END ) AS \"lab3\"  FROM maestros.nominal_trama nt \n",
      "    INNER JOIN maestros.maestro_his_establecimiento mhe ON mhe.id_establecimiento = nt.id_establecimiento  \n",
      "    WHERE  nt.tipo_diagnostico ='D' AND codigo_item in('Z553')AND nt.anio_actual_paciente BETWEEN 12 AND 17 and nt.anio=2023 GROUP by nt.id_cita,nt.anio,nt.mes,nt.fecha_atencion,nt.id_paciente, nt.id_personal, nt.id_registrador,nt.anio_actual_paciente, nt.tipo_diagnostico,nt.codigo_item, mhe.id_establecimiento,mhe.red,mhe.microred,mhe.nombre_establecimiento,mhe.departamento,mhe.distrito,mhe.provincia\n",
      "    \n",
      "SELECT  '140' as df_id,'SALUD MENTAL' as df_grupo,'Z7281' as df_codigo,'Riesgos de Lesiones o Accidentes' as df_subgrupo,'' as df_detalles, nt.id_cita,nt.anio,nt.mes,nt.fecha_atencion,nt.id_paciente, nt.id_personal, nt.id_registrador,nt.anio_actual_paciente, nt.tipo_diagnostico,nt.codigo_item, mhe.id_establecimiento,mhe.red,mhe.microred,mhe.nombre_establecimiento,mhe.departamento,mhe.distrito,mhe.provincia , max(CASE  WHEN nt.id_correlativo_lab='1' THEN nt.valor_lab ELSE null END ) AS \"lab1\", max(CASE  WHEN nt.id_correlativo_lab='2' THEN nt.valor_lab ELSE null END ) AS \"lab2\", max(CASE  WHEN nt.id_correlativo_lab='3' THEN nt.valor_lab ELSE null END ) AS \"lab3\"  FROM maestros.nominal_trama nt \n",
      "    INNER JOIN maestros.maestro_his_establecimiento mhe ON mhe.id_establecimiento = nt.id_establecimiento  \n",
      "    WHERE  nt.tipo_diagnostico ='D' AND codigo_item in('Z7281')AND nt.anio_actual_paciente BETWEEN 12 AND 17 and nt.anio=2023 GROUP by nt.id_cita,nt.anio,nt.mes,nt.fecha_atencion,nt.id_paciente, nt.id_personal, nt.id_registrador,nt.anio_actual_paciente, nt.tipo_diagnostico,nt.codigo_item, mhe.id_establecimiento,mhe.red,mhe.microred,mhe.nombre_establecimiento,mhe.departamento,mhe.distrito,mhe.provincia\n",
      "    \n",
      "SELECT  '141' as df_id,'SALUD MENTAL' as df_grupo,'96150.01' as df_codigo,'Entrevista de Tamizaje' as df_subgrupo,'Tamizaje de Salud Mental en Violencia' as df_detalles, nt.id_cita,nt.anio,nt.mes,nt.fecha_atencion,nt.id_paciente, nt.id_personal, nt.id_registrador,nt.anio_actual_paciente, nt.tipo_diagnostico,nt.codigo_item, mhe.id_establecimiento,mhe.red,mhe.microred,mhe.nombre_establecimiento,mhe.departamento,mhe.distrito,mhe.provincia , max(CASE  WHEN nt.id_correlativo_lab='1' THEN nt.valor_lab ELSE null END ) AS \"lab1\", max(CASE  WHEN nt.id_correlativo_lab='2' THEN nt.valor_lab ELSE null END ) AS \"lab2\", max(CASE  WHEN nt.id_correlativo_lab='3' THEN nt.valor_lab ELSE null END ) AS \"lab3\"  FROM maestros.nominal_trama nt \n",
      "    INNER JOIN maestros.maestro_his_establecimiento mhe ON mhe.id_establecimiento = nt.id_establecimiento  \n",
      "    WHERE  nt.tipo_diagnostico ='D' AND codigo_item in('96150.01')AND nt.anio_actual_paciente BETWEEN 12 AND 17 and nt.anio=2023 GROUP by nt.id_cita,nt.anio,nt.mes,nt.fecha_atencion,nt.id_paciente, nt.id_personal, nt.id_registrador,nt.anio_actual_paciente, nt.tipo_diagnostico,nt.codigo_item, mhe.id_establecimiento,mhe.red,mhe.microred,mhe.nombre_establecimiento,mhe.departamento,mhe.distrito,mhe.provincia\n",
      "    \n"
     ]
    },
    {
     "name": "stderr",
     "output_type": "stream",
     "text": [
      "d:\\Irvin\\Irvin\\Python\\Python-GERESA\\modulos\\adolescente\\../..\\clases\\bd\\conexion2.py:47: UserWarning: pandas only supports SQLAlchemy connectable (engine/connection) or database string URI or sqlite3 DBAPI2 connection. Other DBAPI2 objects are not tested. Please consider using SQLAlchemy.\n",
      "  s = pd.read_sql(sql, con=self.conn)\n"
     ]
    },
    {
     "name": "stdout",
     "output_type": "stream",
     "text": [
      "SELECT  '142' as df_id,'SALUD MENTAL' as df_grupo,'96150.02' as df_codigo,'Entrevista de Tamizaje' as df_subgrupo,'Tamizaje de Salud Mental en Alcohol y Drogas' as df_detalles, nt.id_cita,nt.anio,nt.mes,nt.fecha_atencion,nt.id_paciente, nt.id_personal, nt.id_registrador,nt.anio_actual_paciente, nt.tipo_diagnostico,nt.codigo_item, mhe.id_establecimiento,mhe.red,mhe.microred,mhe.nombre_establecimiento,mhe.departamento,mhe.distrito,mhe.provincia , max(CASE  WHEN nt.id_correlativo_lab='1' THEN nt.valor_lab ELSE null END ) AS \"lab1\", max(CASE  WHEN nt.id_correlativo_lab='2' THEN nt.valor_lab ELSE null END ) AS \"lab2\", max(CASE  WHEN nt.id_correlativo_lab='3' THEN nt.valor_lab ELSE null END ) AS \"lab3\"  FROM maestros.nominal_trama nt \n",
      "    INNER JOIN maestros.maestro_his_establecimiento mhe ON mhe.id_establecimiento = nt.id_establecimiento  \n",
      "    WHERE  nt.tipo_diagnostico ='D' AND codigo_item in('96150.02')AND nt.anio_actual_paciente BETWEEN 12 AND 17 and nt.anio=2023 GROUP by nt.id_cita,nt.anio,nt.mes,nt.fecha_atencion,nt.id_paciente, nt.id_personal, nt.id_registrador,nt.anio_actual_paciente, nt.tipo_diagnostico,nt.codigo_item, mhe.id_establecimiento,mhe.red,mhe.microred,mhe.nombre_establecimiento,mhe.departamento,mhe.distrito,mhe.provincia\n",
      "    \n",
      "SELECT  '143' as df_id,'SALUD MENTAL' as df_grupo,'96150.03' as df_codigo,'Entrevista de Tamizaje' as df_subgrupo,'Tamizaje de Salud Mental en Trastornos Depresivos' as df_detalles, nt.id_cita,nt.anio,nt.mes,nt.fecha_atencion,nt.id_paciente, nt.id_personal, nt.id_registrador,nt.anio_actual_paciente, nt.tipo_diagnostico,nt.codigo_item, mhe.id_establecimiento,mhe.red,mhe.microred,mhe.nombre_establecimiento,mhe.departamento,mhe.distrito,mhe.provincia , max(CASE  WHEN nt.id_correlativo_lab='1' THEN nt.valor_lab ELSE null END ) AS \"lab1\", max(CASE  WHEN nt.id_correlativo_lab='2' THEN nt.valor_lab ELSE null END ) AS \"lab2\", max(CASE  WHEN nt.id_correlativo_lab='3' THEN nt.valor_lab ELSE null END ) AS \"lab3\"  FROM maestros.nominal_trama nt \n",
      "    INNER JOIN maestros.maestro_his_establecimiento mhe ON mhe.id_establecimiento = nt.id_establecimiento  \n",
      "    WHERE  nt.tipo_diagnostico ='D' AND codigo_item in('96150.03')AND nt.anio_actual_paciente BETWEEN 12 AND 17 and nt.anio=2023 GROUP by nt.id_cita,nt.anio,nt.mes,nt.fecha_atencion,nt.id_paciente, nt.id_personal, nt.id_registrador,nt.anio_actual_paciente, nt.tipo_diagnostico,nt.codigo_item, mhe.id_establecimiento,mhe.red,mhe.microred,mhe.nombre_establecimiento,mhe.departamento,mhe.distrito,mhe.provincia\n",
      "    \n",
      "SELECT  '144' as df_id,'SALUD MENTAL' as df_grupo,'96150.04' as df_codigo,'Entrevista de Tamizaje' as df_subgrupo,'Tamizaje de Salud Mental en Psicosis' as df_detalles, nt.id_cita,nt.anio,nt.mes,nt.fecha_atencion,nt.id_paciente, nt.id_personal, nt.id_registrador,nt.anio_actual_paciente, nt.tipo_diagnostico,nt.codigo_item, mhe.id_establecimiento,mhe.red,mhe.microred,mhe.nombre_establecimiento,mhe.departamento,mhe.distrito,mhe.provincia , max(CASE  WHEN nt.id_correlativo_lab='1' THEN nt.valor_lab ELSE null END ) AS \"lab1\", max(CASE  WHEN nt.id_correlativo_lab='2' THEN nt.valor_lab ELSE null END ) AS \"lab2\", max(CASE  WHEN nt.id_correlativo_lab='3' THEN nt.valor_lab ELSE null END ) AS \"lab3\"  FROM maestros.nominal_trama nt \n",
      "    INNER JOIN maestros.maestro_his_establecimiento mhe ON mhe.id_establecimiento = nt.id_establecimiento  \n",
      "    WHERE  nt.tipo_diagnostico ='D' AND codigo_item in('96150.04')AND nt.anio_actual_paciente BETWEEN 12 AND 17 and nt.anio=2023 GROUP by nt.id_cita,nt.anio,nt.mes,nt.fecha_atencion,nt.id_paciente, nt.id_personal, nt.id_registrador,nt.anio_actual_paciente, nt.tipo_diagnostico,nt.codigo_item, mhe.id_establecimiento,mhe.red,mhe.microred,mhe.nombre_establecimiento,mhe.departamento,mhe.distrito,mhe.provincia\n",
      "    \n",
      "SELECT  '145' as df_id,'SALUD MENTAL' as df_grupo,'96150.05' as df_codigo,'Entrevista de Tamizaje' as df_subgrupo,'Tamizaje de Salud Mental en Habilidades Sociales (Aplicación de cuestinario de habilidades sociales)' as df_detalles, nt.id_cita,nt.anio,nt.mes,nt.fecha_atencion,nt.id_paciente, nt.id_personal, nt.id_registrador,nt.anio_actual_paciente, nt.tipo_diagnostico,nt.codigo_item, mhe.id_establecimiento,mhe.red,mhe.microred,mhe.nombre_establecimiento,mhe.departamento,mhe.distrito,mhe.provincia , max(CASE  WHEN nt.id_correlativo_lab='1' THEN nt.valor_lab ELSE null END ) AS \"lab1\", max(CASE  WHEN nt.id_correlativo_lab='2' THEN nt.valor_lab ELSE null END ) AS \"lab2\", max(CASE  WHEN nt.id_correlativo_lab='3' THEN nt.valor_lab ELSE null END ) AS \"lab3\"  FROM maestros.nominal_trama nt \n",
      "    INNER JOIN maestros.maestro_his_establecimiento mhe ON mhe.id_establecimiento = nt.id_establecimiento  \n",
      "    WHERE  nt.tipo_diagnostico ='D' AND codigo_item in('96150.05')AND nt.anio_actual_paciente BETWEEN 12 AND 17 and nt.anio=2023 GROUP by nt.id_cita,nt.anio,nt.mes,nt.fecha_atencion,nt.id_paciente, nt.id_personal, nt.id_registrador,nt.anio_actual_paciente, nt.tipo_diagnostico,nt.codigo_item, mhe.id_establecimiento,mhe.red,mhe.microred,mhe.nombre_establecimiento,mhe.departamento,mhe.distrito,mhe.provincia\n",
      "    \n"
     ]
    }
   ],
   "source": [
    "grupo='SALUD MENTAL'\n",
    "id+=1\n",
    "dx_96150 =filtro(id=id,grupo=grupo,codigo='96150',subgrupo='Entrevista de Tamizaje',detalles='',dx1='96150',t_dx='D',conn=conn)\n",
    "id+=1\n",
    "dx_F419 =filtro(id=id,grupo=grupo,codigo='F419',subgrupo='Trastorno de ansiedad, no Especificado',detalles='',dx1='F419',t_dx='D',conn=conn)\n",
    "id+=1\n",
    "dx_Z553 =filtro(id=id,grupo=grupo,codigo='Z553',subgrupo=' Problemas Relacionados con el Bajo Rendimiento Escolar',detalles='',dx1='Z553',t_dx='D',conn=conn)\n",
    "id+=1\n",
    "dx_Z7281 =filtro(id=id,grupo=grupo,codigo='Z7281',subgrupo='Riesgos de Lesiones o Accidentes',detalles='',dx1='Z7281',t_dx='D',conn=conn)\n",
    "id+=1\n",
    "dx_96150_01 =filtro(id=id,grupo=grupo,codigo='96150.01',subgrupo='Entrevista de Tamizaje',detalles='Tamizaje de Salud Mental en Violencia',dx1='96150.01',t_dx='D',conn=conn)\n",
    "id+=1\n",
    "dx_96150_02 =filtro(id=id,grupo=grupo,codigo='96150.02',subgrupo='Entrevista de Tamizaje',detalles='Tamizaje de Salud Mental en Alcohol y Drogas',dx1='96150.02',t_dx='D',conn=conn)\n",
    "id+=1\n",
    "dx_96150_03 =filtro(id=id,grupo=grupo,codigo='96150.03',subgrupo='Entrevista de Tamizaje',detalles='Tamizaje de Salud Mental en Trastornos Depresivos',dx1='96150.03',t_dx='D',conn=conn)\n",
    "id+=1\n",
    "dx_96150_04 =filtro(id=id,grupo=grupo,codigo='96150.04',subgrupo='Entrevista de Tamizaje',detalles='Tamizaje de Salud Mental en Psicosis',dx1='96150.04',t_dx='D',conn=conn)\n",
    "id+=1\n",
    "dx_96150_05 =filtro(id=id,grupo=grupo,codigo='96150.05',subgrupo='Entrevista de Tamizaje',detalles='Tamizaje de Salud Mental en Habilidades Sociales (Aplicación de cuestinario de habilidades sociales)',dx1='96150.05',t_dx='D',conn=conn)\n",
    "\n",
    "df = pd.concat([df, dx_96150,dx_F419,dx_Z553,dx_Z7281,dx_96150_01,dx_96150_02,dx_96150_03,dx_96150_04,dx_96150_05])\n",
    "\n"
   ]
  },
  {
   "cell_type": "markdown",
   "metadata": {},
   "source": [
    "<h2>TAMIZAJES POSITIVOS</h2>"
   ]
  },
  {
   "cell_type": "code",
   "execution_count": 42,
   "metadata": {},
   "outputs": [
    {
     "name": "stdout",
     "output_type": "stream",
     "text": [
      "SELECT  '146' as df_id,'TAMIZAJES POSITIVOS' as df_grupo,'R456' as df_codigo,'Problemas relacionados con violencia' as df_subgrupo,'' as df_detalles, nt.id_cita,nt.anio,nt.mes,nt.fecha_atencion,nt.id_paciente, nt.id_personal, nt.id_registrador,nt.anio_actual_paciente, nt.tipo_diagnostico,nt.codigo_item, mhe.id_establecimiento,mhe.red,mhe.microred,mhe.nombre_establecimiento,mhe.departamento,mhe.distrito,mhe.provincia , max(CASE  WHEN nt.id_correlativo_lab='1' THEN nt.valor_lab ELSE null END ) AS \"lab1\", max(CASE  WHEN nt.id_correlativo_lab='2' THEN nt.valor_lab ELSE null END ) AS \"lab2\", max(CASE  WHEN nt.id_correlativo_lab='3' THEN nt.valor_lab ELSE null END ) AS \"lab3\"  FROM maestros.nominal_trama nt \n",
      "    INNER JOIN maestros.maestro_his_establecimiento mhe ON mhe.id_establecimiento = nt.id_establecimiento  \n",
      "    WHERE  nt.tipo_diagnostico ='D' AND codigo_item in('R456')AND nt.anio_actual_paciente BETWEEN 12 AND 17 and nt.anio=2023 GROUP by nt.id_cita,nt.anio,nt.mes,nt.fecha_atencion,nt.id_paciente, nt.id_personal, nt.id_registrador,nt.anio_actual_paciente, nt.tipo_diagnostico,nt.codigo_item, mhe.id_establecimiento,mhe.red,mhe.microred,mhe.nombre_establecimiento,mhe.departamento,mhe.distrito,mhe.provincia\n",
      "    \n"
     ]
    },
    {
     "name": "stderr",
     "output_type": "stream",
     "text": [
      "d:\\Irvin\\Irvin\\Python\\Python-GERESA\\modulos\\adolescente\\../..\\clases\\bd\\conexion2.py:47: UserWarning: pandas only supports SQLAlchemy connectable (engine/connection) or database string URI or sqlite3 DBAPI2 connection. Other DBAPI2 objects are not tested. Please consider using SQLAlchemy.\n",
      "  s = pd.read_sql(sql, con=self.conn)\n"
     ]
    },
    {
     "name": "stdout",
     "output_type": "stream",
     "text": [
      "SELECT  '147' as df_id,'TAMIZAJES POSITIVOS' as df_grupo,'Z734' as df_codigo,'Problemas Relacionados con Habilidades Sociales Inadecuadas' as df_subgrupo,'' as df_detalles, nt.id_cita,nt.anio,nt.mes,nt.fecha_atencion,nt.id_paciente, nt.id_personal, nt.id_registrador,nt.anio_actual_paciente, nt.tipo_diagnostico,nt.codigo_item, mhe.id_establecimiento,mhe.red,mhe.microred,mhe.nombre_establecimiento,mhe.departamento,mhe.distrito,mhe.provincia , max(CASE  WHEN nt.id_correlativo_lab='1' THEN nt.valor_lab ELSE null END ) AS \"lab1\", max(CASE  WHEN nt.id_correlativo_lab='2' THEN nt.valor_lab ELSE null END ) AS \"lab2\", max(CASE  WHEN nt.id_correlativo_lab='3' THEN nt.valor_lab ELSE null END ) AS \"lab3\"  FROM maestros.nominal_trama nt \n",
      "    INNER JOIN maestros.maestro_his_establecimiento mhe ON mhe.id_establecimiento = nt.id_establecimiento  \n",
      "    WHERE  nt.tipo_diagnostico ='D' AND codigo_item in('Z734')AND nt.anio_actual_paciente BETWEEN 12 AND 17 and nt.anio=2023 GROUP by nt.id_cita,nt.anio,nt.mes,nt.fecha_atencion,nt.id_paciente, nt.id_personal, nt.id_registrador,nt.anio_actual_paciente, nt.tipo_diagnostico,nt.codigo_item, mhe.id_establecimiento,mhe.red,mhe.microred,mhe.nombre_establecimiento,mhe.departamento,mhe.distrito,mhe.provincia\n",
      "    \n",
      "SELECT  '148' as df_id,'TAMIZAJES POSITIVOS' as df_grupo,'Z720' as df_codigo,'Problemas Relacionados con el Uso de Tabaco' as df_subgrupo,'' as df_detalles, nt.id_cita,nt.anio,nt.mes,nt.fecha_atencion,nt.id_paciente, nt.id_personal, nt.id_registrador,nt.anio_actual_paciente, nt.tipo_diagnostico,nt.codigo_item, mhe.id_establecimiento,mhe.red,mhe.microred,mhe.nombre_establecimiento,mhe.departamento,mhe.distrito,mhe.provincia , max(CASE  WHEN nt.id_correlativo_lab='1' THEN nt.valor_lab ELSE null END ) AS \"lab1\", max(CASE  WHEN nt.id_correlativo_lab='2' THEN nt.valor_lab ELSE null END ) AS \"lab2\", max(CASE  WHEN nt.id_correlativo_lab='3' THEN nt.valor_lab ELSE null END ) AS \"lab3\"  FROM maestros.nominal_trama nt \n",
      "    INNER JOIN maestros.maestro_his_establecimiento mhe ON mhe.id_establecimiento = nt.id_establecimiento  \n",
      "    WHERE  nt.tipo_diagnostico ='D' AND codigo_item in('Z720')AND nt.anio_actual_paciente BETWEEN 12 AND 17 and nt.anio=2023 GROUP by nt.id_cita,nt.anio,nt.mes,nt.fecha_atencion,nt.id_paciente, nt.id_personal, nt.id_registrador,nt.anio_actual_paciente, nt.tipo_diagnostico,nt.codigo_item, mhe.id_establecimiento,mhe.red,mhe.microred,mhe.nombre_establecimiento,mhe.departamento,mhe.distrito,mhe.provincia\n",
      "    \n",
      "SELECT  '149' as df_id,'TAMIZAJES POSITIVOS' as df_grupo,'Z721' as df_codigo,'Problemas Sociales Relacionados con el Uso de Alcohol' as df_subgrupo,'' as df_detalles, nt.id_cita,nt.anio,nt.mes,nt.fecha_atencion,nt.id_paciente, nt.id_personal, nt.id_registrador,nt.anio_actual_paciente, nt.tipo_diagnostico,nt.codigo_item, mhe.id_establecimiento,mhe.red,mhe.microred,mhe.nombre_establecimiento,mhe.departamento,mhe.distrito,mhe.provincia , max(CASE  WHEN nt.id_correlativo_lab='1' THEN nt.valor_lab ELSE null END ) AS \"lab1\", max(CASE  WHEN nt.id_correlativo_lab='2' THEN nt.valor_lab ELSE null END ) AS \"lab2\", max(CASE  WHEN nt.id_correlativo_lab='3' THEN nt.valor_lab ELSE null END ) AS \"lab3\"  FROM maestros.nominal_trama nt \n",
      "    INNER JOIN maestros.maestro_his_establecimiento mhe ON mhe.id_establecimiento = nt.id_establecimiento  \n",
      "    WHERE  nt.tipo_diagnostico ='D' AND codigo_item in('Z721')AND nt.anio_actual_paciente BETWEEN 12 AND 17 and nt.anio=2023 GROUP by nt.id_cita,nt.anio,nt.mes,nt.fecha_atencion,nt.id_paciente, nt.id_personal, nt.id_registrador,nt.anio_actual_paciente, nt.tipo_diagnostico,nt.codigo_item, mhe.id_establecimiento,mhe.red,mhe.microred,mhe.nombre_establecimiento,mhe.departamento,mhe.distrito,mhe.provincia\n",
      "    \n",
      "SELECT  '150' as df_id,'TAMIZAJES POSITIVOS' as df_grupo,'Z722' as df_codigo,'Problemas Sociales Relacionados con el Uso de drogas' as df_subgrupo,'' as df_detalles, nt.id_cita,nt.anio,nt.mes,nt.fecha_atencion,nt.id_paciente, nt.id_personal, nt.id_registrador,nt.anio_actual_paciente, nt.tipo_diagnostico,nt.codigo_item, mhe.id_establecimiento,mhe.red,mhe.microred,mhe.nombre_establecimiento,mhe.departamento,mhe.distrito,mhe.provincia , max(CASE  WHEN nt.id_correlativo_lab='1' THEN nt.valor_lab ELSE null END ) AS \"lab1\", max(CASE  WHEN nt.id_correlativo_lab='2' THEN nt.valor_lab ELSE null END ) AS \"lab2\", max(CASE  WHEN nt.id_correlativo_lab='3' THEN nt.valor_lab ELSE null END ) AS \"lab3\"  FROM maestros.nominal_trama nt \n",
      "    INNER JOIN maestros.maestro_his_establecimiento mhe ON mhe.id_establecimiento = nt.id_establecimiento  \n",
      "    WHERE  nt.tipo_diagnostico ='D' AND codigo_item in('Z722')AND nt.anio_actual_paciente BETWEEN 12 AND 17 and nt.anio=2023 GROUP by nt.id_cita,nt.anio,nt.mes,nt.fecha_atencion,nt.id_paciente, nt.id_personal, nt.id_registrador,nt.anio_actual_paciente, nt.tipo_diagnostico,nt.codigo_item, mhe.id_establecimiento,mhe.red,mhe.microred,mhe.nombre_establecimiento,mhe.departamento,mhe.distrito,mhe.provincia\n",
      "    \n",
      "SELECT  '151' as df_id,'TAMIZAJES POSITIVOS' as df_grupo,'Z726' as df_codigo,'Problemas relacionados con el Juego y las apuestas' as df_subgrupo,'' as df_detalles, nt.id_cita,nt.anio,nt.mes,nt.fecha_atencion,nt.id_paciente, nt.id_personal, nt.id_registrador,nt.anio_actual_paciente, nt.tipo_diagnostico,nt.codigo_item, mhe.id_establecimiento,mhe.red,mhe.microred,mhe.nombre_establecimiento,mhe.departamento,mhe.distrito,mhe.provincia , max(CASE  WHEN nt.id_correlativo_lab='1' THEN nt.valor_lab ELSE null END ) AS \"lab1\", max(CASE  WHEN nt.id_correlativo_lab='2' THEN nt.valor_lab ELSE null END ) AS \"lab2\", max(CASE  WHEN nt.id_correlativo_lab='3' THEN nt.valor_lab ELSE null END ) AS \"lab3\"  FROM maestros.nominal_trama nt \n",
      "    INNER JOIN maestros.maestro_his_establecimiento mhe ON mhe.id_establecimiento = nt.id_establecimiento  \n",
      "    WHERE  nt.tipo_diagnostico ='D' AND codigo_item in('Z726')AND nt.anio_actual_paciente BETWEEN 12 AND 17 and nt.anio=2023 GROUP by nt.id_cita,nt.anio,nt.mes,nt.fecha_atencion,nt.id_paciente, nt.id_personal, nt.id_registrador,nt.anio_actual_paciente, nt.tipo_diagnostico,nt.codigo_item, mhe.id_establecimiento,mhe.red,mhe.microred,mhe.nombre_establecimiento,mhe.departamento,mhe.distrito,mhe.provincia\n",
      "    \n",
      "SELECT  '152' as df_id,'TAMIZAJES POSITIVOS' as df_grupo,'Z619' as df_codigo,'Problemas Relacionados con Experiencia Negativa no Especificada en la Infancia' as df_subgrupo,'' as df_detalles, nt.id_cita,nt.anio,nt.mes,nt.fecha_atencion,nt.id_paciente, nt.id_personal, nt.id_registrador,nt.anio_actual_paciente, nt.tipo_diagnostico,nt.codigo_item, mhe.id_establecimiento,mhe.red,mhe.microred,mhe.nombre_establecimiento,mhe.departamento,mhe.distrito,mhe.provincia , max(CASE  WHEN nt.id_correlativo_lab='1' THEN nt.valor_lab ELSE null END ) AS \"lab1\", max(CASE  WHEN nt.id_correlativo_lab='2' THEN nt.valor_lab ELSE null END ) AS \"lab2\", max(CASE  WHEN nt.id_correlativo_lab='3' THEN nt.valor_lab ELSE null END ) AS \"lab3\"  FROM maestros.nominal_trama nt \n",
      "    INNER JOIN maestros.maestro_his_establecimiento mhe ON mhe.id_establecimiento = nt.id_establecimiento  \n",
      "    WHERE  nt.tipo_diagnostico ='D' AND codigo_item in('Z619')AND nt.anio_actual_paciente BETWEEN 12 AND 17 and nt.anio=2023 GROUP by nt.id_cita,nt.anio,nt.mes,nt.fecha_atencion,nt.id_paciente, nt.id_personal, nt.id_registrador,nt.anio_actual_paciente, nt.tipo_diagnostico,nt.codigo_item, mhe.id_establecimiento,mhe.red,mhe.microred,mhe.nombre_establecimiento,mhe.departamento,mhe.distrito,mhe.provincia\n",
      "    \n",
      "SELECT  '153' as df_id,'TAMIZAJES POSITIVOS' as df_grupo,'Z639' as df_codigo,' Otros Problemas Relacionados con el Grupo Primario de Apoyo, Inclusive  Circunstancias Familiares (Relaciones Familiares)' as df_subgrupo,'' as df_detalles, nt.id_cita,nt.anio,nt.mes,nt.fecha_atencion,nt.id_paciente, nt.id_personal, nt.id_registrador,nt.anio_actual_paciente, nt.tipo_diagnostico,nt.codigo_item, mhe.id_establecimiento,mhe.red,mhe.microred,mhe.nombre_establecimiento,mhe.departamento,mhe.distrito,mhe.provincia , max(CASE  WHEN nt.id_correlativo_lab='1' THEN nt.valor_lab ELSE null END ) AS \"lab1\", max(CASE  WHEN nt.id_correlativo_lab='2' THEN nt.valor_lab ELSE null END ) AS \"lab2\", max(CASE  WHEN nt.id_correlativo_lab='3' THEN nt.valor_lab ELSE null END ) AS \"lab3\"  FROM maestros.nominal_trama nt \n",
      "    INNER JOIN maestros.maestro_his_establecimiento mhe ON mhe.id_establecimiento = nt.id_establecimiento  \n",
      "    WHERE  nt.tipo_diagnostico ='D' AND codigo_item in('Z639')AND nt.anio_actual_paciente BETWEEN 12 AND 17 and nt.anio=2023 GROUP by nt.id_cita,nt.anio,nt.mes,nt.fecha_atencion,nt.id_paciente, nt.id_personal, nt.id_registrador,nt.anio_actual_paciente, nt.tipo_diagnostico,nt.codigo_item, mhe.id_establecimiento,mhe.red,mhe.microred,mhe.nombre_establecimiento,mhe.departamento,mhe.distrito,mhe.provincia\n",
      "    \n"
     ]
    }
   ],
   "source": [
    "grupo='TAMIZAJES POSITIVOS'\n",
    "id+=1\n",
    "dx_R456 =filtro(id=id,grupo=grupo,codigo='R456',subgrupo='Problemas relacionados con violencia',detalles='',dx1='R456',t_dx='D',conn=conn)\n",
    "id+=1\n",
    "dx_Z734 =filtro(id=id,grupo=grupo,codigo='Z734',subgrupo='Problemas Relacionados con Habilidades Sociales Inadecuadas',detalles='',dx1='Z734',t_dx='D',conn=conn)\n",
    "id+=1\n",
    "dx_Z720 =filtro(id=id,grupo=grupo,codigo='Z720',subgrupo='Problemas Relacionados con el Uso de Tabaco',detalles='',dx1='Z720',t_dx='D',conn=conn)\n",
    "id+=1\n",
    "dx_Z721 =filtro(id=id,grupo=grupo,codigo='Z721',subgrupo='Problemas Sociales Relacionados con el Uso de Alcohol',detalles='',dx1='Z721',t_dx='D',conn=conn)\n",
    "id+=1\n",
    "dx_Z722 =filtro(id=id,grupo=grupo,codigo='Z722',subgrupo='Problemas Sociales Relacionados con el Uso de drogas',detalles='',dx1='Z722',t_dx='D',conn=conn)\n",
    "id+=1\n",
    "dx_Z726 =filtro(id=id,grupo=grupo,codigo='Z726',subgrupo='Problemas relacionados con el Juego y las apuestas',detalles='',dx1='Z726',t_dx='D',conn=conn)\n",
    "id+=1\n",
    "dx_Z619 =filtro(id=id,grupo=grupo,codigo='Z619',subgrupo='Problemas Relacionados con Experiencia Negativa no Especificada en la Infancia',detalles='',dx1='Z619',t_dx='D',conn=conn)\n",
    "id+=1\n",
    "dx_Z639 =filtro(id=id,grupo=grupo,codigo='Z639',subgrupo=' Otros Problemas Relacionados con el Grupo Primario de Apoyo, Inclusive  Circunstancias Familiares (Relaciones Familiares)',detalles='',dx1='Z639',t_dx='D',conn=conn)\n",
    "\n",
    "df = pd.concat([df, dx_R456,dx_Z734,dx_Z720,dx_Z721,dx_Z722,dx_Z726,dx_Z619,dx_Z639])\n",
    "\n",
    "\n",
    "\n"
   ]
  },
  {
   "cell_type": "markdown",
   "metadata": {},
   "source": [
    "<h2>ACTIVIDADES PREVENTIVAS PROMOCIONALES</h2>"
   ]
  },
  {
   "cell_type": "code",
   "execution_count": 43,
   "metadata": {},
   "outputs": [
    {
     "name": "stdout",
     "output_type": "stream",
     "text": [
      "SELECT  '154' as df_id,'ACTIVIDADES PREVENTIVAS PROMOCIONALES' as df_grupo,'C0009' as df_codigo,'Sesión Educativa' as df_subgrupo,'' as df_detalles, nt.id_cita,nt.anio,nt.mes,nt.fecha_atencion,nt.id_paciente, nt.id_personal, nt.id_registrador,nt.anio_actual_paciente, nt.tipo_diagnostico,nt.codigo_item, mhe.id_establecimiento,mhe.red,mhe.microred,mhe.nombre_establecimiento,mhe.departamento,mhe.distrito,mhe.provincia , max(CASE  WHEN nt.id_correlativo_lab='1' THEN nt.valor_lab ELSE null END ) AS \"lab1\", max(CASE  WHEN nt.id_correlativo_lab='2' THEN nt.valor_lab ELSE null END ) AS \"lab2\", max(CASE  WHEN nt.id_correlativo_lab='3' THEN nt.valor_lab ELSE null END ) AS \"lab3\"  FROM maestros.nominal_trama nt \n",
      "    INNER JOIN maestros.maestro_his_establecimiento mhe ON mhe.id_establecimiento = nt.id_establecimiento  \n",
      "    WHERE  nt.tipo_diagnostico ='D' AND codigo_item in('C0009')AND nt.anio_actual_paciente BETWEEN 12 AND 17 and nt.anio=2023 GROUP by nt.id_cita,nt.anio,nt.mes,nt.fecha_atencion,nt.id_paciente, nt.id_personal, nt.id_registrador,nt.anio_actual_paciente, nt.tipo_diagnostico,nt.codigo_item, mhe.id_establecimiento,mhe.red,mhe.microred,mhe.nombre_establecimiento,mhe.departamento,mhe.distrito,mhe.provincia\n",
      "    \n"
     ]
    },
    {
     "name": "stderr",
     "output_type": "stream",
     "text": [
      "d:\\Irvin\\Irvin\\Python\\Python-GERESA\\modulos\\adolescente\\../..\\clases\\bd\\conexion2.py:47: UserWarning: pandas only supports SQLAlchemy connectable (engine/connection) or database string URI or sqlite3 DBAPI2 connection. Other DBAPI2 objects are not tested. Please consider using SQLAlchemy.\n",
      "  s = pd.read_sql(sql, con=self.conn)\n"
     ]
    },
    {
     "name": "stdout",
     "output_type": "stream",
     "text": [
      "SELECT  '155' as df_id,'ACTIVIDADES PREVENTIVAS PROMOCIONALES' as df_grupo,'C2111.02' as df_codigo,'Taller en prevención de conducta de riesgo en adolescentes y sus familias - familias fuertes amor y límite' as df_subgrupo,'' as df_detalles, nt.id_cita,nt.anio,nt.mes,nt.fecha_atencion,nt.id_paciente, nt.id_personal, nt.id_registrador,nt.anio_actual_paciente, nt.tipo_diagnostico,nt.codigo_item, mhe.id_establecimiento,mhe.red,mhe.microred,mhe.nombre_establecimiento,mhe.departamento,mhe.distrito,mhe.provincia , max(CASE  WHEN nt.id_correlativo_lab='1' THEN nt.valor_lab ELSE null END ) AS \"lab1\", max(CASE  WHEN nt.id_correlativo_lab='2' THEN nt.valor_lab ELSE null END ) AS \"lab2\", max(CASE  WHEN nt.id_correlativo_lab='3' THEN nt.valor_lab ELSE null END ) AS \"lab3\"  FROM maestros.nominal_trama nt \n",
      "    INNER JOIN maestros.maestro_his_establecimiento mhe ON mhe.id_establecimiento = nt.id_establecimiento  \n",
      "    WHERE  nt.tipo_diagnostico ='D' AND codigo_item in('C2111.02')AND nt.anio_actual_paciente BETWEEN 12 AND 17 and nt.anio=2023 GROUP by nt.id_cita,nt.anio,nt.mes,nt.fecha_atencion,nt.id_paciente, nt.id_personal, nt.id_registrador,nt.anio_actual_paciente, nt.tipo_diagnostico,nt.codigo_item, mhe.id_establecimiento,mhe.red,mhe.microred,mhe.nombre_establecimiento,mhe.departamento,mhe.distrito,mhe.provincia\n",
      "    \n",
      "SELECT  '156' as df_id,'ACTIVIDADES PREVENTIVAS PROMOCIONALES' as df_grupo,'C1021' as df_codigo,' Organización de Charla para Abogacía y Políticas Públicas' as df_subgrupo,'' as df_detalles, nt.id_cita,nt.anio,nt.mes,nt.fecha_atencion,nt.id_paciente, nt.id_personal, nt.id_registrador,nt.anio_actual_paciente, nt.tipo_diagnostico,nt.codigo_item, mhe.id_establecimiento,mhe.red,mhe.microred,mhe.nombre_establecimiento,mhe.departamento,mhe.distrito,mhe.provincia , max(CASE  WHEN nt.id_correlativo_lab='1' THEN nt.valor_lab ELSE null END ) AS \"lab1\", max(CASE  WHEN nt.id_correlativo_lab='2' THEN nt.valor_lab ELSE null END ) AS \"lab2\", max(CASE  WHEN nt.id_correlativo_lab='3' THEN nt.valor_lab ELSE null END ) AS \"lab3\"  FROM maestros.nominal_trama nt \n",
      "    INNER JOIN maestros.maestro_his_establecimiento mhe ON mhe.id_establecimiento = nt.id_establecimiento  \n",
      "    WHERE  nt.tipo_diagnostico ='D' AND codigo_item in('C1021')AND nt.anio_actual_paciente BETWEEN 12 AND 17 and nt.anio=2023 GROUP by nt.id_cita,nt.anio,nt.mes,nt.fecha_atencion,nt.id_paciente, nt.id_personal, nt.id_registrador,nt.anio_actual_paciente, nt.tipo_diagnostico,nt.codigo_item, mhe.id_establecimiento,mhe.red,mhe.microred,mhe.nombre_establecimiento,mhe.departamento,mhe.distrito,mhe.provincia\n",
      "    \n",
      "SELECT  '157' as df_id,'ACTIVIDADES PREVENTIVAS PROMOCIONALES' as df_grupo,'C0007' as df_codigo,'Taller para la  familia' as df_subgrupo,'' as df_detalles, nt.id_cita,nt.anio,nt.mes,nt.fecha_atencion,nt.id_paciente, nt.id_personal, nt.id_registrador,nt.anio_actual_paciente, nt.tipo_diagnostico,nt.codigo_item, mhe.id_establecimiento,mhe.red,mhe.microred,mhe.nombre_establecimiento,mhe.departamento,mhe.distrito,mhe.provincia , max(CASE  WHEN nt.id_correlativo_lab='1' THEN nt.valor_lab ELSE null END ) AS \"lab1\", max(CASE  WHEN nt.id_correlativo_lab='2' THEN nt.valor_lab ELSE null END ) AS \"lab2\", max(CASE  WHEN nt.id_correlativo_lab='3' THEN nt.valor_lab ELSE null END ) AS \"lab3\"  FROM maestros.nominal_trama nt \n",
      "    INNER JOIN maestros.maestro_his_establecimiento mhe ON mhe.id_establecimiento = nt.id_establecimiento  \n",
      "    WHERE  nt.tipo_diagnostico ='D' AND codigo_item in('C0007')AND nt.anio_actual_paciente BETWEEN 12 AND 17 and nt.anio=2023 GROUP by nt.id_cita,nt.anio,nt.mes,nt.fecha_atencion,nt.id_paciente, nt.id_personal, nt.id_registrador,nt.anio_actual_paciente, nt.tipo_diagnostico,nt.codigo_item, mhe.id_establecimiento,mhe.red,mhe.microred,mhe.nombre_establecimiento,mhe.departamento,mhe.distrito,mhe.provincia\n",
      "    \n"
     ]
    },
    {
     "name": "stderr",
     "output_type": "stream",
     "text": [
      "d:\\Irvin\\Irvin\\Python\\Python-GERESA\\modulos\\adolescente\\../..\\clases\\bd\\conexion2.py:47: UserWarning: pandas only supports SQLAlchemy connectable (engine/connection) or database string URI or sqlite3 DBAPI2 connection. Other DBAPI2 objects are not tested. Please consider using SQLAlchemy.\n",
      "  s = pd.read_sql(sql, con=self.conn)\n"
     ]
    },
    {
     "name": "stdout",
     "output_type": "stream",
     "text": [
      "SELECT  '158' as df_id,'ACTIVIDADES PREVENTIVAS PROMOCIONALES' as df_grupo,'C0010' as df_codigo,'Sesión Demostrativa' as df_subgrupo,'' as df_detalles, nt.id_cita,nt.anio,nt.mes,nt.fecha_atencion,nt.id_paciente, nt.id_personal, nt.id_registrador,nt.anio_actual_paciente, nt.tipo_diagnostico,nt.codigo_item, mhe.id_establecimiento,mhe.red,mhe.microred,mhe.nombre_establecimiento,mhe.departamento,mhe.distrito,mhe.provincia , max(CASE  WHEN nt.id_correlativo_lab='1' THEN nt.valor_lab ELSE null END ) AS \"lab1\", max(CASE  WHEN nt.id_correlativo_lab='2' THEN nt.valor_lab ELSE null END ) AS \"lab2\", max(CASE  WHEN nt.id_correlativo_lab='3' THEN nt.valor_lab ELSE null END ) AS \"lab3\"  FROM maestros.nominal_trama nt \n",
      "    INNER JOIN maestros.maestro_his_establecimiento mhe ON mhe.id_establecimiento = nt.id_establecimiento  \n",
      "    WHERE  nt.tipo_diagnostico ='D' AND codigo_item in('C0010')AND nt.anio_actual_paciente BETWEEN 12 AND 17 and nt.anio=2023 GROUP by nt.id_cita,nt.anio,nt.mes,nt.fecha_atencion,nt.id_paciente, nt.id_personal, nt.id_registrador,nt.anio_actual_paciente, nt.tipo_diagnostico,nt.codigo_item, mhe.id_establecimiento,mhe.red,mhe.microred,mhe.nombre_establecimiento,mhe.departamento,mhe.distrito,mhe.provincia\n",
      "    \n",
      "SELECT  '159' as df_id,'ACTIVIDADES PREVENTIVAS PROMOCIONALES' as df_grupo,'90872' as df_codigo,'Taller de habilidades sociales' as df_subgrupo,'' as df_detalles, nt.id_cita,nt.anio,nt.mes,nt.fecha_atencion,nt.id_paciente, nt.id_personal, nt.id_registrador,nt.anio_actual_paciente, nt.tipo_diagnostico,nt.codigo_item, mhe.id_establecimiento,mhe.red,mhe.microred,mhe.nombre_establecimiento,mhe.departamento,mhe.distrito,mhe.provincia , max(CASE  WHEN nt.id_correlativo_lab='1' THEN nt.valor_lab ELSE null END ) AS \"lab1\", max(CASE  WHEN nt.id_correlativo_lab='2' THEN nt.valor_lab ELSE null END ) AS \"lab2\", max(CASE  WHEN nt.id_correlativo_lab='3' THEN nt.valor_lab ELSE null END ) AS \"lab3\"  FROM maestros.nominal_trama nt \n",
      "    INNER JOIN maestros.maestro_his_establecimiento mhe ON mhe.id_establecimiento = nt.id_establecimiento  \n",
      "    WHERE  nt.tipo_diagnostico ='D' AND codigo_item in('90872')AND nt.anio_actual_paciente BETWEEN 12 AND 17 and nt.anio=2023 GROUP by nt.id_cita,nt.anio,nt.mes,nt.fecha_atencion,nt.id_paciente, nt.id_personal, nt.id_registrador,nt.anio_actual_paciente, nt.tipo_diagnostico,nt.codigo_item, mhe.id_establecimiento,mhe.red,mhe.microred,mhe.nombre_establecimiento,mhe.departamento,mhe.distrito,mhe.provincia\n",
      "    \n",
      "SELECT  '160' as df_id,'ACTIVIDADES PREVENTIVAS PROMOCIONALES' as df_grupo,'C0008' as df_codigo,'Taller para personal de salud' as df_subgrupo,'' as df_detalles, nt.id_cita,nt.anio,nt.mes,nt.fecha_atencion,nt.id_paciente, nt.id_personal, nt.id_registrador,nt.anio_actual_paciente, nt.tipo_diagnostico,nt.codigo_item, mhe.id_establecimiento,mhe.red,mhe.microred,mhe.nombre_establecimiento,mhe.departamento,mhe.distrito,mhe.provincia , max(CASE  WHEN nt.id_correlativo_lab='1' THEN nt.valor_lab ELSE null END ) AS \"lab1\", max(CASE  WHEN nt.id_correlativo_lab='2' THEN nt.valor_lab ELSE null END ) AS \"lab2\", max(CASE  WHEN nt.id_correlativo_lab='3' THEN nt.valor_lab ELSE null END ) AS \"lab3\"  FROM maestros.nominal_trama nt \n",
      "    INNER JOIN maestros.maestro_his_establecimiento mhe ON mhe.id_establecimiento = nt.id_establecimiento  \n",
      "    WHERE  nt.tipo_diagnostico ='D' AND codigo_item in('C0008')AND nt.anio_actual_paciente BETWEEN 12 AND 17 and nt.anio=2023 GROUP by nt.id_cita,nt.anio,nt.mes,nt.fecha_atencion,nt.id_paciente, nt.id_personal, nt.id_registrador,nt.anio_actual_paciente, nt.tipo_diagnostico,nt.codigo_item, mhe.id_establecimiento,mhe.red,mhe.microred,mhe.nombre_establecimiento,mhe.departamento,mhe.distrito,mhe.provincia\n",
      "    \n",
      "SELECT  '161' as df_id,'ACTIVIDADES PREVENTIVAS PROMOCIONALES' as df_grupo,'C2121.01' as df_codigo,'Animación Sociocultural' as df_subgrupo,'' as df_detalles, nt.id_cita,nt.anio,nt.mes,nt.fecha_atencion,nt.id_paciente, nt.id_personal, nt.id_registrador,nt.anio_actual_paciente, nt.tipo_diagnostico,nt.codigo_item, mhe.id_establecimiento,mhe.red,mhe.microred,mhe.nombre_establecimiento,mhe.departamento,mhe.distrito,mhe.provincia , max(CASE  WHEN nt.id_correlativo_lab='1' THEN nt.valor_lab ELSE null END ) AS \"lab1\", max(CASE  WHEN nt.id_correlativo_lab='2' THEN nt.valor_lab ELSE null END ) AS \"lab2\", max(CASE  WHEN nt.id_correlativo_lab='3' THEN nt.valor_lab ELSE null END ) AS \"lab3\"  FROM maestros.nominal_trama nt \n",
      "    INNER JOIN maestros.maestro_his_establecimiento mhe ON mhe.id_establecimiento = nt.id_establecimiento  \n",
      "    WHERE  nt.tipo_diagnostico ='D' AND codigo_item in('C2121.01')AND nt.anio_actual_paciente BETWEEN 12 AND 17 and nt.anio=2023 GROUP by nt.id_cita,nt.anio,nt.mes,nt.fecha_atencion,nt.id_paciente, nt.id_personal, nt.id_registrador,nt.anio_actual_paciente, nt.tipo_diagnostico,nt.codigo_item, mhe.id_establecimiento,mhe.red,mhe.microred,mhe.nombre_establecimiento,mhe.departamento,mhe.distrito,mhe.provincia\n",
      "    \n",
      "SELECT  '162' as df_id,'ACTIVIDADES PREVENTIVAS PROMOCIONALES' as df_grupo,'C2121' as df_codigo,'Teatros Populares' as df_subgrupo,'' as df_detalles, nt.id_cita,nt.anio,nt.mes,nt.fecha_atencion,nt.id_paciente, nt.id_personal, nt.id_registrador,nt.anio_actual_paciente, nt.tipo_diagnostico,nt.codigo_item, mhe.id_establecimiento,mhe.red,mhe.microred,mhe.nombre_establecimiento,mhe.departamento,mhe.distrito,mhe.provincia , max(CASE  WHEN nt.id_correlativo_lab='1' THEN nt.valor_lab ELSE null END ) AS \"lab1\", max(CASE  WHEN nt.id_correlativo_lab='2' THEN nt.valor_lab ELSE null END ) AS \"lab2\", max(CASE  WHEN nt.id_correlativo_lab='3' THEN nt.valor_lab ELSE null END ) AS \"lab3\"  FROM maestros.nominal_trama nt \n",
      "    INNER JOIN maestros.maestro_his_establecimiento mhe ON mhe.id_establecimiento = nt.id_establecimiento  \n",
      "    WHERE  nt.tipo_diagnostico ='D' AND codigo_item in('C2121')AND nt.anio_actual_paciente BETWEEN 12 AND 17 and nt.anio=2023 GROUP by nt.id_cita,nt.anio,nt.mes,nt.fecha_atencion,nt.id_paciente, nt.id_personal, nt.id_registrador,nt.anio_actual_paciente, nt.tipo_diagnostico,nt.codigo_item, mhe.id_establecimiento,mhe.red,mhe.microred,mhe.nombre_establecimiento,mhe.departamento,mhe.distrito,mhe.provincia\n",
      "    \n",
      "SELECT  '163' as df_id,'ACTIVIDADES PREVENTIVAS PROMOCIONALES' as df_grupo,'C3152' as df_codigo,'Formación de Educadores de Pares' as df_subgrupo,'' as df_detalles, nt.id_cita,nt.anio,nt.mes,nt.fecha_atencion,nt.id_paciente, nt.id_personal, nt.id_registrador,nt.anio_actual_paciente, nt.tipo_diagnostico,nt.codigo_item, mhe.id_establecimiento,mhe.red,mhe.microred,mhe.nombre_establecimiento,mhe.departamento,mhe.distrito,mhe.provincia , max(CASE  WHEN nt.id_correlativo_lab='1' THEN nt.valor_lab ELSE null END ) AS \"lab1\", max(CASE  WHEN nt.id_correlativo_lab='2' THEN nt.valor_lab ELSE null END ) AS \"lab2\", max(CASE  WHEN nt.id_correlativo_lab='3' THEN nt.valor_lab ELSE null END ) AS \"lab3\"  FROM maestros.nominal_trama nt \n",
      "    INNER JOIN maestros.maestro_his_establecimiento mhe ON mhe.id_establecimiento = nt.id_establecimiento  \n",
      "    WHERE  nt.tipo_diagnostico ='D' AND codigo_item in('C3152')AND nt.anio_actual_paciente BETWEEN 12 AND 17 and nt.anio=2023 GROUP by nt.id_cita,nt.anio,nt.mes,nt.fecha_atencion,nt.id_paciente, nt.id_personal, nt.id_registrador,nt.anio_actual_paciente, nt.tipo_diagnostico,nt.codigo_item, mhe.id_establecimiento,mhe.red,mhe.microred,mhe.nombre_establecimiento,mhe.departamento,mhe.distrito,mhe.provincia\n",
      "    \n",
      "SELECT  '164' as df_id,'ACTIVIDADES PREVENTIVAS PROMOCIONALES' as df_grupo,'C7001' as df_codigo,'Monitoreo' as df_subgrupo,'' as df_detalles, nt.id_cita,nt.anio,nt.mes,nt.fecha_atencion,nt.id_paciente, nt.id_personal, nt.id_registrador,nt.anio_actual_paciente, nt.tipo_diagnostico,nt.codigo_item, mhe.id_establecimiento,mhe.red,mhe.microred,mhe.nombre_establecimiento,mhe.departamento,mhe.distrito,mhe.provincia , max(CASE  WHEN nt.id_correlativo_lab='1' THEN nt.valor_lab ELSE null END ) AS \"lab1\", max(CASE  WHEN nt.id_correlativo_lab='2' THEN nt.valor_lab ELSE null END ) AS \"lab2\", max(CASE  WHEN nt.id_correlativo_lab='3' THEN nt.valor_lab ELSE null END ) AS \"lab3\"  FROM maestros.nominal_trama nt \n",
      "    INNER JOIN maestros.maestro_his_establecimiento mhe ON mhe.id_establecimiento = nt.id_establecimiento  \n",
      "    WHERE  nt.tipo_diagnostico ='D' AND codigo_item in('C7001')AND nt.anio_actual_paciente BETWEEN 12 AND 17 and nt.anio=2023 GROUP by nt.id_cita,nt.anio,nt.mes,nt.fecha_atencion,nt.id_paciente, nt.id_personal, nt.id_registrador,nt.anio_actual_paciente, nt.tipo_diagnostico,nt.codigo_item, mhe.id_establecimiento,mhe.red,mhe.microred,mhe.nombre_establecimiento,mhe.departamento,mhe.distrito,mhe.provincia\n",
      "    \n",
      "SELECT  '165' as df_id,'ACTIVIDADES PREVENTIVAS PROMOCIONALES' as df_grupo,'C7002' as df_codigo,'Supervisión' as df_subgrupo,'' as df_detalles, nt.id_cita,nt.anio,nt.mes,nt.fecha_atencion,nt.id_paciente, nt.id_personal, nt.id_registrador,nt.anio_actual_paciente, nt.tipo_diagnostico,nt.codigo_item, mhe.id_establecimiento,mhe.red,mhe.microred,mhe.nombre_establecimiento,mhe.departamento,mhe.distrito,mhe.provincia , max(CASE  WHEN nt.id_correlativo_lab='1' THEN nt.valor_lab ELSE null END ) AS \"lab1\", max(CASE  WHEN nt.id_correlativo_lab='2' THEN nt.valor_lab ELSE null END ) AS \"lab2\", max(CASE  WHEN nt.id_correlativo_lab='3' THEN nt.valor_lab ELSE null END ) AS \"lab3\"  FROM maestros.nominal_trama nt \n",
      "    INNER JOIN maestros.maestro_his_establecimiento mhe ON mhe.id_establecimiento = nt.id_establecimiento  \n",
      "    WHERE  nt.tipo_diagnostico ='D' AND codigo_item in('C7002')AND nt.anio_actual_paciente BETWEEN 12 AND 17 and nt.anio=2023 GROUP by nt.id_cita,nt.anio,nt.mes,nt.fecha_atencion,nt.id_paciente, nt.id_personal, nt.id_registrador,nt.anio_actual_paciente, nt.tipo_diagnostico,nt.codigo_item, mhe.id_establecimiento,mhe.red,mhe.microred,mhe.nombre_establecimiento,mhe.departamento,mhe.distrito,mhe.provincia\n",
      "    \n",
      "SELECT  '166' as df_id,'ACTIVIDADES PREVENTIVAS PROMOCIONALES' as df_grupo,'C7003' as df_codigo,'Evaluación' as df_subgrupo,'' as df_detalles, nt.id_cita,nt.anio,nt.mes,nt.fecha_atencion,nt.id_paciente, nt.id_personal, nt.id_registrador,nt.anio_actual_paciente, nt.tipo_diagnostico,nt.codigo_item, mhe.id_establecimiento,mhe.red,mhe.microred,mhe.nombre_establecimiento,mhe.departamento,mhe.distrito,mhe.provincia , max(CASE  WHEN nt.id_correlativo_lab='1' THEN nt.valor_lab ELSE null END ) AS \"lab1\", max(CASE  WHEN nt.id_correlativo_lab='2' THEN nt.valor_lab ELSE null END ) AS \"lab2\", max(CASE  WHEN nt.id_correlativo_lab='3' THEN nt.valor_lab ELSE null END ) AS \"lab3\"  FROM maestros.nominal_trama nt \n",
      "    INNER JOIN maestros.maestro_his_establecimiento mhe ON mhe.id_establecimiento = nt.id_establecimiento  \n",
      "    WHERE  nt.tipo_diagnostico ='D' AND codigo_item in('C7003')AND nt.anio_actual_paciente BETWEEN 12 AND 17 and nt.anio=2023 GROUP by nt.id_cita,nt.anio,nt.mes,nt.fecha_atencion,nt.id_paciente, nt.id_personal, nt.id_registrador,nt.anio_actual_paciente, nt.tipo_diagnostico,nt.codigo_item, mhe.id_establecimiento,mhe.red,mhe.microred,mhe.nombre_establecimiento,mhe.departamento,mhe.distrito,mhe.provincia\n",
      "    \n",
      "SELECT  '167' as df_id,'ACTIVIDADES PREVENTIVAS PROMOCIONALES' as df_grupo,'C7004' as df_codigo,'Asistencia Técnica' as df_subgrupo,'' as df_detalles, nt.id_cita,nt.anio,nt.mes,nt.fecha_atencion,nt.id_paciente, nt.id_personal, nt.id_registrador,nt.anio_actual_paciente, nt.tipo_diagnostico,nt.codigo_item, mhe.id_establecimiento,mhe.red,mhe.microred,mhe.nombre_establecimiento,mhe.departamento,mhe.distrito,mhe.provincia , max(CASE  WHEN nt.id_correlativo_lab='1' THEN nt.valor_lab ELSE null END ) AS \"lab1\", max(CASE  WHEN nt.id_correlativo_lab='2' THEN nt.valor_lab ELSE null END ) AS \"lab2\", max(CASE  WHEN nt.id_correlativo_lab='3' THEN nt.valor_lab ELSE null END ) AS \"lab3\"  FROM maestros.nominal_trama nt \n",
      "    INNER JOIN maestros.maestro_his_establecimiento mhe ON mhe.id_establecimiento = nt.id_establecimiento  \n",
      "    WHERE  nt.tipo_diagnostico ='D' AND codigo_item in('C7004')AND nt.anio_actual_paciente BETWEEN 12 AND 17 and nt.anio=2023 GROUP by nt.id_cita,nt.anio,nt.mes,nt.fecha_atencion,nt.id_paciente, nt.id_personal, nt.id_registrador,nt.anio_actual_paciente, nt.tipo_diagnostico,nt.codigo_item, mhe.id_establecimiento,mhe.red,mhe.microred,mhe.nombre_establecimiento,mhe.departamento,mhe.distrito,mhe.provincia\n",
      "    \n"
     ]
    },
    {
     "name": "stderr",
     "output_type": "stream",
     "text": [
      "d:\\Irvin\\Irvin\\Python\\Python-GERESA\\modulos\\adolescente\\../..\\clases\\bd\\conexion2.py:47: UserWarning: pandas only supports SQLAlchemy connectable (engine/connection) or database string URI or sqlite3 DBAPI2 connection. Other DBAPI2 objects are not tested. Please consider using SQLAlchemy.\n",
      "  s = pd.read_sql(sql, con=self.conn)\n",
      "d:\\Irvin\\Irvin\\Python\\Python-GERESA\\modulos\\adolescente\\../..\\clases\\bd\\conexion2.py:47: UserWarning: pandas only supports SQLAlchemy connectable (engine/connection) or database string URI or sqlite3 DBAPI2 connection. Other DBAPI2 objects are not tested. Please consider using SQLAlchemy.\n",
      "  s = pd.read_sql(sql, con=self.conn)\n",
      "d:\\Irvin\\Irvin\\Python\\Python-GERESA\\modulos\\adolescente\\../..\\clases\\bd\\conexion2.py:47: UserWarning: pandas only supports SQLAlchemy connectable (engine/connection) or database string URI or sqlite3 DBAPI2 connection. Other DBAPI2 objects are not tested. Please consider using SQLAlchemy.\n",
      "  s = pd.read_sql(sql, con=self.conn)\n",
      "d:\\Irvin\\Irvin\\Python\\Python-GERESA\\modulos\\adolescente\\../..\\clases\\bd\\conexion2.py:47: UserWarning: pandas only supports SQLAlchemy connectable (engine/connection) or database string URI or sqlite3 DBAPI2 connection. Other DBAPI2 objects are not tested. Please consider using SQLAlchemy.\n",
      "  s = pd.read_sql(sql, con=self.conn)\n"
     ]
    }
   ],
   "source": [
    "grupo='ACTIVIDADES PREVENTIVAS PROMOCIONALES'\n",
    "id+=1\n",
    "dx_C0009 =filtro(id=id,grupo=grupo,codigo='C0009',subgrupo='Sesión Educativa',detalles='',dx1='C0009',t_dx='D',conn=conn)\n",
    "id+=1\n",
    "dx_C2111_02 =filtro(id=id,grupo=grupo,codigo='C2111.02',subgrupo='Taller en prevención de conducta de riesgo en adolescentes y sus familias - familias fuertes amor y límite',detalles='',dx1='C2111.02',t_dx='D',conn=conn)\n",
    "#Falta integras los APP\n",
    "id+=1\n",
    "dx_C1021 =filtro(id=id,grupo=grupo,codigo='C1021',subgrupo=' Organización de Charla para Abogacía y Políticas Públicas',detalles='',dx1='C1021',t_dx='D',conn=conn)\n",
    "id+=1\n",
    "dx_C0007 =filtro(id=id,grupo=grupo,codigo='C0007',subgrupo='Taller para la  familia',detalles='',dx1='C0007',t_dx='D',conn=conn)\n",
    "id+=1\n",
    "dx_C0010 =filtro(id=id,grupo=grupo,codigo='C0010',subgrupo='Sesión Demostrativa',detalles='',dx1='C0010',t_dx='D',conn=conn)\n",
    "id+=1\n",
    "dx_90872 =filtro(id=id,grupo=grupo,codigo='90872',subgrupo='Taller de habilidades sociales',detalles='',dx1='90872',t_dx='D',conn=conn)\n",
    "id+=1\n",
    "dx_C0008 =filtro(id=id,grupo=grupo,codigo='C0008',subgrupo='Taller para personal de salud',detalles='',dx1='C0008',t_dx='D',conn=conn)\n",
    "id+=1\n",
    "dx_C2121_01 =filtro(id=id,grupo=grupo,codigo='C2121.01',subgrupo='Animación Sociocultural',detalles='',dx1='C2121.01',t_dx='D',conn=conn)\n",
    "id+=1\n",
    "dx_C2121 =filtro(id=id,grupo=grupo,codigo='C2121',subgrupo='Teatros Populares',detalles='',dx1='C2121',t_dx='D',conn=conn)\n",
    "id+=1\n",
    "dx_C3152 =filtro(id=id,grupo=grupo,codigo='C3152',subgrupo='Formación de Educadores de Pares',detalles='',dx1='C3152',t_dx='D',conn=conn)\n",
    "id+=1\n",
    "dx_C7001 =filtro(id=id,grupo=grupo,codigo='C7001',subgrupo='Monitoreo',detalles='',dx1='C7001',t_dx='D',conn=conn)\n",
    "id+=1\n",
    "dx_C7002 =filtro(id=id,grupo=grupo,codigo='C7002',subgrupo='Supervisión',detalles='',dx1='C7002',t_dx='D',conn=conn)\n",
    "id+=1\n",
    "dx_C7003 =filtro(id=id,grupo=grupo,codigo='C7003',subgrupo='Evaluación',detalles='',dx1='C7003',t_dx='D',conn=conn)\n",
    "id+=1\n",
    "dx_C7004 =filtro(id=id,grupo=grupo,codigo='C7004',subgrupo='Asistencia Técnica',detalles='',dx1='C7004',t_dx='D',conn=conn)\n",
    "\n",
    "\n",
    "df = pd.concat([df,dx_C0009,dx_C2111_02,dx_C7004,dx_C7003,dx_C7002,dx_C7001,dx_C3152,dx_C2121,dx_C2121_01,dx_C0008,dx_90872,dx_C0010,dx_C0007,dx_C1021])"
   ]
  },
  {
   "cell_type": "markdown",
   "metadata": {},
   "source": []
  },
  {
   "cell_type": "code",
   "execution_count": 44,
   "metadata": {},
   "outputs": [
    {
     "name": "stdout",
     "output_type": "stream",
     "text": [
      "SELECT  '167' as df_id,'SESIONES EDUCATIVAS - Salud Física Nutricional' as df_grupo,'C0009' as df_codigo,'Actividad Física' as df_subgrupo,'' as df_detalles, nt.id_cita,nt.anio,nt.mes,nt.fecha_atencion,nt.id_paciente, nt.id_personal, nt.id_registrador,nt.anio_actual_paciente, nt.tipo_diagnostico,nt.codigo_item, mhe.id_establecimiento,mhe.red,mhe.microred,mhe.nombre_establecimiento,mhe.departamento,mhe.distrito,mhe.provincia , max(CASE  WHEN nt.id_correlativo_lab='1' THEN nt.valor_lab ELSE null END ) AS \"lab1\", max(CASE  WHEN nt.id_correlativo_lab='2' THEN nt.valor_lab ELSE null END ) AS \"lab2\", max(CASE  WHEN nt.id_correlativo_lab='3' THEN nt.valor_lab ELSE null END ) AS \"lab3\"  FROM maestros.nominal_trama nt \n",
      "    INNER JOIN maestros.maestro_his_establecimiento mhe ON mhe.id_establecimiento = nt.id_establecimiento  \n",
      "    WHERE  nt.tipo_diagnostico ='D' AND codigo_item in('C0009')AND nt.anio_actual_paciente BETWEEN 12 AND 17 and nt.anio=2023 GROUP by nt.id_cita,nt.anio,nt.mes,nt.fecha_atencion,nt.id_paciente, nt.id_personal, nt.id_registrador,nt.anio_actual_paciente, nt.tipo_diagnostico,nt.codigo_item, mhe.id_establecimiento,mhe.red,mhe.microred,mhe.nombre_establecimiento,mhe.departamento,mhe.distrito,mhe.provincia\n",
      "    \n"
     ]
    },
    {
     "name": "stderr",
     "output_type": "stream",
     "text": [
      "d:\\Irvin\\Irvin\\Python\\Python-GERESA\\modulos\\adolescente\\../..\\clases\\bd\\conexion2.py:47: UserWarning: pandas only supports SQLAlchemy connectable (engine/connection) or database string URI or sqlite3 DBAPI2 connection. Other DBAPI2 objects are not tested. Please consider using SQLAlchemy.\n",
      "  s = pd.read_sql(sql, con=self.conn)\n",
      "C:\\Users\\IRVIN\\AppData\\Local\\Temp\\ipykernel_3452\\3967109983.py:10: SettingWithCopyWarning: \n",
      "A value is trying to be set on a copy of a slice from a DataFrame.\n",
      "Try using .loc[row_indexer,col_indexer] = value instead\n",
      "\n",
      "See the caveats in the documentation: https://pandas.pydata.org/pandas-docs/stable/user_guide/indexing.html#returning-a-view-versus-a-copy\n",
      "  dx_C0009_2['df_subgrupo'] = 'Alimentación Saludable'\n",
      "C:\\Users\\IRVIN\\AppData\\Local\\Temp\\ipykernel_3452\\3967109983.py:12: SettingWithCopyWarning: \n",
      "A value is trying to be set on a copy of a slice from a DataFrame.\n",
      "Try using .loc[row_indexer,col_indexer] = value instead\n",
      "\n",
      "See the caveats in the documentation: https://pandas.pydata.org/pandas-docs/stable/user_guide/indexing.html#returning-a-view-versus-a-copy\n",
      "  dx_C0009_3['df_subgrupo'] = 'Higiene'\n"
     ]
    },
    {
     "data": {
      "text/html": [
       "<div>\n",
       "<style scoped>\n",
       "    .dataframe tbody tr th:only-of-type {\n",
       "        vertical-align: middle;\n",
       "    }\n",
       "\n",
       "    .dataframe tbody tr th {\n",
       "        vertical-align: top;\n",
       "    }\n",
       "\n",
       "    .dataframe thead th {\n",
       "        text-align: right;\n",
       "    }\n",
       "</style>\n",
       "<table border=\"1\" class=\"dataframe\">\n",
       "  <thead>\n",
       "    <tr style=\"text-align: right;\">\n",
       "      <th></th>\n",
       "      <th>df_id</th>\n",
       "      <th>df_grupo</th>\n",
       "      <th>df_codigo</th>\n",
       "      <th>df_subgrupo</th>\n",
       "      <th>df_detalles</th>\n",
       "      <th>id_cita</th>\n",
       "      <th>anio</th>\n",
       "      <th>mes</th>\n",
       "      <th>fecha_atencion</th>\n",
       "      <th>id_paciente</th>\n",
       "      <th>...</th>\n",
       "      <th>id_establecimiento</th>\n",
       "      <th>red</th>\n",
       "      <th>microred</th>\n",
       "      <th>nombre_establecimiento</th>\n",
       "      <th>departamento</th>\n",
       "      <th>distrito</th>\n",
       "      <th>provincia</th>\n",
       "      <th>lab1</th>\n",
       "      <th>lab2</th>\n",
       "      <th>lab3</th>\n",
       "    </tr>\n",
       "  </thead>\n",
       "  <tbody>\n",
       "  </tbody>\n",
       "</table>\n",
       "<p>0 rows × 25 columns</p>\n",
       "</div>"
      ],
      "text/plain": [
       "Empty DataFrame\n",
       "Columns: [df_id, df_grupo, df_codigo, df_subgrupo, df_detalles, id_cita, anio, mes, fecha_atencion, id_paciente, id_personal, id_registrador, anio_actual_paciente, tipo_diagnostico, codigo_item, id_establecimiento, red, microred, nombre_establecimiento, departamento, distrito, provincia, lab1, lab2, lab3]\n",
       "Index: []\n",
       "\n",
       "[0 rows x 25 columns]"
      ]
     },
     "execution_count": 44,
     "metadata": {},
     "output_type": "execute_result"
    }
   ],
   "source": [
    "grupo='SESIONES EDUCATIVAS - Salud Física Nutricional'\n",
    "dx_C0009=filtro(id=id,grupo=grupo,codigo='C0009',subgrupo='Actividad Física',detalles='',dx1='C0009',t_dx='D',conn=conn)\n",
    "#------------------------------------- Primera -----------------------------------------------------\n",
    "dx_C0009['lab1'] = pd.to_numeric(dx_C0009['lab1'], errors='coerce')\n",
    "\n",
    " \n",
    "dx_C0009_1=dx_C0009[(dx_C0009['lab1']==1) &(dx_C0009['lab2']=='PSA')]\n",
    "dx_C0009_1['df_subgrupo'] = 'Actividad Física y deporte'\n",
    "dx_C0009_2=dx_C0009[(dx_C0009['lab1']==2) &(dx_C0009['lab2']=='PSA')]\n",
    "dx_C0009_2['df_subgrupo'] = 'Alimentación Saludable'\n",
    "dx_C0009_3=dx_C0009[(dx_C0009['lab1']==3) &(dx_C0009['lab2']=='PSA')]\n",
    "dx_C0009_3['df_subgrupo'] = 'Higiene'\n",
    "dx_C0009_4=dx_C0009[(dx_C0009['lab1']==4) &(dx_C0009['lab2']=='PSA')]\n",
    "dx_C0009_4['df_subgrupo'] = 'Prvención de transtornos posturales '\n",
    "dx_C0009_5=dx_C0009[(dx_C0009['lab1']==5) &(dx_C0009['lab2']=='PSA')]\n",
    "dx_C0009_5['df_subgrupo'] = 'Protección solar'\n",
    "dx_C0009_6=dx_C0009[(dx_C0009['lab1']==6) &(dx_C0009['lab2']=='PSA')]\n",
    "dx_C0009_6['df_subgrupo'] = 'Salud Bucal '\n",
    "dx_C0009_7=dx_C0009[(dx_C0009['lab1']==7) &(dx_C0009['lab2']=='PSA')]\n",
    "dx_C0009_7['df_subgrupo'] = 'Salud ocular'\n",
    "dx_C0009_8=dx_C0009[(dx_C0009['lab1']==8) &(dx_C0009['lab2']=='PSA')]\n",
    "dx_C0009_8['df_subgrupo'] = 'Salud respiratoria y tuberculosis: Higiene y salud bucal.'\n",
    "dx_C0009_9=dx_C0009[(dx_C0009['lab1']==9) &(dx_C0009['lab2']=='PSA')]\n",
    "dx_C0009_9['df_subgrupo'] = 'Cuidado del medio ambiente'\n",
    "dx_C0009_10=dx_C0009[(dx_C0009['lab1']==10) &(dx_C0009['lab2']=='PSA')]\n",
    "dx_C0009_10['df_subgrupo'] = 'Prevención de enfermedades transmisibles prevalentes: Dengue, malaria, bartonellosis etc.'\n",
    "dx_C0009_11=dx_C0009[(dx_C0009['lab1']==11) &(dx_C0009['lab2']=='PSA')]\n",
    "dx_C0009_11['df_subgrupo'] = 'Medidas de Seguridad y prevención de accidentes '\n",
    "dx_C0009_12=dx_C0009[(dx_C0009['lab1']==12) &(dx_C0009['lab2']=='PSA')]\n",
    "dx_C0009_12['df_subgrupo'] = 'Primeros auxilios. Resucitación cardiopulmonar'\n",
    "df = pd.concat([df,dx_C0009_1,dx_C0009_2,dx_C0009_3,dx_C0009_4,dx_C0009_5,dx_C0009_6,dx_C0009_7,dx_C0009_8,dx_C0009_9,dx_C0009_10,dx_C0009_11,dx_C0009_12])\n",
    "\n",
    "dx_C0009_1"
   ]
  },
  {
   "attachments": {},
   "cell_type": "markdown",
   "metadata": {},
   "source": [
    "<CENTER> <H2> CARGA BD</H2><CENTER>"
   ]
  },
  {
   "cell_type": "code",
   "execution_count": 45,
   "metadata": {},
   "outputs": [
    {
     "name": "stdout",
     "output_type": "stream",
     "text": [
      "Conexion exitosa con la Base de datos:irvin_hisminsa\n"
     ]
    },
    {
     "name": "stderr",
     "output_type": "stream",
     "text": [
      "d:\\Irvin\\Irvin\\Python\\Python-GERESA\\modulos\\adolescente\\../..\\clases\\bd\\conexion2.py:60: FutureWarning: Downcasting object dtype arrays on .fillna, .ffill, .bfill is deprecated and will change in a future version. Call result.infer_objects(copy=False) instead. To opt-in to the future behavior, set `pd.set_option('future.no_silent_downcasting', True)`\n",
      "  df = df.fillna(psycopg2.extensions.AsIs('NULL'))\n"
     ]
    },
    {
     "name": "stdout",
     "output_type": "stream",
     "text": [
      "df_id,df_grupo,df_codigo,df_subgrupo,df_detalles,id_cita,anio,mes,fecha_atencion,id_paciente,id_personal,id_registrador,anio_actual_paciente,tipo_diagnostico,codigo_item,id_establecimiento,red,microred,nombre_establecimiento,departamento,distrito,provincia,lab1,lab2,lab3,codigo_item_2,tipo_diagnostico_2,lab1_2,lab2_2,lab3_2\n"
     ]
    }
   ],
   "source": [
    "\n",
    "\n",
    "conn = MyDatabase2()\n",
    "conn.sql('TRUNCATE TABLE  public.adolescentes_his;')\n",
    "d=conn.sqli(df,'adolescentes_his')\n",
    "conn.close()\n",
    "print(d)"
   ]
  },
  {
   "cell_type": "code",
   "execution_count": 46,
   "metadata": {},
   "outputs": [],
   "source": [
    "#df.to_excel('Adolescentes_Ene_Jul_2023.xlsx', index=False)\n",
    "#df.to_csv('Adolescentes_Ene_Jul_2023.csv', index=False) "
   ]
  }
 ],
 "metadata": {
  "kernelspec": {
   "display_name": "venv",
   "language": "python",
   "name": "python3"
  },
  "language_info": {
   "codemirror_mode": {
    "name": "ipython",
    "version": 3
   },
   "file_extension": ".py",
   "mimetype": "text/x-python",
   "name": "python",
   "nbconvert_exporter": "python",
   "pygments_lexer": "ipython3",
   "version": "3.12.0"
  },
  "orig_nbformat": 4
 },
 "nbformat": 4,
 "nbformat_minor": 2
}
